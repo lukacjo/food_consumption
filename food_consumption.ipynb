{
 "cells": [
  {
   "cell_type": "markdown",
   "id": "ee59c93a-514a-4dca-aae6-1ca618787c10",
   "metadata": {},
   "source": [
    "# Food consumption"
   ]
  },
  {
   "cell_type": "markdown",
   "id": "44da2f5e-d52e-4809-8a7f-c05fcd1f395d",
   "metadata": {
    "tags": []
   },
   "source": [
    "## Jako były kucharz i osoba siedząca w tematach jedzenia i wina w tym notebooku zajmę się analizą bazy danych z WHO na temat konsumpcji jedzenia na świecie czyli preferencji jedzeniowych, różnic między krajami, kobietami i mężczyznami. Myślę że bardzo ciekawe informacje tutaj wyciągnę i będzie można sie dowiedzieć dużo. coś jeszcze? \n",
    "### Najpierw sprawdzę:\n",
    "1. jak baza danych jest skonstruowana, jakie zawiera informacje, jakie typy danych sie w niej znajdują, czy są puste dane wiec już na pierwszym kroku będzie ciekawie\n",
    "1. następnie jakie poroblemy w mogą w niej wystąpić i co należy wyczyścić żeby móc z niej wygodnie korzystać \n",
    "1. pozbyć sie niepotrzebnych danych\n",
    "1. kolejnym krokiem będzie znajdowanie potrzebnych danych oraz może znalezienie nowych ciekawych\n",
    "1. a ostatecznie wizualizaja tych danych zeby łatwo móc widzieć tendencje które zaszly\n",
    "1. I ostatni krok czyli podsumowanie, tutaj wyciągnę wnioski, \n",
    "1. co jeszcze?\n",
    "1. czy bede robić to na wszystkich krajach czy wybiore konkretne?\n",
    "1. jakie problemy napotkałem\n"
   ]
  },
  {
   "cell_type": "code",
   "execution_count": null,
   "id": "9e610ffb-54b0-4155-bec1-2837cc6401b3",
   "metadata": {},
   "outputs": [],
   "source": []
  },
  {
   "cell_type": "code",
   "execution_count": null,
   "id": "a7b183ae-7a34-4fb8-9a98-835e7c330bc9",
   "metadata": {},
   "outputs": [],
   "source": []
  }
 ],
 "metadata": {
  "kernelspec": {
   "display_name": "Python 3 (ipykernel)",
   "language": "python",
   "name": "python3"
  },
  "language_info": {
   "codemirror_mode": {
    "name": "ipython",
    "version": 3
   },
   "file_extension": ".py",
   "mimetype": "text/x-python",
   "name": "python",
   "nbconvert_exporter": "python",
   "pygments_lexer": "ipython3",
   "version": "3.11.4"
  }
 },
 "nbformat": 4,
 "nbformat_minor": 5
}
