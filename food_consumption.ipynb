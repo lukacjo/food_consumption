{
 "cells": [
  {
   "cell_type": "markdown",
   "id": "ee59c93a-514a-4dca-aae6-1ca618787c10",
   "metadata": {},
   "source": [
    "<h1 align=\"center\"><font color='white'>Food Consumption</font></h1>"
   ]
  },
  {
   "cell_type": "markdown",
   "id": "f24caf08-b89d-4abb-aaf1-ba4c3394b193",
   "metadata": {
    "tags": []
   },
   "source": [
    "<center>\n",
    "<img src=\"https://images.squarespace-cdn.com/content/v1/551a19f8e4b0e8322a93850a/1602020393443-L6M0DGZK4C75DRNR7GZH/Title_Animation.gif\" width=600>\n",
    "\n",
    "</center>\n"
   ]
  },
  {
   "cell_type": "markdown",
   "id": "44da2f5e-d52e-4809-8a7f-c05fcd1f395d",
   "metadata": {
    "tags": []
   },
   "source": [
    "## Jako były kucharz i osoba siedząca w tematach jedzenia i wina w tym notebooku zajmę się analizą bazy danych z WHO na temat konsumpcji jedzenia na świecie czyli preferencji jedzeniowych, różnic między krajami, kobietami i mężczyznami. Myślę że bardzo ciekawe informacje tutaj wyciągnę i będzie można sie dowiedzieć dużo. coś jeszcze? \n",
    "### Najpierw sprawdzę:\n",
    "1. jak baza danych jest skonstruowana, jakie zawiera informacje, jakie typy danych sie w niej znajdują, czy są puste dane wiec już na pierwszym kroku będzie ciekawie\n",
    "1. następnie jakie poroblemy w mogą w niej wystąpić i co należy wyczyścić żeby móc z niej wygodnie korzystać \n",
    "1. pozbyć sie niepotrzebnych danych\n",
    "1. kolejnym krokiem będzie znajdowanie potrzebnych danych oraz może znalezienie nowych ciekawych\n",
    "1. a ostatecznie wizualizaja tych danych zeby łatwo móc widzieć tendencje które zaszly\n",
    "1. I ostatni krok czyli podsumowanie, tutaj wyciągnę wnioski, \n",
    "1. co jeszcze?\n",
    "1. czy bede robić to na wszystkich krajach czy wybiore konkretne?\n",
    "1. jakie problemy napotkałem\n",
    "1. do argumentacji można użyć tego badania https://www.ncbi.nlm.nih.gov/pmc/articles/PMC3490048/\n",
    "### jako osoba interesująca się tematami jedzenia \n",
    "dodać jeszcze to że jak sie najedzie na graph to pokazuje dokładna wartość\n",
    "### ten notebook bedzie zawierać zarówno odpowiedź nap ostawione pytanie ale również mój proces myślowy podczas odpowiadania na pytanie"
   ]
  },
  {
   "cell_type": "markdown",
   "id": "d3290685-7659-4d3c-89c4-1f5d971e91ee",
   "metadata": {},
   "source": [
    "<h2 class=\"alert alert-block alert-danger\">  \n",
    "Projekt ten przedstawia mój tok myślenia oraz opinie! Wersja z czystą analizą dostępna jest na:    \n",
    "</h2>"
   ]
  },
  {
   "cell_type": "markdown",
   "id": "31ec438c-a4f9-44cc-9f20-b3198a7cbf7d",
   "metadata": {
    "tags": []
   },
   "source": [
    "### [&uarr;](#top)"
   ]
  },
  {
   "cell_type": "markdown",
   "id": "9c230835-1273-4a0a-a51a-1ad0c9930546",
   "metadata": {},
   "source": [
    "## Jako osoba która pracowała na kuchni i interesuje się kuchnią i tematami ją otaczającymi, w tym notatniku zajmę się analizą bazy danych z WHO na temat konsumpcji produktów na świecie. Moim planem jest odpowiedziec na pytanie jakie produkty są najpopularniejsze, na co to wskazuje, jakie są różnice między kobietami a mężczyznami oraz jak te dane można by wykorzystać tworząc menu do restauracji. Myślę że bardzo ciekawe informacje będzie można wyciągnąć z tych danych i będą one pomocne przy tworzeniu menu do restauracji. \n",
    "### Plan jest następujący:\n",
    "1. Sprawdzenie jak skonstruowana jest baza danych, jakie informacje i typy danych znajdują sie w kolumnach. Niby łatwy krok ale bardzo ważny bo wiedza o bazie danych to podstawa dobrej analizy.\n",
    "1. Z tą wiedzą pozbędę się kolumn które na pewno nie będą mi potrzebne.\n",
    "1. Następnie sprawdzę gdzie znajdują sie puste dane oraz gdzie jest największe ryzyko ich znajdowania się, a potem pozbędę sie ich\n",
    "1. \n",
    "1. "
   ]
  },
  {
   "cell_type": "markdown",
   "id": "d2d2c838-4197-462e-8bc3-cd0d43eccc4e",
   "metadata": {},
   "source": [
    "### <font color='289C4E'>Table of contents<font><a class='anchor' id='top'></a>\n",
    "    \n",
    "1. [Hello](#hello)\n",
    "    1. [YO](#essa)\n",
    "1. [Usuwanie niepotrzebnych kolumn](#del_col)\n",
    "1. [Pozostawianie tylko 2 liczb po przecinku](#)\n",
    "1. [Usuwanie duplikatów](#del_dup)\n",
    "1. [Summary](#summary)"
   ]
  },
  {
   "cell_type": "markdown",
   "id": "07507974-ef56-4ed4-a84f-9361361270f1",
   "metadata": {},
   "source": [
    "# Źródła : \n",
    "1. https://www.slynyrd.com/blog/2020/9/30/pixelblog-30-food \n",
    "1. \n",
    "1. https://www.ncbi.nlm.nih.gov/pmc/articles/PMC3490048/\n",
    "\n",
    "\t\t"
   ]
  },
  {
   "cell_type": "code",
   "execution_count": 1761,
   "id": "85ba3aa9-aa78-49f4-89d9-27573c24adbb",
   "metadata": {
    "tags": []
   },
   "outputs": [],
   "source": [
    "import pandas as pd\n",
    "import missingno as msno\n",
    "import matplotlib.pyplot as plt\n",
    "import pycountry_convert as pc\n",
    "plt.style.use('fivethirtyeight')"
   ]
  },
  {
   "cell_type": "code",
   "execution_count": 1762,
   "id": "9e610ffb-54b0-4155-bec1-2837cc6401b3",
   "metadata": {},
   "outputs": [
    {
     "data": {
      "text/html": [
       "<div>\n",
       "<style scoped>\n",
       "    .dataframe tbody tr th:only-of-type {\n",
       "        vertical-align: middle;\n",
       "    }\n",
       "\n",
       "    .dataframe tbody tr th {\n",
       "        vertical-align: top;\n",
       "    }\n",
       "\n",
       "    .dataframe thead th {\n",
       "        text-align: right;\n",
       "    }\n",
       "</style>\n",
       "<table border=\"1\" class=\"dataframe\">\n",
       "  <thead>\n",
       "    <tr style=\"text-align: right;\">\n",
       "      <th></th>\n",
       "      <th>BW</th>\n",
       "      <th>Country</th>\n",
       "      <th>Year</th>\n",
       "      <th>FoodCode</th>\n",
       "      <th>FoodName</th>\n",
       "      <th>AgeClass</th>\n",
       "      <th>SourceAgeClass</th>\n",
       "      <th>Gender</th>\n",
       "      <th>Number_of_consumers</th>\n",
       "      <th>Consumers_Mean</th>\n",
       "      <th>Consumers_Median</th>\n",
       "      <th>Consumers_P05</th>\n",
       "      <th>Consumers_P90</th>\n",
       "      <th>Consumers_P95</th>\n",
       "      <th>Consumers_P975</th>\n",
       "      <th>Consumers_Standard_deviation</th>\n",
       "      <th>Number_of_subjects</th>\n",
       "      <th>Total_Mean</th>\n",
       "      <th>Total_Median</th>\n",
       "      <th>Total_P05</th>\n",
       "      <th>Total_P90</th>\n",
       "      <th>Total_P95</th>\n",
       "      <th>Total_P975</th>\n",
       "      <th>Total_Standard_deviation</th>\n",
       "      <th>ExtBW</th>\n",
       "      <th>ExtBWValue</th>\n",
       "    </tr>\n",
       "  </thead>\n",
       "  <tbody>\n",
       "    <tr>\n",
       "      <th>0</th>\n",
       "      <td>0</td>\n",
       "      <td>China</td>\n",
       "      <td>2002</td>\n",
       "      <td>A000G</td>\n",
       "      <td>Oat grain</td>\n",
       "      <td>All</td>\n",
       "      <td>All</td>\n",
       "      <td>All</td>\n",
       "      <td>1157</td>\n",
       "      <td>60.62</td>\n",
       "      <td>0.00</td>\n",
       "      <td>8.33</td>\n",
       "      <td>116.67</td>\n",
       "      <td>150.00</td>\n",
       "      <td>166.67</td>\n",
       "      <td>NaN</td>\n",
       "      <td>66172</td>\n",
       "      <td>1.06</td>\n",
       "      <td>0.00</td>\n",
       "      <td>0.00</td>\n",
       "      <td>NaN</td>\n",
       "      <td>0.00</td>\n",
       "      <td>NaN</td>\n",
       "      <td>NaN</td>\n",
       "      <td>NaN</td>\n",
       "      <td>NaN</td>\n",
       "    </tr>\n",
       "    <tr>\n",
       "      <th>1</th>\n",
       "      <td>0</td>\n",
       "      <td>China</td>\n",
       "      <td>2002</td>\n",
       "      <td>A000G</td>\n",
       "      <td>Oat grain</td>\n",
       "      <td>All</td>\n",
       "      <td>All</td>\n",
       "      <td>female</td>\n",
       "      <td>608</td>\n",
       "      <td>55.87</td>\n",
       "      <td>0.00</td>\n",
       "      <td>8.33</td>\n",
       "      <td>116.67</td>\n",
       "      <td>133.33</td>\n",
       "      <td>158.33</td>\n",
       "      <td>NaN</td>\n",
       "      <td>33953</td>\n",
       "      <td>1.00</td>\n",
       "      <td>0.00</td>\n",
       "      <td>0.00</td>\n",
       "      <td>NaN</td>\n",
       "      <td>0.00</td>\n",
       "      <td>NaN</td>\n",
       "      <td>NaN</td>\n",
       "      <td>NaN</td>\n",
       "      <td>NaN</td>\n",
       "    </tr>\n",
       "    <tr>\n",
       "      <th>2</th>\n",
       "      <td>0</td>\n",
       "      <td>China</td>\n",
       "      <td>2002</td>\n",
       "      <td>A000G</td>\n",
       "      <td>Oat grain</td>\n",
       "      <td>All</td>\n",
       "      <td>All</td>\n",
       "      <td>male</td>\n",
       "      <td>549</td>\n",
       "      <td>65.89</td>\n",
       "      <td>0.00</td>\n",
       "      <td>10.00</td>\n",
       "      <td>133.33</td>\n",
       "      <td>158.33</td>\n",
       "      <td>166.67</td>\n",
       "      <td>NaN</td>\n",
       "      <td>32219</td>\n",
       "      <td>1.12</td>\n",
       "      <td>0.00</td>\n",
       "      <td>0.00</td>\n",
       "      <td>NaN</td>\n",
       "      <td>0.00</td>\n",
       "      <td>NaN</td>\n",
       "      <td>NaN</td>\n",
       "      <td>NaN</td>\n",
       "      <td>NaN</td>\n",
       "    </tr>\n",
       "    <tr>\n",
       "      <th>3</th>\n",
       "      <td>0</td>\n",
       "      <td>China</td>\n",
       "      <td>2002</td>\n",
       "      <td>A000N</td>\n",
       "      <td>Buckwheat</td>\n",
       "      <td>All</td>\n",
       "      <td>All</td>\n",
       "      <td>All</td>\n",
       "      <td>167</td>\n",
       "      <td>55.26</td>\n",
       "      <td>0.00</td>\n",
       "      <td>8.33</td>\n",
       "      <td>100.00</td>\n",
       "      <td>116.67</td>\n",
       "      <td>158.33</td>\n",
       "      <td>NaN</td>\n",
       "      <td>66172</td>\n",
       "      <td>0.14</td>\n",
       "      <td>0.00</td>\n",
       "      <td>0.00</td>\n",
       "      <td>NaN</td>\n",
       "      <td>0.00</td>\n",
       "      <td>NaN</td>\n",
       "      <td>NaN</td>\n",
       "      <td>NaN</td>\n",
       "      <td>NaN</td>\n",
       "    </tr>\n",
       "    <tr>\n",
       "      <th>4</th>\n",
       "      <td>0</td>\n",
       "      <td>China</td>\n",
       "      <td>2002</td>\n",
       "      <td>A000N</td>\n",
       "      <td>Buckwheat</td>\n",
       "      <td>All</td>\n",
       "      <td>All</td>\n",
       "      <td>female</td>\n",
       "      <td>82</td>\n",
       "      <td>54.71</td>\n",
       "      <td>0.00</td>\n",
       "      <td>8.33</td>\n",
       "      <td>83.33</td>\n",
       "      <td>116.67</td>\n",
       "      <td>183.33</td>\n",
       "      <td>NaN</td>\n",
       "      <td>33953</td>\n",
       "      <td>0.13</td>\n",
       "      <td>0.00</td>\n",
       "      <td>0.00</td>\n",
       "      <td>NaN</td>\n",
       "      <td>0.00</td>\n",
       "      <td>NaN</td>\n",
       "      <td>NaN</td>\n",
       "      <td>NaN</td>\n",
       "      <td>NaN</td>\n",
       "    </tr>\n",
       "    <tr>\n",
       "      <th>5</th>\n",
       "      <td>0</td>\n",
       "      <td>China</td>\n",
       "      <td>2002</td>\n",
       "      <td>A000N</td>\n",
       "      <td>Buckwheat</td>\n",
       "      <td>All</td>\n",
       "      <td>All</td>\n",
       "      <td>male</td>\n",
       "      <td>85</td>\n",
       "      <td>55.80</td>\n",
       "      <td>0.00</td>\n",
       "      <td>8.33</td>\n",
       "      <td>100.00</td>\n",
       "      <td>116.67</td>\n",
       "      <td>133.33</td>\n",
       "      <td>NaN</td>\n",
       "      <td>32219</td>\n",
       "      <td>0.15</td>\n",
       "      <td>0.00</td>\n",
       "      <td>0.00</td>\n",
       "      <td>NaN</td>\n",
       "      <td>0.00</td>\n",
       "      <td>NaN</td>\n",
       "      <td>NaN</td>\n",
       "      <td>NaN</td>\n",
       "      <td>NaN</td>\n",
       "    </tr>\n",
       "    <tr>\n",
       "      <th>6</th>\n",
       "      <td>0</td>\n",
       "      <td>China</td>\n",
       "      <td>2002</td>\n",
       "      <td>A000P</td>\n",
       "      <td>Barley grains</td>\n",
       "      <td>All</td>\n",
       "      <td>All</td>\n",
       "      <td>All</td>\n",
       "      <td>61</td>\n",
       "      <td>38.58</td>\n",
       "      <td>0.00</td>\n",
       "      <td>6.67</td>\n",
       "      <td>66.67</td>\n",
       "      <td>83.33</td>\n",
       "      <td>116.67</td>\n",
       "      <td>NaN</td>\n",
       "      <td>66172</td>\n",
       "      <td>NaN</td>\n",
       "      <td>0.00</td>\n",
       "      <td>0.00</td>\n",
       "      <td>NaN</td>\n",
       "      <td>0.00</td>\n",
       "      <td>NaN</td>\n",
       "      <td>NaN</td>\n",
       "      <td>NaN</td>\n",
       "      <td>NaN</td>\n",
       "    </tr>\n",
       "    <tr>\n",
       "      <th>7</th>\n",
       "      <td>0</td>\n",
       "      <td>China</td>\n",
       "      <td>2002</td>\n",
       "      <td>A000P</td>\n",
       "      <td>Barley grains</td>\n",
       "      <td>All</td>\n",
       "      <td>All</td>\n",
       "      <td>female</td>\n",
       "      <td>28</td>\n",
       "      <td>37.50</td>\n",
       "      <td>0.00</td>\n",
       "      <td>3.33</td>\n",
       "      <td>66.67</td>\n",
       "      <td>83.33</td>\n",
       "      <td>100.00</td>\n",
       "      <td>NaN</td>\n",
       "      <td>33953</td>\n",
       "      <td>NaN</td>\n",
       "      <td>0.00</td>\n",
       "      <td>0.00</td>\n",
       "      <td>NaN</td>\n",
       "      <td>0.00</td>\n",
       "      <td>NaN</td>\n",
       "      <td>NaN</td>\n",
       "      <td>NaN</td>\n",
       "      <td>NaN</td>\n",
       "    </tr>\n",
       "    <tr>\n",
       "      <th>8</th>\n",
       "      <td>0</td>\n",
       "      <td>China</td>\n",
       "      <td>2002</td>\n",
       "      <td>A000P</td>\n",
       "      <td>Barley grains</td>\n",
       "      <td>All</td>\n",
       "      <td>All</td>\n",
       "      <td>male</td>\n",
       "      <td>33</td>\n",
       "      <td>39.49</td>\n",
       "      <td>0.00</td>\n",
       "      <td>8.33</td>\n",
       "      <td>83.33</td>\n",
       "      <td>116.67</td>\n",
       "      <td>166.67</td>\n",
       "      <td>NaN</td>\n",
       "      <td>32219</td>\n",
       "      <td>NaN</td>\n",
       "      <td>0.00</td>\n",
       "      <td>0.00</td>\n",
       "      <td>NaN</td>\n",
       "      <td>0.00</td>\n",
       "      <td>NaN</td>\n",
       "      <td>NaN</td>\n",
       "      <td>NaN</td>\n",
       "      <td>NaN</td>\n",
       "    </tr>\n",
       "    <tr>\n",
       "      <th>9</th>\n",
       "      <td>0</td>\n",
       "      <td>China</td>\n",
       "      <td>2002</td>\n",
       "      <td>A000T</td>\n",
       "      <td>Maize grain</td>\n",
       "      <td>All</td>\n",
       "      <td>All</td>\n",
       "      <td>All</td>\n",
       "      <td>2422</td>\n",
       "      <td>86.97</td>\n",
       "      <td>0.00</td>\n",
       "      <td>8.33</td>\n",
       "      <td>183.33</td>\n",
       "      <td>358.33</td>\n",
       "      <td>500.00</td>\n",
       "      <td>NaN</td>\n",
       "      <td>66172</td>\n",
       "      <td>3.18</td>\n",
       "      <td>0.00</td>\n",
       "      <td>0.00</td>\n",
       "      <td>NaN</td>\n",
       "      <td>0.00</td>\n",
       "      <td>NaN</td>\n",
       "      <td>NaN</td>\n",
       "      <td>NaN</td>\n",
       "      <td>NaN</td>\n",
       "    </tr>\n",
       "    <tr>\n",
       "      <th>10</th>\n",
       "      <td>0</td>\n",
       "      <td>China</td>\n",
       "      <td>2002</td>\n",
       "      <td>A000T</td>\n",
       "      <td>Maize grain</td>\n",
       "      <td>All</td>\n",
       "      <td>All</td>\n",
       "      <td>female</td>\n",
       "      <td>1355</td>\n",
       "      <td>81.97</td>\n",
       "      <td>0.00</td>\n",
       "      <td>8.33</td>\n",
       "      <td>166.67</td>\n",
       "      <td>346.67</td>\n",
       "      <td>500.00</td>\n",
       "      <td>NaN</td>\n",
       "      <td>33953</td>\n",
       "      <td>3.27</td>\n",
       "      <td>0.00</td>\n",
       "      <td>0.00</td>\n",
       "      <td>NaN</td>\n",
       "      <td>0.00</td>\n",
       "      <td>NaN</td>\n",
       "      <td>NaN</td>\n",
       "      <td>NaN</td>\n",
       "      <td>NaN</td>\n",
       "    </tr>\n",
       "    <tr>\n",
       "      <th>11</th>\n",
       "      <td>0</td>\n",
       "      <td>China</td>\n",
       "      <td>2002</td>\n",
       "      <td>A000T</td>\n",
       "      <td>Maize grain</td>\n",
       "      <td>All</td>\n",
       "      <td>All</td>\n",
       "      <td>male</td>\n",
       "      <td>1067</td>\n",
       "      <td>93.30</td>\n",
       "      <td>0.00</td>\n",
       "      <td>11.67</td>\n",
       "      <td>200.00</td>\n",
       "      <td>400.00</td>\n",
       "      <td>533.33</td>\n",
       "      <td>NaN</td>\n",
       "      <td>32219</td>\n",
       "      <td>3.09</td>\n",
       "      <td>0.00</td>\n",
       "      <td>0.00</td>\n",
       "      <td>NaN</td>\n",
       "      <td>0.00</td>\n",
       "      <td>NaN</td>\n",
       "      <td>NaN</td>\n",
       "      <td>NaN</td>\n",
       "      <td>NaN</td>\n",
       "    </tr>\n",
       "    <tr>\n",
       "      <th>12</th>\n",
       "      <td>0</td>\n",
       "      <td>China</td>\n",
       "      <td>2002</td>\n",
       "      <td>A001B</td>\n",
       "      <td>Common millet grain</td>\n",
       "      <td>All</td>\n",
       "      <td>All</td>\n",
       "      <td>All</td>\n",
       "      <td>9069</td>\n",
       "      <td>73.27</td>\n",
       "      <td>0.00</td>\n",
       "      <td>10.00</td>\n",
       "      <td>166.67</td>\n",
       "      <td>216.67</td>\n",
       "      <td>250.00</td>\n",
       "      <td>NaN</td>\n",
       "      <td>66172</td>\n",
       "      <td>10.04</td>\n",
       "      <td>0.00</td>\n",
       "      <td>0.00</td>\n",
       "      <td>NaN</td>\n",
       "      <td>66.67</td>\n",
       "      <td>NaN</td>\n",
       "      <td>NaN</td>\n",
       "      <td>NaN</td>\n",
       "      <td>NaN</td>\n",
       "    </tr>\n",
       "    <tr>\n",
       "      <th>13</th>\n",
       "      <td>0</td>\n",
       "      <td>China</td>\n",
       "      <td>2002</td>\n",
       "      <td>A001B</td>\n",
       "      <td>Common millet grain</td>\n",
       "      <td>All</td>\n",
       "      <td>All</td>\n",
       "      <td>female</td>\n",
       "      <td>4740</td>\n",
       "      <td>71.57</td>\n",
       "      <td>0.00</td>\n",
       "      <td>10.00</td>\n",
       "      <td>158.33</td>\n",
       "      <td>200.00</td>\n",
       "      <td>243.33</td>\n",
       "      <td>NaN</td>\n",
       "      <td>33953</td>\n",
       "      <td>9.99</td>\n",
       "      <td>0.00</td>\n",
       "      <td>0.00</td>\n",
       "      <td>NaN</td>\n",
       "      <td>66.67</td>\n",
       "      <td>NaN</td>\n",
       "      <td>NaN</td>\n",
       "      <td>NaN</td>\n",
       "      <td>NaN</td>\n",
       "    </tr>\n",
       "    <tr>\n",
       "      <th>14</th>\n",
       "      <td>0</td>\n",
       "      <td>China</td>\n",
       "      <td>2002</td>\n",
       "      <td>A001B</td>\n",
       "      <td>Common millet grain</td>\n",
       "      <td>All</td>\n",
       "      <td>All</td>\n",
       "      <td>male</td>\n",
       "      <td>4329</td>\n",
       "      <td>75.14</td>\n",
       "      <td>0.00</td>\n",
       "      <td>10.00</td>\n",
       "      <td>166.67</td>\n",
       "      <td>216.67</td>\n",
       "      <td>266.67</td>\n",
       "      <td>NaN</td>\n",
       "      <td>32219</td>\n",
       "      <td>10.10</td>\n",
       "      <td>0.00</td>\n",
       "      <td>0.00</td>\n",
       "      <td>NaN</td>\n",
       "      <td>66.67</td>\n",
       "      <td>NaN</td>\n",
       "      <td>NaN</td>\n",
       "      <td>NaN</td>\n",
       "      <td>NaN</td>\n",
       "    </tr>\n",
       "    <tr>\n",
       "      <th>15</th>\n",
       "      <td>0</td>\n",
       "      <td>China</td>\n",
       "      <td>2002</td>\n",
       "      <td>A001D</td>\n",
       "      <td>Rice grain</td>\n",
       "      <td>All</td>\n",
       "      <td>All</td>\n",
       "      <td>All</td>\n",
       "      <td>57489</td>\n",
       "      <td>238.11</td>\n",
       "      <td>183.33</td>\n",
       "      <td>33.33</td>\n",
       "      <td>450.00</td>\n",
       "      <td>533.33</td>\n",
       "      <td>600.00</td>\n",
       "      <td>NaN</td>\n",
       "      <td>66172</td>\n",
       "      <td>206.86</td>\n",
       "      <td>183.33</td>\n",
       "      <td>0.00</td>\n",
       "      <td>NaN</td>\n",
       "      <td>516.67</td>\n",
       "      <td>NaN</td>\n",
       "      <td>NaN</td>\n",
       "      <td>NaN</td>\n",
       "      <td>NaN</td>\n",
       "    </tr>\n",
       "    <tr>\n",
       "      <th>16</th>\n",
       "      <td>0</td>\n",
       "      <td>China</td>\n",
       "      <td>2002</td>\n",
       "      <td>A001D</td>\n",
       "      <td>Rice grain</td>\n",
       "      <td>All</td>\n",
       "      <td>All</td>\n",
       "      <td>female</td>\n",
       "      <td>29564</td>\n",
       "      <td>222.06</td>\n",
       "      <td>166.67</td>\n",
       "      <td>33.33</td>\n",
       "      <td>433.33</td>\n",
       "      <td>500.00</td>\n",
       "      <td>550.00</td>\n",
       "      <td>NaN</td>\n",
       "      <td>33953</td>\n",
       "      <td>193.36</td>\n",
       "      <td>166.67</td>\n",
       "      <td>0.00</td>\n",
       "      <td>NaN</td>\n",
       "      <td>475.00</td>\n",
       "      <td>NaN</td>\n",
       "      <td>NaN</td>\n",
       "      <td>NaN</td>\n",
       "      <td>NaN</td>\n",
       "    </tr>\n",
       "    <tr>\n",
       "      <th>17</th>\n",
       "      <td>0</td>\n",
       "      <td>China</td>\n",
       "      <td>2002</td>\n",
       "      <td>A001D</td>\n",
       "      <td>Rice grain</td>\n",
       "      <td>All</td>\n",
       "      <td>All</td>\n",
       "      <td>male</td>\n",
       "      <td>27925</td>\n",
       "      <td>255.09</td>\n",
       "      <td>200.00</td>\n",
       "      <td>33.33</td>\n",
       "      <td>490.00</td>\n",
       "      <td>550.00</td>\n",
       "      <td>616.67</td>\n",
       "      <td>NaN</td>\n",
       "      <td>32219</td>\n",
       "      <td>221.09</td>\n",
       "      <td>200.00</td>\n",
       "      <td>0.00</td>\n",
       "      <td>NaN</td>\n",
       "      <td>550.00</td>\n",
       "      <td>NaN</td>\n",
       "      <td>NaN</td>\n",
       "      <td>NaN</td>\n",
       "      <td>NaN</td>\n",
       "    </tr>\n",
       "    <tr>\n",
       "      <th>18</th>\n",
       "      <td>0</td>\n",
       "      <td>China</td>\n",
       "      <td>2002</td>\n",
       "      <td>A001K</td>\n",
       "      <td>Rye grain</td>\n",
       "      <td>All</td>\n",
       "      <td>All</td>\n",
       "      <td>All</td>\n",
       "      <td>52</td>\n",
       "      <td>139.52</td>\n",
       "      <td>0.00</td>\n",
       "      <td>3.33</td>\n",
       "      <td>333.33</td>\n",
       "      <td>750.00</td>\n",
       "      <td>1000.00</td>\n",
       "      <td>NaN</td>\n",
       "      <td>66172</td>\n",
       "      <td>0.11</td>\n",
       "      <td>0.00</td>\n",
       "      <td>0.00</td>\n",
       "      <td>NaN</td>\n",
       "      <td>0.00</td>\n",
       "      <td>NaN</td>\n",
       "      <td>NaN</td>\n",
       "      <td>NaN</td>\n",
       "      <td>NaN</td>\n",
       "    </tr>\n",
       "  </tbody>\n",
       "</table>\n",
       "</div>"
      ],
      "text/plain": [
       "    BW Country  Year FoodCode             FoodName AgeClass SourceAgeClass  \\\n",
       "0    0   China  2002    A000G            Oat grain      All            All   \n",
       "1    0   China  2002    A000G            Oat grain      All            All   \n",
       "2    0   China  2002    A000G            Oat grain      All            All   \n",
       "3    0   China  2002    A000N            Buckwheat      All            All   \n",
       "4    0   China  2002    A000N            Buckwheat      All            All   \n",
       "5    0   China  2002    A000N            Buckwheat      All            All   \n",
       "6    0   China  2002    A000P        Barley grains      All            All   \n",
       "7    0   China  2002    A000P        Barley grains      All            All   \n",
       "8    0   China  2002    A000P        Barley grains      All            All   \n",
       "9    0   China  2002    A000T          Maize grain      All            All   \n",
       "10   0   China  2002    A000T          Maize grain      All            All   \n",
       "11   0   China  2002    A000T          Maize grain      All            All   \n",
       "12   0   China  2002    A001B  Common millet grain      All            All   \n",
       "13   0   China  2002    A001B  Common millet grain      All            All   \n",
       "14   0   China  2002    A001B  Common millet grain      All            All   \n",
       "15   0   China  2002    A001D           Rice grain      All            All   \n",
       "16   0   China  2002    A001D           Rice grain      All            All   \n",
       "17   0   China  2002    A001D           Rice grain      All            All   \n",
       "18   0   China  2002    A001K            Rye grain      All            All   \n",
       "\n",
       "    Gender  Number_of_consumers  Consumers_Mean  Consumers_Median  \\\n",
       "0      All                 1157           60.62              0.00   \n",
       "1   female                  608           55.87              0.00   \n",
       "2     male                  549           65.89              0.00   \n",
       "3      All                  167           55.26              0.00   \n",
       "4   female                   82           54.71              0.00   \n",
       "5     male                   85           55.80              0.00   \n",
       "6      All                   61           38.58              0.00   \n",
       "7   female                   28           37.50              0.00   \n",
       "8     male                   33           39.49              0.00   \n",
       "9      All                 2422           86.97              0.00   \n",
       "10  female                 1355           81.97              0.00   \n",
       "11    male                 1067           93.30              0.00   \n",
       "12     All                 9069           73.27              0.00   \n",
       "13  female                 4740           71.57              0.00   \n",
       "14    male                 4329           75.14              0.00   \n",
       "15     All                57489          238.11            183.33   \n",
       "16  female                29564          222.06            166.67   \n",
       "17    male                27925          255.09            200.00   \n",
       "18     All                   52          139.52              0.00   \n",
       "\n",
       "    Consumers_P05  Consumers_P90  Consumers_P95  Consumers_P975  \\\n",
       "0            8.33         116.67         150.00          166.67   \n",
       "1            8.33         116.67         133.33          158.33   \n",
       "2           10.00         133.33         158.33          166.67   \n",
       "3            8.33         100.00         116.67          158.33   \n",
       "4            8.33          83.33         116.67          183.33   \n",
       "5            8.33         100.00         116.67          133.33   \n",
       "6            6.67          66.67          83.33          116.67   \n",
       "7            3.33          66.67          83.33          100.00   \n",
       "8            8.33          83.33         116.67          166.67   \n",
       "9            8.33         183.33         358.33          500.00   \n",
       "10           8.33         166.67         346.67          500.00   \n",
       "11          11.67         200.00         400.00          533.33   \n",
       "12          10.00         166.67         216.67          250.00   \n",
       "13          10.00         158.33         200.00          243.33   \n",
       "14          10.00         166.67         216.67          266.67   \n",
       "15          33.33         450.00         533.33          600.00   \n",
       "16          33.33         433.33         500.00          550.00   \n",
       "17          33.33         490.00         550.00          616.67   \n",
       "18           3.33         333.33         750.00         1000.00   \n",
       "\n",
       "    Consumers_Standard_deviation  Number_of_subjects  Total_Mean  \\\n",
       "0                            NaN               66172        1.06   \n",
       "1                            NaN               33953        1.00   \n",
       "2                            NaN               32219        1.12   \n",
       "3                            NaN               66172        0.14   \n",
       "4                            NaN               33953        0.13   \n",
       "5                            NaN               32219        0.15   \n",
       "6                            NaN               66172         NaN   \n",
       "7                            NaN               33953         NaN   \n",
       "8                            NaN               32219         NaN   \n",
       "9                            NaN               66172        3.18   \n",
       "10                           NaN               33953        3.27   \n",
       "11                           NaN               32219        3.09   \n",
       "12                           NaN               66172       10.04   \n",
       "13                           NaN               33953        9.99   \n",
       "14                           NaN               32219       10.10   \n",
       "15                           NaN               66172      206.86   \n",
       "16                           NaN               33953      193.36   \n",
       "17                           NaN               32219      221.09   \n",
       "18                           NaN               66172        0.11   \n",
       "\n",
       "    Total_Median  Total_P05  Total_P90  Total_P95  Total_P975  \\\n",
       "0           0.00       0.00        NaN       0.00         NaN   \n",
       "1           0.00       0.00        NaN       0.00         NaN   \n",
       "2           0.00       0.00        NaN       0.00         NaN   \n",
       "3           0.00       0.00        NaN       0.00         NaN   \n",
       "4           0.00       0.00        NaN       0.00         NaN   \n",
       "5           0.00       0.00        NaN       0.00         NaN   \n",
       "6           0.00       0.00        NaN       0.00         NaN   \n",
       "7           0.00       0.00        NaN       0.00         NaN   \n",
       "8           0.00       0.00        NaN       0.00         NaN   \n",
       "9           0.00       0.00        NaN       0.00         NaN   \n",
       "10          0.00       0.00        NaN       0.00         NaN   \n",
       "11          0.00       0.00        NaN       0.00         NaN   \n",
       "12          0.00       0.00        NaN      66.67         NaN   \n",
       "13          0.00       0.00        NaN      66.67         NaN   \n",
       "14          0.00       0.00        NaN      66.67         NaN   \n",
       "15        183.33       0.00        NaN     516.67         NaN   \n",
       "16        166.67       0.00        NaN     475.00         NaN   \n",
       "17        200.00       0.00        NaN     550.00         NaN   \n",
       "18          0.00       0.00        NaN       0.00         NaN   \n",
       "\n",
       "    Total_Standard_deviation  ExtBW  ExtBWValue  \n",
       "0                        NaN    NaN         NaN  \n",
       "1                        NaN    NaN         NaN  \n",
       "2                        NaN    NaN         NaN  \n",
       "3                        NaN    NaN         NaN  \n",
       "4                        NaN    NaN         NaN  \n",
       "5                        NaN    NaN         NaN  \n",
       "6                        NaN    NaN         NaN  \n",
       "7                        NaN    NaN         NaN  \n",
       "8                        NaN    NaN         NaN  \n",
       "9                        NaN    NaN         NaN  \n",
       "10                       NaN    NaN         NaN  \n",
       "11                       NaN    NaN         NaN  \n",
       "12                       NaN    NaN         NaN  \n",
       "13                       NaN    NaN         NaN  \n",
       "14                       NaN    NaN         NaN  \n",
       "15                       NaN    NaN         NaN  \n",
       "16                       NaN    NaN         NaN  \n",
       "17                       NaN    NaN         NaN  \n",
       "18                       NaN    NaN         NaN  "
      ]
     },
     "execution_count": 1762,
     "metadata": {},
     "output_type": "execute_result"
    }
   ],
   "source": [
    "food=pd.read_csv(\"fullcifocoss.csv\", on_bad_lines='skip', sep=';', skipinitialspace = True)\n",
    "pd.set_option('display.max_columns', None) # sprawiam że można przejrzeć wszystkie columny ponieważ deafaultowo jest ograniczona ilość wyświetlanych kolumn\n",
    "food.head(19)"
   ]
  },
  {
   "cell_type": "markdown",
   "id": "9f0fcdf1-3901-4ec2-a004-9987213d2cf0",
   "metadata": {},
   "source": [
    "### Usuwanie niepotrzebnych kolumn <a id=\"del_col\"></a>"
   ]
  },
  {
   "cell_type": "code",
   "execution_count": 1763,
   "id": "3c2cd631-d189-4d65-9b1f-4be8591538da",
   "metadata": {},
   "outputs": [
    {
     "data": {
      "text/html": [
       "<div>\n",
       "<style scoped>\n",
       "    .dataframe tbody tr th:only-of-type {\n",
       "        vertical-align: middle;\n",
       "    }\n",
       "\n",
       "    .dataframe tbody tr th {\n",
       "        vertical-align: top;\n",
       "    }\n",
       "\n",
       "    .dataframe thead th {\n",
       "        text-align: right;\n",
       "    }\n",
       "</style>\n",
       "<table border=\"1\" class=\"dataframe\">\n",
       "  <thead>\n",
       "    <tr style=\"text-align: right;\">\n",
       "      <th></th>\n",
       "      <th>Country</th>\n",
       "      <th>Year</th>\n",
       "      <th>FoodCode</th>\n",
       "      <th>FoodName</th>\n",
       "      <th>AgeClass</th>\n",
       "      <th>SourceAgeClass</th>\n",
       "      <th>Gender</th>\n",
       "      <th>Number_of_consumers</th>\n",
       "      <th>Consumers_Mean</th>\n",
       "      <th>Consumers_Median</th>\n",
       "      <th>Number_of_subjects</th>\n",
       "      <th>Total_Mean</th>\n",
       "      <th>Total_Median</th>\n",
       "    </tr>\n",
       "  </thead>\n",
       "  <tbody>\n",
       "    <tr>\n",
       "      <th>0</th>\n",
       "      <td>China</td>\n",
       "      <td>2002</td>\n",
       "      <td>A000G</td>\n",
       "      <td>Oat grain</td>\n",
       "      <td>All</td>\n",
       "      <td>All</td>\n",
       "      <td>All</td>\n",
       "      <td>1157</td>\n",
       "      <td>60.62</td>\n",
       "      <td>0.00</td>\n",
       "      <td>66172</td>\n",
       "      <td>1.06</td>\n",
       "      <td>0.00</td>\n",
       "    </tr>\n",
       "    <tr>\n",
       "      <th>1</th>\n",
       "      <td>China</td>\n",
       "      <td>2002</td>\n",
       "      <td>A000G</td>\n",
       "      <td>Oat grain</td>\n",
       "      <td>All</td>\n",
       "      <td>All</td>\n",
       "      <td>female</td>\n",
       "      <td>608</td>\n",
       "      <td>55.87</td>\n",
       "      <td>0.00</td>\n",
       "      <td>33953</td>\n",
       "      <td>1.00</td>\n",
       "      <td>0.00</td>\n",
       "    </tr>\n",
       "    <tr>\n",
       "      <th>2</th>\n",
       "      <td>China</td>\n",
       "      <td>2002</td>\n",
       "      <td>A000G</td>\n",
       "      <td>Oat grain</td>\n",
       "      <td>All</td>\n",
       "      <td>All</td>\n",
       "      <td>male</td>\n",
       "      <td>549</td>\n",
       "      <td>65.89</td>\n",
       "      <td>0.00</td>\n",
       "      <td>32219</td>\n",
       "      <td>1.12</td>\n",
       "      <td>0.00</td>\n",
       "    </tr>\n",
       "    <tr>\n",
       "      <th>3</th>\n",
       "      <td>China</td>\n",
       "      <td>2002</td>\n",
       "      <td>A000N</td>\n",
       "      <td>Buckwheat</td>\n",
       "      <td>All</td>\n",
       "      <td>All</td>\n",
       "      <td>All</td>\n",
       "      <td>167</td>\n",
       "      <td>55.26</td>\n",
       "      <td>0.00</td>\n",
       "      <td>66172</td>\n",
       "      <td>0.14</td>\n",
       "      <td>0.00</td>\n",
       "    </tr>\n",
       "    <tr>\n",
       "      <th>4</th>\n",
       "      <td>China</td>\n",
       "      <td>2002</td>\n",
       "      <td>A000N</td>\n",
       "      <td>Buckwheat</td>\n",
       "      <td>All</td>\n",
       "      <td>All</td>\n",
       "      <td>female</td>\n",
       "      <td>82</td>\n",
       "      <td>54.71</td>\n",
       "      <td>0.00</td>\n",
       "      <td>33953</td>\n",
       "      <td>0.13</td>\n",
       "      <td>0.00</td>\n",
       "    </tr>\n",
       "    <tr>\n",
       "      <th>5</th>\n",
       "      <td>China</td>\n",
       "      <td>2002</td>\n",
       "      <td>A000N</td>\n",
       "      <td>Buckwheat</td>\n",
       "      <td>All</td>\n",
       "      <td>All</td>\n",
       "      <td>male</td>\n",
       "      <td>85</td>\n",
       "      <td>55.80</td>\n",
       "      <td>0.00</td>\n",
       "      <td>32219</td>\n",
       "      <td>0.15</td>\n",
       "      <td>0.00</td>\n",
       "    </tr>\n",
       "    <tr>\n",
       "      <th>6</th>\n",
       "      <td>China</td>\n",
       "      <td>2002</td>\n",
       "      <td>A000P</td>\n",
       "      <td>Barley grains</td>\n",
       "      <td>All</td>\n",
       "      <td>All</td>\n",
       "      <td>All</td>\n",
       "      <td>61</td>\n",
       "      <td>38.58</td>\n",
       "      <td>0.00</td>\n",
       "      <td>66172</td>\n",
       "      <td>NaN</td>\n",
       "      <td>0.00</td>\n",
       "    </tr>\n",
       "    <tr>\n",
       "      <th>7</th>\n",
       "      <td>China</td>\n",
       "      <td>2002</td>\n",
       "      <td>A000P</td>\n",
       "      <td>Barley grains</td>\n",
       "      <td>All</td>\n",
       "      <td>All</td>\n",
       "      <td>female</td>\n",
       "      <td>28</td>\n",
       "      <td>37.50</td>\n",
       "      <td>0.00</td>\n",
       "      <td>33953</td>\n",
       "      <td>NaN</td>\n",
       "      <td>0.00</td>\n",
       "    </tr>\n",
       "    <tr>\n",
       "      <th>8</th>\n",
       "      <td>China</td>\n",
       "      <td>2002</td>\n",
       "      <td>A000P</td>\n",
       "      <td>Barley grains</td>\n",
       "      <td>All</td>\n",
       "      <td>All</td>\n",
       "      <td>male</td>\n",
       "      <td>33</td>\n",
       "      <td>39.49</td>\n",
       "      <td>0.00</td>\n",
       "      <td>32219</td>\n",
       "      <td>NaN</td>\n",
       "      <td>0.00</td>\n",
       "    </tr>\n",
       "    <tr>\n",
       "      <th>9</th>\n",
       "      <td>China</td>\n",
       "      <td>2002</td>\n",
       "      <td>A000T</td>\n",
       "      <td>Maize grain</td>\n",
       "      <td>All</td>\n",
       "      <td>All</td>\n",
       "      <td>All</td>\n",
       "      <td>2422</td>\n",
       "      <td>86.97</td>\n",
       "      <td>0.00</td>\n",
       "      <td>66172</td>\n",
       "      <td>3.18</td>\n",
       "      <td>0.00</td>\n",
       "    </tr>\n",
       "  </tbody>\n",
       "</table>\n",
       "</div>"
      ],
      "text/plain": [
       "  Country  Year FoodCode       FoodName AgeClass SourceAgeClass  Gender  \\\n",
       "0   China  2002    A000G      Oat grain      All            All     All   \n",
       "1   China  2002    A000G      Oat grain      All            All  female   \n",
       "2   China  2002    A000G      Oat grain      All            All    male   \n",
       "3   China  2002    A000N      Buckwheat      All            All     All   \n",
       "4   China  2002    A000N      Buckwheat      All            All  female   \n",
       "5   China  2002    A000N      Buckwheat      All            All    male   \n",
       "6   China  2002    A000P  Barley grains      All            All     All   \n",
       "7   China  2002    A000P  Barley grains      All            All  female   \n",
       "8   China  2002    A000P  Barley grains      All            All    male   \n",
       "9   China  2002    A000T    Maize grain      All            All     All   \n",
       "\n",
       "   Number_of_consumers  Consumers_Mean  Consumers_Median  Number_of_subjects  \\\n",
       "0                 1157           60.62              0.00               66172   \n",
       "1                  608           55.87              0.00               33953   \n",
       "2                  549           65.89              0.00               32219   \n",
       "3                  167           55.26              0.00               66172   \n",
       "4                   82           54.71              0.00               33953   \n",
       "5                   85           55.80              0.00               32219   \n",
       "6                   61           38.58              0.00               66172   \n",
       "7                   28           37.50              0.00               33953   \n",
       "8                   33           39.49              0.00               32219   \n",
       "9                 2422           86.97              0.00               66172   \n",
       "\n",
       "   Total_Mean  Total_Median  \n",
       "0        1.06          0.00  \n",
       "1        1.00          0.00  \n",
       "2        1.12          0.00  \n",
       "3        0.14          0.00  \n",
       "4        0.13          0.00  \n",
       "5        0.15          0.00  \n",
       "6         NaN          0.00  \n",
       "7         NaN          0.00  \n",
       "8         NaN          0.00  \n",
       "9        3.18          0.00  "
      ]
     },
     "execution_count": 1763,
     "metadata": {},
     "output_type": "execute_result"
    }
   ],
   "source": [
    "food.drop(columns=food.loc[:, 'Consumers_P05':'Consumers_Standard_deviation'], inplace=True)\n",
    "food.drop(columns=food.loc[:, 'Total_P05':'ExtBWValue'], inplace=True)\n",
    "food = food.drop(['BW'], axis=1)\n",
    "food.head(10)"
   ]
  },
  {
   "cell_type": "code",
   "execution_count": 1764,
   "id": "c7506877-0694-4b21-b74b-a5402bf30862",
   "metadata": {
    "tags": []
   },
   "outputs": [
    {
     "data": {
      "text/plain": [
       "(544686, 13)"
      ]
     },
     "execution_count": 1764,
     "metadata": {},
     "output_type": "execute_result"
    }
   ],
   "source": [
    "food.shape"
   ]
  },
  {
   "cell_type": "markdown",
   "id": "e60f5c17-7df9-4ac7-b18f-66dba85804a7",
   "metadata": {
    "tags": []
   },
   "source": [
    "### ustawię jeszcze żeby na pewno wszystkie liczby miały 2 liczby po przecinku bo wolę taki wygląd a wrazie potrzeb zawsze mogę wrócić do deafaultowych ustawień"
   ]
  },
  {
   "cell_type": "code",
   "execution_count": 1765,
   "id": "8e4df238-8bc6-4984-8769-e114e07381d6",
   "metadata": {
    "tags": []
   },
   "outputs": [
    {
     "data": {
      "text/html": [
       "<div>\n",
       "<style scoped>\n",
       "    .dataframe tbody tr th:only-of-type {\n",
       "        vertical-align: middle;\n",
       "    }\n",
       "\n",
       "    .dataframe tbody tr th {\n",
       "        vertical-align: top;\n",
       "    }\n",
       "\n",
       "    .dataframe thead th {\n",
       "        text-align: right;\n",
       "    }\n",
       "</style>\n",
       "<table border=\"1\" class=\"dataframe\">\n",
       "  <thead>\n",
       "    <tr style=\"text-align: right;\">\n",
       "      <th></th>\n",
       "      <th>Country</th>\n",
       "      <th>Year</th>\n",
       "      <th>FoodCode</th>\n",
       "      <th>FoodName</th>\n",
       "      <th>AgeClass</th>\n",
       "      <th>SourceAgeClass</th>\n",
       "      <th>Gender</th>\n",
       "      <th>Number_of_consumers</th>\n",
       "      <th>Consumers_Mean</th>\n",
       "      <th>Consumers_Median</th>\n",
       "      <th>Number_of_subjects</th>\n",
       "      <th>Total_Mean</th>\n",
       "      <th>Total_Median</th>\n",
       "    </tr>\n",
       "  </thead>\n",
       "  <tbody>\n",
       "    <tr>\n",
       "      <th>0</th>\n",
       "      <td>China</td>\n",
       "      <td>2002</td>\n",
       "      <td>A000G</td>\n",
       "      <td>Oat grain</td>\n",
       "      <td>All</td>\n",
       "      <td>All</td>\n",
       "      <td>All</td>\n",
       "      <td>1157</td>\n",
       "      <td>60.62</td>\n",
       "      <td>0.00</td>\n",
       "      <td>66172</td>\n",
       "      <td>1.06</td>\n",
       "      <td>0.00</td>\n",
       "    </tr>\n",
       "    <tr>\n",
       "      <th>1</th>\n",
       "      <td>China</td>\n",
       "      <td>2002</td>\n",
       "      <td>A000G</td>\n",
       "      <td>Oat grain</td>\n",
       "      <td>All</td>\n",
       "      <td>All</td>\n",
       "      <td>female</td>\n",
       "      <td>608</td>\n",
       "      <td>55.87</td>\n",
       "      <td>0.00</td>\n",
       "      <td>33953</td>\n",
       "      <td>1.00</td>\n",
       "      <td>0.00</td>\n",
       "    </tr>\n",
       "    <tr>\n",
       "      <th>2</th>\n",
       "      <td>China</td>\n",
       "      <td>2002</td>\n",
       "      <td>A000G</td>\n",
       "      <td>Oat grain</td>\n",
       "      <td>All</td>\n",
       "      <td>All</td>\n",
       "      <td>male</td>\n",
       "      <td>549</td>\n",
       "      <td>65.89</td>\n",
       "      <td>0.00</td>\n",
       "      <td>32219</td>\n",
       "      <td>1.12</td>\n",
       "      <td>0.00</td>\n",
       "    </tr>\n",
       "    <tr>\n",
       "      <th>3</th>\n",
       "      <td>China</td>\n",
       "      <td>2002</td>\n",
       "      <td>A000N</td>\n",
       "      <td>Buckwheat</td>\n",
       "      <td>All</td>\n",
       "      <td>All</td>\n",
       "      <td>All</td>\n",
       "      <td>167</td>\n",
       "      <td>55.26</td>\n",
       "      <td>0.00</td>\n",
       "      <td>66172</td>\n",
       "      <td>0.14</td>\n",
       "      <td>0.00</td>\n",
       "    </tr>\n",
       "    <tr>\n",
       "      <th>4</th>\n",
       "      <td>China</td>\n",
       "      <td>2002</td>\n",
       "      <td>A000N</td>\n",
       "      <td>Buckwheat</td>\n",
       "      <td>All</td>\n",
       "      <td>All</td>\n",
       "      <td>female</td>\n",
       "      <td>82</td>\n",
       "      <td>54.71</td>\n",
       "      <td>0.00</td>\n",
       "      <td>33953</td>\n",
       "      <td>0.13</td>\n",
       "      <td>0.00</td>\n",
       "    </tr>\n",
       "  </tbody>\n",
       "</table>\n",
       "</div>"
      ],
      "text/plain": [
       "  Country  Year FoodCode   FoodName AgeClass SourceAgeClass  Gender  \\\n",
       "0   China  2002    A000G  Oat grain      All            All     All   \n",
       "1   China  2002    A000G  Oat grain      All            All  female   \n",
       "2   China  2002    A000G  Oat grain      All            All    male   \n",
       "3   China  2002    A000N  Buckwheat      All            All     All   \n",
       "4   China  2002    A000N  Buckwheat      All            All  female   \n",
       "\n",
       "   Number_of_consumers  Consumers_Mean  Consumers_Median  Number_of_subjects  \\\n",
       "0                 1157           60.62              0.00               66172   \n",
       "1                  608           55.87              0.00               33953   \n",
       "2                  549           65.89              0.00               32219   \n",
       "3                  167           55.26              0.00               66172   \n",
       "4                   82           54.71              0.00               33953   \n",
       "\n",
       "   Total_Mean  Total_Median  \n",
       "0        1.06          0.00  \n",
       "1        1.00          0.00  \n",
       "2        1.12          0.00  \n",
       "3        0.14          0.00  \n",
       "4        0.13          0.00  "
      ]
     },
     "execution_count": 1765,
     "metadata": {},
     "output_type": "execute_result"
    }
   ],
   "source": [
    "pd.set_option('display.float_format', lambda x: '%.2f' % x)\n",
    "food.head()"
   ]
  },
  {
   "cell_type": "markdown",
   "id": "319433c5-13a8-4763-be56-8bc2a6d468e0",
   "metadata": {},
   "source": [
    "### <a class=\"anchor\" id=\"del_dup\">usuwanie duplikatów</a>"
   ]
  },
  {
   "cell_type": "code",
   "execution_count": 1766,
   "id": "03a0da10-eb46-42d8-b013-97326b78d7a3",
   "metadata": {
    "tags": []
   },
   "outputs": [
    {
     "data": {
      "text/plain": [
       "(544686, 13)"
      ]
     },
     "execution_count": 1766,
     "metadata": {},
     "output_type": "execute_result"
    }
   ],
   "source": [
    "food.shape"
   ]
  },
  {
   "cell_type": "code",
   "execution_count": 1767,
   "id": "13e33d56-8099-4c5f-bee7-5c86772f79db",
   "metadata": {
    "tags": []
   },
   "outputs": [],
   "source": [
    "food = food.drop_duplicates()"
   ]
  },
  {
   "cell_type": "code",
   "execution_count": 1768,
   "id": "267f1057-7368-40eb-9dd7-fb916759177d",
   "metadata": {
    "tags": []
   },
   "outputs": [
    {
     "data": {
      "text/plain": [
       "(523276, 13)"
      ]
     },
     "execution_count": 1768,
     "metadata": {},
     "output_type": "execute_result"
    }
   ],
   "source": [
    "food.shape"
   ]
  },
  {
   "cell_type": "code",
   "execution_count": 1769,
   "id": "2228b3b6-4e31-4ba3-997f-9f5b0db70162",
   "metadata": {
    "tags": []
   },
   "outputs": [
    {
     "data": {
      "text/plain": [
       "21410"
      ]
     },
     "execution_count": 1769,
     "metadata": {},
     "output_type": "execute_result"
    }
   ],
   "source": [
    "544686-523276 "
   ]
  },
  {
   "cell_type": "markdown",
   "id": "77c9cfaa-00d7-4591-b5d6-8a7aa02ea7c7",
   "metadata": {},
   "source": [
    "### pozbyliśmy się 21410 duplikatów"
   ]
  },
  {
   "cell_type": "markdown",
   "id": "fb65fef3-3bba-4593-903a-59555654c9a7",
   "metadata": {},
   "source": [
    "### Przy użyciu biblioteki missingno oraz metody isna sprawdzam gdzie znajdują sie puste dane"
   ]
  },
  {
   "cell_type": "code",
   "execution_count": 1770,
   "id": "55c790e3-7343-4411-8885-0060e65bd44e",
   "metadata": {
    "tags": []
   },
   "outputs": [
    {
     "data": {
      "text/plain": [
       "<Axes: >"
      ]
     },
     "execution_count": 1770,
     "metadata": {},
     "output_type": "execute_result"
    },
    {
     "data": {
      "image/png": "[encoded data removed]",
      "text/plain": [
       "<Figure size 2400x1000 with 3 Axes>"
      ]
     },
     "metadata": {},
     "output_type": "display_data"
    }
   ],
   "source": [
    "msno.bar(food)"
   ]
  },
  {
   "cell_type": "code",
   "execution_count": 1771,
   "id": "d0177f03-7109-4d9f-9773-99f4a2eb71ca",
   "metadata": {
    "tags": []
   },
   "outputs": [
    {
     "data": {
      "text/plain": [
       "Country                   0\n",
       "Year                      0\n",
       "FoodCode                 20\n",
       "FoodName                624\n",
       "AgeClass                  0\n",
       "SourceAgeClass            0\n",
       "Gender                    0\n",
       "Number_of_consumers       0\n",
       "Consumers_Mean           32\n",
       "Consumers_Median       4532\n",
       "Number_of_subjects        0\n",
       "Total_Mean             5102\n",
       "Total_Median              3\n",
       "dtype: int64"
      ]
     },
     "execution_count": 1771,
     "metadata": {},
     "output_type": "execute_result"
    }
   ],
   "source": [
    "food.isna().sum()"
   ]
  },
  {
   "cell_type": "markdown",
   "id": "bd4b4500-867d-4456-b9e6-c0bc8bb7303d",
   "metadata": {
    "tags": []
   },
   "source": [
    "### Zarówno na wykresie jak i w tabeli widać że FoodName i FoodCode mają puste wartości (na razie nie zajmujemy sie innymi kolumnami z pustymi watościami bo nie wiedomo czy będą użyteczne) wiec zajmujemy sie usunięciem tych rzędów "
   ]
  },
  {
   "cell_type": "code",
   "execution_count": 1772,
   "id": "96b6138b-77bf-4544-851a-5aa745abc7ef",
   "metadata": {
    "tags": []
   },
   "outputs": [
    {
     "data": {
      "text/html": [
       "<div>\n",
       "<style scoped>\n",
       "    .dataframe tbody tr th:only-of-type {\n",
       "        vertical-align: middle;\n",
       "    }\n",
       "\n",
       "    .dataframe tbody tr th {\n",
       "        vertical-align: top;\n",
       "    }\n",
       "\n",
       "    .dataframe thead th {\n",
       "        text-align: right;\n",
       "    }\n",
       "</style>\n",
       "<table border=\"1\" class=\"dataframe\">\n",
       "  <thead>\n",
       "    <tr style=\"text-align: right;\">\n",
       "      <th></th>\n",
       "      <th>Country</th>\n",
       "      <th>Year</th>\n",
       "      <th>FoodCode</th>\n",
       "      <th>FoodName</th>\n",
       "      <th>AgeClass</th>\n",
       "      <th>SourceAgeClass</th>\n",
       "      <th>Gender</th>\n",
       "      <th>Number_of_consumers</th>\n",
       "      <th>Consumers_Mean</th>\n",
       "      <th>Consumers_Median</th>\n",
       "      <th>Number_of_subjects</th>\n",
       "      <th>Total_Mean</th>\n",
       "      <th>Total_Median</th>\n",
       "    </tr>\n",
       "  </thead>\n",
       "  <tbody>\n",
       "    <tr>\n",
       "      <th>540608</th>\n",
       "      <td>Republic of Korea</td>\n",
       "      <td>2015</td>\n",
       "      <td>fa6adbfab52e8a77f23df411f59c2150</td>\n",
       "      <td>NaN</td>\n",
       "      <td>Children and Adolescents</td>\n",
       "      <td>3-5 years</td>\n",
       "      <td>All</td>\n",
       "      <td>692</td>\n",
       "      <td>2.26</td>\n",
       "      <td>0.84</td>\n",
       "      <td>804</td>\n",
       "      <td>1.95</td>\n",
       "      <td>0.59</td>\n",
       "    </tr>\n",
       "    <tr>\n",
       "      <th>540609</th>\n",
       "      <td>Republic of Korea</td>\n",
       "      <td>2015</td>\n",
       "      <td>fa6adbfab52e8a77f23df411f59c2150</td>\n",
       "      <td>NaN</td>\n",
       "      <td>Children and Adolescents</td>\n",
       "      <td>6-14 years</td>\n",
       "      <td>All</td>\n",
       "      <td>1937</td>\n",
       "      <td>1.89</td>\n",
       "      <td>0.81</td>\n",
       "      <td>2376</td>\n",
       "      <td>1.54</td>\n",
       "      <td>0.48</td>\n",
       "    </tr>\n",
       "    <tr>\n",
       "      <th>540610</th>\n",
       "      <td>Republic of Korea</td>\n",
       "      <td>2015</td>\n",
       "      <td>fa6adbfab52e8a77f23df411f59c2150</td>\n",
       "      <td>NaN</td>\n",
       "      <td>Adults and Elderly</td>\n",
       "      <td>15-49 years</td>\n",
       "      <td>All</td>\n",
       "      <td>6798</td>\n",
       "      <td>1.80</td>\n",
       "      <td>0.76</td>\n",
       "      <td>8253</td>\n",
       "      <td>1.48</td>\n",
       "      <td>0.48</td>\n",
       "    </tr>\n",
       "    <tr>\n",
       "      <th>540611</th>\n",
       "      <td>Republic of Korea</td>\n",
       "      <td>2015</td>\n",
       "      <td>fa6adbfab52e8a77f23df411f59c2150</td>\n",
       "      <td>NaN</td>\n",
       "      <td>Adults and Elderly</td>\n",
       "      <td>50-74 years</td>\n",
       "      <td>All</td>\n",
       "      <td>6054</td>\n",
       "      <td>2.04</td>\n",
       "      <td>0.76</td>\n",
       "      <td>7069</td>\n",
       "      <td>1.74</td>\n",
       "      <td>0.49</td>\n",
       "    </tr>\n",
       "    <tr>\n",
       "      <th>540612</th>\n",
       "      <td>Republic of Korea</td>\n",
       "      <td>2015</td>\n",
       "      <td>fa6adbfab52e8a77f23df411f59c2150</td>\n",
       "      <td>NaN</td>\n",
       "      <td>Adults and Elderly</td>\n",
       "      <td>&gt;75 years</td>\n",
       "      <td>All</td>\n",
       "      <td>1204</td>\n",
       "      <td>1.97</td>\n",
       "      <td>0.40</td>\n",
       "      <td>1650</td>\n",
       "      <td>1.44</td>\n",
       "      <td>0.11</td>\n",
       "    </tr>\n",
       "  </tbody>\n",
       "</table>\n",
       "</div>"
      ],
      "text/plain": [
       "                  Country  Year                          FoodCode FoodName  \\\n",
       "540608  Republic of Korea  2015  fa6adbfab52e8a77f23df411f59c2150      NaN   \n",
       "540609  Republic of Korea  2015  fa6adbfab52e8a77f23df411f59c2150      NaN   \n",
       "540610  Republic of Korea  2015  fa6adbfab52e8a77f23df411f59c2150      NaN   \n",
       "540611  Republic of Korea  2015  fa6adbfab52e8a77f23df411f59c2150      NaN   \n",
       "540612  Republic of Korea  2015  fa6adbfab52e8a77f23df411f59c2150      NaN   \n",
       "\n",
       "                        AgeClass SourceAgeClass Gender  Number_of_consumers  \\\n",
       "540608  Children and Adolescents      3-5 years    All                  692   \n",
       "540609  Children and Adolescents     6-14 years    All                 1937   \n",
       "540610        Adults and Elderly    15-49 years    All                 6798   \n",
       "540611        Adults and Elderly    50-74 years    All                 6054   \n",
       "540612        Adults and Elderly      >75 years    All                 1204   \n",
       "\n",
       "        Consumers_Mean  Consumers_Median  Number_of_subjects  Total_Mean  \\\n",
       "540608            2.26              0.84                 804        1.95   \n",
       "540609            1.89              0.81                2376        1.54   \n",
       "540610            1.80              0.76                8253        1.48   \n",
       "540611            2.04              0.76                7069        1.74   \n",
       "540612            1.97              0.40                1650        1.44   \n",
       "\n",
       "        Total_Median  \n",
       "540608          0.59  \n",
       "540609          0.48  \n",
       "540610          0.48  \n",
       "540611          0.49  \n",
       "540612          0.11  "
      ]
     },
     "execution_count": 1772,
     "metadata": {},
     "output_type": "execute_result"
    }
   ],
   "source": [
    "null_data = food[food.isnull().any(axis=1)]\n",
    "null_data.tail(5) # NaN w FoodCode widać dopiero na 50 ale dla wygody pozostaje default"
   ]
  },
  {
   "cell_type": "code",
   "execution_count": 1773,
   "id": "702e803c-e95a-4bb1-b9b4-f17c34ed04ea",
   "metadata": {
    "tags": []
   },
   "outputs": [
    {
     "data": {
      "text/plain": [
       "Country                Democratic Republic of the Congo\n",
       "Year                                               2016\n",
       "FoodCode                                            NaN\n",
       "FoodName                                            NaN\n",
       "AgeClass                                            All\n",
       "SourceAgeClass                                      All\n",
       "Gender                                              All\n",
       "Number_of_consumers                                   1\n",
       "Consumers_Mean                                     3.36\n",
       "Consumers_Median                                   3.36\n",
       "Number_of_subjects                                  214\n",
       "Total_Mean                                         0.02\n",
       "Total_Median                                       0.00\n",
       "Name: 527540, dtype: object"
      ]
     },
     "execution_count": 1773,
     "metadata": {},
     "output_type": "execute_result"
    }
   ],
   "source": [
    "food.loc[527540]"
   ]
  },
  {
   "cell_type": "markdown",
   "id": "d2d937a0-26a7-4406-9a03-9bf2a0adb5e8",
   "metadata": {},
   "source": [
    "### Tutaj widzimy że w FoodName i FoodCode puste dane są opisane jako NaN . Dodatkowo jest jeszcze długi kod który jest dłuższy to innych które widziałem i taki sam w każdym rzędzie gdzie są puste dane, także usunę FoodName i zobaczę czy nadal te kody pozostały jeżeli one nie opisują żadnego produktu to one także zostaną usunięte. prawdopodobnie własnie z powodu błędnego kodu produktu nie ma nazwy produktu."
   ]
  },
  {
   "cell_type": "code",
   "execution_count": 1774,
   "id": "f8b7b603-0817-45a5-9643-4578720504f7",
   "metadata": {
    "tags": []
   },
   "outputs": [],
   "source": [
    "food = food.dropna(subset=['FoodName'])"
   ]
  },
  {
   "cell_type": "code",
   "execution_count": 1775,
   "id": "5ee78043-9184-498b-a406-331ae3e702f6",
   "metadata": {
    "tags": []
   },
   "outputs": [
    {
     "data": {
      "text/plain": [
       "Country                   0\n",
       "Year                      0\n",
       "FoodCode                  0\n",
       "FoodName                  0\n",
       "AgeClass                  0\n",
       "SourceAgeClass            0\n",
       "Gender                    0\n",
       "Number_of_consumers       0\n",
       "Consumers_Mean           32\n",
       "Consumers_Median       4532\n",
       "Number_of_subjects        0\n",
       "Total_Mean             5102\n",
       "Total_Median              3\n",
       "dtype: int64"
      ]
     },
     "execution_count": 1775,
     "metadata": {},
     "output_type": "execute_result"
    }
   ],
   "source": [
    "food.isna().sum()      "
   ]
  },
  {
   "cell_type": "markdown",
   "id": "c745f303-772f-470d-aff6-e2f211addac5",
   "metadata": {},
   "source": [
    "### Wychodzi że nie ma już pustych danych. Poprzez usuwanie pustych danych w FoodName pozbyliśmy sie równiez pustych danych z FoodCode co znaczy że tylko po części było to tylko zależne od długości kodu i mogą być długie kody które działają. Jednak jeszcze trzeba sprawdzić czy produkty które miały kod fa6adbfab52e8a77f23df411f59c2150 też zostały usunięte, wstępnie z tego co widać poprawne kody nie są dłuższe niz 5 znaków, także sprawdzam czy istnieją dłuższe kody w kolumnie FoodCode."
   ]
  },
  {
   "cell_type": "code",
   "execution_count": 1776,
   "id": "37535400-fadc-4b2d-a77c-9de89ce5c059",
   "metadata": {
    "tags": []
   },
   "outputs": [
    {
     "data": {
      "text/html": [
       "<div>\n",
       "<style scoped>\n",
       "    .dataframe tbody tr th:only-of-type {\n",
       "        vertical-align: middle;\n",
       "    }\n",
       "\n",
       "    .dataframe tbody tr th {\n",
       "        vertical-align: top;\n",
       "    }\n",
       "\n",
       "    .dataframe thead th {\n",
       "        text-align: right;\n",
       "    }\n",
       "</style>\n",
       "<table border=\"1\" class=\"dataframe\">\n",
       "  <thead>\n",
       "    <tr style=\"text-align: right;\">\n",
       "      <th></th>\n",
       "      <th>Country</th>\n",
       "      <th>Year</th>\n",
       "      <th>FoodCode</th>\n",
       "      <th>FoodName</th>\n",
       "      <th>AgeClass</th>\n",
       "      <th>SourceAgeClass</th>\n",
       "      <th>Gender</th>\n",
       "      <th>Number_of_consumers</th>\n",
       "      <th>Consumers_Mean</th>\n",
       "      <th>Consumers_Median</th>\n",
       "      <th>Number_of_subjects</th>\n",
       "      <th>Total_Mean</th>\n",
       "      <th>Total_Median</th>\n",
       "    </tr>\n",
       "  </thead>\n",
       "  <tbody>\n",
       "  </tbody>\n",
       "</table>\n",
       "</div>"
      ],
      "text/plain": [
       "Empty DataFrame\n",
       "Columns: [Country, Year, FoodCode, FoodName, AgeClass, SourceAgeClass, Gender, Number_of_consumers, Consumers_Mean, Consumers_Median, Number_of_subjects, Total_Mean, Total_Median]\n",
       "Index: []"
      ]
     },
     "execution_count": 1776,
     "metadata": {},
     "output_type": "execute_result"
    }
   ],
   "source": [
    "food.loc[food['FoodCode'] == \"fa6adbfab52e8a77f23df411f59c2150\"]"
   ]
  },
  {
   "cell_type": "code",
   "execution_count": 1777,
   "id": "ffbd6341-8f26-41b7-ba12-ec753143846b",
   "metadata": {
    "tags": []
   },
   "outputs": [
    {
     "data": {
      "text/plain": [
       "FoodCode\n",
       "False    516640\n",
       "True       6012\n",
       "Name: count, dtype: int64"
      ]
     },
     "execution_count": 1777,
     "metadata": {},
     "output_type": "execute_result"
    }
   ],
   "source": [
    "temp = food['FoodCode'].str.len() > 5\n",
    "temp.value_counts()"
   ]
  },
  {
   "cell_type": "markdown",
   "id": "9bbcc0bd-a25d-4a5f-ba60-752f0b16f636",
   "metadata": {},
   "source": [
    "### Wygląda na to, że tego konkretnego kodu sie pozbyłem ale kody których dlugoś jest większa od 5 nadal istnieją i pytanie czy one są poprawne czy nie"
   ]
  },
  {
   "cell_type": "code",
   "execution_count": 1778,
   "id": "e72d6495-d292-49cc-982f-ae088774085c",
   "metadata": {
    "tags": []
   },
   "outputs": [
    {
     "data": {
      "text/html": [
       "<div>\n",
       "<style scoped>\n",
       "    .dataframe tbody tr th:only-of-type {\n",
       "        vertical-align: middle;\n",
       "    }\n",
       "\n",
       "    .dataframe tbody tr th {\n",
       "        vertical-align: top;\n",
       "    }\n",
       "\n",
       "    .dataframe thead th {\n",
       "        text-align: right;\n",
       "    }\n",
       "</style>\n",
       "<table border=\"1\" class=\"dataframe\">\n",
       "  <thead>\n",
       "    <tr style=\"text-align: right;\">\n",
       "      <th></th>\n",
       "      <th>Country</th>\n",
       "      <th>Year</th>\n",
       "      <th>FoodCode</th>\n",
       "      <th>FoodName</th>\n",
       "      <th>AgeClass</th>\n",
       "      <th>SourceAgeClass</th>\n",
       "      <th>Gender</th>\n",
       "      <th>Number_of_consumers</th>\n",
       "      <th>Consumers_Mean</th>\n",
       "      <th>Consumers_Median</th>\n",
       "      <th>Number_of_subjects</th>\n",
       "      <th>Total_Mean</th>\n",
       "      <th>Total_Median</th>\n",
       "      <th>CodeLen</th>\n",
       "    </tr>\n",
       "  </thead>\n",
       "  <tbody>\n",
       "    <tr>\n",
       "      <th>0</th>\n",
       "      <td>China</td>\n",
       "      <td>2002</td>\n",
       "      <td>A000G</td>\n",
       "      <td>Oat grain</td>\n",
       "      <td>All</td>\n",
       "      <td>All</td>\n",
       "      <td>All</td>\n",
       "      <td>1157</td>\n",
       "      <td>60.62</td>\n",
       "      <td>0.00</td>\n",
       "      <td>66172</td>\n",
       "      <td>1.06</td>\n",
       "      <td>0.00</td>\n",
       "      <td>5</td>\n",
       "    </tr>\n",
       "    <tr>\n",
       "      <th>348298</th>\n",
       "      <td>Portugal</td>\n",
       "      <td>2015</td>\n",
       "      <td>A00DH</td>\n",
       "      <td>Oat rolled grains</td>\n",
       "      <td>Children and Adolescents</td>\n",
       "      <td>Other children</td>\n",
       "      <td>Female</td>\n",
       "      <td>1</td>\n",
       "      <td>0.40</td>\n",
       "      <td>0.40</td>\n",
       "      <td>262</td>\n",
       "      <td>0.00</td>\n",
       "      <td>0.00</td>\n",
       "      <td>5</td>\n",
       "    </tr>\n",
       "    <tr>\n",
       "      <th>348297</th>\n",
       "      <td>Portugal</td>\n",
       "      <td>2015</td>\n",
       "      <td>A006R</td>\n",
       "      <td>Traditional unleavened breads</td>\n",
       "      <td>Children and Adolescents</td>\n",
       "      <td>Other children</td>\n",
       "      <td>Female</td>\n",
       "      <td>1</td>\n",
       "      <td>1.94</td>\n",
       "      <td>1.94</td>\n",
       "      <td>262</td>\n",
       "      <td>0.01</td>\n",
       "      <td>0.00</td>\n",
       "      <td>5</td>\n",
       "    </tr>\n",
       "    <tr>\n",
       "      <th>348296</th>\n",
       "      <td>Portugal</td>\n",
       "      <td>2015</td>\n",
       "      <td>A006P</td>\n",
       "      <td>Rusk, wholemeal</td>\n",
       "      <td>Children and Adolescents</td>\n",
       "      <td>Other children</td>\n",
       "      <td>Male</td>\n",
       "      <td>1</td>\n",
       "      <td>1.63</td>\n",
       "      <td>1.63</td>\n",
       "      <td>259</td>\n",
       "      <td>0.01</td>\n",
       "      <td>0.00</td>\n",
       "      <td>5</td>\n",
       "    </tr>\n",
       "    <tr>\n",
       "      <th>348295</th>\n",
       "      <td>Portugal</td>\n",
       "      <td>2015</td>\n",
       "      <td>A006P</td>\n",
       "      <td>Rusk, wholemeal</td>\n",
       "      <td>Children and Adolescents</td>\n",
       "      <td>Other children</td>\n",
       "      <td>Female</td>\n",
       "      <td>4</td>\n",
       "      <td>0.65</td>\n",
       "      <td>0.59</td>\n",
       "      <td>262</td>\n",
       "      <td>0.01</td>\n",
       "      <td>0.00</td>\n",
       "      <td>5</td>\n",
       "    </tr>\n",
       "    <tr>\n",
       "      <th>...</th>\n",
       "      <td>...</td>\n",
       "      <td>...</td>\n",
       "      <td>...</td>\n",
       "      <td>...</td>\n",
       "      <td>...</td>\n",
       "      <td>...</td>\n",
       "      <td>...</td>\n",
       "      <td>...</td>\n",
       "      <td>...</td>\n",
       "      <td>...</td>\n",
       "      <td>...</td>\n",
       "      <td>...</td>\n",
       "      <td>...</td>\n",
       "      <td>...</td>\n",
       "    </tr>\n",
       "    <tr>\n",
       "      <th>251182</th>\n",
       "      <td>Nigeria</td>\n",
       "      <td>2011</td>\n",
       "      <td>17348df7c5044de2950b5bce2d8bb912</td>\n",
       "      <td>(All Meat and meat products)</td>\n",
       "      <td>Children and Adolescents</td>\n",
       "      <td>6-14 years</td>\n",
       "      <td>female</td>\n",
       "      <td>0</td>\n",
       "      <td>0.00</td>\n",
       "      <td>0.00</td>\n",
       "      <td>1</td>\n",
       "      <td>0.00</td>\n",
       "      <td>0.00</td>\n",
       "      <td>32</td>\n",
       "    </tr>\n",
       "    <tr>\n",
       "      <th>275702</th>\n",
       "      <td>United States of America</td>\n",
       "      <td>2010</td>\n",
       "      <td>356d09ef45eb5879c5a334a1b9441094</td>\n",
       "      <td>(All Ingredients)</td>\n",
       "      <td>Adults and Elderly</td>\n",
       "      <td>&gt;75 years</td>\n",
       "      <td>All</td>\n",
       "      <td>1429</td>\n",
       "      <td>0.10</td>\n",
       "      <td>0.08</td>\n",
       "      <td>1595</td>\n",
       "      <td>0.09</td>\n",
       "      <td>0.07</td>\n",
       "      <td>32</td>\n",
       "    </tr>\n",
       "    <tr>\n",
       "      <th>275701</th>\n",
       "      <td>United States of America</td>\n",
       "      <td>2010</td>\n",
       "      <td>356d09ef45eb5879c5a334a1b9441094</td>\n",
       "      <td>(All Ingredients)</td>\n",
       "      <td>Adults and Elderly</td>\n",
       "      <td>50-74 years</td>\n",
       "      <td>All</td>\n",
       "      <td>4496</td>\n",
       "      <td>0.11</td>\n",
       "      <td>0.08</td>\n",
       "      <td>5215</td>\n",
       "      <td>0.10</td>\n",
       "      <td>0.06</td>\n",
       "      <td>32</td>\n",
       "    </tr>\n",
       "    <tr>\n",
       "      <th>275699</th>\n",
       "      <td>United States of America</td>\n",
       "      <td>2010</td>\n",
       "      <td>356d09ef45eb5879c5a334a1b9441094</td>\n",
       "      <td>(All Ingredients)</td>\n",
       "      <td>Children and Adolescents</td>\n",
       "      <td>6-14 years</td>\n",
       "      <td>All</td>\n",
       "      <td>3215</td>\n",
       "      <td>0.07</td>\n",
       "      <td>0.04</td>\n",
       "      <td>4330</td>\n",
       "      <td>0.05</td>\n",
       "      <td>0.02</td>\n",
       "      <td>32</td>\n",
       "    </tr>\n",
       "    <tr>\n",
       "      <th>217932</th>\n",
       "      <td>Italy</td>\n",
       "      <td>2006</td>\n",
       "      <td>eb31155c944a8c91ec4a53503cf50264</td>\n",
       "      <td>(All Nuts)</td>\n",
       "      <td>Adults and Elderly</td>\n",
       "      <td>15-49 years</td>\n",
       "      <td>female</td>\n",
       "      <td>56</td>\n",
       "      <td>14.83</td>\n",
       "      <td>11.20</td>\n",
       "      <td>873</td>\n",
       "      <td>0.95</td>\n",
       "      <td>0.00</td>\n",
       "      <td>32</td>\n",
       "    </tr>\n",
       "  </tbody>\n",
       "</table>\n",
       "<p>522652 rows × 14 columns</p>\n",
       "</div>"
      ],
      "text/plain": [
       "                         Country  Year                          FoodCode  \\\n",
       "0                          China  2002                             A000G   \n",
       "348298                  Portugal  2015                             A00DH   \n",
       "348297                  Portugal  2015                             A006R   \n",
       "348296                  Portugal  2015                             A006P   \n",
       "348295                  Portugal  2015                             A006P   \n",
       "...                          ...   ...                               ...   \n",
       "251182                   Nigeria  2011  17348df7c5044de2950b5bce2d8bb912   \n",
       "275702  United States of America  2010  356d09ef45eb5879c5a334a1b9441094   \n",
       "275701  United States of America  2010  356d09ef45eb5879c5a334a1b9441094   \n",
       "275699  United States of America  2010  356d09ef45eb5879c5a334a1b9441094   \n",
       "217932                     Italy  2006  eb31155c944a8c91ec4a53503cf50264   \n",
       "\n",
       "                             FoodName                  AgeClass  \\\n",
       "0                           Oat grain                       All   \n",
       "348298              Oat rolled grains  Children and Adolescents   \n",
       "348297  Traditional unleavened breads  Children and Adolescents   \n",
       "348296                Rusk, wholemeal  Children and Adolescents   \n",
       "348295                Rusk, wholemeal  Children and Adolescents   \n",
       "...                               ...                       ...   \n",
       "251182   (All Meat and meat products)  Children and Adolescents   \n",
       "275702              (All Ingredients)        Adults and Elderly   \n",
       "275701              (All Ingredients)        Adults and Elderly   \n",
       "275699              (All Ingredients)  Children and Adolescents   \n",
       "217932                     (All Nuts)        Adults and Elderly   \n",
       "\n",
       "        SourceAgeClass  Gender  Number_of_consumers  Consumers_Mean  \\\n",
       "0                  All     All                 1157           60.62   \n",
       "348298  Other children  Female                    1            0.40   \n",
       "348297  Other children  Female                    1            1.94   \n",
       "348296  Other children    Male                    1            1.63   \n",
       "348295  Other children  Female                    4            0.65   \n",
       "...                ...     ...                  ...             ...   \n",
       "251182      6-14 years  female                    0            0.00   \n",
       "275702       >75 years     All                 1429            0.10   \n",
       "275701     50-74 years     All                 4496            0.11   \n",
       "275699      6-14 years     All                 3215            0.07   \n",
       "217932     15-49 years  female                   56           14.83   \n",
       "\n",
       "        Consumers_Median  Number_of_subjects  Total_Mean  Total_Median  \\\n",
       "0                   0.00               66172        1.06          0.00   \n",
       "348298              0.40                 262        0.00          0.00   \n",
       "348297              1.94                 262        0.01          0.00   \n",
       "348296              1.63                 259        0.01          0.00   \n",
       "348295              0.59                 262        0.01          0.00   \n",
       "...                  ...                 ...         ...           ...   \n",
       "251182              0.00                   1        0.00          0.00   \n",
       "275702              0.08                1595        0.09          0.07   \n",
       "275701              0.08                5215        0.10          0.06   \n",
       "275699              0.04                4330        0.05          0.02   \n",
       "217932             11.20                 873        0.95          0.00   \n",
       "\n",
       "        CodeLen  \n",
       "0             5  \n",
       "348298        5  \n",
       "348297        5  \n",
       "348296        5  \n",
       "348295        5  \n",
       "...         ...  \n",
       "251182       32  \n",
       "275702       32  \n",
       "275701       32  \n",
       "275699       32  \n",
       "217932       32  \n",
       "\n",
       "[522652 rows x 14 columns]"
      ]
     },
     "execution_count": 1778,
     "metadata": {},
     "output_type": "execute_result"
    }
   ],
   "source": [
    "checkpoint = food #tworzę checkpoint żeby móc łatwo wrócić do wersji przed sortowaniem\n",
    "food['CodeLen'] = food['FoodCode'].str.len()\n",
    "food.sort_values(by=['CodeLen'])"
   ]
  },
  {
   "cell_type": "code",
   "execution_count": 1779,
   "id": "e23c6af9-db96-4beb-8c91-628b3c1f82bd",
   "metadata": {
    "tags": []
   },
   "outputs": [
    {
     "data": {
      "text/plain": [
       "458"
      ]
     },
     "execution_count": 1779,
     "metadata": {},
     "output_type": "execute_result"
    }
   ],
   "source": [
    "temp = food.loc[food['FoodCode'] == \"a93a0316b93a7c2af9305e90012af119\"]\n",
    "len(temp)"
   ]
  },
  {
   "cell_type": "markdown",
   "id": "62431b88-8bc3-4290-be77-1aa4517a11b4",
   "metadata": {},
   "source": [
    "### Wygląda na to, że nie wszystkie kody o dlugości 32 są błędne wiec sama długość nie jest powodem pustych danych\n",
    "### Teraz sprawdzę czy wszystkie grupy wiekowe i ilość konsumentów składają się na grupę wiekową All. Dla wygody użyje tylko danych dla owsu i Chin"
   ]
  },
  {
   "cell_type": "code",
   "execution_count": 1780,
   "id": "11618026-8007-45e8-95a9-540cda6b22c5",
   "metadata": {},
   "outputs": [
    {
     "data": {
      "text/html": [
       "<div>\n",
       "<style scoped>\n",
       "    .dataframe tbody tr th:only-of-type {\n",
       "        vertical-align: middle;\n",
       "    }\n",
       "\n",
       "    .dataframe tbody tr th {\n",
       "        vertical-align: top;\n",
       "    }\n",
       "\n",
       "    .dataframe thead th {\n",
       "        text-align: right;\n",
       "    }\n",
       "</style>\n",
       "<table border=\"1\" class=\"dataframe\">\n",
       "  <thead>\n",
       "    <tr style=\"text-align: right;\">\n",
       "      <th></th>\n",
       "      <th>Country</th>\n",
       "      <th>Year</th>\n",
       "      <th>FoodCode</th>\n",
       "      <th>FoodName</th>\n",
       "      <th>AgeClass</th>\n",
       "      <th>SourceAgeClass</th>\n",
       "      <th>Gender</th>\n",
       "      <th>Number_of_consumers</th>\n",
       "      <th>Consumers_Mean</th>\n",
       "      <th>Consumers_Median</th>\n",
       "      <th>Number_of_subjects</th>\n",
       "      <th>Total_Mean</th>\n",
       "      <th>Total_Median</th>\n",
       "      <th>CodeLen</th>\n",
       "    </tr>\n",
       "  </thead>\n",
       "  <tbody>\n",
       "    <tr>\n",
       "      <th>0</th>\n",
       "      <td>China</td>\n",
       "      <td>2002</td>\n",
       "      <td>A000G</td>\n",
       "      <td>Oat grain</td>\n",
       "      <td>All</td>\n",
       "      <td>All</td>\n",
       "      <td>All</td>\n",
       "      <td>1157</td>\n",
       "      <td>60.62</td>\n",
       "      <td>0.00</td>\n",
       "      <td>66172</td>\n",
       "      <td>1.06</td>\n",
       "      <td>0.00</td>\n",
       "      <td>5</td>\n",
       "    </tr>\n",
       "    <tr>\n",
       "      <th>812</th>\n",
       "      <td>China</td>\n",
       "      <td>2002</td>\n",
       "      <td>A000G</td>\n",
       "      <td>Oat grain</td>\n",
       "      <td>Infants and Toddlers</td>\n",
       "      <td>0-35 months</td>\n",
       "      <td>All</td>\n",
       "      <td>10</td>\n",
       "      <td>28.58</td>\n",
       "      <td>0.00</td>\n",
       "      <td>838</td>\n",
       "      <td>0.34</td>\n",
       "      <td>0.00</td>\n",
       "      <td>5</td>\n",
       "    </tr>\n",
       "    <tr>\n",
       "      <th>1251</th>\n",
       "      <td>China</td>\n",
       "      <td>2002</td>\n",
       "      <td>A000G</td>\n",
       "      <td>Oat grain</td>\n",
       "      <td>Children and Adolescents</td>\n",
       "      <td>3-5 years</td>\n",
       "      <td>All</td>\n",
       "      <td>20</td>\n",
       "      <td>22.00</td>\n",
       "      <td>0.00</td>\n",
       "      <td>2235</td>\n",
       "      <td>0.20</td>\n",
       "      <td>0.00</td>\n",
       "      <td>5</td>\n",
       "    </tr>\n",
       "    <tr>\n",
       "      <th>1782</th>\n",
       "      <td>China</td>\n",
       "      <td>2002</td>\n",
       "      <td>A000G</td>\n",
       "      <td>Oat grain</td>\n",
       "      <td>Children and Adolescents</td>\n",
       "      <td>6-14 years</td>\n",
       "      <td>All</td>\n",
       "      <td>107</td>\n",
       "      <td>39.97</td>\n",
       "      <td>0.00</td>\n",
       "      <td>9844</td>\n",
       "      <td>0.43</td>\n",
       "      <td>0.00</td>\n",
       "      <td>5</td>\n",
       "    </tr>\n",
       "    <tr>\n",
       "      <th>2487</th>\n",
       "      <td>China</td>\n",
       "      <td>2002</td>\n",
       "      <td>A000G</td>\n",
       "      <td>Oat grain</td>\n",
       "      <td>Adults and Elderly</td>\n",
       "      <td>15-49 years</td>\n",
       "      <td>All</td>\n",
       "      <td>545</td>\n",
       "      <td>66.67</td>\n",
       "      <td>0.00</td>\n",
       "      <td>33719</td>\n",
       "      <td>1.08</td>\n",
       "      <td>0.00</td>\n",
       "      <td>5</td>\n",
       "    </tr>\n",
       "    <tr>\n",
       "      <th>3267</th>\n",
       "      <td>China</td>\n",
       "      <td>2002</td>\n",
       "      <td>A000G</td>\n",
       "      <td>Oat grain</td>\n",
       "      <td>Adults and Elderly</td>\n",
       "      <td>50-74 years</td>\n",
       "      <td>All</td>\n",
       "      <td>438</td>\n",
       "      <td>62.06</td>\n",
       "      <td>0.00</td>\n",
       "      <td>18143</td>\n",
       "      <td>1.50</td>\n",
       "      <td>0.00</td>\n",
       "      <td>5</td>\n",
       "    </tr>\n",
       "    <tr>\n",
       "      <th>4020</th>\n",
       "      <td>China</td>\n",
       "      <td>2002</td>\n",
       "      <td>A000G</td>\n",
       "      <td>Oat grain</td>\n",
       "      <td>Adults and Elderly</td>\n",
       "      <td>&gt;75 years</td>\n",
       "      <td>All</td>\n",
       "      <td>37</td>\n",
       "      <td>43.87</td>\n",
       "      <td>0.00</td>\n",
       "      <td>1393</td>\n",
       "      <td>1.17</td>\n",
       "      <td>0.00</td>\n",
       "      <td>5</td>\n",
       "    </tr>\n",
       "    <tr>\n",
       "      <th>279440</th>\n",
       "      <td>China</td>\n",
       "      <td>2002</td>\n",
       "      <td>A000G</td>\n",
       "      <td>Oat grain</td>\n",
       "      <td>All</td>\n",
       "      <td>All</td>\n",
       "      <td>All</td>\n",
       "      <td>1157</td>\n",
       "      <td>1.12</td>\n",
       "      <td>NaN</td>\n",
       "      <td>66172</td>\n",
       "      <td>NaN</td>\n",
       "      <td>0.00</td>\n",
       "      <td>5</td>\n",
       "    </tr>\n",
       "    <tr>\n",
       "      <th>280252</th>\n",
       "      <td>China</td>\n",
       "      <td>2002</td>\n",
       "      <td>A000G</td>\n",
       "      <td>Oat grain</td>\n",
       "      <td>Infants and Toddlers</td>\n",
       "      <td>0-35 months</td>\n",
       "      <td>All</td>\n",
       "      <td>10</td>\n",
       "      <td>2.00</td>\n",
       "      <td>NaN</td>\n",
       "      <td>838</td>\n",
       "      <td>NaN</td>\n",
       "      <td>0.00</td>\n",
       "      <td>5</td>\n",
       "    </tr>\n",
       "    <tr>\n",
       "      <th>280691</th>\n",
       "      <td>China</td>\n",
       "      <td>2002</td>\n",
       "      <td>A000G</td>\n",
       "      <td>Oat grain</td>\n",
       "      <td>Children and Adolescents</td>\n",
       "      <td>3-5 years</td>\n",
       "      <td>All</td>\n",
       "      <td>20</td>\n",
       "      <td>1.31</td>\n",
       "      <td>NaN</td>\n",
       "      <td>2235</td>\n",
       "      <td>NaN</td>\n",
       "      <td>0.00</td>\n",
       "      <td>5</td>\n",
       "    </tr>\n",
       "    <tr>\n",
       "      <th>281222</th>\n",
       "      <td>China</td>\n",
       "      <td>2002</td>\n",
       "      <td>A000G</td>\n",
       "      <td>Oat grain</td>\n",
       "      <td>Children and Adolescents</td>\n",
       "      <td>6-14 years</td>\n",
       "      <td>All</td>\n",
       "      <td>107</td>\n",
       "      <td>1.35</td>\n",
       "      <td>NaN</td>\n",
       "      <td>9844</td>\n",
       "      <td>NaN</td>\n",
       "      <td>0.00</td>\n",
       "      <td>5</td>\n",
       "    </tr>\n",
       "    <tr>\n",
       "      <th>281927</th>\n",
       "      <td>China</td>\n",
       "      <td>2002</td>\n",
       "      <td>A000G</td>\n",
       "      <td>Oat grain</td>\n",
       "      <td>Adults and Elderly</td>\n",
       "      <td>15-49 years</td>\n",
       "      <td>All</td>\n",
       "      <td>545</td>\n",
       "      <td>1.12</td>\n",
       "      <td>NaN</td>\n",
       "      <td>33719</td>\n",
       "      <td>NaN</td>\n",
       "      <td>0.00</td>\n",
       "      <td>5</td>\n",
       "    </tr>\n",
       "    <tr>\n",
       "      <th>282707</th>\n",
       "      <td>China</td>\n",
       "      <td>2002</td>\n",
       "      <td>A000G</td>\n",
       "      <td>Oat grain</td>\n",
       "      <td>Adults and Elderly</td>\n",
       "      <td>50-74 years</td>\n",
       "      <td>All</td>\n",
       "      <td>438</td>\n",
       "      <td>1.06</td>\n",
       "      <td>NaN</td>\n",
       "      <td>18143</td>\n",
       "      <td>NaN</td>\n",
       "      <td>0.00</td>\n",
       "      <td>5</td>\n",
       "    </tr>\n",
       "    <tr>\n",
       "      <th>283460</th>\n",
       "      <td>China</td>\n",
       "      <td>2002</td>\n",
       "      <td>A000G</td>\n",
       "      <td>Oat grain</td>\n",
       "      <td>Adults and Elderly</td>\n",
       "      <td>&gt;75 years</td>\n",
       "      <td>All</td>\n",
       "      <td>37</td>\n",
       "      <td>0.79</td>\n",
       "      <td>NaN</td>\n",
       "      <td>1393</td>\n",
       "      <td>NaN</td>\n",
       "      <td>0.00</td>\n",
       "      <td>5</td>\n",
       "    </tr>\n",
       "  </tbody>\n",
       "</table>\n",
       "</div>"
      ],
      "text/plain": [
       "       Country  Year FoodCode   FoodName                  AgeClass  \\\n",
       "0        China  2002    A000G  Oat grain                       All   \n",
       "812      China  2002    A000G  Oat grain      Infants and Toddlers   \n",
       "1251     China  2002    A000G  Oat grain  Children and Adolescents   \n",
       "1782     China  2002    A000G  Oat grain  Children and Adolescents   \n",
       "2487     China  2002    A000G  Oat grain        Adults and Elderly   \n",
       "3267     China  2002    A000G  Oat grain        Adults and Elderly   \n",
       "4020     China  2002    A000G  Oat grain        Adults and Elderly   \n",
       "279440   China  2002    A000G  Oat grain                       All   \n",
       "280252   China  2002    A000G  Oat grain      Infants and Toddlers   \n",
       "280691   China  2002    A000G  Oat grain  Children and Adolescents   \n",
       "281222   China  2002    A000G  Oat grain  Children and Adolescents   \n",
       "281927   China  2002    A000G  Oat grain        Adults and Elderly   \n",
       "282707   China  2002    A000G  Oat grain        Adults and Elderly   \n",
       "283460   China  2002    A000G  Oat grain        Adults and Elderly   \n",
       "\n",
       "       SourceAgeClass Gender  Number_of_consumers  Consumers_Mean  \\\n",
       "0                 All    All                 1157           60.62   \n",
       "812       0-35 months    All                   10           28.58   \n",
       "1251        3-5 years    All                   20           22.00   \n",
       "1782       6-14 years    All                  107           39.97   \n",
       "2487      15-49 years    All                  545           66.67   \n",
       "3267      50-74 years    All                  438           62.06   \n",
       "4020        >75 years    All                   37           43.87   \n",
       "279440            All    All                 1157            1.12   \n",
       "280252    0-35 months    All                   10            2.00   \n",
       "280691      3-5 years    All                   20            1.31   \n",
       "281222     6-14 years    All                  107            1.35   \n",
       "281927    15-49 years    All                  545            1.12   \n",
       "282707    50-74 years    All                  438            1.06   \n",
       "283460      >75 years    All                   37            0.79   \n",
       "\n",
       "        Consumers_Median  Number_of_subjects  Total_Mean  Total_Median  \\\n",
       "0                   0.00               66172        1.06          0.00   \n",
       "812                 0.00                 838        0.34          0.00   \n",
       "1251                0.00                2235        0.20          0.00   \n",
       "1782                0.00                9844        0.43          0.00   \n",
       "2487                0.00               33719        1.08          0.00   \n",
       "3267                0.00               18143        1.50          0.00   \n",
       "4020                0.00                1393        1.17          0.00   \n",
       "279440               NaN               66172         NaN          0.00   \n",
       "280252               NaN                 838         NaN          0.00   \n",
       "280691               NaN                2235         NaN          0.00   \n",
       "281222               NaN                9844         NaN          0.00   \n",
       "281927               NaN               33719         NaN          0.00   \n",
       "282707               NaN               18143         NaN          0.00   \n",
       "283460               NaN                1393         NaN          0.00   \n",
       "\n",
       "        CodeLen  \n",
       "0             5  \n",
       "812           5  \n",
       "1251          5  \n",
       "1782          5  \n",
       "2487          5  \n",
       "3267          5  \n",
       "4020          5  \n",
       "279440        5  \n",
       "280252        5  \n",
       "280691        5  \n",
       "281222        5  \n",
       "281927        5  \n",
       "282707        5  \n",
       "283460        5  "
      ]
     },
     "execution_count": 1780,
     "metadata": {},
     "output_type": "execute_result"
    }
   ],
   "source": [
    "food = checkpoint\n",
    "food_all = food.loc[food['Gender'] == \"All\"]\n",
    "food_all_oat = food_all.loc[food_all['FoodName'] == \"Oat grain\"]\n",
    "food_all_oat_ch = food_all_oat.loc[food_all_oat['Country'] == \"China\"]\n",
    "\n",
    "food_all_oat_ch.head(20)"
   ]
  },
  {
   "cell_type": "markdown",
   "id": "c6ee6d69-5540-4f72-9f6e-2ff1f1d76345",
   "metadata": {},
   "source": [
    "### Już teraz widać ze są problemy. Dane się powtarzają ale nie we wszystkich kolumnach. W przypadku  grupy wiekowej all, Number_of_consumers i Number_of_subjects mają takie same liczby ale inne kolumny albo nie maja danych albo maja inne wartośći. Znaczy to, że są tu powielone rzędy i trzeba pozbyć sie tych duplikatów. Wygląda na to, że najlepszym sposobem byłoby zrobienie tego usuwając rzędy w których jest NaN w Consumers_Median i Total_Mean tylko pytanie czy te kolumny są wiarygodne wiec trzeba sprawdzić czy te liczby są prawdziwe \n",
    "### jako że nie ma legendy jak dokładnie są liczone te wartości i co na pewno znaczą samemu spróbuje to zrozumieć, a jeżeli nie będą one dawać poprawnych wyników to zostaną usunięte"
   ]
  },
  {
   "cell_type": "code",
   "execution_count": 1781,
   "id": "91f68651-54e4-4d55-9931-6f36d506bf8a",
   "metadata": {
    "tags": []
   },
   "outputs": [
    {
     "data": {
      "text/plain": [
       "60.623"
      ]
     },
     "execution_count": 1781,
     "metadata": {},
     "output_type": "execute_result"
    }
   ],
   "source": [
    "food_all_oat_ch['Consumers_Mean'].iloc[0] "
   ]
  },
  {
   "cell_type": "code",
   "execution_count": 1782,
   "id": "b38589bf-118e-4cb2-9df8-ce60ba16fdf2",
   "metadata": {},
   "outputs": [
    {
     "data": {
      "text/plain": [
       "1.748473674666022"
      ]
     },
     "execution_count": 1782,
     "metadata": {},
     "output_type": "execute_result"
    }
   ],
   "source": [
    "1157/66172*100 # procent konsumentów z całej puli badanych "
   ]
  },
  {
   "cell_type": "code",
   "execution_count": 1783,
   "id": "4b180f9c-017f-4fc0-b8c5-f3d50033ce4c",
   "metadata": {},
   "outputs": [
    {
     "data": {
      "text/plain": [
       "57.19273984442524"
      ]
     },
     "execution_count": 1783,
     "metadata": {},
     "output_type": "execute_result"
    }
   ],
   "source": [
    "66172/1157 #liczba badanych podzielona przez liczbę konsumentów"
   ]
  },
  {
   "cell_type": "code",
   "execution_count": 1784,
   "id": "c9e5189d-0f63-4c4a-bf2b-3787d6fa44f7",
   "metadata": {},
   "outputs": [
    {
     "data": {
      "text/plain": [
       "57.193707865168534"
      ]
     },
     "execution_count": 1784,
     "metadata": {},
     "output_type": "execute_result"
    }
   ],
   "source": [
    "(1.12+66172)/1157 # połączona liczba badanych podzielona przez liczbę konsumentów"
   ]
  },
  {
   "cell_type": "code",
   "execution_count": 1785,
   "id": "b6172cf9-c889-4d6f-9bfa-410312b47148",
   "metadata": {},
   "outputs": [
    {
     "data": {
      "text/plain": [
       "263.15090000000004"
      ]
     },
     "execution_count": 1785,
     "metadata": {},
     "output_type": "execute_result"
    }
   ],
   "source": [
    "food_all_oat_ch['Consumers_Mean'].iloc[1:7].sum()"
   ]
  },
  {
   "cell_type": "code",
   "execution_count": 1786,
   "id": "81d99ad1-bcfa-4e26-8129-7acaded70edb",
   "metadata": {
    "tags": []
   },
   "outputs": [
    {
     "data": {
      "text/plain": [
       "43.85848333333334"
      ]
     },
     "execution_count": 1786,
     "metadata": {},
     "output_type": "execute_result"
    }
   ],
   "source": [
    "food_all_oat_ch['Consumers_Mean'].iloc[1:7].mean()"
   ]
  },
  {
   "cell_type": "code",
   "execution_count": 1787,
   "id": "f581dfd5-be6e-4d3c-90fb-1b226f72d935",
   "metadata": {
    "tags": []
   },
   "outputs": [
    {
     "data": {
      "text/plain": [
       "330.57142857142856"
      ]
     },
     "execution_count": 1787,
     "metadata": {},
     "output_type": "execute_result"
    }
   ],
   "source": [
    "food_all_oat_ch['Number_of_consumers'].iloc[:7].mean()"
   ]
  },
  {
   "cell_type": "code",
   "execution_count": 1788,
   "id": "d5667afe-4b10-46c7-af46-fd3359d22ff6",
   "metadata": {
    "tags": []
   },
   "outputs": [
    {
     "data": {
      "text/plain": [
       "0.01670516892867456"
      ]
     },
     "execution_count": 1788,
     "metadata": {},
     "output_type": "execute_result"
    }
   ],
   "source": [
    "food_all_oat_ch['Number_of_consumers'].iloc[0]/food_all['Number_of_consumers'].iloc[1:7].sum()"
   ]
  },
  {
   "cell_type": "markdown",
   "id": "6210a471-7f4f-498d-9047-1eadee3c5117",
   "metadata": {},
   "source": [
    "### Żadne obliczenia nie daja takiej wartości jaka jest w kolumnie Consumers_Mean, więc albo są to jakieś inne dane np średnia ilość gramów spożywanego produktu przez ankietowanych albo coś zupełnie innego ale bez odpowiedniej wiedzy nie można tego założyć. Znaczy to ze trzeba sie pozbyć tych kolumn, gdyż nawet gdyby pomocne, mogą one zawierać fałsyzwe wartości \n",
    "### Uswam więc: Consumers_Mean, Consumers_Median, Total_Mean, Total_Median i dodatkowo CodeLen które i tak już nie będzie użyteczne dla mnie"
   ]
  },
  {
   "cell_type": "code",
   "execution_count": 1789,
   "id": "4b9ea1a1-f93b-4463-b529-db7f8236c756",
   "metadata": {
    "tags": []
   },
   "outputs": [
    {
     "data": {
      "text/plain": [
       "(522652, 14)"
      ]
     },
     "execution_count": 1789,
     "metadata": {},
     "output_type": "execute_result"
    }
   ],
   "source": [
    "food.shape"
   ]
  },
  {
   "cell_type": "code",
   "execution_count": 1790,
   "id": "5d1b9b76-37ec-4201-b722-8bc78cb63584",
   "metadata": {},
   "outputs": [
    {
     "data": {
      "text/plain": [
       "(522652, 9)"
      ]
     },
     "execution_count": 1790,
     "metadata": {},
     "output_type": "execute_result"
    }
   ],
   "source": [
    "food = food.drop(['Consumers_Mean', 'Consumers_Median', 'Total_Mean', 'Total_Median', 'CodeLen'], axis=1)\n",
    "food.shape"
   ]
  },
  {
   "cell_type": "code",
   "execution_count": 1791,
   "id": "ea8958d9-9883-4d89-8d5f-b268ee9d89f0",
   "metadata": {},
   "outputs": [
    {
     "data": {
      "text/html": [
       "<div>\n",
       "<style scoped>\n",
       "    .dataframe tbody tr th:only-of-type {\n",
       "        vertical-align: middle;\n",
       "    }\n",
       "\n",
       "    .dataframe tbody tr th {\n",
       "        vertical-align: top;\n",
       "    }\n",
       "\n",
       "    .dataframe thead th {\n",
       "        text-align: right;\n",
       "    }\n",
       "</style>\n",
       "<table border=\"1\" class=\"dataframe\">\n",
       "  <thead>\n",
       "    <tr style=\"text-align: right;\">\n",
       "      <th></th>\n",
       "      <th>Country</th>\n",
       "      <th>Year</th>\n",
       "      <th>FoodCode</th>\n",
       "      <th>FoodName</th>\n",
       "      <th>AgeClass</th>\n",
       "      <th>SourceAgeClass</th>\n",
       "      <th>Gender</th>\n",
       "      <th>Number_of_consumers</th>\n",
       "      <th>Number_of_subjects</th>\n",
       "    </tr>\n",
       "  </thead>\n",
       "  <tbody>\n",
       "    <tr>\n",
       "      <th>0</th>\n",
       "      <td>China</td>\n",
       "      <td>2002</td>\n",
       "      <td>A000G</td>\n",
       "      <td>Oat grain</td>\n",
       "      <td>All</td>\n",
       "      <td>All</td>\n",
       "      <td>All</td>\n",
       "      <td>1157</td>\n",
       "      <td>66172</td>\n",
       "    </tr>\n",
       "    <tr>\n",
       "      <th>1</th>\n",
       "      <td>China</td>\n",
       "      <td>2002</td>\n",
       "      <td>A000G</td>\n",
       "      <td>Oat grain</td>\n",
       "      <td>All</td>\n",
       "      <td>All</td>\n",
       "      <td>female</td>\n",
       "      <td>608</td>\n",
       "      <td>33953</td>\n",
       "    </tr>\n",
       "    <tr>\n",
       "      <th>2</th>\n",
       "      <td>China</td>\n",
       "      <td>2002</td>\n",
       "      <td>A000G</td>\n",
       "      <td>Oat grain</td>\n",
       "      <td>All</td>\n",
       "      <td>All</td>\n",
       "      <td>male</td>\n",
       "      <td>549</td>\n",
       "      <td>32219</td>\n",
       "    </tr>\n",
       "    <tr>\n",
       "      <th>3</th>\n",
       "      <td>China</td>\n",
       "      <td>2002</td>\n",
       "      <td>A000N</td>\n",
       "      <td>Buckwheat</td>\n",
       "      <td>All</td>\n",
       "      <td>All</td>\n",
       "      <td>All</td>\n",
       "      <td>167</td>\n",
       "      <td>66172</td>\n",
       "    </tr>\n",
       "    <tr>\n",
       "      <th>4</th>\n",
       "      <td>China</td>\n",
       "      <td>2002</td>\n",
       "      <td>A000N</td>\n",
       "      <td>Buckwheat</td>\n",
       "      <td>All</td>\n",
       "      <td>All</td>\n",
       "      <td>female</td>\n",
       "      <td>82</td>\n",
       "      <td>33953</td>\n",
       "    </tr>\n",
       "    <tr>\n",
       "      <th>...</th>\n",
       "      <td>...</td>\n",
       "      <td>...</td>\n",
       "      <td>...</td>\n",
       "      <td>...</td>\n",
       "      <td>...</td>\n",
       "      <td>...</td>\n",
       "      <td>...</td>\n",
       "      <td>...</td>\n",
       "      <td>...</td>\n",
       "    </tr>\n",
       "    <tr>\n",
       "      <th>544675</th>\n",
       "      <td>Republic of Korea</td>\n",
       "      <td>2015</td>\n",
       "      <td>A16MR</td>\n",
       "      <td>Juice concentrate, pineapple</td>\n",
       "      <td>Adults and Elderly</td>\n",
       "      <td>15-49 years</td>\n",
       "      <td>male</td>\n",
       "      <td>1</td>\n",
       "      <td>3518</td>\n",
       "    </tr>\n",
       "    <tr>\n",
       "      <th>544679</th>\n",
       "      <td>Republic of Korea</td>\n",
       "      <td>2015</td>\n",
       "      <td>A16MR</td>\n",
       "      <td>Juice concentrate, pineapple</td>\n",
       "      <td>All</td>\n",
       "      <td>All</td>\n",
       "      <td>male</td>\n",
       "      <td>1</td>\n",
       "      <td>9114</td>\n",
       "    </tr>\n",
       "    <tr>\n",
       "      <th>544680</th>\n",
       "      <td>Republic of Korea</td>\n",
       "      <td>2015</td>\n",
       "      <td>A16MR</td>\n",
       "      <td>Juice concentrate, pineapple</td>\n",
       "      <td>All</td>\n",
       "      <td>All</td>\n",
       "      <td>female</td>\n",
       "      <td>2</td>\n",
       "      <td>11557</td>\n",
       "    </tr>\n",
       "    <tr>\n",
       "      <th>544684</th>\n",
       "      <td>Republic of Korea</td>\n",
       "      <td>2015</td>\n",
       "      <td>A16MR</td>\n",
       "      <td>Juice concentrate, pineapple</td>\n",
       "      <td>Adults and Elderly</td>\n",
       "      <td>15-49 years</td>\n",
       "      <td>All</td>\n",
       "      <td>1</td>\n",
       "      <td>8253</td>\n",
       "    </tr>\n",
       "    <tr>\n",
       "      <th>544685</th>\n",
       "      <td>Republic of Korea</td>\n",
       "      <td>2015</td>\n",
       "      <td>A16MR</td>\n",
       "      <td>Juice concentrate, pineapple</td>\n",
       "      <td>Adults and Elderly</td>\n",
       "      <td>50-74 years</td>\n",
       "      <td>All</td>\n",
       "      <td>2</td>\n",
       "      <td>7069</td>\n",
       "    </tr>\n",
       "  </tbody>\n",
       "</table>\n",
       "<p>522652 rows × 9 columns</p>\n",
       "</div>"
      ],
      "text/plain": [
       "                  Country  Year FoodCode                      FoodName  \\\n",
       "0                   China  2002    A000G                     Oat grain   \n",
       "1                   China  2002    A000G                     Oat grain   \n",
       "2                   China  2002    A000G                     Oat grain   \n",
       "3                   China  2002    A000N                     Buckwheat   \n",
       "4                   China  2002    A000N                     Buckwheat   \n",
       "...                   ...   ...      ...                           ...   \n",
       "544675  Republic of Korea  2015    A16MR  Juice concentrate, pineapple   \n",
       "544679  Republic of Korea  2015    A16MR  Juice concentrate, pineapple   \n",
       "544680  Republic of Korea  2015    A16MR  Juice concentrate, pineapple   \n",
       "544684  Republic of Korea  2015    A16MR  Juice concentrate, pineapple   \n",
       "544685  Republic of Korea  2015    A16MR  Juice concentrate, pineapple   \n",
       "\n",
       "                  AgeClass SourceAgeClass  Gender  Number_of_consumers  \\\n",
       "0                      All            All     All                 1157   \n",
       "1                      All            All  female                  608   \n",
       "2                      All            All    male                  549   \n",
       "3                      All            All     All                  167   \n",
       "4                      All            All  female                   82   \n",
       "...                    ...            ...     ...                  ...   \n",
       "544675  Adults and Elderly    15-49 years    male                    1   \n",
       "544679                 All            All    male                    1   \n",
       "544680                 All            All  female                    2   \n",
       "544684  Adults and Elderly    15-49 years     All                    1   \n",
       "544685  Adults and Elderly    50-74 years     All                    2   \n",
       "\n",
       "        Number_of_subjects  \n",
       "0                    66172  \n",
       "1                    33953  \n",
       "2                    32219  \n",
       "3                    66172  \n",
       "4                    33953  \n",
       "...                    ...  \n",
       "544675                3518  \n",
       "544679                9114  \n",
       "544680               11557  \n",
       "544684                8253  \n",
       "544685                7069  \n",
       "\n",
       "[522652 rows x 9 columns]"
      ]
     },
     "execution_count": 1791,
     "metadata": {},
     "output_type": "execute_result"
    }
   ],
   "source": [
    "food"
   ]
  },
  {
   "cell_type": "markdown",
   "id": "fc1a1a22-ee98-4594-8788-38b8d424f605",
   "metadata": {},
   "source": [
    "### Wszystko poszło dobrze, pozbyliśmy sie 5 kolumn, wiec teraz czas na usuwanie duplikatów, zrobie to za pomocą drop.duplicates po prostu, powinno to teraz pozbyć sie rzędów w których sa te same dane, ponieważ już nic innego nie powinno powodować tu błędów.food.shape"
   ]
  },
  {
   "cell_type": "code",
   "execution_count": 1792,
   "id": "49d84581-8b63-4650-858d-8cc31ad68e15",
   "metadata": {
    "tags": []
   },
   "outputs": [
    {
     "data": {
      "text/plain": [
       "(522652, 9)"
      ]
     },
     "execution_count": 1792,
     "metadata": {},
     "output_type": "execute_result"
    }
   ],
   "source": [
    "food.shape"
   ]
  },
  {
   "cell_type": "code",
   "execution_count": 1793,
   "id": "cfed29d7-f135-4801-84c3-5f23eb1ddb36",
   "metadata": {
    "tags": []
   },
   "outputs": [
    {
     "data": {
      "text/plain": [
       "(272016, 9)"
      ]
     },
     "execution_count": 1793,
     "metadata": {},
     "output_type": "execute_result"
    }
   ],
   "source": [
    "food = food.drop_duplicates()\n",
    "food.shape"
   ]
  },
  {
   "cell_type": "code",
   "execution_count": 1794,
   "id": "5b99cbd0-aaa8-43c6-a026-918b154fed5d",
   "metadata": {
    "tags": []
   },
   "outputs": [
    {
     "data": {
      "text/plain": [
       "272016"
      ]
     },
     "execution_count": 1794,
     "metadata": {},
     "output_type": "execute_result"
    }
   ],
   "source": [
    "544032-272016\n"
   ]
  },
  {
   "cell_type": "markdown",
   "id": "3a6ac818-2040-4dbc-8c01-14d764e0ca26",
   "metadata": {},
   "source": [
    "### Z tego co widać dane były podwojone, jest to bardzo duża ilość, wiec bardzo dobrze, że to zostało zauważone, bo inaczej mogło by zakłamać wynik analizy.\n",
    "### Teraz można sprawdzić czy suma szystkich grup, daje taki sam wynik jak dla grupy wiekowej all."
   ]
  },
  {
   "cell_type": "code",
   "execution_count": 1795,
   "id": "18d3caeb-007f-4c9e-b03e-bacf6ff1ee1e",
   "metadata": {
    "tags": []
   },
   "outputs": [
    {
     "data": {
      "text/html": [
       "<div>\n",
       "<style scoped>\n",
       "    .dataframe tbody tr th:only-of-type {\n",
       "        vertical-align: middle;\n",
       "    }\n",
       "\n",
       "    .dataframe tbody tr th {\n",
       "        vertical-align: top;\n",
       "    }\n",
       "\n",
       "    .dataframe thead th {\n",
       "        text-align: right;\n",
       "    }\n",
       "</style>\n",
       "<table border=\"1\" class=\"dataframe\">\n",
       "  <thead>\n",
       "    <tr style=\"text-align: right;\">\n",
       "      <th></th>\n",
       "      <th>Country</th>\n",
       "      <th>Year</th>\n",
       "      <th>FoodCode</th>\n",
       "      <th>FoodName</th>\n",
       "      <th>AgeClass</th>\n",
       "      <th>SourceAgeClass</th>\n",
       "      <th>Gender</th>\n",
       "      <th>Number_of_consumers</th>\n",
       "      <th>Number_of_subjects</th>\n",
       "    </tr>\n",
       "  </thead>\n",
       "  <tbody>\n",
       "    <tr>\n",
       "      <th>0</th>\n",
       "      <td>China</td>\n",
       "      <td>2002</td>\n",
       "      <td>A000G</td>\n",
       "      <td>Oat grain</td>\n",
       "      <td>All</td>\n",
       "      <td>All</td>\n",
       "      <td>All</td>\n",
       "      <td>1157</td>\n",
       "      <td>66172</td>\n",
       "    </tr>\n",
       "    <tr>\n",
       "      <th>812</th>\n",
       "      <td>China</td>\n",
       "      <td>2002</td>\n",
       "      <td>A000G</td>\n",
       "      <td>Oat grain</td>\n",
       "      <td>Infants and Toddlers</td>\n",
       "      <td>0-35 months</td>\n",
       "      <td>All</td>\n",
       "      <td>10</td>\n",
       "      <td>838</td>\n",
       "    </tr>\n",
       "    <tr>\n",
       "      <th>1251</th>\n",
       "      <td>China</td>\n",
       "      <td>2002</td>\n",
       "      <td>A000G</td>\n",
       "      <td>Oat grain</td>\n",
       "      <td>Children and Adolescents</td>\n",
       "      <td>3-5 years</td>\n",
       "      <td>All</td>\n",
       "      <td>20</td>\n",
       "      <td>2235</td>\n",
       "    </tr>\n",
       "    <tr>\n",
       "      <th>1782</th>\n",
       "      <td>China</td>\n",
       "      <td>2002</td>\n",
       "      <td>A000G</td>\n",
       "      <td>Oat grain</td>\n",
       "      <td>Children and Adolescents</td>\n",
       "      <td>6-14 years</td>\n",
       "      <td>All</td>\n",
       "      <td>107</td>\n",
       "      <td>9844</td>\n",
       "    </tr>\n",
       "    <tr>\n",
       "      <th>2487</th>\n",
       "      <td>China</td>\n",
       "      <td>2002</td>\n",
       "      <td>A000G</td>\n",
       "      <td>Oat grain</td>\n",
       "      <td>Adults and Elderly</td>\n",
       "      <td>15-49 years</td>\n",
       "      <td>All</td>\n",
       "      <td>545</td>\n",
       "      <td>33719</td>\n",
       "    </tr>\n",
       "    <tr>\n",
       "      <th>3267</th>\n",
       "      <td>China</td>\n",
       "      <td>2002</td>\n",
       "      <td>A000G</td>\n",
       "      <td>Oat grain</td>\n",
       "      <td>Adults and Elderly</td>\n",
       "      <td>50-74 years</td>\n",
       "      <td>All</td>\n",
       "      <td>438</td>\n",
       "      <td>18143</td>\n",
       "    </tr>\n",
       "    <tr>\n",
       "      <th>4020</th>\n",
       "      <td>China</td>\n",
       "      <td>2002</td>\n",
       "      <td>A000G</td>\n",
       "      <td>Oat grain</td>\n",
       "      <td>Adults and Elderly</td>\n",
       "      <td>&gt;75 years</td>\n",
       "      <td>All</td>\n",
       "      <td>37</td>\n",
       "      <td>1393</td>\n",
       "    </tr>\n",
       "  </tbody>\n",
       "</table>\n",
       "</div>"
      ],
      "text/plain": [
       "     Country  Year FoodCode   FoodName                  AgeClass  \\\n",
       "0      China  2002    A000G  Oat grain                       All   \n",
       "812    China  2002    A000G  Oat grain      Infants and Toddlers   \n",
       "1251   China  2002    A000G  Oat grain  Children and Adolescents   \n",
       "1782   China  2002    A000G  Oat grain  Children and Adolescents   \n",
       "2487   China  2002    A000G  Oat grain        Adults and Elderly   \n",
       "3267   China  2002    A000G  Oat grain        Adults and Elderly   \n",
       "4020   China  2002    A000G  Oat grain        Adults and Elderly   \n",
       "\n",
       "     SourceAgeClass Gender  Number_of_consumers  Number_of_subjects  \n",
       "0               All    All                 1157               66172  \n",
       "812     0-35 months    All                   10                 838  \n",
       "1251      3-5 years    All                   20                2235  \n",
       "1782     6-14 years    All                  107                9844  \n",
       "2487    15-49 years    All                  545               33719  \n",
       "3267    50-74 years    All                  438               18143  \n",
       "4020      >75 years    All                   37                1393  "
      ]
     },
     "execution_count": 1795,
     "metadata": {},
     "output_type": "execute_result"
    }
   ],
   "source": [
    "food_all = food.loc[food['Gender'] == \"All\"]\n",
    "food_all_oat = food_all.loc[food_all['FoodName'] == \"Oat grain\"]\n",
    "food_all_oat_ch = food_all_oat.loc[food_all_oat['Country'] == \"China\"]\n",
    "food_all_oat_ch.head(10)"
   ]
  },
  {
   "cell_type": "code",
   "execution_count": 1796,
   "id": "d95f00ff-0698-4740-aa3e-bc45718900f0",
   "metadata": {
    "tags": []
   },
   "outputs": [
    {
     "data": {
      "text/plain": [
       "1157"
      ]
     },
     "execution_count": 1796,
     "metadata": {},
     "output_type": "execute_result"
    }
   ],
   "source": [
    "food_all_oat_ch['Number_of_consumers'].iloc[1:].sum()"
   ]
  },
  {
   "cell_type": "code",
   "execution_count": 1797,
   "id": "8e30afc8-66da-4406-b2f1-1093c16f36ef",
   "metadata": {
    "tags": []
   },
   "outputs": [
    {
     "data": {
      "text/plain": [
       "1157"
      ]
     },
     "execution_count": 1797,
     "metadata": {},
     "output_type": "execute_result"
    }
   ],
   "source": [
    "food_all_oat_ch['Number_of_consumers'].iloc[0]"
   ]
  },
  {
   "cell_type": "markdown",
   "id": "64abc07e-82c1-48dc-ae04-b67598d61032",
   "metadata": {},
   "source": [
    "### Wychodzi na to że wszystko sie zgadza, wiec czyszczenie danych sie powiodło, także czas na grupowanie i wizualizacje\n",
    "### Tworzymy dataframes dla all, kobiet i mężczyzn, ale najpierw sprawdzam jak wyglądają dane w kolumnie gender"
   ]
  },
  {
   "cell_type": "code",
   "execution_count": 1798,
   "id": "9a46c036-062d-4eee-8199-3221cb25ae70",
   "metadata": {
    "tags": []
   },
   "outputs": [
    {
     "data": {
      "text/plain": [
       "array(['All', 'female', 'male', 'Female', 'Male'], dtype=object)"
      ]
     },
     "execution_count": 1798,
     "metadata": {},
     "output_type": "execute_result"
    }
   ],
   "source": [
    "food['Gender'].unique()"
   ]
  },
  {
   "cell_type": "markdown",
   "id": "d561c469-63a4-4158-816f-67f6cf94df89",
   "metadata": {
    "tags": []
   },
   "source": [
    "### jak widać dobrze, że sprawdziłem bo są tutaj dwie wersje Male i Female. Oznacza to, że muszę ujednolicić te dane i dla bezpieczeństwa nie tylko w kolumnie gender"
   ]
  },
  {
   "cell_type": "code",
   "execution_count": 1799,
   "id": "e19f5e56-7a88-4c20-8839-3eee53f6f108",
   "metadata": {
    "tags": []
   },
   "outputs": [],
   "source": [
    "# zrobie tak bo po tylko 3 kolumny zmieniam\n",
    "food['Gender'] = food['Gender'].str.title()\n",
    "food['FoodName'] = food['FoodName'].str.title()\n",
    "food['Country'] = food['Country'].str.title()"
   ]
  },
  {
   "cell_type": "code",
   "execution_count": 1800,
   "id": "d18af811-fa00-496e-8df1-cd38545d7aa0",
   "metadata": {
    "tags": []
   },
   "outputs": [
    {
     "data": {
      "text/plain": [
       "array(['All', 'Female', 'Male'], dtype=object)"
      ]
     },
     "execution_count": 1800,
     "metadata": {},
     "output_type": "execute_result"
    }
   ],
   "source": [
    "food['Gender'].unique()"
   ]
  },
  {
   "cell_type": "code",
   "execution_count": 1801,
   "id": "a01beb95-d316-44c9-b757-a5a30dc9804d",
   "metadata": {
    "tags": []
   },
   "outputs": [],
   "source": [
    "food_all = food.loc[food['Gender'] == \"All\"]\n",
    "food_fem = food.loc[food['Gender'] == \"Female\"]\n",
    "food_men = food.loc[food['Gender'] == \"Male\"]"
   ]
  },
  {
   "cell_type": "markdown",
   "id": "65c12da8-fcff-4637-a745-4a39031b618f",
   "metadata": {},
   "source": [
    "### Zrobię też od razu rodzielenie na wszystkie grupy wiekowe"
   ]
  },
  {
   "cell_type": "code",
   "execution_count": 1802,
   "id": "c186fc10-6c81-4d7c-aa72-4b8e7d0057cb",
   "metadata": {
    "tags": []
   },
   "outputs": [
    {
     "data": {
      "text/html": [
       "<div>\n",
       "<style scoped>\n",
       "    .dataframe tbody tr th:only-of-type {\n",
       "        vertical-align: middle;\n",
       "    }\n",
       "\n",
       "    .dataframe tbody tr th {\n",
       "        vertical-align: top;\n",
       "    }\n",
       "\n",
       "    .dataframe thead th {\n",
       "        text-align: right;\n",
       "    }\n",
       "</style>\n",
       "<table border=\"1\" class=\"dataframe\">\n",
       "  <thead>\n",
       "    <tr style=\"text-align: right;\">\n",
       "      <th></th>\n",
       "      <th>Country</th>\n",
       "      <th>Year</th>\n",
       "      <th>FoodCode</th>\n",
       "      <th>FoodName</th>\n",
       "      <th>AgeClass</th>\n",
       "      <th>SourceAgeClass</th>\n",
       "      <th>Gender</th>\n",
       "      <th>Number_of_consumers</th>\n",
       "      <th>Number_of_subjects</th>\n",
       "    </tr>\n",
       "  </thead>\n",
       "  <tbody>\n",
       "    <tr>\n",
       "      <th>0</th>\n",
       "      <td>China</td>\n",
       "      <td>2002</td>\n",
       "      <td>A000G</td>\n",
       "      <td>Oat Grain</td>\n",
       "      <td>All</td>\n",
       "      <td>All</td>\n",
       "      <td>All</td>\n",
       "      <td>1157</td>\n",
       "      <td>66172</td>\n",
       "    </tr>\n",
       "    <tr>\n",
       "      <th>3</th>\n",
       "      <td>China</td>\n",
       "      <td>2002</td>\n",
       "      <td>A000N</td>\n",
       "      <td>Buckwheat</td>\n",
       "      <td>All</td>\n",
       "      <td>All</td>\n",
       "      <td>All</td>\n",
       "      <td>167</td>\n",
       "      <td>66172</td>\n",
       "    </tr>\n",
       "    <tr>\n",
       "      <th>6</th>\n",
       "      <td>China</td>\n",
       "      <td>2002</td>\n",
       "      <td>A000P</td>\n",
       "      <td>Barley Grains</td>\n",
       "      <td>All</td>\n",
       "      <td>All</td>\n",
       "      <td>All</td>\n",
       "      <td>61</td>\n",
       "      <td>66172</td>\n",
       "    </tr>\n",
       "    <tr>\n",
       "      <th>9</th>\n",
       "      <td>China</td>\n",
       "      <td>2002</td>\n",
       "      <td>A000T</td>\n",
       "      <td>Maize Grain</td>\n",
       "      <td>All</td>\n",
       "      <td>All</td>\n",
       "      <td>All</td>\n",
       "      <td>2422</td>\n",
       "      <td>66172</td>\n",
       "    </tr>\n",
       "    <tr>\n",
       "      <th>12</th>\n",
       "      <td>China</td>\n",
       "      <td>2002</td>\n",
       "      <td>A001B</td>\n",
       "      <td>Common Millet Grain</td>\n",
       "      <td>All</td>\n",
       "      <td>All</td>\n",
       "      <td>All</td>\n",
       "      <td>9069</td>\n",
       "      <td>66172</td>\n",
       "    </tr>\n",
       "  </tbody>\n",
       "</table>\n",
       "</div>"
      ],
      "text/plain": [
       "   Country  Year FoodCode             FoodName AgeClass SourceAgeClass Gender  \\\n",
       "0    China  2002    A000G            Oat Grain      All            All    All   \n",
       "3    China  2002    A000N            Buckwheat      All            All    All   \n",
       "6    China  2002    A000P        Barley Grains      All            All    All   \n",
       "9    China  2002    A000T          Maize Grain      All            All    All   \n",
       "12   China  2002    A001B  Common Millet Grain      All            All    All   \n",
       "\n",
       "    Number_of_consumers  Number_of_subjects  \n",
       "0                  1157               66172  \n",
       "3                   167               66172  \n",
       "6                    61               66172  \n",
       "9                  2422               66172  \n",
       "12                 9069               66172  "
      ]
     },
     "execution_count": 1802,
     "metadata": {},
     "output_type": "execute_result"
    }
   ],
   "source": [
    "food_all_all = food_all.loc[food_all['AgeClass'] == \"All\"]\n",
    "food_fem_all = food_fem.loc[food_fem['AgeClass'] == \"All\"]\n",
    "food_men_all = food_men.loc[food_men['AgeClass'] == \"All\"]\n",
    "food_all_all.head()"
   ]
  },
  {
   "cell_type": "code",
   "execution_count": 1803,
   "id": "278be4b9-d460-4bc7-b297-63acb388cdad",
   "metadata": {},
   "outputs": [
    {
     "data": {
      "text/html": [
       "<div>\n",
       "<style scoped>\n",
       "    .dataframe tbody tr th:only-of-type {\n",
       "        vertical-align: middle;\n",
       "    }\n",
       "\n",
       "    .dataframe tbody tr th {\n",
       "        vertical-align: top;\n",
       "    }\n",
       "\n",
       "    .dataframe thead th {\n",
       "        text-align: right;\n",
       "    }\n",
       "</style>\n",
       "<table border=\"1\" class=\"dataframe\">\n",
       "  <thead>\n",
       "    <tr style=\"text-align: right;\">\n",
       "      <th></th>\n",
       "      <th>Country</th>\n",
       "      <th>Year</th>\n",
       "      <th>FoodCode</th>\n",
       "      <th>FoodName</th>\n",
       "      <th>AgeClass</th>\n",
       "      <th>SourceAgeClass</th>\n",
       "      <th>Gender</th>\n",
       "      <th>Number_of_consumers</th>\n",
       "      <th>Number_of_subjects</th>\n",
       "    </tr>\n",
       "  </thead>\n",
       "  <tbody>\n",
       "    <tr>\n",
       "      <th>1</th>\n",
       "      <td>China</td>\n",
       "      <td>2002</td>\n",
       "      <td>A000G</td>\n",
       "      <td>Oat Grain</td>\n",
       "      <td>All</td>\n",
       "      <td>All</td>\n",
       "      <td>Female</td>\n",
       "      <td>608</td>\n",
       "      <td>33953</td>\n",
       "    </tr>\n",
       "    <tr>\n",
       "      <th>4</th>\n",
       "      <td>China</td>\n",
       "      <td>2002</td>\n",
       "      <td>A000N</td>\n",
       "      <td>Buckwheat</td>\n",
       "      <td>All</td>\n",
       "      <td>All</td>\n",
       "      <td>Female</td>\n",
       "      <td>82</td>\n",
       "      <td>33953</td>\n",
       "    </tr>\n",
       "    <tr>\n",
       "      <th>7</th>\n",
       "      <td>China</td>\n",
       "      <td>2002</td>\n",
       "      <td>A000P</td>\n",
       "      <td>Barley Grains</td>\n",
       "      <td>All</td>\n",
       "      <td>All</td>\n",
       "      <td>Female</td>\n",
       "      <td>28</td>\n",
       "      <td>33953</td>\n",
       "    </tr>\n",
       "    <tr>\n",
       "      <th>10</th>\n",
       "      <td>China</td>\n",
       "      <td>2002</td>\n",
       "      <td>A000T</td>\n",
       "      <td>Maize Grain</td>\n",
       "      <td>All</td>\n",
       "      <td>All</td>\n",
       "      <td>Female</td>\n",
       "      <td>1355</td>\n",
       "      <td>33953</td>\n",
       "    </tr>\n",
       "    <tr>\n",
       "      <th>13</th>\n",
       "      <td>China</td>\n",
       "      <td>2002</td>\n",
       "      <td>A001B</td>\n",
       "      <td>Common Millet Grain</td>\n",
       "      <td>All</td>\n",
       "      <td>All</td>\n",
       "      <td>Female</td>\n",
       "      <td>4740</td>\n",
       "      <td>33953</td>\n",
       "    </tr>\n",
       "  </tbody>\n",
       "</table>\n",
       "</div>"
      ],
      "text/plain": [
       "   Country  Year FoodCode             FoodName AgeClass SourceAgeClass  \\\n",
       "1    China  2002    A000G            Oat Grain      All            All   \n",
       "4    China  2002    A000N            Buckwheat      All            All   \n",
       "7    China  2002    A000P        Barley Grains      All            All   \n",
       "10   China  2002    A000T          Maize Grain      All            All   \n",
       "13   China  2002    A001B  Common Millet Grain      All            All   \n",
       "\n",
       "    Gender  Number_of_consumers  Number_of_subjects  \n",
       "1   Female                  608               33953  \n",
       "4   Female                   82               33953  \n",
       "7   Female                   28               33953  \n",
       "10  Female                 1355               33953  \n",
       "13  Female                 4740               33953  "
      ]
     },
     "execution_count": 1803,
     "metadata": {},
     "output_type": "execute_result"
    }
   ],
   "source": [
    "food_fem_all.head(5)"
   ]
  },
  {
   "cell_type": "markdown",
   "id": "a13b9cf3-d994-454b-8642-9c0ee97c97c1",
   "metadata": {},
   "source": [
    "### Wszystko wygląda dobrze wiec zajmę sie teraz sprawdzeniem z jakich krajów dane głownie były zbierane "
   ]
  },
  {
   "cell_type": "code",
   "execution_count": 1804,
   "id": "71d0dc04-4985-47af-8d43-ebcc4b68ecf8",
   "metadata": {
    "tags": []
   },
   "outputs": [
    {
     "data": {
      "text/plain": [
       "array(['China', 'Republic Of Korea', 'United States Of America', 'Brazil',\n",
       "       'Italy', \"Lao People'S Democratic Republic\", 'Mexico',\n",
       "       'Mozambique', 'Malaysia', 'Nigeria', 'Pakistan', 'Philippines',\n",
       "       'Burkina Faso', 'Bangladesh', 'Romania', 'Bulgaria', 'Uganda',\n",
       "       'Bolivia (Plurinational State Of)', 'Zambia',\n",
       "       'Democratic Republic Of The Congo', 'Ethiopia', 'Guatemala',\n",
       "       'India'], dtype=object)"
      ]
     },
     "execution_count": 1804,
     "metadata": {},
     "output_type": "execute_result"
    }
   ],
   "source": [
    "food_all_all['Country'].unique()"
   ]
  },
  {
   "cell_type": "code",
   "execution_count": 1805,
   "id": "77c77023-0f70-473b-b651-1092281c43a1",
   "metadata": {
    "tags": []
   },
   "outputs": [
    {
     "data": {
      "text/plain": [
       "23"
      ]
     },
     "execution_count": 1805,
     "metadata": {},
     "output_type": "execute_result"
    }
   ],
   "source": [
    "food_all_all['Country'].nunique()"
   ]
  },
  {
   "cell_type": "code",
   "execution_count": 1806,
   "id": "47b4e86a-1f43-4040-a340-5e4f72d9759f",
   "metadata": {
    "tags": []
   },
   "outputs": [
    {
     "data": {
      "text/plain": [
       "array(['China', 'Republic Of Korea', 'Cyprus', 'Czech Republic',\n",
       "       'Denmark', 'Finland', 'France', 'Greece', 'Hungary', 'Ireland',\n",
       "       'Latvia', 'Netherlands', 'Portugal', 'Romania', 'Slovenia',\n",
       "       'Spain', 'Sweden', 'United Kingdom', 'Austria', 'Belgium',\n",
       "       'Bulgaria', 'Croatia', 'United States Of America', 'Brazil',\n",
       "       'Italy', \"Lao People'S Democratic Republic\", 'Mexico',\n",
       "       'Mozambique', 'Malaysia', 'Nigeria', 'Pakistan', 'Philippines',\n",
       "       'Burkina Faso', 'Bangladesh', 'Uganda',\n",
       "       'Bolivia (Plurinational State Of)', 'Zambia',\n",
       "       'Democratic Republic Of The Congo', 'Ethiopia', 'Guatemala',\n",
       "       'India'], dtype=object)"
      ]
     },
     "execution_count": 1806,
     "metadata": {},
     "output_type": "execute_result"
    }
   ],
   "source": [
    "food['Country'].unique()"
   ]
  },
  {
   "cell_type": "code",
   "execution_count": 1807,
   "id": "0fe6612a-02c3-4196-a687-43afb314a8ff",
   "metadata": {
    "tags": []
   },
   "outputs": [
    {
     "data": {
      "text/plain": [
       "41"
      ]
     },
     "execution_count": 1807,
     "metadata": {},
     "output_type": "execute_result"
    }
   ],
   "source": [
    "food['Country'].nunique()"
   ]
  },
  {
   "cell_type": "code",
   "execution_count": 1808,
   "id": "f7b2ad72-fd6a-4a93-bfd1-8389c57afd11",
   "metadata": {
    "tags": []
   },
   "outputs": [
    {
     "data": {
      "text/plain": [
       "23"
      ]
     },
     "execution_count": 1808,
     "metadata": {},
     "output_type": "execute_result"
    }
   ],
   "source": [
    "food_fem_all['Country'].nunique()"
   ]
  },
  {
   "cell_type": "code",
   "execution_count": 1809,
   "id": "461a8b62-5543-4bf5-900e-dd31484d0457",
   "metadata": {
    "tags": []
   },
   "outputs": [
    {
     "data": {
      "text/plain": [
       "14"
      ]
     },
     "execution_count": 1809,
     "metadata": {},
     "output_type": "execute_result"
    }
   ],
   "source": [
    "food_men_all['Country'].nunique()"
   ]
  },
  {
   "cell_type": "markdown",
   "id": "e8e48260-9e9b-455c-9166-0a4e17a35ea7",
   "metadata": {},
   "source": [
    "### Podczas sprawdzania z jakich krajów pochodzą dane zauważyłem, że nie zgadzają sie tu liczby krajów. W food były 41 ale już w food_all_all tylko 23 czyli brakuje tu 18 krajów"
   ]
  },
  {
   "cell_type": "code",
   "execution_count": 1810,
   "id": "1f3c15e9-cb6e-4d80-94c9-4e3d075e4e52",
   "metadata": {
    "tags": []
   },
   "outputs": [
    {
     "data": {
      "text/html": [
       "<div>\n",
       "<style scoped>\n",
       "    .dataframe tbody tr th:only-of-type {\n",
       "        vertical-align: middle;\n",
       "    }\n",
       "\n",
       "    .dataframe tbody tr th {\n",
       "        vertical-align: top;\n",
       "    }\n",
       "\n",
       "    .dataframe thead th {\n",
       "        text-align: right;\n",
       "    }\n",
       "</style>\n",
       "<table border=\"1\" class=\"dataframe\">\n",
       "  <thead>\n",
       "    <tr style=\"text-align: right;\">\n",
       "      <th></th>\n",
       "      <th>Country</th>\n",
       "      <th>Year</th>\n",
       "      <th>FoodCode</th>\n",
       "      <th>FoodName</th>\n",
       "      <th>AgeClass</th>\n",
       "      <th>SourceAgeClass</th>\n",
       "      <th>Gender</th>\n",
       "      <th>Number_of_consumers</th>\n",
       "      <th>Number_of_subjects</th>\n",
       "    </tr>\n",
       "  </thead>\n",
       "  <tbody>\n",
       "  </tbody>\n",
       "</table>\n",
       "</div>"
      ],
      "text/plain": [
       "Empty DataFrame\n",
       "Columns: [Country, Year, FoodCode, FoodName, AgeClass, SourceAgeClass, Gender, Number_of_consumers, Number_of_subjects]\n",
       "Index: []"
      ]
     },
     "execution_count": 1810,
     "metadata": {},
     "output_type": "execute_result"
    }
   ],
   "source": [
    "null_data = food[food.isnull().any(axis=1)]\n",
    "null_data.tail()"
   ]
  },
  {
   "cell_type": "markdown",
   "id": "c7834591-94a5-43bb-b43b-ab7cf2bb066e",
   "metadata": {},
   "source": [
    "### Ale nie nie ma tu żadnych pustych danych, więc problem musi być z filtrowaniem, że nie wszystkie kraje mają AgeClass all oraz zebranie obydwu płci jako all. Dla przykładu sprawdzam Francje, której nie ma w food_all_all, a jest w food"
   ]
  },
  {
   "cell_type": "code",
   "execution_count": 1811,
   "id": "c89706a6-a784-4630-be0d-a0fd2ceec151",
   "metadata": {
    "tags": []
   },
   "outputs": [
    {
     "data": {
      "text/html": [
       "<div>\n",
       "<style scoped>\n",
       "    .dataframe tbody tr th:only-of-type {\n",
       "        vertical-align: middle;\n",
       "    }\n",
       "\n",
       "    .dataframe tbody tr th {\n",
       "        vertical-align: top;\n",
       "    }\n",
       "\n",
       "    .dataframe thead th {\n",
       "        text-align: right;\n",
       "    }\n",
       "</style>\n",
       "<table border=\"1\" class=\"dataframe\">\n",
       "  <thead>\n",
       "    <tr style=\"text-align: right;\">\n",
       "      <th></th>\n",
       "      <th>Country</th>\n",
       "      <th>Year</th>\n",
       "      <th>FoodCode</th>\n",
       "      <th>FoodName</th>\n",
       "      <th>AgeClass</th>\n",
       "      <th>SourceAgeClass</th>\n",
       "      <th>Gender</th>\n",
       "      <th>Number_of_consumers</th>\n",
       "      <th>Number_of_subjects</th>\n",
       "    </tr>\n",
       "  </thead>\n",
       "  <tbody>\n",
       "    <tr>\n",
       "      <th>37678</th>\n",
       "      <td>France</td>\n",
       "      <td>2007</td>\n",
       "      <td>A03MQ</td>\n",
       "      <td>Shandy</td>\n",
       "      <td>Children and Adolescents</td>\n",
       "      <td>Other children</td>\n",
       "      <td>Male</td>\n",
       "      <td>1</td>\n",
       "      <td>239</td>\n",
       "    </tr>\n",
       "    <tr>\n",
       "      <th>37679</th>\n",
       "      <td>France</td>\n",
       "      <td>2007</td>\n",
       "      <td>A03MX</td>\n",
       "      <td>Wine, Red</td>\n",
       "      <td>Children and Adolescents</td>\n",
       "      <td>Other children</td>\n",
       "      <td>Female</td>\n",
       "      <td>17</td>\n",
       "      <td>243</td>\n",
       "    </tr>\n",
       "    <tr>\n",
       "      <th>37680</th>\n",
       "      <td>France</td>\n",
       "      <td>2007</td>\n",
       "      <td>A03MX</td>\n",
       "      <td>Wine, Red</td>\n",
       "      <td>Children and Adolescents</td>\n",
       "      <td>Other children</td>\n",
       "      <td>Male</td>\n",
       "      <td>14</td>\n",
       "      <td>239</td>\n",
       "    </tr>\n",
       "    <tr>\n",
       "      <th>37681</th>\n",
       "      <td>France</td>\n",
       "      <td>2007</td>\n",
       "      <td>A03MV</td>\n",
       "      <td>Wine, White</td>\n",
       "      <td>Children and Adolescents</td>\n",
       "      <td>Other children</td>\n",
       "      <td>Female</td>\n",
       "      <td>19</td>\n",
       "      <td>243</td>\n",
       "    </tr>\n",
       "    <tr>\n",
       "      <th>37682</th>\n",
       "      <td>France</td>\n",
       "      <td>2007</td>\n",
       "      <td>A03MV</td>\n",
       "      <td>Wine, White</td>\n",
       "      <td>Children and Adolescents</td>\n",
       "      <td>Other children</td>\n",
       "      <td>Male</td>\n",
       "      <td>13</td>\n",
       "      <td>239</td>\n",
       "    </tr>\n",
       "    <tr>\n",
       "      <th>37683</th>\n",
       "      <td>France</td>\n",
       "      <td>2007</td>\n",
       "      <td>A03ND</td>\n",
       "      <td>Cider</td>\n",
       "      <td>Children and Adolescents</td>\n",
       "      <td>Other children</td>\n",
       "      <td>Female</td>\n",
       "      <td>3</td>\n",
       "      <td>243</td>\n",
       "    </tr>\n",
       "    <tr>\n",
       "      <th>37684</th>\n",
       "      <td>France</td>\n",
       "      <td>2007</td>\n",
       "      <td>A037V</td>\n",
       "      <td>Pork Lard</td>\n",
       "      <td>Children and Adolescents</td>\n",
       "      <td>Other children</td>\n",
       "      <td>Female</td>\n",
       "      <td>14</td>\n",
       "      <td>243</td>\n",
       "    </tr>\n",
       "    <tr>\n",
       "      <th>37685</th>\n",
       "      <td>France</td>\n",
       "      <td>2007</td>\n",
       "      <td>A037V</td>\n",
       "      <td>Pork Lard</td>\n",
       "      <td>Children and Adolescents</td>\n",
       "      <td>Other children</td>\n",
       "      <td>Male</td>\n",
       "      <td>9</td>\n",
       "      <td>239</td>\n",
       "    </tr>\n",
       "    <tr>\n",
       "      <th>37686</th>\n",
       "      <td>France</td>\n",
       "      <td>2007</td>\n",
       "      <td>A038G</td>\n",
       "      <td>Duck Fat, Processed</td>\n",
       "      <td>Children and Adolescents</td>\n",
       "      <td>Other children</td>\n",
       "      <td>Male</td>\n",
       "      <td>3</td>\n",
       "      <td>239</td>\n",
       "    </tr>\n",
       "    <tr>\n",
       "      <th>37687</th>\n",
       "      <td>France</td>\n",
       "      <td>2007</td>\n",
       "      <td>A038H</td>\n",
       "      <td>Goose Fat, Processed</td>\n",
       "      <td>Children and Adolescents</td>\n",
       "      <td>Other children</td>\n",
       "      <td>Female</td>\n",
       "      <td>14</td>\n",
       "      <td>243</td>\n",
       "    </tr>\n",
       "  </tbody>\n",
       "</table>\n",
       "</div>"
      ],
      "text/plain": [
       "      Country  Year FoodCode              FoodName                  AgeClass  \\\n",
       "37678  France  2007    A03MQ                Shandy  Children and Adolescents   \n",
       "37679  France  2007    A03MX             Wine, Red  Children and Adolescents   \n",
       "37680  France  2007    A03MX             Wine, Red  Children and Adolescents   \n",
       "37681  France  2007    A03MV           Wine, White  Children and Adolescents   \n",
       "37682  France  2007    A03MV           Wine, White  Children and Adolescents   \n",
       "37683  France  2007    A03ND                 Cider  Children and Adolescents   \n",
       "37684  France  2007    A037V             Pork Lard  Children and Adolescents   \n",
       "37685  France  2007    A037V             Pork Lard  Children and Adolescents   \n",
       "37686  France  2007    A038G   Duck Fat, Processed  Children and Adolescents   \n",
       "37687  France  2007    A038H  Goose Fat, Processed  Children and Adolescents   \n",
       "\n",
       "       SourceAgeClass  Gender  Number_of_consumers  Number_of_subjects  \n",
       "37678  Other children    Male                    1                 239  \n",
       "37679  Other children  Female                   17                 243  \n",
       "37680  Other children    Male                   14                 239  \n",
       "37681  Other children  Female                   19                 243  \n",
       "37682  Other children    Male                   13                 239  \n",
       "37683  Other children  Female                    3                 243  \n",
       "37684  Other children  Female                   14                 243  \n",
       "37685  Other children    Male                    9                 239  \n",
       "37686  Other children    Male                    3                 239  \n",
       "37687  Other children  Female                   14                 243  "
      ]
     },
     "execution_count": 1811,
     "metadata": {},
     "output_type": "execute_result"
    }
   ],
   "source": [
    "food_fr = food.loc[food['Country'] == \"France\"]\n",
    "food_fr.head(10)"
   ]
  },
  {
   "cell_type": "code",
   "execution_count": 1812,
   "id": "69aa169e-cd13-4a9e-b758-54efd6d26cba",
   "metadata": {
    "tags": []
   },
   "outputs": [
    {
     "data": {
      "text/plain": [
       "array(['Children and Adolescents', 'Adults and Elderly',\n",
       "       'Infants and Toddlers'], dtype=object)"
      ]
     },
     "execution_count": 1812,
     "metadata": {},
     "output_type": "execute_result"
    }
   ],
   "source": [
    "food_fr['AgeClass'].unique()"
   ]
  },
  {
   "cell_type": "code",
   "execution_count": 1813,
   "id": "30f57dd7-9cfe-4efa-875f-ad58cf0b4a44",
   "metadata": {
    "tags": []
   },
   "outputs": [
    {
     "data": {
      "text/plain": [
       "array(['Male', 'Female', 'All'], dtype=object)"
      ]
     },
     "execution_count": 1813,
     "metadata": {},
     "output_type": "execute_result"
    }
   ],
   "source": [
    "food_fr['Gender'].unique()"
   ]
  },
  {
   "cell_type": "code",
   "execution_count": 1814,
   "id": "7674eb6b-3009-41ec-b19f-5aabcf129ea1",
   "metadata": {},
   "outputs": [
    {
     "data": {
      "text/plain": [
       "array(['All', 'Infants and Toddlers', 'Children and Adolescents',\n",
       "       'Adults and Elderly'], dtype=object)"
      ]
     },
     "execution_count": 1814,
     "metadata": {},
     "output_type": "execute_result"
    }
   ],
   "source": [
    "food['AgeClass'].unique()"
   ]
  },
  {
   "cell_type": "code",
   "execution_count": 1815,
   "id": "58a50e1a-f79a-4ef3-9e42-7babf24a6662",
   "metadata": {
    "tags": []
   },
   "outputs": [],
   "source": [
    "food_fr = food_fr.loc[food_fr['Gender'] == \"All\"] # czy to jest potrzebne?"
   ]
  },
  {
   "cell_type": "code",
   "execution_count": 1816,
   "id": "a5616369-87bb-4c5f-b55d-174701951985",
   "metadata": {
    "tags": []
   },
   "outputs": [
    {
     "data": {
      "text/plain": [
       "8539"
      ]
     },
     "execution_count": 1816,
     "metadata": {},
     "output_type": "execute_result"
    }
   ],
   "source": [
    "food_fr['Number_of_subjects'].unique().sum()"
   ]
  },
  {
   "cell_type": "markdown",
   "id": "ec2330b5-269e-4e31-9d83-c11a5878b210",
   "metadata": {},
   "source": [
    "### Tu się tylko potwierdza kwestia, tego że francja nie ma żadnej grupy podsumowaującej All czyli niektóre kraje też tak mają"
   ]
  },
  {
   "cell_type": "code",
   "execution_count": null,
   "id": "9653a8f8-6a59-41d4-a4d9-753c5428591f",
   "metadata": {},
   "outputs": [],
   "source": []
  },
  {
   "cell_type": "code",
   "execution_count": null,
   "id": "f8ca4924-cfec-4e97-bd91-3f67fb873265",
   "metadata": {},
   "outputs": [],
   "source": []
  },
  {
   "cell_type": "code",
   "execution_count": null,
   "id": "aa2766e2-5b9a-4a2d-bf20-d5c32ae1684d",
   "metadata": {},
   "outputs": [],
   "source": []
  },
  {
   "cell_type": "code",
   "execution_count": null,
   "id": "82222574-16ac-4c5b-88c3-503c5af9bfda",
   "metadata": {},
   "outputs": [],
   "source": []
  },
  {
   "cell_type": "markdown",
   "id": "166fce4c-e554-447c-9644-796922991deb",
   "metadata": {
    "tags": []
   },
   "source": [
    "### Oznacza to, że żeby móc przeanalizować z jakiego kraju jest najwiecej badanych muszę znaleźć inny sposób. \n",
    "### Sposobem na to może być wykorzystanie kolumn Country i Number_of_subjects. Zakładając, że każde badanie ma inną ilość badanych mogę zgrupować badanych i kraje, a następnie zsumować badanych, w ten sposob otrzymam ilość osob, które brały udział w badaniach z konkretnego kraju, nie musząc mieć AgeClass All. Ryzykiem tutaj jest jedynie to, że może zdarzyć się sytuacja, gdzie badania będą miały taką samą ilość badanych. Lecz na razie to rozwiązanie wydaje mi sie być najlepsze."
   ]
  },
  {
   "cell_type": "code",
   "execution_count": 1817,
   "id": "d78f7942-9c52-4dd4-b7fd-c96f08e60904",
   "metadata": {
    "tags": []
   },
   "outputs": [
    {
     "data": {
      "text/html": [
       "<div>\n",
       "<style scoped>\n",
       "    .dataframe tbody tr th:only-of-type {\n",
       "        vertical-align: middle;\n",
       "    }\n",
       "\n",
       "    .dataframe tbody tr th {\n",
       "        vertical-align: top;\n",
       "    }\n",
       "\n",
       "    .dataframe thead th {\n",
       "        text-align: right;\n",
       "    }\n",
       "</style>\n",
       "<table border=\"1\" class=\"dataframe\">\n",
       "  <thead>\n",
       "    <tr style=\"text-align: right;\">\n",
       "      <th></th>\n",
       "      <th>Country</th>\n",
       "      <th>Number_of_subjects</th>\n",
       "      <th>Year</th>\n",
       "      <th>FoodCode</th>\n",
       "      <th>FoodName</th>\n",
       "      <th>AgeClass</th>\n",
       "      <th>SourceAgeClass</th>\n",
       "      <th>Gender</th>\n",
       "      <th>Number_of_consumers</th>\n",
       "    </tr>\n",
       "  </thead>\n",
       "  <tbody>\n",
       "    <tr>\n",
       "      <th>15</th>\n",
       "      <td>France</td>\n",
       "      <td>8539</td>\n",
       "      <td>15546648</td>\n",
       "      <td>A036PA036VA037DA039CA03LGA03HGA03HHA032BA032CA...</td>\n",
       "      <td>Olive OilsRape Seed Oil, EdibleSunflower Seed ...</td>\n",
       "      <td>Infants and ToddlersInfants and ToddlersInfant...</td>\n",
       "      <td>InfantsInfantsInfantsInfantsInfantsInfantsInfa...</td>\n",
       "      <td>AllAllAllAllAllAllAllAllAllAllAllAllAllAllAllA...</td>\n",
       "      <td>503329</td>\n",
       "    </tr>\n",
       "  </tbody>\n",
       "</table>\n",
       "</div>"
      ],
      "text/plain": [
       "   Country  Number_of_subjects      Year  \\\n",
       "15  France                8539  15546648   \n",
       "\n",
       "                                             FoodCode  \\\n",
       "15  A036PA036VA037DA039CA03LGA03HGA03HHA032BA032CA...   \n",
       "\n",
       "                                             FoodName  \\\n",
       "15  Olive OilsRape Seed Oil, EdibleSunflower Seed ...   \n",
       "\n",
       "                                             AgeClass  \\\n",
       "15  Infants and ToddlersInfants and ToddlersInfant...   \n",
       "\n",
       "                                       SourceAgeClass  \\\n",
       "15  InfantsInfantsInfantsInfantsInfantsInfantsInfa...   \n",
       "\n",
       "                                               Gender  Number_of_consumers  \n",
       "15  AllAllAllAllAllAllAllAllAllAllAllAllAllAllAllA...               503329  "
      ]
     },
     "execution_count": 1817,
     "metadata": {},
     "output_type": "execute_result"
    }
   ],
   "source": [
    "food_ctry = food_all.groupby(['Country','Number_of_subjects']).sum().reset_index()\n",
    "food_ctry = food_ctry.groupby(['Country']).sum().reset_index()\n",
    "food_ctry.loc[food_ctry['Country'] == \"France\"]"
   ]
  },
  {
   "cell_type": "markdown",
   "id": "b14d17b9-2fec-4916-bea8-c0145bbcad76",
   "metadata": {
    "tags": []
   },
   "source": [
    "### Jak widać na przykładzie francji ta operacja działa \n",
    "### Dopiero w taki sposob moge to obejść i dzięki temu widze ile osob brało udział w badaniach z każdego kraju"
   ]
  },
  {
   "cell_type": "code",
   "execution_count": 1818,
   "id": "8e015132-e055-4b72-82aa-2ce80405525b",
   "metadata": {
    "tags": []
   },
   "outputs": [],
   "source": [
    "food_ctry = food_ctry.sort_values(by='Number_of_subjects', ascending=False)"
   ]
  },
  {
   "cell_type": "code",
   "execution_count": 1819,
   "id": "2afa9ed0-31e7-437d-a479-3d2fccfd5ad7",
   "metadata": {
    "tags": []
   },
   "outputs": [
    {
     "data": {
      "text/plain": [
       "41"
      ]
     },
     "execution_count": 1819,
     "metadata": {},
     "output_type": "execute_result"
    }
   ],
   "source": [
    "food_ctry['Country'].nunique()"
   ]
  },
  {
   "cell_type": "markdown",
   "id": "b5fb4af6-c260-41d4-bf5d-cf802c0c4ae2",
   "metadata": {},
   "source": [
    "### Ilość krajów pozostała taka jak powinna, wiec nic nie zniknęło i mam podsumowane dobrze ilości badanych\n",
    "### Do robienia wykresu zostawię tylko dwie kolumny oraz sprawdzę jaka była ilość badanych ze wszystkich krajów łącznie"
   ]
  },
  {
   "cell_type": "code",
   "execution_count": 1820,
   "id": "ca147761-dd13-463b-86f3-0e5db553ef38",
   "metadata": {
    "tags": []
   },
   "outputs": [
    {
     "data": {
      "text/plain": [
       "Country               BrazilChinaUnited States Of AmericaRepublic Of...\n",
       "Number_of_subjects                                               523051\n",
       "dtype: object"
      ]
     },
     "execution_count": 1820,
     "metadata": {},
     "output_type": "execute_result"
    }
   ],
   "source": [
    "most_sub_ctry = food_ctry[['Country','Number_of_subjects']]\n",
    "most_sub_ctry.sum()"
   ]
  },
  {
   "cell_type": "code",
   "execution_count": 1821,
   "id": "c4a0c738-6064-48b2-a540-63bb395eed87",
   "metadata": {
    "tags": []
   },
   "outputs": [
    {
     "data": {
      "image/png": "[encoded data removed]",
      "text/plain": [
       "<Figure size 640x480 with 1 Axes>"
      ]
     },
     "metadata": {},
     "output_type": "display_data"
    }
   ],
   "source": [
    "plt.bar(most_sub_ctry['Country'], most_sub_ctry['Number_of_subjects'])\n",
    "plt.xticks(most_sub_ctry['Country'], rotation='vertical', size=10)\n",
    "plt.ylabel(\"Number of subjects\")\n",
    "plt.xlabel(\"Countries\")\n",
    "plt.title(\"Number of subjects per country\")\n",
    "plt.show()"
   ]
  },
  {
   "cell_type": "markdown",
   "id": "e50c0c24-2a87-4357-97f3-288e5ecec5e8",
   "metadata": {},
   "source": [
    "### Na wykresie bardzo dobrze widać jak duża jest dysproporcja co do ilości osob w zależności od kraju. Od razu to wskazuje, że wyciągnięte wnioski mogą być zachwiane przez to ile osob w zależności od kraju było badanych wiec należy wziać to pod uwagę\n",
    "### Dla dokładności sprawdzę jak duża jest to różnica i jak rozkłada się to pod względem kontynentów"
   ]
  },
  {
   "cell_type": "code",
   "execution_count": 1822,
   "id": "90d7176d-f653-452c-8038-18ed3b310cba",
   "metadata": {
    "tags": []
   },
   "outputs": [
    {
     "data": {
      "text/plain": [
       "388340"
      ]
     },
     "execution_count": 1822,
     "metadata": {},
     "output_type": "execute_result"
    }
   ],
   "source": [
    "top5 = most_sub_ctry['Number_of_subjects'].iloc[0:5].sum()\n",
    "top5"
   ]
  },
  {
   "cell_type": "code",
   "execution_count": 1823,
   "id": "7cdc9892-1515-4dc6-a4c5-bb95dac23736",
   "metadata": {
    "tags": []
   },
   "outputs": [
    {
     "data": {
      "text/plain": [
       "134711"
      ]
     },
     "execution_count": 1823,
     "metadata": {},
     "output_type": "execute_result"
    }
   ],
   "source": [
    "rest = most_sub_ctry['Number_of_subjects'].iloc[5:].sum()\n",
    "rest"
   ]
  },
  {
   "cell_type": "code",
   "execution_count": 1824,
   "id": "11399fc4-a701-4536-a959-f7246a7b4b2e",
   "metadata": {
    "tags": []
   },
   "outputs": [
    {
     "data": {
      "text/plain": [
       "2.882763842596373"
      ]
     },
     "execution_count": 1824,
     "metadata": {},
     "output_type": "execute_result"
    }
   ],
   "source": [
    "top5/rest"
   ]
  },
  {
   "cell_type": "markdown",
   "id": "022f2834-dc12-4b44-a871-f851a0838f5f",
   "metadata": {},
   "source": [
    "### Jak widać top5 krajów ma prawie 3 razy wiecej badancyh niż reszta krajów, jest to bardzo duża dysporporcja, wiec ogólna analiza nie jest, aż tak wartościowa \n",
    "### Rozbicie na kontynenty pozwoli zobaczyć jak użyteczna będzie globalna analiza i czy nie lepiej będzie analizować każdy kontynent odrębnie. Użyję do tego biblioteki pycountry_convert"
   ]
  },
  {
   "cell_type": "code",
   "execution_count": 1825,
   "id": "bf33534a-7b30-4786-a0f0-7dc1a27ae692",
   "metadata": {},
   "outputs": [],
   "source": [
    "def convert(row): # funkcja przypisująca kod kontynentu w zależności od kraju\n",
    "    cn_code = pc.country_name_to_country_alpha2(row.Country, cn_name_format=\"default\")\n",
    "    conti_code = pc.country_alpha2_to_continent_code(cn_code)\n",
    "    return conti_code"
   ]
  },
  {
   "cell_type": "markdown",
   "id": "8db4af2d-1985-45f4-a25b-df96a8489d6f",
   "metadata": {},
   "source": [
    "### Trzeba zamienić nazwy kilku krajów bo biblioteka pycountry_convert korzysta z innych nazw krajów niż te które są w dataframe"
   ]
  },
  {
   "cell_type": "code",
   "execution_count": 1826,
   "id": "f01aa63d-4880-4df6-a5d5-744adfe47af9",
   "metadata": {
    "tags": []
   },
   "outputs": [],
   "source": [
    "continent = food\n",
    "continent['Country'] = continent['Country'].replace('Republic Of Korea','South Korea')\n",
    "continent['Country'] = continent['Country'].replace('Bolivia (Plurinational State Of)','Bolivia')\n",
    "continent['Country'] = continent['Country'].replace('United States Of America','United States of America')\n",
    "continent['Country'] = continent['Country'].replace(\"Lao People'S Democratic Republic\",\"Lao People's Democratic Republic\")\n",
    "continent['Country'] = continent['Country'].replace(\"Democratic Republic Of The Congo\",\"Democratic Republic of the Congo\")"
   ]
  },
  {
   "cell_type": "code",
   "execution_count": 1827,
   "id": "f078d391-8f6b-4504-a480-2cec75595fae",
   "metadata": {
    "tags": []
   },
   "outputs": [
    {
     "data": {
      "text/html": [
       "<div>\n",
       "<style scoped>\n",
       "    .dataframe tbody tr th:only-of-type {\n",
       "        vertical-align: middle;\n",
       "    }\n",
       "\n",
       "    .dataframe tbody tr th {\n",
       "        vertical-align: top;\n",
       "    }\n",
       "\n",
       "    .dataframe thead th {\n",
       "        text-align: right;\n",
       "    }\n",
       "</style>\n",
       "<table border=\"1\" class=\"dataframe\">\n",
       "  <thead>\n",
       "    <tr style=\"text-align: right;\">\n",
       "      <th></th>\n",
       "      <th>Country</th>\n",
       "      <th>Year</th>\n",
       "      <th>FoodCode</th>\n",
       "      <th>FoodName</th>\n",
       "      <th>AgeClass</th>\n",
       "      <th>SourceAgeClass</th>\n",
       "      <th>Gender</th>\n",
       "      <th>Number_of_consumers</th>\n",
       "      <th>Number_of_subjects</th>\n",
       "      <th>ContinentCode</th>\n",
       "    </tr>\n",
       "  </thead>\n",
       "  <tbody>\n",
       "    <tr>\n",
       "      <th>0</th>\n",
       "      <td>China</td>\n",
       "      <td>2002</td>\n",
       "      <td>A000G</td>\n",
       "      <td>Oat Grain</td>\n",
       "      <td>All</td>\n",
       "      <td>All</td>\n",
       "      <td>All</td>\n",
       "      <td>1157</td>\n",
       "      <td>66172</td>\n",
       "      <td>AS</td>\n",
       "    </tr>\n",
       "    <tr>\n",
       "      <th>1</th>\n",
       "      <td>China</td>\n",
       "      <td>2002</td>\n",
       "      <td>A000G</td>\n",
       "      <td>Oat Grain</td>\n",
       "      <td>All</td>\n",
       "      <td>All</td>\n",
       "      <td>Female</td>\n",
       "      <td>608</td>\n",
       "      <td>33953</td>\n",
       "      <td>AS</td>\n",
       "    </tr>\n",
       "    <tr>\n",
       "      <th>2</th>\n",
       "      <td>China</td>\n",
       "      <td>2002</td>\n",
       "      <td>A000G</td>\n",
       "      <td>Oat Grain</td>\n",
       "      <td>All</td>\n",
       "      <td>All</td>\n",
       "      <td>Male</td>\n",
       "      <td>549</td>\n",
       "      <td>32219</td>\n",
       "      <td>AS</td>\n",
       "    </tr>\n",
       "    <tr>\n",
       "      <th>3</th>\n",
       "      <td>China</td>\n",
       "      <td>2002</td>\n",
       "      <td>A000N</td>\n",
       "      <td>Buckwheat</td>\n",
       "      <td>All</td>\n",
       "      <td>All</td>\n",
       "      <td>All</td>\n",
       "      <td>167</td>\n",
       "      <td>66172</td>\n",
       "      <td>AS</td>\n",
       "    </tr>\n",
       "    <tr>\n",
       "      <th>4</th>\n",
       "      <td>China</td>\n",
       "      <td>2002</td>\n",
       "      <td>A000N</td>\n",
       "      <td>Buckwheat</td>\n",
       "      <td>All</td>\n",
       "      <td>All</td>\n",
       "      <td>Female</td>\n",
       "      <td>82</td>\n",
       "      <td>33953</td>\n",
       "      <td>AS</td>\n",
       "    </tr>\n",
       "    <tr>\n",
       "      <th>...</th>\n",
       "      <td>...</td>\n",
       "      <td>...</td>\n",
       "      <td>...</td>\n",
       "      <td>...</td>\n",
       "      <td>...</td>\n",
       "      <td>...</td>\n",
       "      <td>...</td>\n",
       "      <td>...</td>\n",
       "      <td>...</td>\n",
       "      <td>...</td>\n",
       "    </tr>\n",
       "    <tr>\n",
       "      <th>272338</th>\n",
       "      <td>India</td>\n",
       "      <td>2015</td>\n",
       "      <td>A0EQN</td>\n",
       "      <td>Soft Drinks With Minor Amounts Of Fruits Or Fl...</td>\n",
       "      <td>All</td>\n",
       "      <td>All</td>\n",
       "      <td>Female</td>\n",
       "      <td>8</td>\n",
       "      <td>242</td>\n",
       "      <td>AS</td>\n",
       "    </tr>\n",
       "    <tr>\n",
       "      <th>272339</th>\n",
       "      <td>India</td>\n",
       "      <td>2015</td>\n",
       "      <td>A0EQN</td>\n",
       "      <td>Soft Drinks With Minor Amounts Of Fruits Or Fl...</td>\n",
       "      <td>Adults and Elderly</td>\n",
       "      <td>15-49 years</td>\n",
       "      <td>All</td>\n",
       "      <td>8</td>\n",
       "      <td>242</td>\n",
       "      <td>AS</td>\n",
       "    </tr>\n",
       "    <tr>\n",
       "      <th>272340</th>\n",
       "      <td>India</td>\n",
       "      <td>2015</td>\n",
       "      <td>A0F4S</td>\n",
       "      <td>Coconut Water</td>\n",
       "      <td>All</td>\n",
       "      <td>All</td>\n",
       "      <td>All</td>\n",
       "      <td>7</td>\n",
       "      <td>242</td>\n",
       "      <td>AS</td>\n",
       "    </tr>\n",
       "    <tr>\n",
       "      <th>272341</th>\n",
       "      <td>India</td>\n",
       "      <td>2015</td>\n",
       "      <td>A0F4S</td>\n",
       "      <td>Coconut Water</td>\n",
       "      <td>Adults and Elderly</td>\n",
       "      <td>15-49 years</td>\n",
       "      <td>Female</td>\n",
       "      <td>7</td>\n",
       "      <td>242</td>\n",
       "      <td>AS</td>\n",
       "    </tr>\n",
       "    <tr>\n",
       "      <th>272342</th>\n",
       "      <td>India</td>\n",
       "      <td>2015</td>\n",
       "      <td>A0F4S</td>\n",
       "      <td>Coconut Water</td>\n",
       "      <td>All</td>\n",
       "      <td>All</td>\n",
       "      <td>Female</td>\n",
       "      <td>7</td>\n",
       "      <td>242</td>\n",
       "      <td>AS</td>\n",
       "    </tr>\n",
       "  </tbody>\n",
       "</table>\n",
       "<p>272016 rows × 10 columns</p>\n",
       "</div>"
      ],
      "text/plain": [
       "       Country  Year FoodCode  \\\n",
       "0        China  2002    A000G   \n",
       "1        China  2002    A000G   \n",
       "2        China  2002    A000G   \n",
       "3        China  2002    A000N   \n",
       "4        China  2002    A000N   \n",
       "...        ...   ...      ...   \n",
       "272338   India  2015    A0EQN   \n",
       "272339   India  2015    A0EQN   \n",
       "272340   India  2015    A0F4S   \n",
       "272341   India  2015    A0F4S   \n",
       "272342   India  2015    A0F4S   \n",
       "\n",
       "                                                 FoodName            AgeClass  \\\n",
       "0                                               Oat Grain                 All   \n",
       "1                                               Oat Grain                 All   \n",
       "2                                               Oat Grain                 All   \n",
       "3                                               Buckwheat                 All   \n",
       "4                                               Buckwheat                 All   \n",
       "...                                                   ...                 ...   \n",
       "272338  Soft Drinks With Minor Amounts Of Fruits Or Fl...                 All   \n",
       "272339  Soft Drinks With Minor Amounts Of Fruits Or Fl...  Adults and Elderly   \n",
       "272340                                      Coconut Water                 All   \n",
       "272341                                      Coconut Water  Adults and Elderly   \n",
       "272342                                      Coconut Water                 All   \n",
       "\n",
       "       SourceAgeClass  Gender  Number_of_consumers  Number_of_subjects  \\\n",
       "0                 All     All                 1157               66172   \n",
       "1                 All  Female                  608               33953   \n",
       "2                 All    Male                  549               32219   \n",
       "3                 All     All                  167               66172   \n",
       "4                 All  Female                   82               33953   \n",
       "...               ...     ...                  ...                 ...   \n",
       "272338            All  Female                    8                 242   \n",
       "272339    15-49 years     All                    8                 242   \n",
       "272340            All     All                    7                 242   \n",
       "272341    15-49 years  Female                    7                 242   \n",
       "272342            All  Female                    7                 242   \n",
       "\n",
       "       ContinentCode  \n",
       "0                 AS  \n",
       "1                 AS  \n",
       "2                 AS  \n",
       "3                 AS  \n",
       "4                 AS  \n",
       "...              ...  \n",
       "272338            AS  \n",
       "272339            AS  \n",
       "272340            AS  \n",
       "272341            AS  \n",
       "272342            AS  \n",
       "\n",
       "[272016 rows x 10 columns]"
      ]
     },
     "execution_count": 1827,
     "metadata": {},
     "output_type": "execute_result"
    }
   ],
   "source": [
    "continent['ContinentCode'] = continent.apply(convert, axis=1)\n",
    "continent"
   ]
  },
  {
   "cell_type": "markdown",
   "id": "e9cb8b8c-e3d5-42be-817a-63c19757f130",
   "metadata": {},
   "source": [
    "### Mam kody kontynentów, wiec niby można by tak to zostawić ale uważam, że dużo ładniej i czytelniej jest jak będa też widoczne nazwy kontynentów"
   ]
  },
  {
   "cell_type": "code",
   "execution_count": 1828,
   "id": "4b136b05-cbd5-4d5c-b682-f95cdcb4ee02",
   "metadata": {
    "tags": []
   },
   "outputs": [
    {
     "data": {
      "text/plain": [
       "array(['AS', 'EU', 'NA', 'SA', 'AF'], dtype=object)"
      ]
     },
     "execution_count": 1828,
     "metadata": {},
     "output_type": "execute_result"
    }
   ],
   "source": [
    "continent['ContinentCode'].unique()"
   ]
  },
  {
   "cell_type": "code",
   "execution_count": 1829,
   "id": "34ce34fe-7f44-4cbf-a541-95265debbc9d",
   "metadata": {
    "tags": []
   },
   "outputs": [
    {
     "data": {
      "text/html": [
       "<div>\n",
       "<style scoped>\n",
       "    .dataframe tbody tr th:only-of-type {\n",
       "        vertical-align: middle;\n",
       "    }\n",
       "\n",
       "    .dataframe tbody tr th {\n",
       "        vertical-align: top;\n",
       "    }\n",
       "\n",
       "    .dataframe thead th {\n",
       "        text-align: right;\n",
       "    }\n",
       "</style>\n",
       "<table border=\"1\" class=\"dataframe\">\n",
       "  <thead>\n",
       "    <tr style=\"text-align: right;\">\n",
       "      <th></th>\n",
       "      <th>Country</th>\n",
       "      <th>Year</th>\n",
       "      <th>FoodCode</th>\n",
       "      <th>FoodName</th>\n",
       "      <th>AgeClass</th>\n",
       "      <th>SourceAgeClass</th>\n",
       "      <th>Gender</th>\n",
       "      <th>Number_of_consumers</th>\n",
       "      <th>Number_of_subjects</th>\n",
       "      <th>ContinentCode</th>\n",
       "      <th>Continent</th>\n",
       "    </tr>\n",
       "  </thead>\n",
       "  <tbody>\n",
       "    <tr>\n",
       "      <th>0</th>\n",
       "      <td>China</td>\n",
       "      <td>2002</td>\n",
       "      <td>A000G</td>\n",
       "      <td>Oat Grain</td>\n",
       "      <td>All</td>\n",
       "      <td>All</td>\n",
       "      <td>All</td>\n",
       "      <td>1157</td>\n",
       "      <td>66172</td>\n",
       "      <td>AS</td>\n",
       "      <td>Asia</td>\n",
       "    </tr>\n",
       "    <tr>\n",
       "      <th>1</th>\n",
       "      <td>China</td>\n",
       "      <td>2002</td>\n",
       "      <td>A000G</td>\n",
       "      <td>Oat Grain</td>\n",
       "      <td>All</td>\n",
       "      <td>All</td>\n",
       "      <td>Female</td>\n",
       "      <td>608</td>\n",
       "      <td>33953</td>\n",
       "      <td>AS</td>\n",
       "      <td>Asia</td>\n",
       "    </tr>\n",
       "    <tr>\n",
       "      <th>2</th>\n",
       "      <td>China</td>\n",
       "      <td>2002</td>\n",
       "      <td>A000G</td>\n",
       "      <td>Oat Grain</td>\n",
       "      <td>All</td>\n",
       "      <td>All</td>\n",
       "      <td>Male</td>\n",
       "      <td>549</td>\n",
       "      <td>32219</td>\n",
       "      <td>AS</td>\n",
       "      <td>Asia</td>\n",
       "    </tr>\n",
       "    <tr>\n",
       "      <th>3</th>\n",
       "      <td>China</td>\n",
       "      <td>2002</td>\n",
       "      <td>A000N</td>\n",
       "      <td>Buckwheat</td>\n",
       "      <td>All</td>\n",
       "      <td>All</td>\n",
       "      <td>All</td>\n",
       "      <td>167</td>\n",
       "      <td>66172</td>\n",
       "      <td>AS</td>\n",
       "      <td>Asia</td>\n",
       "    </tr>\n",
       "    <tr>\n",
       "      <th>4</th>\n",
       "      <td>China</td>\n",
       "      <td>2002</td>\n",
       "      <td>A000N</td>\n",
       "      <td>Buckwheat</td>\n",
       "      <td>All</td>\n",
       "      <td>All</td>\n",
       "      <td>Female</td>\n",
       "      <td>82</td>\n",
       "      <td>33953</td>\n",
       "      <td>AS</td>\n",
       "      <td>Asia</td>\n",
       "    </tr>\n",
       "    <tr>\n",
       "      <th>...</th>\n",
       "      <td>...</td>\n",
       "      <td>...</td>\n",
       "      <td>...</td>\n",
       "      <td>...</td>\n",
       "      <td>...</td>\n",
       "      <td>...</td>\n",
       "      <td>...</td>\n",
       "      <td>...</td>\n",
       "      <td>...</td>\n",
       "      <td>...</td>\n",
       "      <td>...</td>\n",
       "    </tr>\n",
       "    <tr>\n",
       "      <th>272338</th>\n",
       "      <td>India</td>\n",
       "      <td>2015</td>\n",
       "      <td>A0EQN</td>\n",
       "      <td>Soft Drinks With Minor Amounts Of Fruits Or Fl...</td>\n",
       "      <td>All</td>\n",
       "      <td>All</td>\n",
       "      <td>Female</td>\n",
       "      <td>8</td>\n",
       "      <td>242</td>\n",
       "      <td>AS</td>\n",
       "      <td>Asia</td>\n",
       "    </tr>\n",
       "    <tr>\n",
       "      <th>272339</th>\n",
       "      <td>India</td>\n",
       "      <td>2015</td>\n",
       "      <td>A0EQN</td>\n",
       "      <td>Soft Drinks With Minor Amounts Of Fruits Or Fl...</td>\n",
       "      <td>Adults and Elderly</td>\n",
       "      <td>15-49 years</td>\n",
       "      <td>All</td>\n",
       "      <td>8</td>\n",
       "      <td>242</td>\n",
       "      <td>AS</td>\n",
       "      <td>Asia</td>\n",
       "    </tr>\n",
       "    <tr>\n",
       "      <th>272340</th>\n",
       "      <td>India</td>\n",
       "      <td>2015</td>\n",
       "      <td>A0F4S</td>\n",
       "      <td>Coconut Water</td>\n",
       "      <td>All</td>\n",
       "      <td>All</td>\n",
       "      <td>All</td>\n",
       "      <td>7</td>\n",
       "      <td>242</td>\n",
       "      <td>AS</td>\n",
       "      <td>Asia</td>\n",
       "    </tr>\n",
       "    <tr>\n",
       "      <th>272341</th>\n",
       "      <td>India</td>\n",
       "      <td>2015</td>\n",
       "      <td>A0F4S</td>\n",
       "      <td>Coconut Water</td>\n",
       "      <td>Adults and Elderly</td>\n",
       "      <td>15-49 years</td>\n",
       "      <td>Female</td>\n",
       "      <td>7</td>\n",
       "      <td>242</td>\n",
       "      <td>AS</td>\n",
       "      <td>Asia</td>\n",
       "    </tr>\n",
       "    <tr>\n",
       "      <th>272342</th>\n",
       "      <td>India</td>\n",
       "      <td>2015</td>\n",
       "      <td>A0F4S</td>\n",
       "      <td>Coconut Water</td>\n",
       "      <td>All</td>\n",
       "      <td>All</td>\n",
       "      <td>Female</td>\n",
       "      <td>7</td>\n",
       "      <td>242</td>\n",
       "      <td>AS</td>\n",
       "      <td>Asia</td>\n",
       "    </tr>\n",
       "  </tbody>\n",
       "</table>\n",
       "<p>272016 rows × 11 columns</p>\n",
       "</div>"
      ],
      "text/plain": [
       "       Country  Year FoodCode  \\\n",
       "0        China  2002    A000G   \n",
       "1        China  2002    A000G   \n",
       "2        China  2002    A000G   \n",
       "3        China  2002    A000N   \n",
       "4        China  2002    A000N   \n",
       "...        ...   ...      ...   \n",
       "272338   India  2015    A0EQN   \n",
       "272339   India  2015    A0EQN   \n",
       "272340   India  2015    A0F4S   \n",
       "272341   India  2015    A0F4S   \n",
       "272342   India  2015    A0F4S   \n",
       "\n",
       "                                                 FoodName            AgeClass  \\\n",
       "0                                               Oat Grain                 All   \n",
       "1                                               Oat Grain                 All   \n",
       "2                                               Oat Grain                 All   \n",
       "3                                               Buckwheat                 All   \n",
       "4                                               Buckwheat                 All   \n",
       "...                                                   ...                 ...   \n",
       "272338  Soft Drinks With Minor Amounts Of Fruits Or Fl...                 All   \n",
       "272339  Soft Drinks With Minor Amounts Of Fruits Or Fl...  Adults and Elderly   \n",
       "272340                                      Coconut Water                 All   \n",
       "272341                                      Coconut Water  Adults and Elderly   \n",
       "272342                                      Coconut Water                 All   \n",
       "\n",
       "       SourceAgeClass  Gender  Number_of_consumers  Number_of_subjects  \\\n",
       "0                 All     All                 1157               66172   \n",
       "1                 All  Female                  608               33953   \n",
       "2                 All    Male                  549               32219   \n",
       "3                 All     All                  167               66172   \n",
       "4                 All  Female                   82               33953   \n",
       "...               ...     ...                  ...                 ...   \n",
       "272338            All  Female                    8                 242   \n",
       "272339    15-49 years     All                    8                 242   \n",
       "272340            All     All                    7                 242   \n",
       "272341    15-49 years  Female                    7                 242   \n",
       "272342            All  Female                    7                 242   \n",
       "\n",
       "       ContinentCode Continent  \n",
       "0                 AS      Asia  \n",
       "1                 AS      Asia  \n",
       "2                 AS      Asia  \n",
       "3                 AS      Asia  \n",
       "4                 AS      Asia  \n",
       "...              ...       ...  \n",
       "272338            AS      Asia  \n",
       "272339            AS      Asia  \n",
       "272340            AS      Asia  \n",
       "272341            AS      Asia  \n",
       "272342            AS      Asia  \n",
       "\n",
       "[272016 rows x 11 columns]"
      ]
     },
     "execution_count": 1829,
     "metadata": {},
     "output_type": "execute_result"
    }
   ],
   "source": [
    "conti_names = {\t# stworzenie słownika dla kontynentów, żeby móc zamienić kody kontynentów na nazwy kontynentów\n",
    "\t\t\t\t'AS':'Asia',\n",
    "\t\t\t\t'EU' : 'Europe',\n",
    "                'NA' : 'North America',\n",
    "                'SA' : 'South America',\n",
    "                'AF' : 'Africa'\n",
    "                }\n",
    "continent['Continent'] = continent['ContinentCode'].map(conti_names)\n",
    "continent"
   ]
  },
  {
   "cell_type": "code",
   "execution_count": 1830,
   "id": "22f634e1-c493-44f7-8870-08173620496b",
   "metadata": {
    "tags": []
   },
   "outputs": [
    {
     "data": {
      "text/plain": [
       "array(['Asia', 'Europe', 'North America', 'South America', 'Africa'],\n",
       "      dtype=object)"
      ]
     },
     "execution_count": 1830,
     "metadata": {},
     "output_type": "execute_result"
    }
   ],
   "source": [
    "continent['Continent'].unique()"
   ]
  },
  {
   "cell_type": "markdown",
   "id": "32a80a5b-d158-4b99-a26d-5c9389894d46",
   "metadata": {},
   "source": [
    "### Jak widać wszystko ładnie się udało, wiec moge przypisać continent do food i ponownie stworzyć dataframes dla każdej płci"
   ]
  },
  {
   "cell_type": "code",
   "execution_count": 1831,
   "id": "67b5cfb1-4136-4af4-8595-daefef6e123c",
   "metadata": {
    "tags": []
   },
   "outputs": [
    {
     "data": {
      "text/plain": [
       "ContinentCode         AFASEUNASA\n",
       "Number_of_subjects        518734\n",
       "dtype: object"
      ]
     },
     "execution_count": 1831,
     "metadata": {},
     "output_type": "execute_result"
    }
   ],
   "source": [
    "food = continent\n",
    "food_all = food.loc[food['Gender'] == \"All\"]\n",
    "food_con = food_all.groupby(['ContinentCode','Number_of_subjects']).sum().reset_index()\n",
    "food_con = food_con.groupby(['ContinentCode']).sum().reset_index()\n",
    "food_con = food_con[['ContinentCode','Number_of_subjects']].sort_values(by='Number_of_subjects', ascending=False)\n",
    "food_con = food_con.groupby(['ContinentCode']).sum().reset_index()\n",
    "food_con.sum()"
   ]
  },
  {
   "cell_type": "code",
   "execution_count": 1832,
   "id": "c6e4716a-4561-4263-a6b3-550f3d93af75",
   "metadata": {
    "tags": []
   },
   "outputs": [
    {
     "data": {
      "text/plain": [
       "Country               BrazilChinaUnited States Of AmericaRepublic Of...\n",
       "Number_of_subjects                                               523051\n",
       "dtype: object"
      ]
     },
     "execution_count": 1832,
     "metadata": {},
     "output_type": "execute_result"
    }
   ],
   "source": [
    "most_sub_ctry.sum()"
   ]
  },
  {
   "cell_type": "markdown",
   "id": "b7c23b8b-e656-40a8-a3b6-228dc4f98e7c",
   "metadata": {},
   "source": [
    "### Niestety ale robiąc to w ten sposob, tracę ponad 4000 wyników. Zbyt ważne jest rzeczywiste przedstawienie danych, żeby móc sobie pozwolić na taką stratę, tym bardziej nie wiedząć skąd konkretnie ona pochodzi, wiec wykonam to dodając pare kroków wcześniej."
   ]
  },
  {
   "cell_type": "code",
   "execution_count": 1833,
   "id": "d03c8eb1-d7ab-403c-86c9-82f4905ba1fd",
   "metadata": {
    "tags": []
   },
   "outputs": [
    {
     "data": {
      "text/plain": [
       "ContinentCode         SASASASASASASASASASASASASASASASASASASASASASASA...\n",
       "Number_of_subjects                                               523051\n",
       "dtype: object"
      ]
     },
     "execution_count": 1833,
     "metadata": {},
     "output_type": "execute_result"
    }
   ],
   "source": [
    "food_ctry = food_all.groupby(['Country','Number_of_subjects']).sum().reset_index()\n",
    "food_ctry = food_ctry.groupby(['Country']).sum().reset_index()\n",
    "food_con = food_ctry.groupby(['ContinentCode','Number_of_subjects']).sum().reset_index()\n",
    "food_con = food_con.groupby(['ContinentCode']).sum().reset_index()\n",
    "food_con = food_con[['ContinentCode','Number_of_subjects']].sort_values(by='Number_of_subjects', ascending=False)\n",
    "\n",
    "food_con.sum()"
   ]
  },
  {
   "cell_type": "markdown",
   "id": "0718dbfa-55ec-4966-8d1b-04e52427375d",
   "metadata": {},
   "source": [
    "###  Otrzymany wynik jest taki sam jak w most_sub_ctry ale niestety kontynenty też są zgrupowane, wiec muszę odciać wszystko poza pierwszymi literami kodu, co pozwoli to dobrze podsumować.\n"
   ]
  },
  {
   "cell_type": "code",
   "execution_count": 1834,
   "id": "7703cc7f-2cca-4c37-926e-1e8545f96da5",
   "metadata": {
    "tags": []
   },
   "outputs": [
    {
     "data": {
      "text/html": [
       "<div>\n",
       "<style scoped>\n",
       "    .dataframe tbody tr th:only-of-type {\n",
       "        vertical-align: middle;\n",
       "    }\n",
       "\n",
       "    .dataframe tbody tr th {\n",
       "        vertical-align: top;\n",
       "    }\n",
       "\n",
       "    .dataframe thead th {\n",
       "        text-align: right;\n",
       "    }\n",
       "</style>\n",
       "<table border=\"1\" class=\"dataframe\">\n",
       "  <thead>\n",
       "    <tr style=\"text-align: right;\">\n",
       "      <th></th>\n",
       "      <th>ContinentCode</th>\n",
       "      <th>Number_of_subjects</th>\n",
       "    </tr>\n",
       "  </thead>\n",
       "  <tbody>\n",
       "    <tr>\n",
       "      <th>1</th>\n",
       "      <td>AS</td>\n",
       "      <td>187248</td>\n",
       "    </tr>\n",
       "    <tr>\n",
       "      <th>4</th>\n",
       "      <td>SA</td>\n",
       "      <td>144248</td>\n",
       "    </tr>\n",
       "    <tr>\n",
       "      <th>2</th>\n",
       "      <td>EU</td>\n",
       "      <td>108344</td>\n",
       "    </tr>\n",
       "    <tr>\n",
       "      <th>3</th>\n",
       "      <td>NA</td>\n",
       "      <td>73032</td>\n",
       "    </tr>\n",
       "    <tr>\n",
       "      <th>0</th>\n",
       "      <td>AF</td>\n",
       "      <td>10179</td>\n",
       "    </tr>\n",
       "  </tbody>\n",
       "</table>\n",
       "</div>"
      ],
      "text/plain": [
       "  ContinentCode  Number_of_subjects\n",
       "1            AS              187248\n",
       "4            SA              144248\n",
       "2            EU              108344\n",
       "3            NA               73032\n",
       "0            AF               10179"
      ]
     },
     "execution_count": 1834,
     "metadata": {},
     "output_type": "execute_result"
    }
   ],
   "source": [
    "food_con['ContinentCode'] = food_con['ContinentCode'].apply(lambda x: x[0:2])\n",
    "food_con = food_con.groupby(['ContinentCode']).sum().reset_index().sort_values(by='Number_of_subjects', ascending=False)\n",
    "food_con"
   ]
  },
  {
   "cell_type": "markdown",
   "id": "75efd4a9-61fd-4bd0-a0b4-d91fb3a39c3d",
   "metadata": {},
   "source": [
    "### Wszystko poszło dobrze, więc mogę teraz wizualizować, tylko jeszcze dodam nazwy kontynentów "
   ]
  },
  {
   "cell_type": "code",
   "execution_count": 1835,
   "id": "c6acd049-aa77-48fc-bdb9-087f8170d4af",
   "metadata": {
    "tags": []
   },
   "outputs": [
    {
     "data": {
      "text/html": [
       "<div>\n",
       "<style scoped>\n",
       "    .dataframe tbody tr th:only-of-type {\n",
       "        vertical-align: middle;\n",
       "    }\n",
       "\n",
       "    .dataframe tbody tr th {\n",
       "        vertical-align: top;\n",
       "    }\n",
       "\n",
       "    .dataframe thead th {\n",
       "        text-align: right;\n",
       "    }\n",
       "</style>\n",
       "<table border=\"1\" class=\"dataframe\">\n",
       "  <thead>\n",
       "    <tr style=\"text-align: right;\">\n",
       "      <th></th>\n",
       "      <th>ContinentCode</th>\n",
       "      <th>Number_of_subjects</th>\n",
       "      <th>Continent</th>\n",
       "    </tr>\n",
       "  </thead>\n",
       "  <tbody>\n",
       "    <tr>\n",
       "      <th>1</th>\n",
       "      <td>AS</td>\n",
       "      <td>187248</td>\n",
       "      <td>Asia</td>\n",
       "    </tr>\n",
       "    <tr>\n",
       "      <th>4</th>\n",
       "      <td>SA</td>\n",
       "      <td>144248</td>\n",
       "      <td>South America</td>\n",
       "    </tr>\n",
       "    <tr>\n",
       "      <th>2</th>\n",
       "      <td>EU</td>\n",
       "      <td>108344</td>\n",
       "      <td>Europe</td>\n",
       "    </tr>\n",
       "    <tr>\n",
       "      <th>3</th>\n",
       "      <td>NA</td>\n",
       "      <td>73032</td>\n",
       "      <td>North America</td>\n",
       "    </tr>\n",
       "    <tr>\n",
       "      <th>0</th>\n",
       "      <td>AF</td>\n",
       "      <td>10179</td>\n",
       "      <td>Africa</td>\n",
       "    </tr>\n",
       "  </tbody>\n",
       "</table>\n",
       "</div>"
      ],
      "text/plain": [
       "  ContinentCode  Number_of_subjects      Continent\n",
       "1            AS              187248           Asia\n",
       "4            SA              144248  South America\n",
       "2            EU              108344         Europe\n",
       "3            NA               73032  North America\n",
       "0            AF               10179         Africa"
      ]
     },
     "execution_count": 1835,
     "metadata": {},
     "output_type": "execute_result"
    }
   ],
   "source": [
    "food_con['Continent'] = food_con['ContinentCode'].map(conti_names)\n",
    "food_con"
   ]
  },
  {
   "cell_type": "code",
   "execution_count": 1836,
   "id": "dd705f69-b175-48ef-9c61-b4a74c5a4b61",
   "metadata": {},
   "outputs": [
    {
     "data": {
      "image/png": "[encoded data removed]",
      "text/plain": [
       "<Figure size 640x480 with 1 Axes>"
      ]
     },
     "metadata": {},
     "output_type": "display_data"
    }
   ],
   "source": [
    "labels = food_con['Continent']\n",
    "plt.pie(food_con['Number_of_subjects'], autopct = '%.2f %%', explode=(0,0,0,.05,.1), pctdistance = (0.8))\n",
    "plt.legend(labels, title='Continents', loc=\"center left\", bbox_to_anchor=(1, 0.75), fontsize=\"13\")\n",
    "plt.title('Percent of subjects per Continents')\n",
    "plt.show()"
   ]
  },
  {
   "cell_type": "markdown",
   "id": "cb35bd69-3cde-4b05-baa0-ddf62247e248",
   "metadata": {},
   "source": [
    "### Na tym wykresie widać natomiast, że nie jest, aż tak złe rozłożenie badanych. Afryka  wiadomo najgorzej wypada ale jednak reszta kontynentów względnie blisko siebie sie znajduje. Pozwala to jednak wyznaczyć ogólne trendy na świecie, co do spożywanych produktów. Gdyby nie sprawdzić tego, jak wygląda rozłożenie na kontynenty, łatwo by można uznać, że nie jest warte robienie globalnej analizy tylko dokładnej dla kraju lub kontynentu.\n",
    "### Teraz natomiast zajmę sie takim przygotowaniem danych, żeby móc wygodnie przeanalizować najbardziej spożywane produkty, ponieważ nie wszędzie jest AgeClass dla All, wiec inny sposob muszę znaleźć. Będę to wstepnie robić na Oat Grain dla Włoch"
   ]
  },
  {
   "cell_type": "code",
   "execution_count": 1837,
   "id": "f5857136-2f66-4028-a3d7-ee8e4007051d",
   "metadata": {
    "tags": []
   },
   "outputs": [
    {
     "data": {
      "text/html": [
       "<div>\n",
       "<style scoped>\n",
       "    .dataframe tbody tr th:only-of-type {\n",
       "        vertical-align: middle;\n",
       "    }\n",
       "\n",
       "    .dataframe tbody tr th {\n",
       "        vertical-align: top;\n",
       "    }\n",
       "\n",
       "    .dataframe thead th {\n",
       "        text-align: right;\n",
       "    }\n",
       "</style>\n",
       "<table border=\"1\" class=\"dataframe\">\n",
       "  <thead>\n",
       "    <tr style=\"text-align: right;\">\n",
       "      <th></th>\n",
       "      <th>Country</th>\n",
       "      <th>Year</th>\n",
       "      <th>FoodCode</th>\n",
       "      <th>FoodName</th>\n",
       "      <th>AgeClass</th>\n",
       "      <th>SourceAgeClass</th>\n",
       "      <th>Gender</th>\n",
       "      <th>Number_of_consumers</th>\n",
       "      <th>Number_of_subjects</th>\n",
       "      <th>ContinentCode</th>\n",
       "      <th>Continent</th>\n",
       "    </tr>\n",
       "  </thead>\n",
       "  <tbody>\n",
       "    <tr>\n",
       "      <th>212154</th>\n",
       "      <td>Italy</td>\n",
       "      <td>2006</td>\n",
       "      <td>A000G</td>\n",
       "      <td>Oat Grain</td>\n",
       "      <td>All</td>\n",
       "      <td>All</td>\n",
       "      <td>All</td>\n",
       "      <td>4</td>\n",
       "      <td>3307</td>\n",
       "      <td>EU</td>\n",
       "      <td>Europe</td>\n",
       "    </tr>\n",
       "    <tr>\n",
       "      <th>212169</th>\n",
       "      <td>Italy</td>\n",
       "      <td>2006</td>\n",
       "      <td>A000G</td>\n",
       "      <td>Oat Grain</td>\n",
       "      <td>Infants and Toddlers</td>\n",
       "      <td>0-35 months</td>\n",
       "      <td>All</td>\n",
       "      <td>0</td>\n",
       "      <td>36</td>\n",
       "      <td>EU</td>\n",
       "      <td>Europe</td>\n",
       "    </tr>\n",
       "    <tr>\n",
       "      <th>212170</th>\n",
       "      <td>Italy</td>\n",
       "      <td>2006</td>\n",
       "      <td>A000G</td>\n",
       "      <td>Oat Grain</td>\n",
       "      <td>Children and Adolescents</td>\n",
       "      <td>3-5 years</td>\n",
       "      <td>All</td>\n",
       "      <td>0</td>\n",
       "      <td>67</td>\n",
       "      <td>EU</td>\n",
       "      <td>Europe</td>\n",
       "    </tr>\n",
       "    <tr>\n",
       "      <th>212171</th>\n",
       "      <td>Italy</td>\n",
       "      <td>2006</td>\n",
       "      <td>A000G</td>\n",
       "      <td>Oat Grain</td>\n",
       "      <td>Children and Adolescents</td>\n",
       "      <td>6-14 years</td>\n",
       "      <td>All</td>\n",
       "      <td>0</td>\n",
       "      <td>284</td>\n",
       "      <td>EU</td>\n",
       "      <td>Europe</td>\n",
       "    </tr>\n",
       "    <tr>\n",
       "      <th>212172</th>\n",
       "      <td>Italy</td>\n",
       "      <td>2006</td>\n",
       "      <td>A000G</td>\n",
       "      <td>Oat Grain</td>\n",
       "      <td>Adults and Elderly</td>\n",
       "      <td>15-49 years</td>\n",
       "      <td>All</td>\n",
       "      <td>2</td>\n",
       "      <td>1603</td>\n",
       "      <td>EU</td>\n",
       "      <td>Europe</td>\n",
       "    </tr>\n",
       "    <tr>\n",
       "      <th>212173</th>\n",
       "      <td>Italy</td>\n",
       "      <td>2006</td>\n",
       "      <td>A000G</td>\n",
       "      <td>Oat Grain</td>\n",
       "      <td>Adults and Elderly</td>\n",
       "      <td>50-74 years</td>\n",
       "      <td>All</td>\n",
       "      <td>2</td>\n",
       "      <td>1089</td>\n",
       "      <td>EU</td>\n",
       "      <td>Europe</td>\n",
       "    </tr>\n",
       "    <tr>\n",
       "      <th>212174</th>\n",
       "      <td>Italy</td>\n",
       "      <td>2006</td>\n",
       "      <td>A000G</td>\n",
       "      <td>Oat Grain</td>\n",
       "      <td>Adults and Elderly</td>\n",
       "      <td>&gt;75 years</td>\n",
       "      <td>All</td>\n",
       "      <td>0</td>\n",
       "      <td>228</td>\n",
       "      <td>EU</td>\n",
       "      <td>Europe</td>\n",
       "    </tr>\n",
       "  </tbody>\n",
       "</table>\n",
       "</div>"
      ],
      "text/plain": [
       "       Country  Year FoodCode   FoodName                  AgeClass  \\\n",
       "212154   Italy  2006    A000G  Oat Grain                       All   \n",
       "212169   Italy  2006    A000G  Oat Grain      Infants and Toddlers   \n",
       "212170   Italy  2006    A000G  Oat Grain  Children and Adolescents   \n",
       "212171   Italy  2006    A000G  Oat Grain  Children and Adolescents   \n",
       "212172   Italy  2006    A000G  Oat Grain        Adults and Elderly   \n",
       "212173   Italy  2006    A000G  Oat Grain        Adults and Elderly   \n",
       "212174   Italy  2006    A000G  Oat Grain        Adults and Elderly   \n",
       "\n",
       "       SourceAgeClass Gender  Number_of_consumers  Number_of_subjects  \\\n",
       "212154            All    All                    4                3307   \n",
       "212169    0-35 months    All                    0                  36   \n",
       "212170      3-5 years    All                    0                  67   \n",
       "212171     6-14 years    All                    0                 284   \n",
       "212172    15-49 years    All                    2                1603   \n",
       "212173    50-74 years    All                    2                1089   \n",
       "212174      >75 years    All                    0                 228   \n",
       "\n",
       "       ContinentCode Continent  \n",
       "212154            EU    Europe  \n",
       "212169            EU    Europe  \n",
       "212170            EU    Europe  \n",
       "212171            EU    Europe  \n",
       "212172            EU    Europe  \n",
       "212173            EU    Europe  \n",
       "212174            EU    Europe  "
      ]
     },
     "execution_count": 1837,
     "metadata": {},
     "output_type": "execute_result"
    }
   ],
   "source": [
    "it_oat_all = food_all.loc[food_all['FoodName'] == \"Oat Grain\"]\n",
    "it_oat_all = it_oat_all.loc[it_oat_all['Country'] == \"Italy\"]\n",
    "it_oat_all"
   ]
  },
  {
   "cell_type": "code",
   "execution_count": 1838,
   "id": "cdc601f8-5d80-4dd4-8a05-9a7d52e24fb5",
   "metadata": {
    "tags": []
   },
   "outputs": [
    {
     "data": {
      "text/html": [
       "<div>\n",
       "<style scoped>\n",
       "    .dataframe tbody tr th:only-of-type {\n",
       "        vertical-align: middle;\n",
       "    }\n",
       "\n",
       "    .dataframe tbody tr th {\n",
       "        vertical-align: top;\n",
       "    }\n",
       "\n",
       "    .dataframe thead th {\n",
       "        text-align: right;\n",
       "    }\n",
       "</style>\n",
       "<table border=\"1\" class=\"dataframe\">\n",
       "  <thead>\n",
       "    <tr style=\"text-align: right;\">\n",
       "      <th></th>\n",
       "      <th>Country</th>\n",
       "      <th>FoodName</th>\n",
       "      <th>Year</th>\n",
       "      <th>FoodCode</th>\n",
       "      <th>AgeClass</th>\n",
       "      <th>SourceAgeClass</th>\n",
       "      <th>Gender</th>\n",
       "      <th>Number_of_consumers</th>\n",
       "      <th>Number_of_subjects</th>\n",
       "      <th>ContinentCode</th>\n",
       "      <th>Continent</th>\n",
       "    </tr>\n",
       "  </thead>\n",
       "  <tbody>\n",
       "    <tr>\n",
       "      <th>0</th>\n",
       "      <td>Italy</td>\n",
       "      <td>Oat Grain</td>\n",
       "      <td>12036</td>\n",
       "      <td>A000GA000GA000GA000GA000GA000G</td>\n",
       "      <td>Infants and ToddlersChildren and AdolescentsCh...</td>\n",
       "      <td>0-35 months3-5 years6-14 years15-49 years50-74...</td>\n",
       "      <td>AllAllAllAllAllAll</td>\n",
       "      <td>4</td>\n",
       "      <td>3307</td>\n",
       "      <td>EUEUEUEUEUEU</td>\n",
       "      <td>EuropeEuropeEuropeEuropeEuropeEurope</td>\n",
       "    </tr>\n",
       "  </tbody>\n",
       "</table>\n",
       "</div>"
      ],
      "text/plain": [
       "  Country   FoodName   Year                        FoodCode  \\\n",
       "0   Italy  Oat Grain  12036  A000GA000GA000GA000GA000GA000G   \n",
       "\n",
       "                                            AgeClass  \\\n",
       "0  Infants and ToddlersChildren and AdolescentsCh...   \n",
       "\n",
       "                                      SourceAgeClass              Gender  \\\n",
       "0  0-35 months3-5 years6-14 years15-49 years50-74...  AllAllAllAllAllAll   \n",
       "\n",
       "   Number_of_consumers  Number_of_subjects ContinentCode  \\\n",
       "0                    4                3307  EUEUEUEUEUEU   \n",
       "\n",
       "                              Continent  \n",
       "0  EuropeEuropeEuropeEuropeEuropeEurope  "
      ]
     },
     "execution_count": 1838,
     "metadata": {},
     "output_type": "execute_result"
    }
   ],
   "source": [
    "it_oat_all[1:].groupby(['Country','FoodName']).sum().reset_index() #sprawdzam czy suma wartości bez SourceAgeClass=All są równe All\n"
   ]
  },
  {
   "cell_type": "markdown",
   "id": "28530ff9-6a7c-4cce-b452-cb16733cb567",
   "metadata": {},
   "source": [
    "### Chyba najlepiej bedzie pozbyć się rzędu dla SourceAgeClass w którym jest All i potem podsumować "
   ]
  },
  {
   "cell_type": "code",
   "execution_count": 1839,
   "id": "06df5722-0826-4b8e-98c4-d5ad453a6e55",
   "metadata": {
    "tags": []
   },
   "outputs": [
    {
     "data": {
      "text/html": [
       "<div>\n",
       "<style scoped>\n",
       "    .dataframe tbody tr th:only-of-type {\n",
       "        vertical-align: middle;\n",
       "    }\n",
       "\n",
       "    .dataframe tbody tr th {\n",
       "        vertical-align: top;\n",
       "    }\n",
       "\n",
       "    .dataframe thead th {\n",
       "        text-align: right;\n",
       "    }\n",
       "</style>\n",
       "<table border=\"1\" class=\"dataframe\">\n",
       "  <thead>\n",
       "    <tr style=\"text-align: right;\">\n",
       "      <th></th>\n",
       "      <th>Country</th>\n",
       "      <th>Year</th>\n",
       "      <th>FoodCode</th>\n",
       "      <th>FoodName</th>\n",
       "      <th>AgeClass</th>\n",
       "      <th>SourceAgeClass</th>\n",
       "      <th>Gender</th>\n",
       "      <th>Number_of_consumers</th>\n",
       "      <th>Number_of_subjects</th>\n",
       "      <th>ContinentCode</th>\n",
       "      <th>Continent</th>\n",
       "    </tr>\n",
       "  </thead>\n",
       "  <tbody>\n",
       "    <tr>\n",
       "      <th>212169</th>\n",
       "      <td>Italy</td>\n",
       "      <td>2006</td>\n",
       "      <td>A000G</td>\n",
       "      <td>Oat Grain</td>\n",
       "      <td>Infants and Toddlers</td>\n",
       "      <td>0-35 months</td>\n",
       "      <td>All</td>\n",
       "      <td>0</td>\n",
       "      <td>36</td>\n",
       "      <td>EU</td>\n",
       "      <td>Europe</td>\n",
       "    </tr>\n",
       "    <tr>\n",
       "      <th>212170</th>\n",
       "      <td>Italy</td>\n",
       "      <td>2006</td>\n",
       "      <td>A000G</td>\n",
       "      <td>Oat Grain</td>\n",
       "      <td>Children and Adolescents</td>\n",
       "      <td>3-5 years</td>\n",
       "      <td>All</td>\n",
       "      <td>0</td>\n",
       "      <td>67</td>\n",
       "      <td>EU</td>\n",
       "      <td>Europe</td>\n",
       "    </tr>\n",
       "    <tr>\n",
       "      <th>212171</th>\n",
       "      <td>Italy</td>\n",
       "      <td>2006</td>\n",
       "      <td>A000G</td>\n",
       "      <td>Oat Grain</td>\n",
       "      <td>Children and Adolescents</td>\n",
       "      <td>6-14 years</td>\n",
       "      <td>All</td>\n",
       "      <td>0</td>\n",
       "      <td>284</td>\n",
       "      <td>EU</td>\n",
       "      <td>Europe</td>\n",
       "    </tr>\n",
       "    <tr>\n",
       "      <th>212172</th>\n",
       "      <td>Italy</td>\n",
       "      <td>2006</td>\n",
       "      <td>A000G</td>\n",
       "      <td>Oat Grain</td>\n",
       "      <td>Adults and Elderly</td>\n",
       "      <td>15-49 years</td>\n",
       "      <td>All</td>\n",
       "      <td>2</td>\n",
       "      <td>1603</td>\n",
       "      <td>EU</td>\n",
       "      <td>Europe</td>\n",
       "    </tr>\n",
       "    <tr>\n",
       "      <th>212173</th>\n",
       "      <td>Italy</td>\n",
       "      <td>2006</td>\n",
       "      <td>A000G</td>\n",
       "      <td>Oat Grain</td>\n",
       "      <td>Adults and Elderly</td>\n",
       "      <td>50-74 years</td>\n",
       "      <td>All</td>\n",
       "      <td>2</td>\n",
       "      <td>1089</td>\n",
       "      <td>EU</td>\n",
       "      <td>Europe</td>\n",
       "    </tr>\n",
       "    <tr>\n",
       "      <th>212174</th>\n",
       "      <td>Italy</td>\n",
       "      <td>2006</td>\n",
       "      <td>A000G</td>\n",
       "      <td>Oat Grain</td>\n",
       "      <td>Adults and Elderly</td>\n",
       "      <td>&gt;75 years</td>\n",
       "      <td>All</td>\n",
       "      <td>0</td>\n",
       "      <td>228</td>\n",
       "      <td>EU</td>\n",
       "      <td>Europe</td>\n",
       "    </tr>\n",
       "  </tbody>\n",
       "</table>\n",
       "</div>"
      ],
      "text/plain": [
       "       Country  Year FoodCode   FoodName                  AgeClass  \\\n",
       "212169   Italy  2006    A000G  Oat Grain      Infants and Toddlers   \n",
       "212170   Italy  2006    A000G  Oat Grain  Children and Adolescents   \n",
       "212171   Italy  2006    A000G  Oat Grain  Children and Adolescents   \n",
       "212172   Italy  2006    A000G  Oat Grain        Adults and Elderly   \n",
       "212173   Italy  2006    A000G  Oat Grain        Adults and Elderly   \n",
       "212174   Italy  2006    A000G  Oat Grain        Adults and Elderly   \n",
       "\n",
       "       SourceAgeClass Gender  Number_of_consumers  Number_of_subjects  \\\n",
       "212169    0-35 months    All                    0                  36   \n",
       "212170      3-5 years    All                    0                  67   \n",
       "212171     6-14 years    All                    0                 284   \n",
       "212172    15-49 years    All                    2                1603   \n",
       "212173    50-74 years    All                    2                1089   \n",
       "212174      >75 years    All                    0                 228   \n",
       "\n",
       "       ContinentCode Continent  \n",
       "212169            EU    Europe  \n",
       "212170            EU    Europe  \n",
       "212171            EU    Europe  \n",
       "212172            EU    Europe  \n",
       "212173            EU    Europe  \n",
       "212174            EU    Europe  "
      ]
     },
     "execution_count": 1839,
     "metadata": {},
     "output_type": "execute_result"
    }
   ],
   "source": [
    "# tworzę maskę która zawiera rzędy z All\n",
    "mask = it_oat_all['AgeClass'] == 'All'\n",
    "\n",
    "# używając ~ i maski pozbywam się z it_oat_all tego co zawiera maska\n",
    "it_oat_all = it_oat_all[~mask]\n",
    "it_oat_all"
   ]
  },
  {
   "cell_type": "markdown",
   "id": "836c448e-0b2f-4da6-bd85-7f770e27b127",
   "metadata": {},
   "source": [
    "### Widać, że tam metoda zadziałała, wiec muszę wykonać to na podstawowej dataframe i potem podzielić na płcie"
   ]
  },
  {
   "cell_type": "code",
   "execution_count": 1840,
   "id": "ca72579a-7d83-4950-b219-1cf9dbd78498",
   "metadata": {
    "tags": []
   },
   "outputs": [],
   "source": [
    "mask = food['AgeClass']== 'All'\n",
    "food = food[~mask]"
   ]
  },
  {
   "cell_type": "code",
   "execution_count": 1841,
   "id": "1e6573ad-2cc6-4261-81a6-6b1b48674539",
   "metadata": {},
   "outputs": [],
   "source": [
    "food_all = food.loc[food['Gender'] == \"All\"]\n",
    "food_fem = food.loc[food['Gender'] == \"Female\"]\n",
    "food_men = food.loc[food['Gender'] == \"Male\"]"
   ]
  },
  {
   "cell_type": "code",
   "execution_count": 1842,
   "id": "7139657f-9fe3-4984-a4a7-54fd5d371861",
   "metadata": {},
   "outputs": [
    {
     "data": {
      "text/html": [
       "<div>\n",
       "<style scoped>\n",
       "    .dataframe tbody tr th:only-of-type {\n",
       "        vertical-align: middle;\n",
       "    }\n",
       "\n",
       "    .dataframe tbody tr th {\n",
       "        vertical-align: top;\n",
       "    }\n",
       "\n",
       "    .dataframe thead th {\n",
       "        text-align: right;\n",
       "    }\n",
       "</style>\n",
       "<table border=\"1\" class=\"dataframe\">\n",
       "  <thead>\n",
       "    <tr style=\"text-align: right;\">\n",
       "      <th></th>\n",
       "      <th>FoodName</th>\n",
       "      <th>Number_of_consumers</th>\n",
       "    </tr>\n",
       "  </thead>\n",
       "  <tbody>\n",
       "    <tr>\n",
       "      <th>1</th>\n",
       "      <td>(All Cereals)</td>\n",
       "      <td>142214</td>\n",
       "    </tr>\n",
       "    <tr>\n",
       "      <th>2811</th>\n",
       "      <td>Wheat Bread And Rolls, White (Refined Flour)</td>\n",
       "      <td>135436</td>\n",
       "    </tr>\n",
       "    <tr>\n",
       "      <th>1836</th>\n",
       "      <td>Onions</td>\n",
       "      <td>112344</td>\n",
       "    </tr>\n",
       "    <tr>\n",
       "      <th>2249</th>\n",
       "      <td>Rice Grain, Polished</td>\n",
       "      <td>105857</td>\n",
       "    </tr>\n",
       "    <tr>\n",
       "      <th>1997</th>\n",
       "      <td>Pig Fresh Meat</td>\n",
       "      <td>104118</td>\n",
       "    </tr>\n",
       "    <tr>\n",
       "      <th>2652</th>\n",
       "      <td>Tap Water</td>\n",
       "      <td>92605</td>\n",
       "    </tr>\n",
       "    <tr>\n",
       "      <th>2092</th>\n",
       "      <td>Potatoes</td>\n",
       "      <td>89154</td>\n",
       "    </tr>\n",
       "    <tr>\n",
       "      <th>375</th>\n",
       "      <td>Carrots</td>\n",
       "      <td>87843</td>\n",
       "    </tr>\n",
       "    <tr>\n",
       "      <th>1126</th>\n",
       "      <td>Garlic</td>\n",
       "      <td>84415</td>\n",
       "    </tr>\n",
       "    <tr>\n",
       "      <th>2243</th>\n",
       "      <td>Rice Grain</td>\n",
       "      <td>82719</td>\n",
       "    </tr>\n",
       "  </tbody>\n",
       "</table>\n",
       "</div>"
      ],
      "text/plain": [
       "                                          FoodName  Number_of_consumers\n",
       "1                                    (All Cereals)               142214\n",
       "2811  Wheat Bread And Rolls, White (Refined Flour)               135436\n",
       "1836                                        Onions               112344\n",
       "2249                          Rice Grain, Polished               105857\n",
       "1997                                Pig Fresh Meat               104118\n",
       "2652                                     Tap Water                92605\n",
       "2092                                      Potatoes                89154\n",
       "375                                        Carrots                87843\n",
       "1126                                        Garlic                84415\n",
       "2243                                    Rice Grain                82719"
      ]
     },
     "execution_count": 1842,
     "metadata": {},
     "output_type": "execute_result"
    }
   ],
   "source": [
    "most_consumed_all = food_all.groupby(['FoodName']).sum().reset_index().sort_values(by='Number_of_consumers', ascending=False)\n",
    "most_consumed_fem = food_fem.groupby(['FoodName']).sum().reset_index().sort_values(by='Number_of_consumers', ascending=False)\n",
    "most_consumed_men = food_men.groupby(['FoodName']).sum().reset_index().sort_values(by='Number_of_consumers', ascending=False)\n",
    "most_consumed_all[['FoodName','Number_of_consumers']].head(10)"
   ]
  },
  {
   "cell_type": "code",
   "execution_count": 1843,
   "id": "eb87f8a1-8525-4bba-82a8-f43572328b10",
   "metadata": {
    "tags": []
   },
   "outputs": [
    {
     "data": {
      "image/png": "[encoded data removed]",
      "text/plain": [
       "<Figure size 640x480 with 1 Axes>"
      ]
     },
     "metadata": {},
     "output_type": "display_data"
    }
   ],
   "source": [
    "show_most_consumed_all = most_consumed_all.head(30)\n",
    "plt.bar(show_most_consumed_all['FoodName'], show_most_consumed_all['Number_of_consumers'])\n",
    "plt.xticks(show_most_consumed_all['FoodName'], rotation='vertical', size=10)\n",
    "plt.ylabel(\"Number of consumers\")\n",
    "plt.xlabel(\"Food Names\")\n",
    "plt.title(\"Most popular foods\")\n",
    "plt.show()"
   ]
  },
  {
   "cell_type": "markdown",
   "id": "ae9f46ca-1548-425e-8892-e9caf9772e7f",
   "metadata": {},
   "source": [
    "### Na wykresie widzimy że najpopularniejszym jedzeniem na świecie są płatki śniadaniowe. Wiadomo że to zbiera razem wszystkie rodzaje płatków ale nadal jest to niesamowite ze przebija to nawet najpopularniejsze warzywa albo zioła które ludzie wydawałoby się dodają do wszystkiego, takie jak np cebula, czosnek. Na drugim miejscu białe pieczywo. Te dwa produkty wskazują, że ludzie bardzo lubią proste produkty, łatwe i szybkie w przygotowaniu w szczególnosci, jeżeli chodzi o śniadania, bo jednak to z tym głownie kojarzą sie płatki i pieczywo. \n",
    "### Na szczęście później dzieje sie lepiej, cebula, ryż (nadal biały łuskany ale jednak już jest to produkt z wiekszą ilością aminokwasów i węglowodanów), co ciekawe wieprzowina jest na 5 miejscu, zazwyczaj wydaje się, że to kurczak króluje jako mięso ale na szczęście dane nie wiedzą co to błędne myślenie.\n",
    "### Ogólnym wnioskiem który można wyciągnąć z tych danych jest to, że górują proste produkty oraz widać tu wymieszanie wielu kultur"
   ]
  },
  {
   "cell_type": "code",
   "execution_count": 1844,
   "id": "1b48cd2e-31b6-4122-8927-819a4beac241",
   "metadata": {
    "tags": []
   },
   "outputs": [
    {
     "data": {
      "image/png": "[encoded data removed]",
      "text/plain": [
       "<Figure size 640x480 with 1 Axes>"
      ]
     },
     "metadata": {},
     "output_type": "display_data"
    }
   ],
   "source": [
    "#sprawdzić jak wygląda sprawa dla Europy\n",
    "food_all = food.loc[food['Gender'] == \"All\"]\n",
    "food_all_eu = food_all.loc[food_all['Continent'] == \"Europe\"]\n",
    "most_consumed_all_eu = food_all_eu.groupby(['FoodName']).sum().reset_index().sort_values(by='Number_of_consumers', ascending=False)\n",
    "most_consumed_all_eu = most_consumed_all_eu.head(30)\n",
    "\n",
    "plt.bar(most_consumed_all_eu['FoodName'], most_consumed_all_eu['Number_of_consumers'])\n",
    "plt.xticks(most_consumed_all_eu['FoodName'], rotation='vertical', size=10)\n",
    "plt.ylabel(\"Number of consumers\")\n",
    "plt.xlabel(\"Food Names\")\n",
    "plt.title(\"Most popular foods in Europe\")\n",
    "plt.show()"
   ]
  },
  {
   "cell_type": "markdown",
   "id": "14063dd3-3ffc-4221-8109-4594bfb1db60",
   "metadata": {},
   "source": [
    "### Gdy tylko przełączę dane na Europę widać różnicę w pierwszym produkcie, nie ma tu płatków śniadaniowych tylko woda z kranu. Może wynikać to z tego, bezpieczeństwo picia wody z kranu w Europie jest na dużo wyższym poziomie oraz, że były kampanie zachęcające do picia wody z kranu (w Poslce również je mieliśmy). Drugie miejsce Bez zmian, białe pieczywo króluje (zapewne nie bez winy jest tu Francja) ale potem znowu robi się ciekawie, cebula, marchew, masło czyli podstawy większości dań i sosów Europejskich takich jak risotto, rosół, Ragù alla bolognese, sosu demi glace i wiele innych. Również mięso z kurczaka znajduje się wyżej od wieprzowego. Mleko które też jak widać częściej jest spożywane w Europie niż w reszcie świata (badanie na to żę inne kraje maja spore uczulenie na laktoze). Niepokojącą rzeczą jest natomiast wysokie miejsce margaryny(poprzez tradycyjną rozumiem utwardzoną czy tą zawierającą tłuszcze trans) oraz soli i cukru (badanie na temat negatywnych skutków cukru i soli?). Dużo dalej znajduje sie natomiast ryż, widać że dużo mniej go spożywamy. Też niebezpieczna rzeczą jest to że rozdzielona jest sól na jodowaną i niejdowaną co znaczy że sól powinna być na wyższym miejscu. również wysokie miejsce pomidorów, czosnku i oliwy z oliwek pokazuje duży wpływ kuchni włoskiej, ogolnie na podstwie tego wykresu można zauważyć duży wpływ kuchni włoskiej i francuskiej na europę."
   ]
  },
  {
   "cell_type": "code",
   "execution_count": 1845,
   "id": "b34fd022-328c-4eef-a3e8-983032f891ee",
   "metadata": {
    "tags": []
   },
   "outputs": [
    {
     "data": {
      "image/png": "[encoded data removed]",
      "text/plain": [
       "<Figure size 640x480 with 2 Axes>"
      ]
     },
     "metadata": {},
     "output_type": "display_data"
    }
   ],
   "source": [
    "show_most_consumed_men = most_consumed_men.head(15)\n",
    "show_most_consumed_fem = most_consumed_fem.head(15)\n",
    "plt.subplot(1, 2, 1)\n",
    "plt.bar(show_most_consumed_men['FoodName'], show_most_consumed_men['Number_of_consumers'])\n",
    "plt.xticks(show_most_consumed_men['FoodName'], rotation='vertical', size=10)\n",
    "plt.ylabel(\"Number of consumers\")\n",
    "plt.xlabel(\"Food Names\")\n",
    "plt.title(\"Most popular foods for men\", y=1.05)\n",
    "\n",
    "plt.subplot(1, 2, 2)\n",
    "plt.bar(show_most_consumed_fem['FoodName'], show_most_consumed_fem['Number_of_consumers'])\n",
    "plt.xticks(show_most_consumed_fem['FoodName'], rotation='vertical', size=10)\n",
    "plt.xlabel(\"Food Names\")\n",
    "plt.title(\"Most popular foods for women\", y=1.05)\n",
    "\n",
    "plt.subplots_adjust(left=0.1,\n",
    "                    bottom=0.5,\n",
    "                    right=1.3,\n",
    "                    top=1.1,\n",
    "                    wspace=0.5,\n",
    "                    hspace=1)\n",
    "plt.show()"
   ]
  },
  {
   "cell_type": "code",
   "execution_count": 1846,
   "id": "3b4b5028-409f-43f9-ae5b-595671e94a9b",
   "metadata": {},
   "outputs": [],
   "source": [
    "#musze podzielić ilość kobiet która je płatki na całkowita ilość kobiet"
   ]
  },
  {
   "cell_type": "code",
   "execution_count": 1847,
   "id": "776402bf-59dd-4dae-a130-5476888f2488",
   "metadata": {
    "tags": []
   },
   "outputs": [
    {
     "data": {
      "text/plain": [
       "1   49.22\n",
       "Name: Number_of_consumers, dtype: float64"
      ]
     },
     "execution_count": 1847,
     "metadata": {},
     "output_type": "execute_result"
    }
   ],
   "source": [
    "show_most_consumed_fem[:1]['Number_of_consumers']/food_fem['Number_of_subjects'].unique().sum()*100\n"
   ]
  },
  {
   "cell_type": "code",
   "execution_count": 1848,
   "id": "e6da2b92-2ff6-4dee-8f55-66412e0d3add",
   "metadata": {
    "tags": []
   },
   "outputs": [
    {
     "data": {
      "text/plain": [
       "2694   48.40\n",
       "Name: Number_of_consumers, dtype: float64"
      ]
     },
     "execution_count": 1848,
     "metadata": {},
     "output_type": "execute_result"
    }
   ],
   "source": [
    "show_most_consumed_men[:1]['Number_of_consumers']/food_men['Number_of_subjects'].unique().sum()*100"
   ]
  },
  {
   "cell_type": "markdown",
   "id": "a6243f85-e76e-4293-a9df-b98200508d05",
   "metadata": {},
   "source": [
    "### <a class=\"anchor\" id=\"summary\"></a> Prównuja konsumpcje mężczyzn i kobiet dwie rzeczy najbardziej rzucają mi sie w oczy, pierwsza że płatki u obu płci są na pierwszym miejscu chociaż co ciekawe kobiety jedza o 0.59 pkt% wiecej płatków od mężczyzn. druga że u kobiet warzywa są na 3 miejscu a u mężczyzn na 6, najprawdopodobniej wynika to z tego że kobiety prędzej są na diecie wegeteriańskiej lub wegańskiej plus ogolnie tendencje wskazują żę społecznie przyjmuje sie że mężczyźni wiecej miesa mogą jesć na co wskazuje to badanie https://www.ncbi.nlm.nih.gov/pmc/articles/PMC3490048/ , ale dla dokładnej analizy tego zjawiska przydałoby sie wiecej danych ponieważ może to wynikać np że organizm mężczyzn potrzebuje wiecej mięsa np przez kreatynę które ono dostarcza ale skupiajmy sie na faktach. widać tu tendencje że kobiety jedzą wiecej warzyw. Również mięso wieprzowe u mężczyzn jest na wyższym miejscu. \n",
    "### Na podstawie tego co piszę można by wywnioskować że kobiety mają zdrowszą diete ale jednak nie można tak od razu zrobić, ponieważ po pierwsze te płatki których jednak wiecej spożywają ale również to że do top10 u kobiet załapuje sie cukier a u mężczyzn nie oraz żę tłuszcze u kobiet zajmują wyższe miejce. Na podstawie tego widać że nie jest to takie proste, isteniej możliwość że z powodu trzymania zdrowszej diety jeżeli chodzi o np obiady to w przypadku przekąsek a w szczególości tych słodkich i tłustych to kobiety ich wiecej spożywają. Może to wskazywać na prostą zależność że ludzie naturalnie szukają równowagi. \n",
    "### jeżeli chodzi o wnioski które by pomogły w tworzeniu odpowiedniego menu do restauracji to można do tego podejśc dwujako, ludzie lubią jeść proste i szybkie posiłki oraz rzecyz które znają dobrze, tylko pytanie czy w ludzie do restauracji chodzą po to żeby jeść to co zawsze? uważam że to zależy, jeżeli chodzi o takie miejsca jak bary mleczne, kuchnie domowe czy nawet kebaby to dobrze żeby były tam opcje które ludzie znają, ale natwomiast w przypadku restauracji wyższej klasy dużym plusem może być własnie wyjście z tej grupy najbardziej popularnych produktów, ludzie lubią odkrywać nowe rzeczy i może to pozostawić to na nich duże wrażenie, w końcu nie będą płacić dużo pieniędzy za coś co mogą zrobić w domu, własnie te rzeczy które są nietypowe, których nie zna wiekszość lub nie jest do nich przywyczajona mogą wywowałać zachwyt. do analizy tego dokładnie trzeba by użyć innych danych ale można takie wnioski wyciągnąć z tych wykresów "
   ]
  },
  {
   "cell_type": "markdown",
   "id": "e13fd353-11ad-4641-8b87-daef9de57a08",
   "metadata": {},
   "source": [
    "### porównanie dla mężczyzn i kobiet w europie"
   ]
  },
  {
   "cell_type": "code",
   "execution_count": 1849,
   "id": "2bd5c9a6-dd26-4f2e-8be0-05cd11b295ca",
   "metadata": {
    "tags": []
   },
   "outputs": [
    {
     "data": {
      "image/png": "[encoded data removed]",
      "text/plain": [
       "<Figure size 640x480 with 2 Axes>"
      ]
     },
     "metadata": {},
     "output_type": "display_data"
    }
   ],
   "source": [
    "food_fem_eu = food_fem.loc[food_fem['Continent'] == \"Europe\"]\n",
    "food_men_eu = food_men.loc[food_men['Continent'] == \"Europe\"]\n",
    "most_consumed_fem_eu = food_fem_eu.groupby(['FoodName']).sum().reset_index().sort_values(by='Number_of_consumers', ascending=False)\n",
    "most_consumed_men_eu = food_men_eu.groupby(['FoodName']).sum().reset_index().sort_values(by='Number_of_consumers', ascending=False)\n",
    "\n",
    "\n",
    "show_most_consumed_men_eu = most_consumed_men_eu.head(15)\n",
    "show_most_consumed_fem_eu = most_consumed_fem_eu.head(15)\n",
    "plt.subplot(1, 2, 1)\n",
    "plt.bar(show_most_consumed_men_eu['FoodName'], show_most_consumed_men_eu['Number_of_consumers'])\n",
    "plt.xticks(show_most_consumed_men_eu['FoodName'], rotation='vertical', size=10)\n",
    "plt.ylabel(\"Number of consumers\")\n",
    "plt.xlabel(\"Food Names\")\n",
    "plt.title(\"Most popular foods for men in EU\", y=1.05)\n",
    "\n",
    "plt.subplot(1, 2, 2)\n",
    "plt.bar(show_most_consumed_fem_eu['FoodName'], show_most_consumed_fem_eu['Number_of_consumers'])\n",
    "plt.xticks(show_most_consumed_fem_eu['FoodName'], rotation='vertical', size=10)\n",
    "plt.xlabel(\"Food Names\")\n",
    "plt.title(\"Most popular foods for women in EU\", y=1.05)\n",
    "\n",
    "plt.subplots_adjust(left=0.1,\n",
    "                    bottom=0.5,\n",
    "                    right=1.3,\n",
    "                    top=1.1,\n",
    "                    wspace=0.8,\n",
    "                    hspace=1)\n",
    "plt.show() # może dodać legende i różne kolory wykresu dla kobiet i mężczyzn żeby takie długi tytuł nie był"
   ]
  },
  {
   "cell_type": "code",
   "execution_count": 1850,
   "id": "1f7831c2-0cb3-4ca5-bda3-4c65ea9f49ab",
   "metadata": {},
   "outputs": [
    {
     "data": {
      "text/html": [
       "<img src onerror=\"var cell = this.closest('.code_cell');var editor = cell.querySelector('.input_area');editor.style.background='#E9FDFd';this.parentNode.removeChild(this)\">"
      ],
      "text/plain": [
       "<IPython.core.display.HTML object>"
      ]
     },
     "metadata": {},
     "output_type": "display_data"
    }
   ],
   "source": [
    "from IPython.display import HTML, display\n",
    "\n",
    "def set_background(color):\n",
    "    script = (\"var cell = this.closest('.code_cell');\"\n",
    "              \"var editor = cell.querySelector('.input_area');\"\n",
    "              \"editor.style.background='{}';\" \n",
    "              \"this.parentNode.removeChild(this)\"\n",
    "             ).format(color)\n",
    "    display(HTML('<img src onerror=\"{}\">'.format(script)))\n",
    "    \n",
    "    \n",
    "set_background('#E9FDFd')"
   ]
  },
  {
   "cell_type": "code",
   "execution_count": 1851,
   "id": "f943aa04-a638-4f16-8310-2615fa2967a7",
   "metadata": {
    "tags": []
   },
   "outputs": [
    {
     "data": {
      "text/html": [
       "<img src onerror=\"var cell = this.closest('.code_cell');var editor = cell.querySelector('.input_area');editor.style.background='#E9FDFd';this.parentNode.removeChild(this)\">"
      ],
      "text/plain": [
       "<IPython.core.display.HTML object>"
      ]
     },
     "metadata": {},
     "output_type": "display_data"
    },
    {
     "name": "stdout",
     "output_type": "stream",
     "text": [
      "hello\n"
     ]
    }
   ],
   "source": [
    "set_background('#E9FDFd')\n",
    "print('hello')"
   ]
  },
  {
   "cell_type": "markdown",
   "id": "6b83c17c-aa35-4b70-96a7-56eba4111fd8",
   "metadata": {
    "tags": []
   },
   "source": [
    "## hello <a class=\"anchor\" id=\"hello\"></a>\n"
   ]
  },
  {
   "cell_type": "code",
   "execution_count": null,
   "id": "fafb2a22-3b03-4277-ad70-93c737782a64",
   "metadata": {},
   "outputs": [],
   "source": []
  },
  {
   "cell_type": "code",
   "execution_count": null,
   "id": "dab01fb2-b830-47a9-bfb9-74b77073d9bc",
   "metadata": {},
   "outputs": [],
   "source": []
  },
  {
   "cell_type": "code",
   "execution_count": null,
   "id": "bf6a4325-396f-48ee-bc4f-68d875a8dd75",
   "metadata": {
    "tags": []
   },
   "outputs": [],
   "source": []
  },
  {
   "cell_type": "code",
   "execution_count": null,
   "id": "f253759d-9e29-411f-88f2-a58ab33b8369",
   "metadata": {},
   "outputs": [],
   "source": []
  },
  {
   "cell_type": "code",
   "execution_count": null,
   "id": "def76513-2c55-45fd-aaea-ebd4536be555",
   "metadata": {},
   "outputs": [],
   "source": []
  },
  {
   "cell_type": "code",
   "execution_count": null,
   "id": "bbd0e6fa-f2bd-4a09-8dd8-ac524538e3f6",
   "metadata": {},
   "outputs": [],
   "source": []
  },
  {
   "cell_type": "code",
   "execution_count": null,
   "id": "2e6d9688-1a09-465f-ae4a-2168018afbbf",
   "metadata": {},
   "outputs": [],
   "source": []
  },
  {
   "cell_type": "code",
   "execution_count": null,
   "id": "4e732f2e-eb09-4907-b966-dd7c5977cebf",
   "metadata": {},
   "outputs": [],
   "source": []
  },
  {
   "cell_type": "code",
   "execution_count": null,
   "id": "1abd5096-2abf-4764-9247-b7552e4438c7",
   "metadata": {},
   "outputs": [],
   "source": []
  },
  {
   "cell_type": "code",
   "execution_count": null,
   "id": "b7e3314d-52f8-4d87-bc31-94437f1d52cd",
   "metadata": {},
   "outputs": [],
   "source": []
  },
  {
   "cell_type": "code",
   "execution_count": null,
   "id": "b735ee15-ea29-45ce-b82e-90ac94ebcf8d",
   "metadata": {},
   "outputs": [],
   "source": []
  },
  {
   "cell_type": "code",
   "execution_count": null,
   "id": "906668c9-fc50-458a-8645-d2e42d732cfa",
   "metadata": {},
   "outputs": [],
   "source": []
  },
  {
   "cell_type": "code",
   "execution_count": null,
   "id": "80402734-0dd9-440f-bb76-4ebb6c91b868",
   "metadata": {},
   "outputs": [],
   "source": []
  },
  {
   "cell_type": "code",
   "execution_count": null,
   "id": "e245b419-fafa-43d9-a75e-6247d6b2da70",
   "metadata": {},
   "outputs": [],
   "source": []
  },
  {
   "cell_type": "code",
   "execution_count": null,
   "id": "21c363c5-fdac-47e1-a4ff-a9776de89afe",
   "metadata": {},
   "outputs": [],
   "source": []
  },
  {
   "cell_type": "code",
   "execution_count": null,
   "id": "29709cfa-cd20-4d7a-9f60-321a7b3ddaba",
   "metadata": {},
   "outputs": [],
   "source": []
  },
  {
   "cell_type": "markdown",
   "id": "ab326187-830f-451d-a601-5ca759894e81",
   "metadata": {
    "tags": []
   },
   "source": [
    "### jak widać nawet w bazach danych branych z źródeł które wydawały by się mieć je bardzo dobrze wyczyszczone i bez błędów nadal one mogą występować i nie nalezy brać za pewnik że wszystko bedzie dobrze, samemu należy to sprawdzać zawsze bo błędy mogą występować "
   ]
  },
  {
   "cell_type": "markdown",
   "id": "fe4a6281-4c5b-4824-9158-0a1e8e535f62",
   "metadata": {},
   "source": [
    "# rzeczy które mogą zakłamywać wynik: [&uarr;](#top)\n",
    "albo moje błędy lub założenia "
   ]
  }
 ],
 "metadata": {
  "kernelspec": {
   "display_name": "Python 3 (ipykernel)",
   "language": "python",
   "name": "python3"
  },
  "language_info": {
   "codemirror_mode": {
    "name": "ipython",
    "version": 3
   },
   "file_extension": ".py",
   "mimetype": "text/x-python",
   "name": "python",
   "nbconvert_exporter": "python",
   "pygments_lexer": "ipython3",
   "version": "3.11.4"
  },
  "toc-autonumbering": false,
  "toc-showcode": false,
  "toc-showmarkdowntxt": false,
  "toc-showtags": false
 },
 "nbformat": 4,
 "nbformat_minor": 5
}
