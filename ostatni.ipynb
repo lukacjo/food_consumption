{
 "cells": [
  {
   "cell_type": "markdown",
   "id": "06c9e60e-dc2e-486a-9279-831c1162c420",
   "metadata": {
    "tags": []
   },
   "source": [
    "##### <center>  <img src=\"https://images.squarespace-cdn.com/content/v1/551a19f8e4b0e8322a93850a/1602020393443-L6M0DGZK4C75DRNR7GZH/Title_Animation.gif\"  width=600> [[1]](#źr)\n",
    "\n",
    "\n"
   ]
  },
  {
   "cell_type": "markdown",
   "id": "3105bfdc-b20d-4ddf-945d-3d4e3dcda0a6",
   "metadata": {},
   "source": [
    "<h2 class=\"alert alert-block alert-danger\">  \n",
    "Projekt ten przedstawia mój tok myślenia oraz opinie! Wersja z czystą analizą dostępna jest na:    \n",
    "</h2>"
   ]
  },
  {
   "cell_type": "markdown",
   "id": "d75a1a89-928d-448a-8fba-6cf7674ea406",
   "metadata": {},
   "source": [
    "## Jako osoba która pracowała na kuchni i dla której temat jedzenia jako część kultury jest niezwykle fascynujący, w tym notatniku zajmę się analizą bazy danych z WHO na temat konsumpcji produktów na świecie. Moim planem jest odpowiedzieć na pytania, jakie produkty są najpopularniejsze i na co to wskazuje, jakie są różnice między kobietami i mężczyznami oraz jak te dane można by wykorzystać tworząc menu do restauracji. Myślę, że w tych danych jest wiele ciekawych informacji, które można wykorzystać do odpowiedzenia na wspomniane pytania jak i do pogłębienie wiedzy na temat tredów konsumcyjnych w różnych rejonach świata.\n",
    "## może bardziej pojśc w to że czym różni się otwarcie restauracji w Europie niż na świecie? że czy różnica między kobietami i mężczyznami by sprawiała że profilowanie restauracji pod płeć ma sens? czy celowanie w ogólnoświatowe gusta ma sens czy lepiej iśc w lokalne? myśle że w to i na podstawie tego podsumowania i wnioski\n",
    "### 📝 Plan jest następujący:\n",
    "1. Sprawdzę jak skonstruowana jest baza danych, jakie informacje i typy danych znajdują sie w kolumnach.\n",
    "1. Z tą wiedzą pozbędę się kolumn, które na pewno nie będą mi potrzebne no chyba, że takich nie będzie.\n",
    "1. Następnie dokonam analizy, gdzie znajdują sie puste dane oraz gdzie jest największe ryzyko ich znajdowania się, a potem pozbędę sie ich.\n",
    "1. Sprawdzę z jakich krajów i kontynentów jest najwięcej danych, żeby ocenić ich używalnośc w globalnej skali.\n",
    "1. Kolejną rzeczą będzie wyciagniecie danych dla produktów spożywanych na całym świecie, w Europie oraz to samo dla mężczyzn i kobiet na świecie i w Europie.\n",
    "1. Na koniec podsumuję co udało się osiągnąć, jakie były wyzwania, problemy, błędy, sukcesy.\n",
    "### Taki jest plan ale co napotkam na tej drodze to się okaże. Liczę na to że będzie ciekawie! "
   ]
  },
  {
   "cell_type": "markdown",
   "id": "b70a02a1-60ff-4a86-80ad-27951bb8dc92",
   "metadata": {},
   "source": [
    "# <font  color='289C4E'>Spis treści:<font><a class='anchor' id='top'></a> 📕\n",
    "1. [Wczytywanie danych](#hello)\n",
    "1. [Usuwanie niepotrzebnych kolumn](#del_col)\n",
    "1. [Ujednolicanie danych](#stand)\n",
    "1. [Usuwanie duplikatów i pustych danych](#del_dup)\n",
    "1. [Wyciąganie informacji z kolumn Consumers_Mean, Consumers_Median, Total_Mean, Total_Median](#colinfo)\n",
    "1. [Sprawdzanie z jakich krajów pochodzą dane](#kraje)\n",
    "1. [Problem z kolumną AgeClass](#ageclass)\n",
    "1. [Wykres: Ilość badanych na przestrzeni lat](#sub_over_time)\n",
    "    1. [Wnioski](#sub_over_time_wnio)\n",
    "1. [Wykres: Ilość badanych dla poszczególnych krajów](#country_sub)\n",
    "    1. [Wnioski](#country_sub_wnio)\n",
    "1. [Tworzenie kolumn z kodami i nazwami kontynentów](#kont)\n",
    "1. [Wykres: Procentowy udział badanych patrząc na kontynent](#kont_sub)\n",
    "    1. [Wnioski](#kont_sub_wnio)\n",
    "1. [Wykres: Najpopularniejsze produkty na Świecie](#food_world)\n",
    "1. [Wykres: Najpopularniejsze produkty w Europie](#food_eu) \n",
    "1. [Wykresy: Porównanie wykresów najpopularniejsze produkty na świecie i w Europie](#food_world_eu)\n",
    "    1. [Wnioski](#food_world_eu_wnio)\n",
    "1. [Wykresy: Najpopularniejsze produkty dla mężczyzn i kobiet na Świecie](#food_world_gen) \n",
    "    1. [Wnioski](#food_world_gen_wnio)\n",
    "1. [Wykresy: Najpopularniejsze produkty dla mężczyzn i kobiet w Europie](#food_eu_gen)    \n",
    "    1. [Wnioski](#food_eu_gen_wnio)    \n",
    "1. [Podsumowanie](#Podsumowanie)    \n",
    "1. [Możliwe zakłamania](#risk)\n",
    "1. [Źródła](#źr)   \n",
    "    "
   ]
  },
  {
   "cell_type": "code",
   "execution_count": 283,
   "id": "e350e259-eda0-4c0c-9959-703ecc9f13a8",
   "metadata": {
    "tags": []
   },
   "outputs": [],
   "source": [
    "# import bibliotek oraz ustawienia\n",
    "import pandas as pd\n",
    "import missingno as msno\n",
    "import matplotlib.pyplot as plt\n",
    "import pycountry_convert as pc\n",
    "import plotly.express as px\n",
    "from plotly.subplots import make_subplots\n",
    "import plotly.graph_objects as go\n",
    "import numpy as np\n",
    "import plotly.io as pio\n",
    "pio.renderers.default = \"notebook_connected\" # bez tego nie wyswietlają mi sie wykresy kiedy eksportuje je do htmla\n",
    "plt.style.use('fivethirtyeight')"
   ]
  },
  {
   "cell_type": "markdown",
   "id": "779243ba-75d0-4322-9f2d-cedf89cad028",
   "metadata": {},
   "source": [
    "# Wczytywanie danych <a id=\"hello\"></a>[&uarr;](#top) [[2]](#źr)"
   ]
  },
  {
   "cell_type": "code",
   "execution_count": 284,
   "id": "eaf16e1b-dd83-4e47-8859-0b7f3539671f",
   "metadata": {},
   "outputs": [
    {
     "data": {
      "text/html": [
       "<div>\n",
       "<style scoped>\n",
       "    .dataframe tbody tr th:only-of-type {\n",
       "        vertical-align: middle;\n",
       "    }\n",
       "\n",
       "    .dataframe tbody tr th {\n",
       "        vertical-align: top;\n",
       "    }\n",
       "\n",
       "    .dataframe thead th {\n",
       "        text-align: right;\n",
       "    }\n",
       "</style>\n",
       "<table border=\"1\" class=\"dataframe\">\n",
       "  <thead>\n",
       "    <tr style=\"text-align: right;\">\n",
       "      <th></th>\n",
       "      <th>BW</th>\n",
       "      <th>Country</th>\n",
       "      <th>Year</th>\n",
       "      <th>FoodCode</th>\n",
       "      <th>FoodName</th>\n",
       "      <th>AgeClass</th>\n",
       "      <th>SourceAgeClass</th>\n",
       "      <th>Gender</th>\n",
       "      <th>Number_of_consumers</th>\n",
       "      <th>Consumers_Mean</th>\n",
       "      <th>Consumers_Median</th>\n",
       "      <th>Consumers_P05</th>\n",
       "      <th>Consumers_P90</th>\n",
       "      <th>Consumers_P95</th>\n",
       "      <th>Consumers_P975</th>\n",
       "      <th>Consumers_Standard_deviation</th>\n",
       "      <th>Number_of_subjects</th>\n",
       "      <th>Total_Mean</th>\n",
       "      <th>Total_Median</th>\n",
       "      <th>Total_P05</th>\n",
       "      <th>Total_P90</th>\n",
       "      <th>Total_P95</th>\n",
       "      <th>Total_P975</th>\n",
       "      <th>Total_Standard_deviation</th>\n",
       "      <th>ExtBW</th>\n",
       "      <th>ExtBWValue</th>\n",
       "    </tr>\n",
       "  </thead>\n",
       "  <tbody>\n",
       "    <tr>\n",
       "      <th>0</th>\n",
       "      <td>0</td>\n",
       "      <td>China</td>\n",
       "      <td>2002</td>\n",
       "      <td>A000G</td>\n",
       "      <td>Oat grain</td>\n",
       "      <td>All</td>\n",
       "      <td>All</td>\n",
       "      <td>All</td>\n",
       "      <td>1157</td>\n",
       "      <td>60.62</td>\n",
       "      <td>0.00</td>\n",
       "      <td>8.33</td>\n",
       "      <td>116.67</td>\n",
       "      <td>150.00</td>\n",
       "      <td>166.67</td>\n",
       "      <td>NaN</td>\n",
       "      <td>66172</td>\n",
       "      <td>1.06</td>\n",
       "      <td>0.00</td>\n",
       "      <td>0.00</td>\n",
       "      <td>NaN</td>\n",
       "      <td>0.00</td>\n",
       "      <td>NaN</td>\n",
       "      <td>NaN</td>\n",
       "      <td>NaN</td>\n",
       "      <td>NaN</td>\n",
       "    </tr>\n",
       "    <tr>\n",
       "      <th>1</th>\n",
       "      <td>0</td>\n",
       "      <td>China</td>\n",
       "      <td>2002</td>\n",
       "      <td>A000G</td>\n",
       "      <td>Oat grain</td>\n",
       "      <td>All</td>\n",
       "      <td>All</td>\n",
       "      <td>female</td>\n",
       "      <td>608</td>\n",
       "      <td>55.87</td>\n",
       "      <td>0.00</td>\n",
       "      <td>8.33</td>\n",
       "      <td>116.67</td>\n",
       "      <td>133.33</td>\n",
       "      <td>158.33</td>\n",
       "      <td>NaN</td>\n",
       "      <td>33953</td>\n",
       "      <td>1.00</td>\n",
       "      <td>0.00</td>\n",
       "      <td>0.00</td>\n",
       "      <td>NaN</td>\n",
       "      <td>0.00</td>\n",
       "      <td>NaN</td>\n",
       "      <td>NaN</td>\n",
       "      <td>NaN</td>\n",
       "      <td>NaN</td>\n",
       "    </tr>\n",
       "    <tr>\n",
       "      <th>2</th>\n",
       "      <td>0</td>\n",
       "      <td>China</td>\n",
       "      <td>2002</td>\n",
       "      <td>A000G</td>\n",
       "      <td>Oat grain</td>\n",
       "      <td>All</td>\n",
       "      <td>All</td>\n",
       "      <td>male</td>\n",
       "      <td>549</td>\n",
       "      <td>65.89</td>\n",
       "      <td>0.00</td>\n",
       "      <td>10.00</td>\n",
       "      <td>133.33</td>\n",
       "      <td>158.33</td>\n",
       "      <td>166.67</td>\n",
       "      <td>NaN</td>\n",
       "      <td>32219</td>\n",
       "      <td>1.12</td>\n",
       "      <td>0.00</td>\n",
       "      <td>0.00</td>\n",
       "      <td>NaN</td>\n",
       "      <td>0.00</td>\n",
       "      <td>NaN</td>\n",
       "      <td>NaN</td>\n",
       "      <td>NaN</td>\n",
       "      <td>NaN</td>\n",
       "    </tr>\n",
       "    <tr>\n",
       "      <th>3</th>\n",
       "      <td>0</td>\n",
       "      <td>China</td>\n",
       "      <td>2002</td>\n",
       "      <td>A000N</td>\n",
       "      <td>Buckwheat</td>\n",
       "      <td>All</td>\n",
       "      <td>All</td>\n",
       "      <td>All</td>\n",
       "      <td>167</td>\n",
       "      <td>55.26</td>\n",
       "      <td>0.00</td>\n",
       "      <td>8.33</td>\n",
       "      <td>100.00</td>\n",
       "      <td>116.67</td>\n",
       "      <td>158.33</td>\n",
       "      <td>NaN</td>\n",
       "      <td>66172</td>\n",
       "      <td>0.14</td>\n",
       "      <td>0.00</td>\n",
       "      <td>0.00</td>\n",
       "      <td>NaN</td>\n",
       "      <td>0.00</td>\n",
       "      <td>NaN</td>\n",
       "      <td>NaN</td>\n",
       "      <td>NaN</td>\n",
       "      <td>NaN</td>\n",
       "    </tr>\n",
       "    <tr>\n",
       "      <th>4</th>\n",
       "      <td>0</td>\n",
       "      <td>China</td>\n",
       "      <td>2002</td>\n",
       "      <td>A000N</td>\n",
       "      <td>Buckwheat</td>\n",
       "      <td>All</td>\n",
       "      <td>All</td>\n",
       "      <td>female</td>\n",
       "      <td>82</td>\n",
       "      <td>54.71</td>\n",
       "      <td>0.00</td>\n",
       "      <td>8.33</td>\n",
       "      <td>83.33</td>\n",
       "      <td>116.67</td>\n",
       "      <td>183.33</td>\n",
       "      <td>NaN</td>\n",
       "      <td>33953</td>\n",
       "      <td>0.13</td>\n",
       "      <td>0.00</td>\n",
       "      <td>0.00</td>\n",
       "      <td>NaN</td>\n",
       "      <td>0.00</td>\n",
       "      <td>NaN</td>\n",
       "      <td>NaN</td>\n",
       "      <td>NaN</td>\n",
       "      <td>NaN</td>\n",
       "    </tr>\n",
       "  </tbody>\n",
       "</table>\n",
       "</div>"
      ],
      "text/plain": [
       "   BW Country  Year FoodCode   FoodName AgeClass SourceAgeClass  Gender  \\\n",
       "0   0   China  2002    A000G  Oat grain      All            All     All   \n",
       "1   0   China  2002    A000G  Oat grain      All            All  female   \n",
       "2   0   China  2002    A000G  Oat grain      All            All    male   \n",
       "3   0   China  2002    A000N  Buckwheat      All            All     All   \n",
       "4   0   China  2002    A000N  Buckwheat      All            All  female   \n",
       "\n",
       "   Number_of_consumers  Consumers_Mean  Consumers_Median  Consumers_P05  \\\n",
       "0                 1157           60.62              0.00           8.33   \n",
       "1                  608           55.87              0.00           8.33   \n",
       "2                  549           65.89              0.00          10.00   \n",
       "3                  167           55.26              0.00           8.33   \n",
       "4                   82           54.71              0.00           8.33   \n",
       "\n",
       "   Consumers_P90  Consumers_P95  Consumers_P975  Consumers_Standard_deviation  \\\n",
       "0         116.67         150.00          166.67                           NaN   \n",
       "1         116.67         133.33          158.33                           NaN   \n",
       "2         133.33         158.33          166.67                           NaN   \n",
       "3         100.00         116.67          158.33                           NaN   \n",
       "4          83.33         116.67          183.33                           NaN   \n",
       "\n",
       "   Number_of_subjects  Total_Mean  Total_Median  Total_P05  Total_P90  \\\n",
       "0               66172        1.06          0.00       0.00        NaN   \n",
       "1               33953        1.00          0.00       0.00        NaN   \n",
       "2               32219        1.12          0.00       0.00        NaN   \n",
       "3               66172        0.14          0.00       0.00        NaN   \n",
       "4               33953        0.13          0.00       0.00        NaN   \n",
       "\n",
       "   Total_P95  Total_P975  Total_Standard_deviation  ExtBW  ExtBWValue  \n",
       "0       0.00         NaN                       NaN    NaN         NaN  \n",
       "1       0.00         NaN                       NaN    NaN         NaN  \n",
       "2       0.00         NaN                       NaN    NaN         NaN  \n",
       "3       0.00         NaN                       NaN    NaN         NaN  \n",
       "4       0.00         NaN                       NaN    NaN         NaN  "
      ]
     },
     "execution_count": 284,
     "metadata": {},
     "output_type": "execute_result"
    }
   ],
   "source": [
    "food = pd.read_csv(\"fullcifocoss.csv\", on_bad_lines='skip', sep=';', skipinitialspace = True)  # wczytanie danych do dataframe pozbywając sie rzędów, które mają za dużo pól oraz spacji\n",
    "pd.set_option('display.max_columns', None) # sprawiam, że można przejrzeć wszystkie kolumny, ponieważ by deafault ilość wyświetlanych kolumn jest ograniczona\n",
    "food.head()"
   ]
  },
  {
   "cell_type": "markdown",
   "id": "2584899e-9f3b-442e-97d1-d02c2e462ddb",
   "metadata": {},
   "source": [
    "# Usuwanie niepotrzebnych kolumn <a id=\"del_col\"></a>[&uarr;](#top)"
   ]
  },
  {
   "cell_type": "code",
   "execution_count": 285,
   "id": "7f1d2832-8f95-460a-8462-155c193d4f2b",
   "metadata": {},
   "outputs": [
    {
     "data": {
      "text/html": [
       "<div>\n",
       "<style scoped>\n",
       "    .dataframe tbody tr th:only-of-type {\n",
       "        vertical-align: middle;\n",
       "    }\n",
       "\n",
       "    .dataframe tbody tr th {\n",
       "        vertical-align: top;\n",
       "    }\n",
       "\n",
       "    .dataframe thead th {\n",
       "        text-align: right;\n",
       "    }\n",
       "</style>\n",
       "<table border=\"1\" class=\"dataframe\">\n",
       "  <thead>\n",
       "    <tr style=\"text-align: right;\">\n",
       "      <th></th>\n",
       "      <th>Country</th>\n",
       "      <th>Year</th>\n",
       "      <th>FoodCode</th>\n",
       "      <th>FoodName</th>\n",
       "      <th>AgeClass</th>\n",
       "      <th>SourceAgeClass</th>\n",
       "      <th>Gender</th>\n",
       "      <th>Number_of_consumers</th>\n",
       "      <th>Consumers_Mean</th>\n",
       "      <th>Consumers_Median</th>\n",
       "      <th>Number_of_subjects</th>\n",
       "      <th>Total_Mean</th>\n",
       "      <th>Total_Median</th>\n",
       "    </tr>\n",
       "  </thead>\n",
       "  <tbody>\n",
       "    <tr>\n",
       "      <th>0</th>\n",
       "      <td>China</td>\n",
       "      <td>2002</td>\n",
       "      <td>A000G</td>\n",
       "      <td>Oat grain</td>\n",
       "      <td>All</td>\n",
       "      <td>All</td>\n",
       "      <td>All</td>\n",
       "      <td>1157</td>\n",
       "      <td>60.62</td>\n",
       "      <td>0.00</td>\n",
       "      <td>66172</td>\n",
       "      <td>1.06</td>\n",
       "      <td>0.00</td>\n",
       "    </tr>\n",
       "    <tr>\n",
       "      <th>1</th>\n",
       "      <td>China</td>\n",
       "      <td>2002</td>\n",
       "      <td>A000G</td>\n",
       "      <td>Oat grain</td>\n",
       "      <td>All</td>\n",
       "      <td>All</td>\n",
       "      <td>female</td>\n",
       "      <td>608</td>\n",
       "      <td>55.87</td>\n",
       "      <td>0.00</td>\n",
       "      <td>33953</td>\n",
       "      <td>1.00</td>\n",
       "      <td>0.00</td>\n",
       "    </tr>\n",
       "    <tr>\n",
       "      <th>2</th>\n",
       "      <td>China</td>\n",
       "      <td>2002</td>\n",
       "      <td>A000G</td>\n",
       "      <td>Oat grain</td>\n",
       "      <td>All</td>\n",
       "      <td>All</td>\n",
       "      <td>male</td>\n",
       "      <td>549</td>\n",
       "      <td>65.89</td>\n",
       "      <td>0.00</td>\n",
       "      <td>32219</td>\n",
       "      <td>1.12</td>\n",
       "      <td>0.00</td>\n",
       "    </tr>\n",
       "    <tr>\n",
       "      <th>3</th>\n",
       "      <td>China</td>\n",
       "      <td>2002</td>\n",
       "      <td>A000N</td>\n",
       "      <td>Buckwheat</td>\n",
       "      <td>All</td>\n",
       "      <td>All</td>\n",
       "      <td>All</td>\n",
       "      <td>167</td>\n",
       "      <td>55.26</td>\n",
       "      <td>0.00</td>\n",
       "      <td>66172</td>\n",
       "      <td>0.14</td>\n",
       "      <td>0.00</td>\n",
       "    </tr>\n",
       "    <tr>\n",
       "      <th>4</th>\n",
       "      <td>China</td>\n",
       "      <td>2002</td>\n",
       "      <td>A000N</td>\n",
       "      <td>Buckwheat</td>\n",
       "      <td>All</td>\n",
       "      <td>All</td>\n",
       "      <td>female</td>\n",
       "      <td>82</td>\n",
       "      <td>54.71</td>\n",
       "      <td>0.00</td>\n",
       "      <td>33953</td>\n",
       "      <td>0.13</td>\n",
       "      <td>0.00</td>\n",
       "    </tr>\n",
       "    <tr>\n",
       "      <th>5</th>\n",
       "      <td>China</td>\n",
       "      <td>2002</td>\n",
       "      <td>A000N</td>\n",
       "      <td>Buckwheat</td>\n",
       "      <td>All</td>\n",
       "      <td>All</td>\n",
       "      <td>male</td>\n",
       "      <td>85</td>\n",
       "      <td>55.80</td>\n",
       "      <td>0.00</td>\n",
       "      <td>32219</td>\n",
       "      <td>0.15</td>\n",
       "      <td>0.00</td>\n",
       "    </tr>\n",
       "    <tr>\n",
       "      <th>6</th>\n",
       "      <td>China</td>\n",
       "      <td>2002</td>\n",
       "      <td>A000P</td>\n",
       "      <td>Barley grains</td>\n",
       "      <td>All</td>\n",
       "      <td>All</td>\n",
       "      <td>All</td>\n",
       "      <td>61</td>\n",
       "      <td>38.58</td>\n",
       "      <td>0.00</td>\n",
       "      <td>66172</td>\n",
       "      <td>NaN</td>\n",
       "      <td>0.00</td>\n",
       "    </tr>\n",
       "    <tr>\n",
       "      <th>7</th>\n",
       "      <td>China</td>\n",
       "      <td>2002</td>\n",
       "      <td>A000P</td>\n",
       "      <td>Barley grains</td>\n",
       "      <td>All</td>\n",
       "      <td>All</td>\n",
       "      <td>female</td>\n",
       "      <td>28</td>\n",
       "      <td>37.50</td>\n",
       "      <td>0.00</td>\n",
       "      <td>33953</td>\n",
       "      <td>NaN</td>\n",
       "      <td>0.00</td>\n",
       "    </tr>\n",
       "    <tr>\n",
       "      <th>8</th>\n",
       "      <td>China</td>\n",
       "      <td>2002</td>\n",
       "      <td>A000P</td>\n",
       "      <td>Barley grains</td>\n",
       "      <td>All</td>\n",
       "      <td>All</td>\n",
       "      <td>male</td>\n",
       "      <td>33</td>\n",
       "      <td>39.49</td>\n",
       "      <td>0.00</td>\n",
       "      <td>32219</td>\n",
       "      <td>NaN</td>\n",
       "      <td>0.00</td>\n",
       "    </tr>\n",
       "    <tr>\n",
       "      <th>9</th>\n",
       "      <td>China</td>\n",
       "      <td>2002</td>\n",
       "      <td>A000T</td>\n",
       "      <td>Maize grain</td>\n",
       "      <td>All</td>\n",
       "      <td>All</td>\n",
       "      <td>All</td>\n",
       "      <td>2422</td>\n",
       "      <td>86.97</td>\n",
       "      <td>0.00</td>\n",
       "      <td>66172</td>\n",
       "      <td>3.18</td>\n",
       "      <td>0.00</td>\n",
       "    </tr>\n",
       "  </tbody>\n",
       "</table>\n",
       "</div>"
      ],
      "text/plain": [
       "  Country  Year FoodCode       FoodName AgeClass SourceAgeClass  Gender  \\\n",
       "0   China  2002    A000G      Oat grain      All            All     All   \n",
       "1   China  2002    A000G      Oat grain      All            All  female   \n",
       "2   China  2002    A000G      Oat grain      All            All    male   \n",
       "3   China  2002    A000N      Buckwheat      All            All     All   \n",
       "4   China  2002    A000N      Buckwheat      All            All  female   \n",
       "5   China  2002    A000N      Buckwheat      All            All    male   \n",
       "6   China  2002    A000P  Barley grains      All            All     All   \n",
       "7   China  2002    A000P  Barley grains      All            All  female   \n",
       "8   China  2002    A000P  Barley grains      All            All    male   \n",
       "9   China  2002    A000T    Maize grain      All            All     All   \n",
       "\n",
       "   Number_of_consumers  Consumers_Mean  Consumers_Median  Number_of_subjects  \\\n",
       "0                 1157           60.62              0.00               66172   \n",
       "1                  608           55.87              0.00               33953   \n",
       "2                  549           65.89              0.00               32219   \n",
       "3                  167           55.26              0.00               66172   \n",
       "4                   82           54.71              0.00               33953   \n",
       "5                   85           55.80              0.00               32219   \n",
       "6                   61           38.58              0.00               66172   \n",
       "7                   28           37.50              0.00               33953   \n",
       "8                   33           39.49              0.00               32219   \n",
       "9                 2422           86.97              0.00               66172   \n",
       "\n",
       "   Total_Mean  Total_Median  \n",
       "0        1.06          0.00  \n",
       "1        1.00          0.00  \n",
       "2        1.12          0.00  \n",
       "3        0.14          0.00  \n",
       "4        0.13          0.00  \n",
       "5        0.15          0.00  \n",
       "6         NaN          0.00  \n",
       "7         NaN          0.00  \n",
       "8         NaN          0.00  \n",
       "9        3.18          0.00  "
      ]
     },
     "execution_count": 285,
     "metadata": {},
     "output_type": "execute_result"
    }
   ],
   "source": [
    "food.drop(columns=food.loc[:, 'Consumers_P05':'Consumers_Standard_deviation'], inplace=True)\n",
    "food.drop(columns=food.loc[:, 'Total_P05':'ExtBWValue'], inplace=True)\n",
    "food = food.drop(['BW'], axis=1)\n",
    "food.head(10)"
   ]
  },
  {
   "cell_type": "code",
   "execution_count": 286,
   "id": "52f92bb7-2171-4e5a-ad6d-48a87af629a6",
   "metadata": {
    "tags": []
   },
   "outputs": [
    {
     "data": {
      "text/plain": [
       "(544686, 13)"
      ]
     },
     "execution_count": 286,
     "metadata": {},
     "output_type": "execute_result"
    }
   ],
   "source": [
    "food.shape"
   ]
  },
  {
   "cell_type": "markdown",
   "id": "e86b838d-a64f-4378-912a-cb1b58d26a6c",
   "metadata": {},
   "source": [
    "### Sprawdzę czy typy danych w kolumnach się zgadzają"
   ]
  },
  {
   "cell_type": "code",
   "execution_count": 287,
   "id": "91dd81b5-5eeb-465a-8299-cf97257c8763",
   "metadata": {
    "tags": []
   },
   "outputs": [
    {
     "data": {
      "text/plain": [
       "Country                 object\n",
       "Year                     int64\n",
       "FoodCode                object\n",
       "FoodName                object\n",
       "AgeClass                object\n",
       "SourceAgeClass          object\n",
       "Gender                  object\n",
       "Number_of_consumers      int64\n",
       "Consumers_Mean         float64\n",
       "Consumers_Median       float64\n",
       "Number_of_subjects       int64\n",
       "Total_Mean             float64\n",
       "Total_Median           float64\n",
       "dtype: object"
      ]
     },
     "execution_count": 287,
     "metadata": {},
     "output_type": "execute_result"
    }
   ],
   "source": [
    "food.dtypes"
   ]
  },
  {
   "cell_type": "markdown",
   "id": "6286d279-7906-4b4b-9763-7f31280c5095",
   "metadata": {},
   "source": [
    "### Wszystkie kolumny mają dobre typy danych"
   ]
  },
  {
   "cell_type": "markdown",
   "id": "bca13dda-44b0-4c9a-9ead-0584ac3c5295",
   "metadata": {
    "tags": []
   },
   "source": [
    "### Ze względów estetycznych ustawię by dane miały dwie liczby po przecinku. Jest to moja preferencja, a w razie potrzeby wrócenie do ustawień deafaultych nie będzie problematyczne."
   ]
  },
  {
   "cell_type": "code",
   "execution_count": 288,
   "id": "f9bf05cc-912f-403b-ab5e-b82cf73d9f7a",
   "metadata": {
    "tags": []
   },
   "outputs": [
    {
     "data": {
      "text/html": [
       "<div>\n",
       "<style scoped>\n",
       "    .dataframe tbody tr th:only-of-type {\n",
       "        vertical-align: middle;\n",
       "    }\n",
       "\n",
       "    .dataframe tbody tr th {\n",
       "        vertical-align: top;\n",
       "    }\n",
       "\n",
       "    .dataframe thead th {\n",
       "        text-align: right;\n",
       "    }\n",
       "</style>\n",
       "<table border=\"1\" class=\"dataframe\">\n",
       "  <thead>\n",
       "    <tr style=\"text-align: right;\">\n",
       "      <th></th>\n",
       "      <th>Country</th>\n",
       "      <th>Year</th>\n",
       "      <th>FoodCode</th>\n",
       "      <th>FoodName</th>\n",
       "      <th>AgeClass</th>\n",
       "      <th>SourceAgeClass</th>\n",
       "      <th>Gender</th>\n",
       "      <th>Number_of_consumers</th>\n",
       "      <th>Consumers_Mean</th>\n",
       "      <th>Consumers_Median</th>\n",
       "      <th>Number_of_subjects</th>\n",
       "      <th>Total_Mean</th>\n",
       "      <th>Total_Median</th>\n",
       "    </tr>\n",
       "  </thead>\n",
       "  <tbody>\n",
       "    <tr>\n",
       "      <th>0</th>\n",
       "      <td>China</td>\n",
       "      <td>2002</td>\n",
       "      <td>A000G</td>\n",
       "      <td>Oat grain</td>\n",
       "      <td>All</td>\n",
       "      <td>All</td>\n",
       "      <td>All</td>\n",
       "      <td>1157</td>\n",
       "      <td>60.62</td>\n",
       "      <td>0.00</td>\n",
       "      <td>66172</td>\n",
       "      <td>1.06</td>\n",
       "      <td>0.00</td>\n",
       "    </tr>\n",
       "    <tr>\n",
       "      <th>1</th>\n",
       "      <td>China</td>\n",
       "      <td>2002</td>\n",
       "      <td>A000G</td>\n",
       "      <td>Oat grain</td>\n",
       "      <td>All</td>\n",
       "      <td>All</td>\n",
       "      <td>female</td>\n",
       "      <td>608</td>\n",
       "      <td>55.87</td>\n",
       "      <td>0.00</td>\n",
       "      <td>33953</td>\n",
       "      <td>1.00</td>\n",
       "      <td>0.00</td>\n",
       "    </tr>\n",
       "    <tr>\n",
       "      <th>2</th>\n",
       "      <td>China</td>\n",
       "      <td>2002</td>\n",
       "      <td>A000G</td>\n",
       "      <td>Oat grain</td>\n",
       "      <td>All</td>\n",
       "      <td>All</td>\n",
       "      <td>male</td>\n",
       "      <td>549</td>\n",
       "      <td>65.89</td>\n",
       "      <td>0.00</td>\n",
       "      <td>32219</td>\n",
       "      <td>1.12</td>\n",
       "      <td>0.00</td>\n",
       "    </tr>\n",
       "    <tr>\n",
       "      <th>3</th>\n",
       "      <td>China</td>\n",
       "      <td>2002</td>\n",
       "      <td>A000N</td>\n",
       "      <td>Buckwheat</td>\n",
       "      <td>All</td>\n",
       "      <td>All</td>\n",
       "      <td>All</td>\n",
       "      <td>167</td>\n",
       "      <td>55.26</td>\n",
       "      <td>0.00</td>\n",
       "      <td>66172</td>\n",
       "      <td>0.14</td>\n",
       "      <td>0.00</td>\n",
       "    </tr>\n",
       "    <tr>\n",
       "      <th>4</th>\n",
       "      <td>China</td>\n",
       "      <td>2002</td>\n",
       "      <td>A000N</td>\n",
       "      <td>Buckwheat</td>\n",
       "      <td>All</td>\n",
       "      <td>All</td>\n",
       "      <td>female</td>\n",
       "      <td>82</td>\n",
       "      <td>54.71</td>\n",
       "      <td>0.00</td>\n",
       "      <td>33953</td>\n",
       "      <td>0.13</td>\n",
       "      <td>0.00</td>\n",
       "    </tr>\n",
       "  </tbody>\n",
       "</table>\n",
       "</div>"
      ],
      "text/plain": [
       "  Country  Year FoodCode   FoodName AgeClass SourceAgeClass  Gender  \\\n",
       "0   China  2002    A000G  Oat grain      All            All     All   \n",
       "1   China  2002    A000G  Oat grain      All            All  female   \n",
       "2   China  2002    A000G  Oat grain      All            All    male   \n",
       "3   China  2002    A000N  Buckwheat      All            All     All   \n",
       "4   China  2002    A000N  Buckwheat      All            All  female   \n",
       "\n",
       "   Number_of_consumers  Consumers_Mean  Consumers_Median  Number_of_subjects  \\\n",
       "0                 1157           60.62              0.00               66172   \n",
       "1                  608           55.87              0.00               33953   \n",
       "2                  549           65.89              0.00               32219   \n",
       "3                  167           55.26              0.00               66172   \n",
       "4                   82           54.71              0.00               33953   \n",
       "\n",
       "   Total_Mean  Total_Median  \n",
       "0        1.06          0.00  \n",
       "1        1.00          0.00  \n",
       "2        1.12          0.00  \n",
       "3        0.14          0.00  \n",
       "4        0.13          0.00  "
      ]
     },
     "execution_count": 288,
     "metadata": {},
     "output_type": "execute_result"
    }
   ],
   "source": [
    "pd.set_option('display.float_format', lambda x: '%.2f' % x)\n",
    "food.head()"
   ]
  },
  {
   "cell_type": "markdown",
   "id": "6aa82287-84c6-41e8-a829-a650b3e4d3d6",
   "metadata": {},
   "source": [
    "### <a id=\"stand\"></a>[&uarr;](#top) Również rzuca mi się w oczy to że female i male w kolumnie Gender zaczynają się z małej litery a All z dużej. Przypomina mi to o tym żeby ujednolicić stringi. Zrobię to dla wszystkich kolumn zawierających stringi poza FoodCode bo mogło by w przyszłosci mieć to znaczenie podczas wczytywania kodów."
   ]
  },
  {
   "cell_type": "code",
   "execution_count": 289,
   "id": "a7bf9443-e8a9-4468-9621-c44ce6535c57",
   "metadata": {
    "tags": []
   },
   "outputs": [
    {
     "data": {
      "text/html": [
       "<div>\n",
       "<style scoped>\n",
       "    .dataframe tbody tr th:only-of-type {\n",
       "        vertical-align: middle;\n",
       "    }\n",
       "\n",
       "    .dataframe tbody tr th {\n",
       "        vertical-align: top;\n",
       "    }\n",
       "\n",
       "    .dataframe thead th {\n",
       "        text-align: right;\n",
       "    }\n",
       "</style>\n",
       "<table border=\"1\" class=\"dataframe\">\n",
       "  <thead>\n",
       "    <tr style=\"text-align: right;\">\n",
       "      <th></th>\n",
       "      <th>Country</th>\n",
       "      <th>Year</th>\n",
       "      <th>FoodCode</th>\n",
       "      <th>FoodName</th>\n",
       "      <th>AgeClass</th>\n",
       "      <th>SourceAgeClass</th>\n",
       "      <th>Gender</th>\n",
       "      <th>Number_of_consumers</th>\n",
       "      <th>Consumers_Mean</th>\n",
       "      <th>Consumers_Median</th>\n",
       "      <th>Number_of_subjects</th>\n",
       "      <th>Total_Mean</th>\n",
       "      <th>Total_Median</th>\n",
       "    </tr>\n",
       "  </thead>\n",
       "  <tbody>\n",
       "    <tr>\n",
       "      <th>0</th>\n",
       "      <td>China</td>\n",
       "      <td>2002</td>\n",
       "      <td>A000G</td>\n",
       "      <td>Oat Grain</td>\n",
       "      <td>All</td>\n",
       "      <td>All</td>\n",
       "      <td>All</td>\n",
       "      <td>1157</td>\n",
       "      <td>60.62</td>\n",
       "      <td>0.00</td>\n",
       "      <td>66172</td>\n",
       "      <td>1.06</td>\n",
       "      <td>0.00</td>\n",
       "    </tr>\n",
       "    <tr>\n",
       "      <th>1</th>\n",
       "      <td>China</td>\n",
       "      <td>2002</td>\n",
       "      <td>A000G</td>\n",
       "      <td>Oat Grain</td>\n",
       "      <td>All</td>\n",
       "      <td>All</td>\n",
       "      <td>Female</td>\n",
       "      <td>608</td>\n",
       "      <td>55.87</td>\n",
       "      <td>0.00</td>\n",
       "      <td>33953</td>\n",
       "      <td>1.00</td>\n",
       "      <td>0.00</td>\n",
       "    </tr>\n",
       "    <tr>\n",
       "      <th>2</th>\n",
       "      <td>China</td>\n",
       "      <td>2002</td>\n",
       "      <td>A000G</td>\n",
       "      <td>Oat Grain</td>\n",
       "      <td>All</td>\n",
       "      <td>All</td>\n",
       "      <td>Male</td>\n",
       "      <td>549</td>\n",
       "      <td>65.89</td>\n",
       "      <td>0.00</td>\n",
       "      <td>32219</td>\n",
       "      <td>1.12</td>\n",
       "      <td>0.00</td>\n",
       "    </tr>\n",
       "    <tr>\n",
       "      <th>3</th>\n",
       "      <td>China</td>\n",
       "      <td>2002</td>\n",
       "      <td>A000N</td>\n",
       "      <td>Buckwheat</td>\n",
       "      <td>All</td>\n",
       "      <td>All</td>\n",
       "      <td>All</td>\n",
       "      <td>167</td>\n",
       "      <td>55.26</td>\n",
       "      <td>0.00</td>\n",
       "      <td>66172</td>\n",
       "      <td>0.14</td>\n",
       "      <td>0.00</td>\n",
       "    </tr>\n",
       "    <tr>\n",
       "      <th>4</th>\n",
       "      <td>China</td>\n",
       "      <td>2002</td>\n",
       "      <td>A000N</td>\n",
       "      <td>Buckwheat</td>\n",
       "      <td>All</td>\n",
       "      <td>All</td>\n",
       "      <td>Female</td>\n",
       "      <td>82</td>\n",
       "      <td>54.71</td>\n",
       "      <td>0.00</td>\n",
       "      <td>33953</td>\n",
       "      <td>0.13</td>\n",
       "      <td>0.00</td>\n",
       "    </tr>\n",
       "  </tbody>\n",
       "</table>\n",
       "</div>"
      ],
      "text/plain": [
       "  Country  Year FoodCode   FoodName AgeClass SourceAgeClass  Gender  \\\n",
       "0   China  2002    A000G  Oat Grain      All            All     All   \n",
       "1   China  2002    A000G  Oat Grain      All            All  Female   \n",
       "2   China  2002    A000G  Oat Grain      All            All    Male   \n",
       "3   China  2002    A000N  Buckwheat      All            All     All   \n",
       "4   China  2002    A000N  Buckwheat      All            All  Female   \n",
       "\n",
       "   Number_of_consumers  Consumers_Mean  Consumers_Median  Number_of_subjects  \\\n",
       "0                 1157           60.62              0.00               66172   \n",
       "1                  608           55.87              0.00               33953   \n",
       "2                  549           65.89              0.00               32219   \n",
       "3                  167           55.26              0.00               66172   \n",
       "4                   82           54.71              0.00               33953   \n",
       "\n",
       "   Total_Mean  Total_Median  \n",
       "0        1.06          0.00  \n",
       "1        1.00          0.00  \n",
       "2        1.12          0.00  \n",
       "3        0.14          0.00  \n",
       "4        0.13          0.00  "
      ]
     },
     "execution_count": 289,
     "metadata": {},
     "output_type": "execute_result"
    }
   ],
   "source": [
    "food.loc[:, 'Country'] = food.loc[:, 'Country'].str.title()\n",
    "food.loc[:, 'FoodName'] = food.loc[:, 'FoodName'].str.title()\n",
    "food.loc[:, 'AgeClass'] = food.loc[:, 'AgeClass'].str.title()\n",
    "food.loc[:, 'SourceAgeClass'] = food.loc[:, 'SourceAgeClass'].str.title()\n",
    "food.loc[:, 'Gender'] = food.loc[:, 'Gender'].str.title()\n",
    "food.head()"
   ]
  },
  {
   "cell_type": "markdown",
   "id": "1408c8a2-cf91-4c50-afa0-4834c8f12246",
   "metadata": {},
   "source": [
    "### Wszystko bardzo ładnie się udalo i mam ujednolicone stringi."
   ]
  },
  {
   "cell_type": "markdown",
   "id": "beecd998-1ab2-4022-b50a-32fb69631d84",
   "metadata": {},
   "source": [
    "# <a class=\"anchor\" id=\"del_dup\">Usuwanie duplikatów i pustych danych.</a> [&uarr;](#top)"
   ]
  },
  {
   "cell_type": "code",
   "execution_count": 290,
   "id": "543a1de1-99db-4a4d-9bd5-b3aa88a0a69b",
   "metadata": {
    "tags": []
   },
   "outputs": [
    {
     "data": {
      "text/plain": [
       "(544686, 13)"
      ]
     },
     "execution_count": 290,
     "metadata": {},
     "output_type": "execute_result"
    }
   ],
   "source": [
    "food.shape"
   ]
  },
  {
   "cell_type": "code",
   "execution_count": 291,
   "id": "b2481ab3-9c68-4615-b6f3-42918c701757",
   "metadata": {
    "tags": []
   },
   "outputs": [],
   "source": [
    "food = food.drop_duplicates()"
   ]
  },
  {
   "cell_type": "code",
   "execution_count": 292,
   "id": "b0fd6c28-37ac-44c6-bbe9-1501a20e3ef2",
   "metadata": {
    "tags": []
   },
   "outputs": [
    {
     "data": {
      "text/plain": [
       "(523276, 13)"
      ]
     },
     "execution_count": 292,
     "metadata": {},
     "output_type": "execute_result"
    }
   ],
   "source": [
    "food.shape"
   ]
  },
  {
   "cell_type": "code",
   "execution_count": 293,
   "id": "27004b87-8790-42f2-a390-09d26072022b",
   "metadata": {
    "tags": []
   },
   "outputs": [
    {
     "data": {
      "text/plain": [
       "24805"
      ]
     },
     "execution_count": 293,
     "metadata": {},
     "output_type": "execute_result"
    }
   ],
   "source": [
    "544686-519881"
   ]
  },
  {
   "cell_type": "markdown",
   "id": "19e21a9d-0ce4-455d-a5a5-2fd053bdedbd",
   "metadata": {},
   "source": [
    "### Tym prostym sposobem pozbyłem się 24805 duplikatów."
   ]
  },
  {
   "cell_type": "markdown",
   "id": "ef634d44-54a7-4811-a2a4-315872a050d4",
   "metadata": {},
   "source": [
    "### Przy użyciu biblioteki missingno oraz metody isna sprawdzam, gdzie znajdują sie puste dane.\n"
   ]
  },
  {
   "cell_type": "code",
   "execution_count": 294,
   "id": "f8205f60-21d4-4c7b-9312-c6a81a9e0e6d",
   "metadata": {
    "tags": []
   },
   "outputs": [
    {
     "data": {
      "text/plain": [
       "<Axes: >"
      ]
     },
     "execution_count": 294,
     "metadata": {},
     "output_type": "execute_result"
    },
    {
     "data": {
      "image/png": "[encoded data removed]",
      "text/plain": [
       "<Figure size 2400x1000 with 3 Axes>"
      ]
     },
     "metadata": {},
     "output_type": "display_data"
    }
   ],
   "source": [
    "msno.bar(food)"
   ]
  },
  {
   "cell_type": "code",
   "execution_count": 295,
   "id": "c9bd90ee-4421-416a-8d17-f0293208ca69",
   "metadata": {
    "tags": []
   },
   "outputs": [
    {
     "data": {
      "text/plain": [
       "Country                   0\n",
       "Year                      0\n",
       "FoodCode                 20\n",
       "FoodName                624\n",
       "AgeClass                  0\n",
       "SourceAgeClass            0\n",
       "Gender                    0\n",
       "Number_of_consumers       0\n",
       "Consumers_Mean           32\n",
       "Consumers_Median       4532\n",
       "Number_of_subjects        0\n",
       "Total_Mean             5102\n",
       "Total_Median              3\n",
       "dtype: int64"
      ]
     },
     "execution_count": 295,
     "metadata": {},
     "output_type": "execute_result"
    }
   ],
   "source": [
    "food.isna().sum()"
   ]
  },
  {
   "cell_type": "markdown",
   "id": "4ce0e5b0-e3bf-44b9-b6ed-c1159715e13a",
   "metadata": {
    "tags": []
   },
   "source": [
    "### Zarówno na wykresie jak i w tabeli widać, że FoodName i FoodCode mają puste wartości, wiec zajmuję sie usunięciem tych rzędów. (na razie nie zajmuję sie innymi kolumnami z pustymi watościami, bo nie wiem czy będą użyteczne)."
   ]
  },
  {
   "cell_type": "code",
   "execution_count": 296,
   "id": "453634dd-dd94-47b2-abed-3005614a27bc",
   "metadata": {
    "tags": []
   },
   "outputs": [
    {
     "data": {
      "text/html": [
       "<div>\n",
       "<style scoped>\n",
       "    .dataframe tbody tr th:only-of-type {\n",
       "        vertical-align: middle;\n",
       "    }\n",
       "\n",
       "    .dataframe tbody tr th {\n",
       "        vertical-align: top;\n",
       "    }\n",
       "\n",
       "    .dataframe thead th {\n",
       "        text-align: right;\n",
       "    }\n",
       "</style>\n",
       "<table border=\"1\" class=\"dataframe\">\n",
       "  <thead>\n",
       "    <tr style=\"text-align: right;\">\n",
       "      <th></th>\n",
       "      <th>Country</th>\n",
       "      <th>Year</th>\n",
       "      <th>FoodCode</th>\n",
       "      <th>FoodName</th>\n",
       "      <th>AgeClass</th>\n",
       "      <th>SourceAgeClass</th>\n",
       "      <th>Gender</th>\n",
       "      <th>Number_of_consumers</th>\n",
       "      <th>Consumers_Mean</th>\n",
       "      <th>Consumers_Median</th>\n",
       "      <th>Number_of_subjects</th>\n",
       "      <th>Total_Mean</th>\n",
       "      <th>Total_Median</th>\n",
       "    </tr>\n",
       "  </thead>\n",
       "  <tbody>\n",
       "    <tr>\n",
       "      <th>540608</th>\n",
       "      <td>Republic Of Korea</td>\n",
       "      <td>2015</td>\n",
       "      <td>fa6adbfab52e8a77f23df411f59c2150</td>\n",
       "      <td>NaN</td>\n",
       "      <td>Children And Adolescents</td>\n",
       "      <td>3-5 Years</td>\n",
       "      <td>All</td>\n",
       "      <td>692</td>\n",
       "      <td>2.26</td>\n",
       "      <td>0.84</td>\n",
       "      <td>804</td>\n",
       "      <td>1.95</td>\n",
       "      <td>0.59</td>\n",
       "    </tr>\n",
       "    <tr>\n",
       "      <th>540609</th>\n",
       "      <td>Republic Of Korea</td>\n",
       "      <td>2015</td>\n",
       "      <td>fa6adbfab52e8a77f23df411f59c2150</td>\n",
       "      <td>NaN</td>\n",
       "      <td>Children And Adolescents</td>\n",
       "      <td>6-14 Years</td>\n",
       "      <td>All</td>\n",
       "      <td>1937</td>\n",
       "      <td>1.89</td>\n",
       "      <td>0.81</td>\n",
       "      <td>2376</td>\n",
       "      <td>1.54</td>\n",
       "      <td>0.48</td>\n",
       "    </tr>\n",
       "    <tr>\n",
       "      <th>540610</th>\n",
       "      <td>Republic Of Korea</td>\n",
       "      <td>2015</td>\n",
       "      <td>fa6adbfab52e8a77f23df411f59c2150</td>\n",
       "      <td>NaN</td>\n",
       "      <td>Adults And Elderly</td>\n",
       "      <td>15-49 Years</td>\n",
       "      <td>All</td>\n",
       "      <td>6798</td>\n",
       "      <td>1.80</td>\n",
       "      <td>0.76</td>\n",
       "      <td>8253</td>\n",
       "      <td>1.48</td>\n",
       "      <td>0.48</td>\n",
       "    </tr>\n",
       "    <tr>\n",
       "      <th>540611</th>\n",
       "      <td>Republic Of Korea</td>\n",
       "      <td>2015</td>\n",
       "      <td>fa6adbfab52e8a77f23df411f59c2150</td>\n",
       "      <td>NaN</td>\n",
       "      <td>Adults And Elderly</td>\n",
       "      <td>50-74 Years</td>\n",
       "      <td>All</td>\n",
       "      <td>6054</td>\n",
       "      <td>2.04</td>\n",
       "      <td>0.76</td>\n",
       "      <td>7069</td>\n",
       "      <td>1.74</td>\n",
       "      <td>0.49</td>\n",
       "    </tr>\n",
       "    <tr>\n",
       "      <th>540612</th>\n",
       "      <td>Republic Of Korea</td>\n",
       "      <td>2015</td>\n",
       "      <td>fa6adbfab52e8a77f23df411f59c2150</td>\n",
       "      <td>NaN</td>\n",
       "      <td>Adults And Elderly</td>\n",
       "      <td>&gt;75 Years</td>\n",
       "      <td>All</td>\n",
       "      <td>1204</td>\n",
       "      <td>1.97</td>\n",
       "      <td>0.40</td>\n",
       "      <td>1650</td>\n",
       "      <td>1.44</td>\n",
       "      <td>0.11</td>\n",
       "    </tr>\n",
       "  </tbody>\n",
       "</table>\n",
       "</div>"
      ],
      "text/plain": [
       "                  Country  Year                          FoodCode FoodName  \\\n",
       "540608  Republic Of Korea  2015  fa6adbfab52e8a77f23df411f59c2150      NaN   \n",
       "540609  Republic Of Korea  2015  fa6adbfab52e8a77f23df411f59c2150      NaN   \n",
       "540610  Republic Of Korea  2015  fa6adbfab52e8a77f23df411f59c2150      NaN   \n",
       "540611  Republic Of Korea  2015  fa6adbfab52e8a77f23df411f59c2150      NaN   \n",
       "540612  Republic Of Korea  2015  fa6adbfab52e8a77f23df411f59c2150      NaN   \n",
       "\n",
       "                        AgeClass SourceAgeClass Gender  Number_of_consumers  \\\n",
       "540608  Children And Adolescents      3-5 Years    All                  692   \n",
       "540609  Children And Adolescents     6-14 Years    All                 1937   \n",
       "540610        Adults And Elderly    15-49 Years    All                 6798   \n",
       "540611        Adults And Elderly    50-74 Years    All                 6054   \n",
       "540612        Adults And Elderly      >75 Years    All                 1204   \n",
       "\n",
       "        Consumers_Mean  Consumers_Median  Number_of_subjects  Total_Mean  \\\n",
       "540608            2.26              0.84                 804        1.95   \n",
       "540609            1.89              0.81                2376        1.54   \n",
       "540610            1.80              0.76                8253        1.48   \n",
       "540611            2.04              0.76                7069        1.74   \n",
       "540612            1.97              0.40                1650        1.44   \n",
       "\n",
       "        Total_Median  \n",
       "540608          0.59  \n",
       "540609          0.48  \n",
       "540610          0.48  \n",
       "540611          0.49  \n",
       "540612          0.11  "
      ]
     },
     "execution_count": 296,
     "metadata": {},
     "output_type": "execute_result"
    }
   ],
   "source": [
    "null_data = food[food.isnull().any(axis=1)]\n",
    "null_data.tail(5) # NaN w FoodCode widać dopiero na 50 ale dla wygody pozostaje default"
   ]
  },
  {
   "cell_type": "code",
   "execution_count": 297,
   "id": "b3c09bc4-4b1f-46b1-be0b-0ada86c77600",
   "metadata": {
    "tags": []
   },
   "outputs": [
    {
     "data": {
      "text/plain": [
       "Country                Democratic Republic Of The Congo\n",
       "Year                                               2016\n",
       "FoodCode                                            NaN\n",
       "FoodName                                            NaN\n",
       "AgeClass                                            All\n",
       "SourceAgeClass                                      All\n",
       "Gender                                              All\n",
       "Number_of_consumers                                   1\n",
       "Consumers_Mean                                     3.36\n",
       "Consumers_Median                                   3.36\n",
       "Number_of_subjects                                  214\n",
       "Total_Mean                                         0.02\n",
       "Total_Median                                       0.00\n",
       "Name: 527540, dtype: object"
      ]
     },
     "execution_count": 297,
     "metadata": {},
     "output_type": "execute_result"
    }
   ],
   "source": [
    "food.loc[527540]"
   ]
  },
  {
   "cell_type": "markdown",
   "id": "4e0abdc1-0cc6-4354-b95c-b2f1a53fdf18",
   "metadata": {},
   "source": [
    "### Teraz widać, że zarówno w kolumnie FoodName i FoodCode puste dane są opisane jako NaN. Dodatkowo w kolumnie FoodCode widzę, że jest kod znacząco dłuższy od innych, które na razie widziałem i znajduje się on zawsze tam gdzie jest pusta wartość dla FoodName. Na podstawie tego decyduję, żę dobrym rozwiązaniem jest usunięcie rzędów w których FoodName ma wartości NaN bo nawet jeżeli kody są dobre to bez wiedzy jaki produkt one oznaczją są one bezużyteczne. Następnie zobaczę czy po tym nadal pozostaną długie kody i puste wartości w FoodCode. Prawdopodobnym powodem pustych danych jest błednie podany kod produktu co skutkuje tym, że nie ma również nazwy produktu ale to się okaże dalej."
   ]
  },
  {
   "cell_type": "code",
   "execution_count": 298,
   "id": "86f1e0a5-6a4c-4861-9d88-c5d648263370",
   "metadata": {
    "tags": []
   },
   "outputs": [],
   "source": [
    "food = food.dropna(subset=['FoodName'])"
   ]
  },
  {
   "cell_type": "code",
   "execution_count": 299,
   "id": "f94b4275-c1a5-4b0c-adf1-f99c8be1354e",
   "metadata": {
    "tags": []
   },
   "outputs": [
    {
     "data": {
      "text/plain": [
       "Country                   0\n",
       "Year                      0\n",
       "FoodCode                  0\n",
       "FoodName                  0\n",
       "AgeClass                  0\n",
       "SourceAgeClass            0\n",
       "Gender                    0\n",
       "Number_of_consumers       0\n",
       "Consumers_Mean           32\n",
       "Consumers_Median       4532\n",
       "Number_of_subjects        0\n",
       "Total_Mean             5102\n",
       "Total_Median              3\n",
       "dtype: int64"
      ]
     },
     "execution_count": 299,
     "metadata": {},
     "output_type": "execute_result"
    }
   ],
   "source": [
    "food.isna().sum()      "
   ]
  },
  {
   "cell_type": "markdown",
   "id": "9f0bc27b-9413-4ac1-8f6e-06faf805d191",
   "metadata": {},
   "source": [
    "### Usuwanie pustych danych powiodło się. Poprzez usuwanie pustych danych z FoodName usnąłem też przy okazji puste dane z FoodCode. Teraz chcę sprawdzić czy długość kodu miała znaczenie. Zrobię to najpierw na przykładzie kodu który widziałem czyli fa6adbfab52e8a77f23df411f59c2150 oraz sprawdzając kody o długości większej niż 5 czyli standardowej długości, którą widziałem. "
   ]
  },
  {
   "cell_type": "code",
   "execution_count": 300,
   "id": "35852177-d0ed-419b-952d-6b2d9e93b40c",
   "metadata": {
    "tags": []
   },
   "outputs": [
    {
     "data": {
      "text/html": [
       "<div>\n",
       "<style scoped>\n",
       "    .dataframe tbody tr th:only-of-type {\n",
       "        vertical-align: middle;\n",
       "    }\n",
       "\n",
       "    .dataframe tbody tr th {\n",
       "        vertical-align: top;\n",
       "    }\n",
       "\n",
       "    .dataframe thead th {\n",
       "        text-align: right;\n",
       "    }\n",
       "</style>\n",
       "<table border=\"1\" class=\"dataframe\">\n",
       "  <thead>\n",
       "    <tr style=\"text-align: right;\">\n",
       "      <th></th>\n",
       "      <th>Country</th>\n",
       "      <th>Year</th>\n",
       "      <th>FoodCode</th>\n",
       "      <th>FoodName</th>\n",
       "      <th>AgeClass</th>\n",
       "      <th>SourceAgeClass</th>\n",
       "      <th>Gender</th>\n",
       "      <th>Number_of_consumers</th>\n",
       "      <th>Consumers_Mean</th>\n",
       "      <th>Consumers_Median</th>\n",
       "      <th>Number_of_subjects</th>\n",
       "      <th>Total_Mean</th>\n",
       "      <th>Total_Median</th>\n",
       "    </tr>\n",
       "  </thead>\n",
       "  <tbody>\n",
       "  </tbody>\n",
       "</table>\n",
       "</div>"
      ],
      "text/plain": [
       "Empty DataFrame\n",
       "Columns: [Country, Year, FoodCode, FoodName, AgeClass, SourceAgeClass, Gender, Number_of_consumers, Consumers_Mean, Consumers_Median, Number_of_subjects, Total_Mean, Total_Median]\n",
       "Index: []"
      ]
     },
     "execution_count": 300,
     "metadata": {},
     "output_type": "execute_result"
    }
   ],
   "source": [
    "food.loc[food['FoodCode'] == \"fa6adbfab52e8a77f23df411f59c2150\"]"
   ]
  },
  {
   "cell_type": "code",
   "execution_count": 301,
   "id": "e8ead441-256a-495e-9ab1-410ca5c491ce",
   "metadata": {
    "tags": []
   },
   "outputs": [
    {
     "data": {
      "text/plain": [
       "FoodCode\n",
       "False    516640\n",
       "True       6012\n",
       "Name: count, dtype: int64"
      ]
     },
     "execution_count": 301,
     "metadata": {},
     "output_type": "execute_result"
    }
   ],
   "source": [
    "temp = food['FoodCode'].str.len() > 5\n",
    "temp.value_counts()"
   ]
  },
  {
   "cell_type": "markdown",
   "id": "2c0ff0fc-2cf1-4a83-819f-12323090b0be",
   "metadata": {},
   "source": [
    "### Wychodzi na to, że pozbyłem się kodu fa6adbfab52e8a77f23df411f59c2150, ale kody o długości większej niż 5 nadal istnieją i jest ich znacząco mniej, więc sprawdzę teraz czy one są poprawne, chociaż na razie wszystko wskazuje na to, że nie powinno być z nimi problemu."
   ]
  },
  {
   "cell_type": "code",
   "execution_count": 302,
   "id": "423d4c2c-2f49-41c8-8995-6e3ce1e35212",
   "metadata": {
    "tags": []
   },
   "outputs": [
    {
     "data": {
      "text/html": [
       "<div>\n",
       "<style scoped>\n",
       "    .dataframe tbody tr th:only-of-type {\n",
       "        vertical-align: middle;\n",
       "    }\n",
       "\n",
       "    .dataframe tbody tr th {\n",
       "        vertical-align: top;\n",
       "    }\n",
       "\n",
       "    .dataframe thead th {\n",
       "        text-align: right;\n",
       "    }\n",
       "</style>\n",
       "<table border=\"1\" class=\"dataframe\">\n",
       "  <thead>\n",
       "    <tr style=\"text-align: right;\">\n",
       "      <th></th>\n",
       "      <th>Country</th>\n",
       "      <th>Year</th>\n",
       "      <th>FoodCode</th>\n",
       "      <th>FoodName</th>\n",
       "      <th>AgeClass</th>\n",
       "      <th>SourceAgeClass</th>\n",
       "      <th>Gender</th>\n",
       "      <th>Number_of_consumers</th>\n",
       "      <th>Consumers_Mean</th>\n",
       "      <th>Consumers_Median</th>\n",
       "      <th>Number_of_subjects</th>\n",
       "      <th>Total_Mean</th>\n",
       "      <th>Total_Median</th>\n",
       "      <th>CodeLen</th>\n",
       "    </tr>\n",
       "  </thead>\n",
       "  <tbody>\n",
       "    <tr>\n",
       "      <th>0</th>\n",
       "      <td>China</td>\n",
       "      <td>2002</td>\n",
       "      <td>A000G</td>\n",
       "      <td>Oat Grain</td>\n",
       "      <td>All</td>\n",
       "      <td>All</td>\n",
       "      <td>All</td>\n",
       "      <td>1157</td>\n",
       "      <td>60.62</td>\n",
       "      <td>0.00</td>\n",
       "      <td>66172</td>\n",
       "      <td>1.06</td>\n",
       "      <td>0.00</td>\n",
       "      <td>5</td>\n",
       "    </tr>\n",
       "    <tr>\n",
       "      <th>348298</th>\n",
       "      <td>Portugal</td>\n",
       "      <td>2015</td>\n",
       "      <td>A00DH</td>\n",
       "      <td>Oat Rolled Grains</td>\n",
       "      <td>Children And Adolescents</td>\n",
       "      <td>Other Children</td>\n",
       "      <td>Female</td>\n",
       "      <td>1</td>\n",
       "      <td>0.40</td>\n",
       "      <td>0.40</td>\n",
       "      <td>262</td>\n",
       "      <td>0.00</td>\n",
       "      <td>0.00</td>\n",
       "      <td>5</td>\n",
       "    </tr>\n",
       "    <tr>\n",
       "      <th>348297</th>\n",
       "      <td>Portugal</td>\n",
       "      <td>2015</td>\n",
       "      <td>A006R</td>\n",
       "      <td>Traditional Unleavened Breads</td>\n",
       "      <td>Children And Adolescents</td>\n",
       "      <td>Other Children</td>\n",
       "      <td>Female</td>\n",
       "      <td>1</td>\n",
       "      <td>1.94</td>\n",
       "      <td>1.94</td>\n",
       "      <td>262</td>\n",
       "      <td>0.01</td>\n",
       "      <td>0.00</td>\n",
       "      <td>5</td>\n",
       "    </tr>\n",
       "    <tr>\n",
       "      <th>348296</th>\n",
       "      <td>Portugal</td>\n",
       "      <td>2015</td>\n",
       "      <td>A006P</td>\n",
       "      <td>Rusk, Wholemeal</td>\n",
       "      <td>Children And Adolescents</td>\n",
       "      <td>Other Children</td>\n",
       "      <td>Male</td>\n",
       "      <td>1</td>\n",
       "      <td>1.63</td>\n",
       "      <td>1.63</td>\n",
       "      <td>259</td>\n",
       "      <td>0.01</td>\n",
       "      <td>0.00</td>\n",
       "      <td>5</td>\n",
       "    </tr>\n",
       "    <tr>\n",
       "      <th>348295</th>\n",
       "      <td>Portugal</td>\n",
       "      <td>2015</td>\n",
       "      <td>A006P</td>\n",
       "      <td>Rusk, Wholemeal</td>\n",
       "      <td>Children And Adolescents</td>\n",
       "      <td>Other Children</td>\n",
       "      <td>Female</td>\n",
       "      <td>4</td>\n",
       "      <td>0.65</td>\n",
       "      <td>0.59</td>\n",
       "      <td>262</td>\n",
       "      <td>0.01</td>\n",
       "      <td>0.00</td>\n",
       "      <td>5</td>\n",
       "    </tr>\n",
       "    <tr>\n",
       "      <th>...</th>\n",
       "      <td>...</td>\n",
       "      <td>...</td>\n",
       "      <td>...</td>\n",
       "      <td>...</td>\n",
       "      <td>...</td>\n",
       "      <td>...</td>\n",
       "      <td>...</td>\n",
       "      <td>...</td>\n",
       "      <td>...</td>\n",
       "      <td>...</td>\n",
       "      <td>...</td>\n",
       "      <td>...</td>\n",
       "      <td>...</td>\n",
       "      <td>...</td>\n",
       "    </tr>\n",
       "    <tr>\n",
       "      <th>251182</th>\n",
       "      <td>Nigeria</td>\n",
       "      <td>2011</td>\n",
       "      <td>17348df7c5044de2950b5bce2d8bb912</td>\n",
       "      <td>(All Meat And Meat Products)</td>\n",
       "      <td>Children And Adolescents</td>\n",
       "      <td>6-14 Years</td>\n",
       "      <td>Female</td>\n",
       "      <td>0</td>\n",
       "      <td>0.00</td>\n",
       "      <td>0.00</td>\n",
       "      <td>1</td>\n",
       "      <td>0.00</td>\n",
       "      <td>0.00</td>\n",
       "      <td>32</td>\n",
       "    </tr>\n",
       "    <tr>\n",
       "      <th>275702</th>\n",
       "      <td>United States Of America</td>\n",
       "      <td>2010</td>\n",
       "      <td>356d09ef45eb5879c5a334a1b9441094</td>\n",
       "      <td>(All Ingredients)</td>\n",
       "      <td>Adults And Elderly</td>\n",
       "      <td>&gt;75 Years</td>\n",
       "      <td>All</td>\n",
       "      <td>1429</td>\n",
       "      <td>0.10</td>\n",
       "      <td>0.08</td>\n",
       "      <td>1595</td>\n",
       "      <td>0.09</td>\n",
       "      <td>0.07</td>\n",
       "      <td>32</td>\n",
       "    </tr>\n",
       "    <tr>\n",
       "      <th>275701</th>\n",
       "      <td>United States Of America</td>\n",
       "      <td>2010</td>\n",
       "      <td>356d09ef45eb5879c5a334a1b9441094</td>\n",
       "      <td>(All Ingredients)</td>\n",
       "      <td>Adults And Elderly</td>\n",
       "      <td>50-74 Years</td>\n",
       "      <td>All</td>\n",
       "      <td>4496</td>\n",
       "      <td>0.11</td>\n",
       "      <td>0.08</td>\n",
       "      <td>5215</td>\n",
       "      <td>0.10</td>\n",
       "      <td>0.06</td>\n",
       "      <td>32</td>\n",
       "    </tr>\n",
       "    <tr>\n",
       "      <th>275699</th>\n",
       "      <td>United States Of America</td>\n",
       "      <td>2010</td>\n",
       "      <td>356d09ef45eb5879c5a334a1b9441094</td>\n",
       "      <td>(All Ingredients)</td>\n",
       "      <td>Children And Adolescents</td>\n",
       "      <td>6-14 Years</td>\n",
       "      <td>All</td>\n",
       "      <td>3215</td>\n",
       "      <td>0.07</td>\n",
       "      <td>0.04</td>\n",
       "      <td>4330</td>\n",
       "      <td>0.05</td>\n",
       "      <td>0.02</td>\n",
       "      <td>32</td>\n",
       "    </tr>\n",
       "    <tr>\n",
       "      <th>217932</th>\n",
       "      <td>Italy</td>\n",
       "      <td>2006</td>\n",
       "      <td>eb31155c944a8c91ec4a53503cf50264</td>\n",
       "      <td>(All Nuts)</td>\n",
       "      <td>Adults And Elderly</td>\n",
       "      <td>15-49 Years</td>\n",
       "      <td>Female</td>\n",
       "      <td>56</td>\n",
       "      <td>14.83</td>\n",
       "      <td>11.20</td>\n",
       "      <td>873</td>\n",
       "      <td>0.95</td>\n",
       "      <td>0.00</td>\n",
       "      <td>32</td>\n",
       "    </tr>\n",
       "  </tbody>\n",
       "</table>\n",
       "<p>522652 rows × 14 columns</p>\n",
       "</div>"
      ],
      "text/plain": [
       "                         Country  Year                          FoodCode  \\\n",
       "0                          China  2002                             A000G   \n",
       "348298                  Portugal  2015                             A00DH   \n",
       "348297                  Portugal  2015                             A006R   \n",
       "348296                  Portugal  2015                             A006P   \n",
       "348295                  Portugal  2015                             A006P   \n",
       "...                          ...   ...                               ...   \n",
       "251182                   Nigeria  2011  17348df7c5044de2950b5bce2d8bb912   \n",
       "275702  United States Of America  2010  356d09ef45eb5879c5a334a1b9441094   \n",
       "275701  United States Of America  2010  356d09ef45eb5879c5a334a1b9441094   \n",
       "275699  United States Of America  2010  356d09ef45eb5879c5a334a1b9441094   \n",
       "217932                     Italy  2006  eb31155c944a8c91ec4a53503cf50264   \n",
       "\n",
       "                             FoodName                  AgeClass  \\\n",
       "0                           Oat Grain                       All   \n",
       "348298              Oat Rolled Grains  Children And Adolescents   \n",
       "348297  Traditional Unleavened Breads  Children And Adolescents   \n",
       "348296                Rusk, Wholemeal  Children And Adolescents   \n",
       "348295                Rusk, Wholemeal  Children And Adolescents   \n",
       "...                               ...                       ...   \n",
       "251182   (All Meat And Meat Products)  Children And Adolescents   \n",
       "275702              (All Ingredients)        Adults And Elderly   \n",
       "275701              (All Ingredients)        Adults And Elderly   \n",
       "275699              (All Ingredients)  Children And Adolescents   \n",
       "217932                     (All Nuts)        Adults And Elderly   \n",
       "\n",
       "        SourceAgeClass  Gender  Number_of_consumers  Consumers_Mean  \\\n",
       "0                  All     All                 1157           60.62   \n",
       "348298  Other Children  Female                    1            0.40   \n",
       "348297  Other Children  Female                    1            1.94   \n",
       "348296  Other Children    Male                    1            1.63   \n",
       "348295  Other Children  Female                    4            0.65   \n",
       "...                ...     ...                  ...             ...   \n",
       "251182      6-14 Years  Female                    0            0.00   \n",
       "275702       >75 Years     All                 1429            0.10   \n",
       "275701     50-74 Years     All                 4496            0.11   \n",
       "275699      6-14 Years     All                 3215            0.07   \n",
       "217932     15-49 Years  Female                   56           14.83   \n",
       "\n",
       "        Consumers_Median  Number_of_subjects  Total_Mean  Total_Median  \\\n",
       "0                   0.00               66172        1.06          0.00   \n",
       "348298              0.40                 262        0.00          0.00   \n",
       "348297              1.94                 262        0.01          0.00   \n",
       "348296              1.63                 259        0.01          0.00   \n",
       "348295              0.59                 262        0.01          0.00   \n",
       "...                  ...                 ...         ...           ...   \n",
       "251182              0.00                   1        0.00          0.00   \n",
       "275702              0.08                1595        0.09          0.07   \n",
       "275701              0.08                5215        0.10          0.06   \n",
       "275699              0.04                4330        0.05          0.02   \n",
       "217932             11.20                 873        0.95          0.00   \n",
       "\n",
       "        CodeLen  \n",
       "0             5  \n",
       "348298        5  \n",
       "348297        5  \n",
       "348296        5  \n",
       "348295        5  \n",
       "...         ...  \n",
       "251182       32  \n",
       "275702       32  \n",
       "275701       32  \n",
       "275699       32  \n",
       "217932       32  \n",
       "\n",
       "[522652 rows x 14 columns]"
      ]
     },
     "execution_count": 302,
     "metadata": {},
     "output_type": "execute_result"
    }
   ],
   "source": [
    "checkpoint = food #tworzę checkpoint żeby móc łatwo wrócić do wersji przed sortowaniem\n",
    "food['CodeLen'] = food['FoodCode'].str.len()\n",
    "food.sort_values(by=['CodeLen'])"
   ]
  },
  {
   "cell_type": "code",
   "execution_count": 303,
   "id": "2497f701-a665-438f-8ee1-8f68dcd52942",
   "metadata": {
    "tags": []
   },
   "outputs": [
    {
     "data": {
      "text/plain": [
       "458"
      ]
     },
     "execution_count": 303,
     "metadata": {},
     "output_type": "execute_result"
    }
   ],
   "source": [
    "temp = food.loc[food['FoodCode'] == \"a93a0316b93a7c2af9305e90012af119\"]\n",
    "len(temp)"
   ]
  },
  {
   "cell_type": "markdown",
   "id": "75a265d0-cfe9-423e-8732-f9c3a7d8d0b6",
   "metadata": {},
   "source": [
    "### Moje przypuszczenia zostały potwierdzone, puste dane nie są zależne od długości kodu, więc w tych kwestiach nie ma o co się martwić. "
   ]
  },
  {
   "cell_type": "markdown",
   "id": "a3bcbdfc-c53b-4b20-aefd-d573daa5d485",
   "metadata": {},
   "source": [
    "### <a id=\"colinfo\"></a>[&uarr;](#top) Teraz zajmę się kolumnami Consumers_Mean, Consumers_Median, Total_Mean, Total_Median. Jako że nie mam legendy to nie wiem co dokładnie one znaczą i zakładanie co znaczą oraz wiara że posiadają dobre wartości może być zgubna"
   ]
  },
  {
   "cell_type": "code",
   "execution_count": 304,
   "id": "14d5dcc1-923c-4847-8feb-42e232b032df",
   "metadata": {},
   "outputs": [
    {
     "data": {
      "text/html": [
       "<div>\n",
       "<style scoped>\n",
       "    .dataframe tbody tr th:only-of-type {\n",
       "        vertical-align: middle;\n",
       "    }\n",
       "\n",
       "    .dataframe tbody tr th {\n",
       "        vertical-align: top;\n",
       "    }\n",
       "\n",
       "    .dataframe thead th {\n",
       "        text-align: right;\n",
       "    }\n",
       "</style>\n",
       "<table border=\"1\" class=\"dataframe\">\n",
       "  <thead>\n",
       "    <tr style=\"text-align: right;\">\n",
       "      <th></th>\n",
       "      <th>Country</th>\n",
       "      <th>Year</th>\n",
       "      <th>FoodCode</th>\n",
       "      <th>FoodName</th>\n",
       "      <th>AgeClass</th>\n",
       "      <th>SourceAgeClass</th>\n",
       "      <th>Gender</th>\n",
       "      <th>Number_of_consumers</th>\n",
       "      <th>Consumers_Mean</th>\n",
       "      <th>Consumers_Median</th>\n",
       "      <th>Number_of_subjects</th>\n",
       "      <th>Total_Mean</th>\n",
       "      <th>Total_Median</th>\n",
       "      <th>CodeLen</th>\n",
       "    </tr>\n",
       "  </thead>\n",
       "  <tbody>\n",
       "    <tr>\n",
       "      <th>0</th>\n",
       "      <td>China</td>\n",
       "      <td>2002</td>\n",
       "      <td>A000G</td>\n",
       "      <td>Oat Grain</td>\n",
       "      <td>All</td>\n",
       "      <td>All</td>\n",
       "      <td>All</td>\n",
       "      <td>1157</td>\n",
       "      <td>60.62</td>\n",
       "      <td>0.00</td>\n",
       "      <td>66172</td>\n",
       "      <td>1.06</td>\n",
       "      <td>0.00</td>\n",
       "      <td>5</td>\n",
       "    </tr>\n",
       "    <tr>\n",
       "      <th>1</th>\n",
       "      <td>China</td>\n",
       "      <td>2002</td>\n",
       "      <td>A000G</td>\n",
       "      <td>Oat Grain</td>\n",
       "      <td>All</td>\n",
       "      <td>All</td>\n",
       "      <td>Female</td>\n",
       "      <td>608</td>\n",
       "      <td>55.87</td>\n",
       "      <td>0.00</td>\n",
       "      <td>33953</td>\n",
       "      <td>1.00</td>\n",
       "      <td>0.00</td>\n",
       "      <td>5</td>\n",
       "    </tr>\n",
       "    <tr>\n",
       "      <th>2</th>\n",
       "      <td>China</td>\n",
       "      <td>2002</td>\n",
       "      <td>A000G</td>\n",
       "      <td>Oat Grain</td>\n",
       "      <td>All</td>\n",
       "      <td>All</td>\n",
       "      <td>Male</td>\n",
       "      <td>549</td>\n",
       "      <td>65.89</td>\n",
       "      <td>0.00</td>\n",
       "      <td>32219</td>\n",
       "      <td>1.12</td>\n",
       "      <td>0.00</td>\n",
       "      <td>5</td>\n",
       "    </tr>\n",
       "    <tr>\n",
       "      <th>3</th>\n",
       "      <td>China</td>\n",
       "      <td>2002</td>\n",
       "      <td>A000N</td>\n",
       "      <td>Buckwheat</td>\n",
       "      <td>All</td>\n",
       "      <td>All</td>\n",
       "      <td>All</td>\n",
       "      <td>167</td>\n",
       "      <td>55.26</td>\n",
       "      <td>0.00</td>\n",
       "      <td>66172</td>\n",
       "      <td>0.14</td>\n",
       "      <td>0.00</td>\n",
       "      <td>5</td>\n",
       "    </tr>\n",
       "    <tr>\n",
       "      <th>4</th>\n",
       "      <td>China</td>\n",
       "      <td>2002</td>\n",
       "      <td>A000N</td>\n",
       "      <td>Buckwheat</td>\n",
       "      <td>All</td>\n",
       "      <td>All</td>\n",
       "      <td>Female</td>\n",
       "      <td>82</td>\n",
       "      <td>54.71</td>\n",
       "      <td>0.00</td>\n",
       "      <td>33953</td>\n",
       "      <td>0.13</td>\n",
       "      <td>0.00</td>\n",
       "      <td>5</td>\n",
       "    </tr>\n",
       "  </tbody>\n",
       "</table>\n",
       "</div>"
      ],
      "text/plain": [
       "  Country  Year FoodCode   FoodName AgeClass SourceAgeClass  Gender  \\\n",
       "0   China  2002    A000G  Oat Grain      All            All     All   \n",
       "1   China  2002    A000G  Oat Grain      All            All  Female   \n",
       "2   China  2002    A000G  Oat Grain      All            All    Male   \n",
       "3   China  2002    A000N  Buckwheat      All            All     All   \n",
       "4   China  2002    A000N  Buckwheat      All            All  Female   \n",
       "\n",
       "   Number_of_consumers  Consumers_Mean  Consumers_Median  Number_of_subjects  \\\n",
       "0                 1157           60.62              0.00               66172   \n",
       "1                  608           55.87              0.00               33953   \n",
       "2                  549           65.89              0.00               32219   \n",
       "3                  167           55.26              0.00               66172   \n",
       "4                   82           54.71              0.00               33953   \n",
       "\n",
       "   Total_Mean  Total_Median  CodeLen  \n",
       "0        1.06          0.00        5  \n",
       "1        1.00          0.00        5  \n",
       "2        1.12          0.00        5  \n",
       "3        0.14          0.00        5  \n",
       "4        0.13          0.00        5  "
      ]
     },
     "execution_count": 304,
     "metadata": {},
     "output_type": "execute_result"
    }
   ],
   "source": [
    "food = checkpoint # powrót do checkpointa\n",
    "food.head()"
   ]
  },
  {
   "cell_type": "markdown",
   "id": "9e4ac840-8424-4405-ac4d-f3c0a3a21090",
   "metadata": {},
   "source": [
    "### martwi mnie kwestia że Total_Median, Consumers_Median mają wartości 0,kiedy mediana nie powinna w takim przypadku mięc zerowych wartości"
   ]
  },
  {
   "cell_type": "code",
   "execution_count": 305,
   "id": "e082efc1-9c91-4938-be4c-d7fc21635426",
   "metadata": {
    "tags": []
   },
   "outputs": [
    {
     "data": {
      "text/plain": [
       "(25090, 31553, 102099, 493224)"
      ]
     },
     "execution_count": 305,
     "metadata": {},
     "output_type": "execute_result"
    }
   ],
   "source": [
    "food['Consumers_Mean'].loc[food['Consumers_Mean'] == 0].count() ,food['Consumers_Median'].loc[food['Consumers_Median'] == 0].count(),food['Total_Mean'].loc[food['Total_Mean'] == 0].count(),food['Total_Median'].loc[food['Total_Median'] == 0].count()\n"
   ]
  },
  {
   "cell_type": "code",
   "execution_count": 306,
   "id": "6ba2b59f-a395-4f5d-b0d0-330f364bf8dc",
   "metadata": {
    "tags": []
   },
   "outputs": [
    {
     "data": {
      "text/plain": [
       "522620"
      ]
     },
     "execution_count": 306,
     "metadata": {},
     "output_type": "execute_result"
    }
   ],
   "source": [
    "food['Consumers_Mean'].count()\n"
   ]
  },
  {
   "cell_type": "markdown",
   "id": "ff32f8b9-e007-46a8-80db-33fd3fe5d841",
   "metadata": {},
   "source": [
    "### Total_median ma prawie 500 000 wartości 0. Totalnie dyskfalifikuje to używalność używalność tej kolumny. podobnie z Total_mean, niezależnie co ona znaczy niemożliwe żeby aż w 1/4 wyników miała tym bardziej że one występują w rzedach które mają dane. Dla mnie wyklucza to totalnie używalność tych kolumn. "
   ]
  },
  {
   "cell_type": "markdown",
   "id": "40ff8eaa-5e10-41f9-b9d2-9c8ea97384e4",
   "metadata": {
    "tags": []
   },
   "source": [
    "### Consumers_Mean i Consumers_Median mają mniej zerowych wartości ale nadal dużo ale spróbuję na przykładzie chin dla oat grain sprawdzić czy te wartości może mają jakiś sens."
   ]
  },
  {
   "cell_type": "code",
   "execution_count": 307,
   "id": "8ac36cd0-556b-4050-ae1f-0721797396d8",
   "metadata": {
    "tags": []
   },
   "outputs": [
    {
     "data": {
      "text/html": [
       "<div>\n",
       "<style scoped>\n",
       "    .dataframe tbody tr th:only-of-type {\n",
       "        vertical-align: middle;\n",
       "    }\n",
       "\n",
       "    .dataframe tbody tr th {\n",
       "        vertical-align: top;\n",
       "    }\n",
       "\n",
       "    .dataframe thead th {\n",
       "        text-align: right;\n",
       "    }\n",
       "</style>\n",
       "<table border=\"1\" class=\"dataframe\">\n",
       "  <thead>\n",
       "    <tr style=\"text-align: right;\">\n",
       "      <th></th>\n",
       "      <th>Country</th>\n",
       "      <th>Year</th>\n",
       "      <th>FoodCode</th>\n",
       "      <th>FoodName</th>\n",
       "      <th>AgeClass</th>\n",
       "      <th>SourceAgeClass</th>\n",
       "      <th>Gender</th>\n",
       "      <th>Number_of_consumers</th>\n",
       "      <th>Consumers_Mean</th>\n",
       "      <th>Consumers_Median</th>\n",
       "      <th>Number_of_subjects</th>\n",
       "      <th>Total_Mean</th>\n",
       "      <th>Total_Median</th>\n",
       "      <th>CodeLen</th>\n",
       "    </tr>\n",
       "  </thead>\n",
       "  <tbody>\n",
       "    <tr>\n",
       "      <th>0</th>\n",
       "      <td>China</td>\n",
       "      <td>2002</td>\n",
       "      <td>A000G</td>\n",
       "      <td>Oat Grain</td>\n",
       "      <td>All</td>\n",
       "      <td>All</td>\n",
       "      <td>All</td>\n",
       "      <td>1157</td>\n",
       "      <td>60.62</td>\n",
       "      <td>0.00</td>\n",
       "      <td>66172</td>\n",
       "      <td>1.06</td>\n",
       "      <td>0.00</td>\n",
       "      <td>5</td>\n",
       "    </tr>\n",
       "    <tr>\n",
       "      <th>812</th>\n",
       "      <td>China</td>\n",
       "      <td>2002</td>\n",
       "      <td>A000G</td>\n",
       "      <td>Oat Grain</td>\n",
       "      <td>Infants And Toddlers</td>\n",
       "      <td>0-35 Months</td>\n",
       "      <td>All</td>\n",
       "      <td>10</td>\n",
       "      <td>28.58</td>\n",
       "      <td>0.00</td>\n",
       "      <td>838</td>\n",
       "      <td>0.34</td>\n",
       "      <td>0.00</td>\n",
       "      <td>5</td>\n",
       "    </tr>\n",
       "    <tr>\n",
       "      <th>1251</th>\n",
       "      <td>China</td>\n",
       "      <td>2002</td>\n",
       "      <td>A000G</td>\n",
       "      <td>Oat Grain</td>\n",
       "      <td>Children And Adolescents</td>\n",
       "      <td>3-5 Years</td>\n",
       "      <td>All</td>\n",
       "      <td>20</td>\n",
       "      <td>22.00</td>\n",
       "      <td>0.00</td>\n",
       "      <td>2235</td>\n",
       "      <td>0.20</td>\n",
       "      <td>0.00</td>\n",
       "      <td>5</td>\n",
       "    </tr>\n",
       "    <tr>\n",
       "      <th>1782</th>\n",
       "      <td>China</td>\n",
       "      <td>2002</td>\n",
       "      <td>A000G</td>\n",
       "      <td>Oat Grain</td>\n",
       "      <td>Children And Adolescents</td>\n",
       "      <td>6-14 Years</td>\n",
       "      <td>All</td>\n",
       "      <td>107</td>\n",
       "      <td>39.97</td>\n",
       "      <td>0.00</td>\n",
       "      <td>9844</td>\n",
       "      <td>0.43</td>\n",
       "      <td>0.00</td>\n",
       "      <td>5</td>\n",
       "    </tr>\n",
       "    <tr>\n",
       "      <th>2487</th>\n",
       "      <td>China</td>\n",
       "      <td>2002</td>\n",
       "      <td>A000G</td>\n",
       "      <td>Oat Grain</td>\n",
       "      <td>Adults And Elderly</td>\n",
       "      <td>15-49 Years</td>\n",
       "      <td>All</td>\n",
       "      <td>545</td>\n",
       "      <td>66.67</td>\n",
       "      <td>0.00</td>\n",
       "      <td>33719</td>\n",
       "      <td>1.08</td>\n",
       "      <td>0.00</td>\n",
       "      <td>5</td>\n",
       "    </tr>\n",
       "    <tr>\n",
       "      <th>3267</th>\n",
       "      <td>China</td>\n",
       "      <td>2002</td>\n",
       "      <td>A000G</td>\n",
       "      <td>Oat Grain</td>\n",
       "      <td>Adults And Elderly</td>\n",
       "      <td>50-74 Years</td>\n",
       "      <td>All</td>\n",
       "      <td>438</td>\n",
       "      <td>62.06</td>\n",
       "      <td>0.00</td>\n",
       "      <td>18143</td>\n",
       "      <td>1.50</td>\n",
       "      <td>0.00</td>\n",
       "      <td>5</td>\n",
       "    </tr>\n",
       "    <tr>\n",
       "      <th>4020</th>\n",
       "      <td>China</td>\n",
       "      <td>2002</td>\n",
       "      <td>A000G</td>\n",
       "      <td>Oat Grain</td>\n",
       "      <td>Adults And Elderly</td>\n",
       "      <td>&gt;75 Years</td>\n",
       "      <td>All</td>\n",
       "      <td>37</td>\n",
       "      <td>43.87</td>\n",
       "      <td>0.00</td>\n",
       "      <td>1393</td>\n",
       "      <td>1.17</td>\n",
       "      <td>0.00</td>\n",
       "      <td>5</td>\n",
       "    </tr>\n",
       "    <tr>\n",
       "      <th>279440</th>\n",
       "      <td>China</td>\n",
       "      <td>2002</td>\n",
       "      <td>A000G</td>\n",
       "      <td>Oat Grain</td>\n",
       "      <td>All</td>\n",
       "      <td>All</td>\n",
       "      <td>All</td>\n",
       "      <td>1157</td>\n",
       "      <td>1.12</td>\n",
       "      <td>NaN</td>\n",
       "      <td>66172</td>\n",
       "      <td>NaN</td>\n",
       "      <td>0.00</td>\n",
       "      <td>5</td>\n",
       "    </tr>\n",
       "    <tr>\n",
       "      <th>280252</th>\n",
       "      <td>China</td>\n",
       "      <td>2002</td>\n",
       "      <td>A000G</td>\n",
       "      <td>Oat Grain</td>\n",
       "      <td>Infants And Toddlers</td>\n",
       "      <td>0-35 Months</td>\n",
       "      <td>All</td>\n",
       "      <td>10</td>\n",
       "      <td>2.00</td>\n",
       "      <td>NaN</td>\n",
       "      <td>838</td>\n",
       "      <td>NaN</td>\n",
       "      <td>0.00</td>\n",
       "      <td>5</td>\n",
       "    </tr>\n",
       "    <tr>\n",
       "      <th>280691</th>\n",
       "      <td>China</td>\n",
       "      <td>2002</td>\n",
       "      <td>A000G</td>\n",
       "      <td>Oat Grain</td>\n",
       "      <td>Children And Adolescents</td>\n",
       "      <td>3-5 Years</td>\n",
       "      <td>All</td>\n",
       "      <td>20</td>\n",
       "      <td>1.31</td>\n",
       "      <td>NaN</td>\n",
       "      <td>2235</td>\n",
       "      <td>NaN</td>\n",
       "      <td>0.00</td>\n",
       "      <td>5</td>\n",
       "    </tr>\n",
       "    <tr>\n",
       "      <th>281222</th>\n",
       "      <td>China</td>\n",
       "      <td>2002</td>\n",
       "      <td>A000G</td>\n",
       "      <td>Oat Grain</td>\n",
       "      <td>Children And Adolescents</td>\n",
       "      <td>6-14 Years</td>\n",
       "      <td>All</td>\n",
       "      <td>107</td>\n",
       "      <td>1.35</td>\n",
       "      <td>NaN</td>\n",
       "      <td>9844</td>\n",
       "      <td>NaN</td>\n",
       "      <td>0.00</td>\n",
       "      <td>5</td>\n",
       "    </tr>\n",
       "    <tr>\n",
       "      <th>281927</th>\n",
       "      <td>China</td>\n",
       "      <td>2002</td>\n",
       "      <td>A000G</td>\n",
       "      <td>Oat Grain</td>\n",
       "      <td>Adults And Elderly</td>\n",
       "      <td>15-49 Years</td>\n",
       "      <td>All</td>\n",
       "      <td>545</td>\n",
       "      <td>1.12</td>\n",
       "      <td>NaN</td>\n",
       "      <td>33719</td>\n",
       "      <td>NaN</td>\n",
       "      <td>0.00</td>\n",
       "      <td>5</td>\n",
       "    </tr>\n",
       "    <tr>\n",
       "      <th>282707</th>\n",
       "      <td>China</td>\n",
       "      <td>2002</td>\n",
       "      <td>A000G</td>\n",
       "      <td>Oat Grain</td>\n",
       "      <td>Adults And Elderly</td>\n",
       "      <td>50-74 Years</td>\n",
       "      <td>All</td>\n",
       "      <td>438</td>\n",
       "      <td>1.06</td>\n",
       "      <td>NaN</td>\n",
       "      <td>18143</td>\n",
       "      <td>NaN</td>\n",
       "      <td>0.00</td>\n",
       "      <td>5</td>\n",
       "    </tr>\n",
       "    <tr>\n",
       "      <th>283460</th>\n",
       "      <td>China</td>\n",
       "      <td>2002</td>\n",
       "      <td>A000G</td>\n",
       "      <td>Oat Grain</td>\n",
       "      <td>Adults And Elderly</td>\n",
       "      <td>&gt;75 Years</td>\n",
       "      <td>All</td>\n",
       "      <td>37</td>\n",
       "      <td>0.79</td>\n",
       "      <td>NaN</td>\n",
       "      <td>1393</td>\n",
       "      <td>NaN</td>\n",
       "      <td>0.00</td>\n",
       "      <td>5</td>\n",
       "    </tr>\n",
       "  </tbody>\n",
       "</table>\n",
       "</div>"
      ],
      "text/plain": [
       "       Country  Year FoodCode   FoodName                  AgeClass  \\\n",
       "0        China  2002    A000G  Oat Grain                       All   \n",
       "812      China  2002    A000G  Oat Grain      Infants And Toddlers   \n",
       "1251     China  2002    A000G  Oat Grain  Children And Adolescents   \n",
       "1782     China  2002    A000G  Oat Grain  Children And Adolescents   \n",
       "2487     China  2002    A000G  Oat Grain        Adults And Elderly   \n",
       "3267     China  2002    A000G  Oat Grain        Adults And Elderly   \n",
       "4020     China  2002    A000G  Oat Grain        Adults And Elderly   \n",
       "279440   China  2002    A000G  Oat Grain                       All   \n",
       "280252   China  2002    A000G  Oat Grain      Infants And Toddlers   \n",
       "280691   China  2002    A000G  Oat Grain  Children And Adolescents   \n",
       "281222   China  2002    A000G  Oat Grain  Children And Adolescents   \n",
       "281927   China  2002    A000G  Oat Grain        Adults And Elderly   \n",
       "282707   China  2002    A000G  Oat Grain        Adults And Elderly   \n",
       "283460   China  2002    A000G  Oat Grain        Adults And Elderly   \n",
       "\n",
       "       SourceAgeClass Gender  Number_of_consumers  Consumers_Mean  \\\n",
       "0                 All    All                 1157           60.62   \n",
       "812       0-35 Months    All                   10           28.58   \n",
       "1251        3-5 Years    All                   20           22.00   \n",
       "1782       6-14 Years    All                  107           39.97   \n",
       "2487      15-49 Years    All                  545           66.67   \n",
       "3267      50-74 Years    All                  438           62.06   \n",
       "4020        >75 Years    All                   37           43.87   \n",
       "279440            All    All                 1157            1.12   \n",
       "280252    0-35 Months    All                   10            2.00   \n",
       "280691      3-5 Years    All                   20            1.31   \n",
       "281222     6-14 Years    All                  107            1.35   \n",
       "281927    15-49 Years    All                  545            1.12   \n",
       "282707    50-74 Years    All                  438            1.06   \n",
       "283460      >75 Years    All                   37            0.79   \n",
       "\n",
       "        Consumers_Median  Number_of_subjects  Total_Mean  Total_Median  \\\n",
       "0                   0.00               66172        1.06          0.00   \n",
       "812                 0.00                 838        0.34          0.00   \n",
       "1251                0.00                2235        0.20          0.00   \n",
       "1782                0.00                9844        0.43          0.00   \n",
       "2487                0.00               33719        1.08          0.00   \n",
       "3267                0.00               18143        1.50          0.00   \n",
       "4020                0.00                1393        1.17          0.00   \n",
       "279440               NaN               66172         NaN          0.00   \n",
       "280252               NaN                 838         NaN          0.00   \n",
       "280691               NaN                2235         NaN          0.00   \n",
       "281222               NaN                9844         NaN          0.00   \n",
       "281927               NaN               33719         NaN          0.00   \n",
       "282707               NaN               18143         NaN          0.00   \n",
       "283460               NaN                1393         NaN          0.00   \n",
       "\n",
       "        CodeLen  \n",
       "0             5  \n",
       "812           5  \n",
       "1251          5  \n",
       "1782          5  \n",
       "2487          5  \n",
       "3267          5  \n",
       "4020          5  \n",
       "279440        5  \n",
       "280252        5  \n",
       "280691        5  \n",
       "281222        5  \n",
       "281927        5  \n",
       "282707        5  \n",
       "283460        5  "
      ]
     },
     "execution_count": 307,
     "metadata": {},
     "output_type": "execute_result"
    }
   ],
   "source": [
    "food_all = food.loc[food['Gender'] == \"All\"]\n",
    "food_all_oat = food_all.loc[food_all['FoodName'] == \"Oat Grain\"]\n",
    "food_all_oat_ch = food_all_oat.loc[food_all_oat['Country'] == \"China\"]\n",
    "food_all_oat_ch"
   ]
  },
  {
   "cell_type": "markdown",
   "id": "7d1dfbe2-dde2-4b28-ba4b-3de429e333d4",
   "metadata": {},
   "source": [
    "### Tutaj pojawiło się pare ciekawych rzeczy. Po pierwse to to żę dane są podwojone dla wszystkich kolumn nie licząc Consumers_Mean, Consumers_Median, Total_Mean, Total_Median. Dodatkowo polowa danych z Consumers_median i total_mean ma wartości NaN. Na tym przykładzie widać że Consumers_Median i Total_Median sa dla mnie bezużytecznymi kolumnami bo niektórych przypadkach nie dadzą mi w ogóle informacji wiec już teraz moge ustalić ze ich się pozbywam wiec jedynie consumers mean może być użyteczne i to to sprawdzę czy posiada sensowne wartości. Tylko martwi mnie to żę dane są podowjone, a dane consumers mean dwa razy są różne prawdopodobnie ta kolumna też do wyrzucenia jest. "
   ]
  },
  {
   "cell_type": "code",
   "execution_count": 308,
   "id": "2dccf507-6e0b-43f7-96c1-1e52e3eee913",
   "metadata": {
    "tags": []
   },
   "outputs": [
    {
     "data": {
      "text/plain": [
       "Country                   0\n",
       "Year                      0\n",
       "FoodCode                  0\n",
       "FoodName                  0\n",
       "AgeClass                  0\n",
       "SourceAgeClass            0\n",
       "Gender                    0\n",
       "Number_of_consumers       0\n",
       "Consumers_Mean           32\n",
       "Consumers_Median       4532\n",
       "Number_of_subjects        0\n",
       "Total_Mean             5102\n",
       "Total_Median              3\n",
       "CodeLen                   0\n",
       "dtype: int64"
      ]
     },
     "execution_count": 308,
     "metadata": {},
     "output_type": "execute_result"
    }
   ],
   "source": [
    "food.isna().sum()"
   ]
  },
  {
   "cell_type": "markdown",
   "id": "0ef46616-7339-43c1-aae8-2413bcf0ee0c",
   "metadata": {},
   "source": [
    "### Czyli dochądzą kolejne bezużyteczne dane w tych kolumnach."
   ]
  },
  {
   "cell_type": "code",
   "execution_count": 309,
   "id": "2122f87f-b347-4b04-a38f-72a104c4d29a",
   "metadata": {
    "tags": []
   },
   "outputs": [
    {
     "data": {
      "text/plain": [
       "60.623"
      ]
     },
     "execution_count": 309,
     "metadata": {},
     "output_type": "execute_result"
    }
   ],
   "source": [
    "food_all_oat_ch['Consumers_Mean'].iloc[0] "
   ]
  },
  {
   "cell_type": "code",
   "execution_count": 310,
   "id": "a168d1ea-2979-4cbe-8b64-d9090f391159",
   "metadata": {},
   "outputs": [
    {
     "data": {
      "text/plain": [
       "1.748473674666022"
      ]
     },
     "execution_count": 310,
     "metadata": {},
     "output_type": "execute_result"
    }
   ],
   "source": [
    "1157/66172*100 # procent konsumentów z całej puli badanych "
   ]
  },
  {
   "cell_type": "code",
   "execution_count": 311,
   "id": "d9d27089-954c-471f-90c0-44328ee869da",
   "metadata": {},
   "outputs": [
    {
     "data": {
      "text/plain": [
       "57.19273984442524"
      ]
     },
     "execution_count": 311,
     "metadata": {},
     "output_type": "execute_result"
    }
   ],
   "source": [
    "66172/1157 #liczba badanych podzielona przez liczbę konsumentów"
   ]
  },
  {
   "cell_type": "code",
   "execution_count": 312,
   "id": "dc21887c-b13d-49d8-ac09-80aa05bd4d7b",
   "metadata": {},
   "outputs": [
    {
     "data": {
      "text/plain": [
       "57.193707865168534"
      ]
     },
     "execution_count": 312,
     "metadata": {},
     "output_type": "execute_result"
    }
   ],
   "source": [
    "(1.12+66172)/1157 # połączona liczba badanych podzielona przez liczbę konsumentów"
   ]
  },
  {
   "cell_type": "code",
   "execution_count": 313,
   "id": "a15de394-f250-44d8-b4c1-ba42930ec2df",
   "metadata": {},
   "outputs": [
    {
     "data": {
      "text/plain": [
       "263.15090000000004"
      ]
     },
     "execution_count": 313,
     "metadata": {},
     "output_type": "execute_result"
    }
   ],
   "source": [
    "food_all_oat_ch['Consumers_Mean'].iloc[1:7].sum() # suma średnich dla rzędów 1-6"
   ]
  },
  {
   "cell_type": "code",
   "execution_count": 314,
   "id": "801e9123-5b06-49da-9712-e46c60f7ab7a",
   "metadata": {
    "tags": []
   },
   "outputs": [
    {
     "data": {
      "text/plain": [
       "43.85848333333334"
      ]
     },
     "execution_count": 314,
     "metadata": {},
     "output_type": "execute_result"
    }
   ],
   "source": [
    "food_all_oat_ch['Consumers_Mean'].iloc[1:7].mean() # średnia ze średnich"
   ]
  },
  {
   "cell_type": "code",
   "execution_count": 315,
   "id": "36c05bc7-bab8-4bae-ace7-11b20df908b8",
   "metadata": {
    "tags": []
   },
   "outputs": [
    {
     "data": {
      "text/plain": [
       "330.57142857142856"
      ]
     },
     "execution_count": 315,
     "metadata": {},
     "output_type": "execute_result"
    }
   ],
   "source": [
    "food_all_oat_ch['Number_of_consumers'].iloc[:7].mean() # średnia z pierwszyć 7 rzędów"
   ]
  },
  {
   "cell_type": "code",
   "execution_count": 316,
   "id": "0aae7615-6752-4308-8819-6a30e90c5713",
   "metadata": {
    "tags": []
   },
   "outputs": [
    {
     "data": {
      "text/plain": [
       "0.01670516892867456"
      ]
     },
     "execution_count": 316,
     "metadata": {},
     "output_type": "execute_result"
    }
   ],
   "source": [
    "food_all_oat_ch['Number_of_consumers'].iloc[0]/food_all['Number_of_consumers'].iloc[1:7].sum() # wartość dla all podzielona przez sume wartości rzędów 1-6"
   ]
  },
  {
   "cell_type": "markdown",
   "id": "222eeea4-e495-468e-8a44-1528dad750b5",
   "metadata": {
    "tags": []
   },
   "source": [
    "### Żadne obliczenia nie daja takiej wartości jaka jest w kolumnie Consumers_Mean, więc albo są to jakieś inne dane, np. średnia ilość gramów spożywanego produktu przez ankietowanych albo coś zupełnie innego, ale bez odpowiedniej wiedzy nie można tego założyć. Znaczy to, że tych kolumn też trzeba sie pozbyć, gdyż nawet gdyby były pomocne, mogą one zawierać fałszywe wartości.\n",
    "### Usuwam więc: Consumers_Mean, Consumers_Median, Total_Mean, Total_Median i dodatkowo CodeLen które i tak już nie będzie użyteczne dla mnie."
   ]
  },
  {
   "cell_type": "code",
   "execution_count": 317,
   "id": "65ac9e49-a64b-48fd-aaf4-90769f095e16",
   "metadata": {
    "tags": []
   },
   "outputs": [
    {
     "data": {
      "text/plain": [
       "(522652, 14)"
      ]
     },
     "execution_count": 317,
     "metadata": {},
     "output_type": "execute_result"
    }
   ],
   "source": [
    "food.shape"
   ]
  },
  {
   "cell_type": "code",
   "execution_count": 318,
   "id": "399b5be4-5e41-4f5e-9486-b63990c5a11b",
   "metadata": {},
   "outputs": [
    {
     "data": {
      "text/plain": [
       "(522652, 9)"
      ]
     },
     "execution_count": 318,
     "metadata": {},
     "output_type": "execute_result"
    }
   ],
   "source": [
    "food = food.drop(['Consumers_Mean', 'Consumers_Median', 'Total_Mean', 'Total_Median', 'CodeLen'], axis=1)\n",
    "food.shape"
   ]
  },
  {
   "cell_type": "markdown",
   "id": "a2db5119-a22a-4e1b-a32b-320f32277a4e",
   "metadata": {},
   "source": [
    "### Wszystko poszło dobrze, pozbyłem się 5 kolumn, więc teraz czas na usuwanie duplikatów, zrobię to za pomocą drop.duplicates bo tak jak widziałem dane były podwojone i jedyne kolumny które uniemożliwiały usunięcie duplikatów przy wczesniejszym przywołaniu dropduplicates wiec samo to powinno bozbyc się niepotrzebnych danych"
   ]
  },
  {
   "cell_type": "code",
   "execution_count": 319,
   "id": "325be1d4-abbf-46d9-9283-b2ea9e6c37e9",
   "metadata": {
    "tags": []
   },
   "outputs": [
    {
     "data": {
      "text/plain": [
       "(522652, 9)"
      ]
     },
     "execution_count": 319,
     "metadata": {},
     "output_type": "execute_result"
    }
   ],
   "source": [
    "food.shape"
   ]
  },
  {
   "cell_type": "code",
   "execution_count": 320,
   "id": "b49eb1fa-6fda-4184-88b0-7437dd46893a",
   "metadata": {
    "tags": []
   },
   "outputs": [
    {
     "data": {
      "text/plain": [
       "(272016, 9)"
      ]
     },
     "execution_count": 320,
     "metadata": {},
     "output_type": "execute_result"
    }
   ],
   "source": [
    "food = food.drop_duplicates()\n",
    "food.shape"
   ]
  },
  {
   "cell_type": "code",
   "execution_count": 321,
   "id": "22f15bf3-a19f-4c0c-9d39-525f5e8842e6",
   "metadata": {
    "tags": []
   },
   "outputs": [
    {
     "data": {
      "text/plain": [
       "272016"
      ]
     },
     "execution_count": 321,
     "metadata": {},
     "output_type": "execute_result"
    }
   ],
   "source": [
    "544032-272016\n"
   ]
  },
  {
   "cell_type": "markdown",
   "id": "b1e1ed38-0766-4ca2-80ce-89173de882a1",
   "metadata": {},
   "source": [
    "### Tak jak wczesniej zauważyłem dane były podwojone w całej bazie danych, więc bardzo dobrze, że to zauważyłem, bo inaczej mogło by to mocno zakłamać wyniki.\n",
    "### <a id=\"kraje\"></a>[&uarr;](#top) Sprawdzam z jakich krajów są dane dla wszystkich płci"
   ]
  },
  {
   "cell_type": "code",
   "execution_count": 322,
   "id": "530235c2-b4e7-46e9-9867-cfd240d3d276",
   "metadata": {},
   "outputs": [],
   "source": [
    "food_all = food.loc[food['Gender'] == \"All\"]\n",
    "food_fem = food.loc[food['Gender'] == \"Female\"]\n",
    "food_men = food.loc[food['Gender'] == \"Male\"]"
   ]
  },
  {
   "cell_type": "markdown",
   "id": "a4b56cf9-4c95-4107-9562-f3c41e786a50",
   "metadata": {
    "tags": []
   },
   "source": [
    "### jeszcze przed tym dla upewnienia się sprawdze czy sumują się dobrze rzędy czy czegoś nie straciłem podczas przypisywania"
   ]
  },
  {
   "cell_type": "code",
   "execution_count": 323,
   "id": "96c05cff-0511-4b3d-a720-4baaea93db31",
   "metadata": {
    "tags": []
   },
   "outputs": [
    {
     "data": {
      "text/plain": [
       "0"
      ]
     },
     "execution_count": 323,
     "metadata": {},
     "output_type": "execute_result"
    }
   ],
   "source": [
    "food_all['Country'].count() + food_fem['Country'].count() + food_men['Country'].count() - food['Country'].count()"
   ]
  },
  {
   "cell_type": "markdown",
   "id": "87fe4116-b2e2-4340-ac2b-f756570d7be2",
   "metadata": {},
   "source": [
    "### takie same ilości więc super"
   ]
  },
  {
   "cell_type": "code",
   "execution_count": 324,
   "id": "9e44cadf-42d7-4456-a83b-984ec358a18e",
   "metadata": {
    "tags": []
   },
   "outputs": [
    {
     "data": {
      "text/plain": [
       "41"
      ]
     },
     "execution_count": 324,
     "metadata": {},
     "output_type": "execute_result"
    }
   ],
   "source": [
    "food['Country'].nunique()"
   ]
  },
  {
   "cell_type": "code",
   "execution_count": 325,
   "id": "66649823-c014-4873-b645-783a5e4f7880",
   "metadata": {},
   "outputs": [
    {
     "data": {
      "text/plain": [
       "41"
      ]
     },
     "execution_count": 325,
     "metadata": {},
     "output_type": "execute_result"
    }
   ],
   "source": [
    "food_all['Country'].nunique()"
   ]
  },
  {
   "cell_type": "code",
   "execution_count": 326,
   "id": "9ffe65f6-f024-428b-8dfd-2306a8855360",
   "metadata": {
    "tags": []
   },
   "outputs": [
    {
     "data": {
      "text/plain": [
       "41"
      ]
     },
     "execution_count": 326,
     "metadata": {},
     "output_type": "execute_result"
    }
   ],
   "source": [
    "food_fem['Country'].nunique()"
   ]
  },
  {
   "cell_type": "code",
   "execution_count": 327,
   "id": "d85954db-8303-4cc2-9d7a-d1c6e01b93ef",
   "metadata": {},
   "outputs": [
    {
     "data": {
      "text/plain": [
       "32"
      ]
     },
     "execution_count": 327,
     "metadata": {},
     "output_type": "execute_result"
    }
   ],
   "source": [
    "food_men['Country'].nunique()"
   ]
  },
  {
   "cell_type": "markdown",
   "id": "2205c3dd-0b44-42c6-bf7d-b6e4c847606c",
   "metadata": {},
   "source": [
    "### Niestety dane dla mężczyzn są z mniejszej ilości krajów, więc należy wziąć to pod uwagę przy analizie.\n",
    "### Sprawdzę jakie kraje są zawarte w tych danych, czy all. fem mają takie same kraje oraz jakich krajów nie ma w men."
   ]
  },
  {
   "cell_type": "code",
   "execution_count": 328,
   "id": "0c81a809-271c-454d-bcfe-a43eab835d81",
   "metadata": {
    "tags": []
   },
   "outputs": [
    {
     "data": {
      "text/plain": [
       "array(['China', 'Republic Of Korea', 'Sweden', 'United Kingdom',\n",
       "       'Austria', 'Belgium', 'Bulgaria', 'Croatia', 'Cyprus',\n",
       "       'Czech Republic', 'Denmark', 'Finland', 'France', 'Greece',\n",
       "       'Hungary', 'Ireland', 'Latvia', 'Netherlands', 'Portugal',\n",
       "       'Romania', 'Slovenia', 'Spain', 'United States Of America',\n",
       "       'Brazil', 'Italy', \"Lao People'S Democratic Republic\", 'Mexico',\n",
       "       'Mozambique', 'Malaysia', 'Nigeria', 'Pakistan', 'Philippines',\n",
       "       'Burkina Faso', 'Bangladesh', 'Uganda',\n",
       "       'Bolivia (Plurinational State Of)', 'Zambia',\n",
       "       'Democratic Republic Of The Congo', 'Ethiopia', 'Guatemala',\n",
       "       'India'], dtype=object)"
      ]
     },
     "execution_count": 328,
     "metadata": {},
     "output_type": "execute_result"
    }
   ],
   "source": [
    "food_all['Country'].unique()"
   ]
  },
  {
   "cell_type": "code",
   "execution_count": 329,
   "id": "5224bb76-d650-401a-9c46-83ef467b09b6",
   "metadata": {
    "tags": []
   },
   "outputs": [
    {
     "data": {
      "text/plain": [
       "array(['China', 'Republic Of Korea', 'Cyprus', 'Czech Republic',\n",
       "       'Denmark', 'Finland', 'France', 'Greece', 'Hungary', 'Ireland',\n",
       "       'Latvia', 'Netherlands', 'Portugal', 'Romania', 'Slovenia',\n",
       "       'Spain', 'Sweden', 'United Kingdom', 'Austria', 'Belgium',\n",
       "       'Bulgaria', 'Croatia', 'United States Of America', 'Brazil',\n",
       "       'Italy', \"Lao People'S Democratic Republic\", 'Mexico',\n",
       "       'Mozambique', 'Malaysia', 'Nigeria', 'Pakistan', 'Philippines',\n",
       "       'Burkina Faso', 'Bangladesh', 'Uganda',\n",
       "       'Bolivia (Plurinational State Of)', 'Zambia',\n",
       "       'Democratic Republic Of The Congo', 'Ethiopia', 'Guatemala',\n",
       "       'India'], dtype=object)"
      ]
     },
     "execution_count": 329,
     "metadata": {},
     "output_type": "execute_result"
    }
   ],
   "source": [
    "food_fem['Country'].unique()"
   ]
  },
  {
   "cell_type": "code",
   "execution_count": 330,
   "id": "eae6ea4e-bd80-46d6-8a21-a2960eff9ca9",
   "metadata": {
    "tags": []
   },
   "outputs": [
    {
     "data": {
      "text/plain": [
       "array(['China', 'Republic Of Korea', 'Cyprus', 'Czech Republic',\n",
       "       'Denmark', 'Finland', 'France', 'Greece', 'Hungary', 'Ireland',\n",
       "       'Latvia', 'Netherlands', 'Portugal', 'Romania', 'Slovenia',\n",
       "       'Spain', 'Sweden', 'United Kingdom', 'Austria', 'Belgium',\n",
       "       'Bulgaria', 'Croatia', 'United States Of America', 'Brazil',\n",
       "       'Italy', \"Lao People'S Democratic Republic\", 'Mexico', 'Malaysia',\n",
       "       'Nigeria', 'Burkina Faso', 'Bolivia (Plurinational State Of)',\n",
       "       'Zambia'], dtype=object)"
      ]
     },
     "execution_count": 330,
     "metadata": {},
     "output_type": "execute_result"
    }
   ],
   "source": [
    "food_men['Country'].unique()"
   ]
  },
  {
   "cell_type": "code",
   "execution_count": 331,
   "id": "af8cd4d0-eb2c-4fc5-9702-45ae91124248",
   "metadata": {
    "tags": []
   },
   "outputs": [
    {
     "data": {
      "text/plain": [
       "array([], dtype=object)"
      ]
     },
     "execution_count": 331,
     "metadata": {},
     "output_type": "execute_result"
    }
   ],
   "source": [
    "np.setxor1d(food_fem['Country'].unique(), food_all['Country'].unique()) # używam setxor1d z biblioteki numpy żeby sprawdzić czy te same kraje są dla fem i all"
   ]
  },
  {
   "cell_type": "code",
   "execution_count": 332,
   "id": "d7ec137f-3251-4db6-bc03-471a815916a7",
   "metadata": {
    "tags": []
   },
   "outputs": [
    {
     "data": {
      "text/plain": [
       "array(['Bangladesh', 'Democratic Republic Of The Congo', 'Ethiopia',\n",
       "       'Guatemala', 'India', 'Mozambique', 'Pakistan', 'Philippines',\n",
       "       'Uganda'], dtype=object)"
      ]
     },
     "execution_count": 332,
     "metadata": {},
     "output_type": "execute_result"
    }
   ],
   "source": [
    "np.setxor1d(food_fem['Country'].unique(), food_men['Country'].unique()) # sprawdzam jakich krajów nie posiadają mężczyźni"
   ]
  },
  {
   "cell_type": "markdown",
   "id": "525e4bce-7da1-47d4-8fca-0be8872b6632",
   "metadata": {},
   "source": [
    "### Jako że jestem przy temacie krajów to sprawdzę czy jest Polska tutaj"
   ]
  },
  {
   "cell_type": "code",
   "execution_count": 333,
   "id": "92d5b22a-4596-4196-a1eb-37906a6f7a41",
   "metadata": {
    "tags": []
   },
   "outputs": [
    {
     "data": {
      "text/html": [
       "<div>\n",
       "<style scoped>\n",
       "    .dataframe tbody tr th:only-of-type {\n",
       "        vertical-align: middle;\n",
       "    }\n",
       "\n",
       "    .dataframe tbody tr th {\n",
       "        vertical-align: top;\n",
       "    }\n",
       "\n",
       "    .dataframe thead th {\n",
       "        text-align: right;\n",
       "    }\n",
       "</style>\n",
       "<table border=\"1\" class=\"dataframe\">\n",
       "  <thead>\n",
       "    <tr style=\"text-align: right;\">\n",
       "      <th></th>\n",
       "      <th>Country</th>\n",
       "      <th>Year</th>\n",
       "      <th>FoodCode</th>\n",
       "      <th>FoodName</th>\n",
       "      <th>AgeClass</th>\n",
       "      <th>SourceAgeClass</th>\n",
       "      <th>Gender</th>\n",
       "      <th>Number_of_consumers</th>\n",
       "      <th>Number_of_subjects</th>\n",
       "    </tr>\n",
       "  </thead>\n",
       "  <tbody>\n",
       "  </tbody>\n",
       "</table>\n",
       "</div>"
      ],
      "text/plain": [
       "Empty DataFrame\n",
       "Columns: [Country, Year, FoodCode, FoodName, AgeClass, SourceAgeClass, Gender, Number_of_consumers, Number_of_subjects]\n",
       "Index: []"
      ]
     },
     "execution_count": 333,
     "metadata": {},
     "output_type": "execute_result"
    }
   ],
   "source": [
    "food_all.loc[food_all['Country'] == \"Poland\"]"
   ]
  },
  {
   "cell_type": "markdown",
   "id": "7878c4c0-40cb-46a5-878e-0a6eda18678d",
   "metadata": {},
   "source": [
    "### Niestety nie ma jej więc wnioski będę wyciągać dla Europy."
   ]
  },
  {
   "cell_type": "markdown",
   "id": "cfe06e35-9637-474e-bcd5-59b747a13de4",
   "metadata": {},
   "source": [
    "### <a id=\"ageclass\"></a>[&uarr;](#top) Będę chciał dane sprawdzać dla wszystkich group wiekowych bez rozdzielania dokładnie na grupy więc sprawdzę czy gdy tak filtruje to wszystko jest dobrze."
   ]
  },
  {
   "cell_type": "code",
   "execution_count": 334,
   "id": "b6e37fde-028b-4124-b4ee-549d8d4bff9f",
   "metadata": {},
   "outputs": [
    {
     "data": {
      "text/html": [
       "<div>\n",
       "<style scoped>\n",
       "    .dataframe tbody tr th:only-of-type {\n",
       "        vertical-align: middle;\n",
       "    }\n",
       "\n",
       "    .dataframe tbody tr th {\n",
       "        vertical-align: top;\n",
       "    }\n",
       "\n",
       "    .dataframe thead th {\n",
       "        text-align: right;\n",
       "    }\n",
       "</style>\n",
       "<table border=\"1\" class=\"dataframe\">\n",
       "  <thead>\n",
       "    <tr style=\"text-align: right;\">\n",
       "      <th></th>\n",
       "      <th>Country</th>\n",
       "      <th>Year</th>\n",
       "      <th>FoodCode</th>\n",
       "      <th>FoodName</th>\n",
       "      <th>AgeClass</th>\n",
       "      <th>SourceAgeClass</th>\n",
       "      <th>Gender</th>\n",
       "      <th>Number_of_consumers</th>\n",
       "      <th>Number_of_subjects</th>\n",
       "    </tr>\n",
       "  </thead>\n",
       "  <tbody>\n",
       "    <tr>\n",
       "      <th>0</th>\n",
       "      <td>China</td>\n",
       "      <td>2002</td>\n",
       "      <td>A000G</td>\n",
       "      <td>Oat Grain</td>\n",
       "      <td>All</td>\n",
       "      <td>All</td>\n",
       "      <td>All</td>\n",
       "      <td>1157</td>\n",
       "      <td>66172</td>\n",
       "    </tr>\n",
       "    <tr>\n",
       "      <th>3</th>\n",
       "      <td>China</td>\n",
       "      <td>2002</td>\n",
       "      <td>A000N</td>\n",
       "      <td>Buckwheat</td>\n",
       "      <td>All</td>\n",
       "      <td>All</td>\n",
       "      <td>All</td>\n",
       "      <td>167</td>\n",
       "      <td>66172</td>\n",
       "    </tr>\n",
       "    <tr>\n",
       "      <th>6</th>\n",
       "      <td>China</td>\n",
       "      <td>2002</td>\n",
       "      <td>A000P</td>\n",
       "      <td>Barley Grains</td>\n",
       "      <td>All</td>\n",
       "      <td>All</td>\n",
       "      <td>All</td>\n",
       "      <td>61</td>\n",
       "      <td>66172</td>\n",
       "    </tr>\n",
       "    <tr>\n",
       "      <th>9</th>\n",
       "      <td>China</td>\n",
       "      <td>2002</td>\n",
       "      <td>A000T</td>\n",
       "      <td>Maize Grain</td>\n",
       "      <td>All</td>\n",
       "      <td>All</td>\n",
       "      <td>All</td>\n",
       "      <td>2422</td>\n",
       "      <td>66172</td>\n",
       "    </tr>\n",
       "    <tr>\n",
       "      <th>12</th>\n",
       "      <td>China</td>\n",
       "      <td>2002</td>\n",
       "      <td>A001B</td>\n",
       "      <td>Common Millet Grain</td>\n",
       "      <td>All</td>\n",
       "      <td>All</td>\n",
       "      <td>All</td>\n",
       "      <td>9069</td>\n",
       "      <td>66172</td>\n",
       "    </tr>\n",
       "  </tbody>\n",
       "</table>\n",
       "</div>"
      ],
      "text/plain": [
       "   Country  Year FoodCode             FoodName AgeClass SourceAgeClass Gender  \\\n",
       "0    China  2002    A000G            Oat Grain      All            All    All   \n",
       "3    China  2002    A000N            Buckwheat      All            All    All   \n",
       "6    China  2002    A000P        Barley Grains      All            All    All   \n",
       "9    China  2002    A000T          Maize Grain      All            All    All   \n",
       "12   China  2002    A001B  Common Millet Grain      All            All    All   \n",
       "\n",
       "    Number_of_consumers  Number_of_subjects  \n",
       "0                  1157               66172  \n",
       "3                   167               66172  \n",
       "6                    61               66172  \n",
       "9                  2422               66172  \n",
       "12                 9069               66172  "
      ]
     },
     "execution_count": 334,
     "metadata": {},
     "output_type": "execute_result"
    }
   ],
   "source": [
    "food_all_all = food_all.loc[food_all['AgeClass'] == \"All\"]\n",
    "food_fem_all = food_fem.loc[food_fem['AgeClass'] == \"All\"]\n",
    "food_men_all = food_men.loc[food_men['AgeClass'] == \"All\"]\n",
    "food_all_all.head()"
   ]
  },
  {
   "cell_type": "code",
   "execution_count": 335,
   "id": "9346ed23-8f62-4183-8c8c-22e4a00968e3",
   "metadata": {},
   "outputs": [
    {
     "data": {
      "text/plain": [
       "23"
      ]
     },
     "execution_count": 335,
     "metadata": {},
     "output_type": "execute_result"
    }
   ],
   "source": [
    "food_all_all['Country'].nunique()"
   ]
  },
  {
   "cell_type": "code",
   "execution_count": 336,
   "id": "87923d8b-0f4c-40fc-bcae-db1671568ce8",
   "metadata": {},
   "outputs": [
    {
     "data": {
      "text/plain": [
       "23"
      ]
     },
     "execution_count": 336,
     "metadata": {},
     "output_type": "execute_result"
    }
   ],
   "source": [
    "food_fem_all['Country'].nunique()"
   ]
  },
  {
   "cell_type": "code",
   "execution_count": 337,
   "id": "627eaef6-5edf-4048-8b8f-20bbe31bd896",
   "metadata": {},
   "outputs": [
    {
     "data": {
      "text/plain": [
       "14"
      ]
     },
     "execution_count": 337,
     "metadata": {},
     "output_type": "execute_result"
    }
   ],
   "source": [
    "food_men_all['Country'].nunique()"
   ]
  },
  {
   "cell_type": "markdown",
   "id": "38e7500d-fcf0-4565-89c3-0cabc20bf956",
   "metadata": {},
   "source": [
    "### O i tutaj jest duży problem przy takim rozdzieleniu ilości krajów są inne niż wczesniej sprawdzałem czyli muszę znaleźć inne rozwiązanie bo wynika z tego że ageclass all nie jest dla wszystkich krajów, niektóre kraje nie mają tego zgrupowanego"
   ]
  },
  {
   "cell_type": "code",
   "execution_count": 338,
   "id": "b0ddad70-9344-49d4-bab9-e9abb5c40151",
   "metadata": {},
   "outputs": [
    {
     "data": {
      "text/plain": [
       "array(['Austria', 'Belgium', 'Croatia', 'Cyprus', 'Czech Republic',\n",
       "       'Denmark', 'Finland', 'France', 'Greece', 'Hungary', 'Ireland',\n",
       "       'Latvia', 'Netherlands', 'Portugal', 'Slovenia', 'Spain', 'Sweden',\n",
       "       'United Kingdom'], dtype=object)"
      ]
     },
     "execution_count": 338,
     "metadata": {},
     "output_type": "execute_result"
    }
   ],
   "source": [
    "np.setxor1d(food_all['Country'].unique(), food_all_all['Country'].unique())"
   ]
  },
  {
   "cell_type": "markdown",
   "id": "5f3e72fc-1433-486f-a8f9-2968a8dd1112",
   "metadata": {},
   "source": [
    "### tak wstępnie patrząc to wydzhodi na to że z Europy kraje nie mją ageclass All. Na przykładzie Francji sprawdzę jak to dokładnie wygląda."
   ]
  },
  {
   "cell_type": "code",
   "execution_count": 339,
   "id": "11285b87-1e88-4cdc-861a-3578d5fe301a",
   "metadata": {},
   "outputs": [
    {
     "data": {
      "text/html": [
       "<div>\n",
       "<style scoped>\n",
       "    .dataframe tbody tr th:only-of-type {\n",
       "        vertical-align: middle;\n",
       "    }\n",
       "\n",
       "    .dataframe tbody tr th {\n",
       "        vertical-align: top;\n",
       "    }\n",
       "\n",
       "    .dataframe thead th {\n",
       "        text-align: right;\n",
       "    }\n",
       "</style>\n",
       "<table border=\"1\" class=\"dataframe\">\n",
       "  <thead>\n",
       "    <tr style=\"text-align: right;\">\n",
       "      <th></th>\n",
       "      <th>Country</th>\n",
       "      <th>Year</th>\n",
       "      <th>FoodCode</th>\n",
       "      <th>FoodName</th>\n",
       "      <th>AgeClass</th>\n",
       "      <th>SourceAgeClass</th>\n",
       "      <th>Gender</th>\n",
       "      <th>Number_of_consumers</th>\n",
       "      <th>Number_of_subjects</th>\n",
       "    </tr>\n",
       "  </thead>\n",
       "  <tbody>\n",
       "    <tr>\n",
       "      <th>37678</th>\n",
       "      <td>France</td>\n",
       "      <td>2007</td>\n",
       "      <td>A03MQ</td>\n",
       "      <td>Shandy</td>\n",
       "      <td>Children And Adolescents</td>\n",
       "      <td>Other Children</td>\n",
       "      <td>Male</td>\n",
       "      <td>1</td>\n",
       "      <td>239</td>\n",
       "    </tr>\n",
       "    <tr>\n",
       "      <th>37679</th>\n",
       "      <td>France</td>\n",
       "      <td>2007</td>\n",
       "      <td>A03MX</td>\n",
       "      <td>Wine, Red</td>\n",
       "      <td>Children And Adolescents</td>\n",
       "      <td>Other Children</td>\n",
       "      <td>Female</td>\n",
       "      <td>17</td>\n",
       "      <td>243</td>\n",
       "    </tr>\n",
       "    <tr>\n",
       "      <th>37680</th>\n",
       "      <td>France</td>\n",
       "      <td>2007</td>\n",
       "      <td>A03MX</td>\n",
       "      <td>Wine, Red</td>\n",
       "      <td>Children And Adolescents</td>\n",
       "      <td>Other Children</td>\n",
       "      <td>Male</td>\n",
       "      <td>14</td>\n",
       "      <td>239</td>\n",
       "    </tr>\n",
       "    <tr>\n",
       "      <th>37681</th>\n",
       "      <td>France</td>\n",
       "      <td>2007</td>\n",
       "      <td>A03MV</td>\n",
       "      <td>Wine, White</td>\n",
       "      <td>Children And Adolescents</td>\n",
       "      <td>Other Children</td>\n",
       "      <td>Female</td>\n",
       "      <td>19</td>\n",
       "      <td>243</td>\n",
       "    </tr>\n",
       "    <tr>\n",
       "      <th>37682</th>\n",
       "      <td>France</td>\n",
       "      <td>2007</td>\n",
       "      <td>A03MV</td>\n",
       "      <td>Wine, White</td>\n",
       "      <td>Children And Adolescents</td>\n",
       "      <td>Other Children</td>\n",
       "      <td>Male</td>\n",
       "      <td>13</td>\n",
       "      <td>239</td>\n",
       "    </tr>\n",
       "    <tr>\n",
       "      <th>...</th>\n",
       "      <td>...</td>\n",
       "      <td>...</td>\n",
       "      <td>...</td>\n",
       "      <td>...</td>\n",
       "      <td>...</td>\n",
       "      <td>...</td>\n",
       "      <td>...</td>\n",
       "      <td>...</td>\n",
       "      <td>...</td>\n",
       "    </tr>\n",
       "    <tr>\n",
       "      <th>173985</th>\n",
       "      <td>France</td>\n",
       "      <td>2014</td>\n",
       "      <td>A03EA</td>\n",
       "      <td>Soft Drink, With Fruit Juice (Fruit Content Be...</td>\n",
       "      <td>Adults And Elderly</td>\n",
       "      <td>Very Elderly</td>\n",
       "      <td>All</td>\n",
       "      <td>4</td>\n",
       "      <td>118</td>\n",
       "    </tr>\n",
       "    <tr>\n",
       "      <th>173986</th>\n",
       "      <td>France</td>\n",
       "      <td>2014</td>\n",
       "      <td>A03EL</td>\n",
       "      <td>Fruit Soft Drink, Orange</td>\n",
       "      <td>Adults And Elderly</td>\n",
       "      <td>Very Elderly</td>\n",
       "      <td>All</td>\n",
       "      <td>2</td>\n",
       "      <td>118</td>\n",
       "    </tr>\n",
       "    <tr>\n",
       "      <th>173987</th>\n",
       "      <td>France</td>\n",
       "      <td>2014</td>\n",
       "      <td>A03EX</td>\n",
       "      <td>Soft Drink, Flavoured, No Fruit</td>\n",
       "      <td>Adults And Elderly</td>\n",
       "      <td>Very Elderly</td>\n",
       "      <td>All</td>\n",
       "      <td>1</td>\n",
       "      <td>118</td>\n",
       "    </tr>\n",
       "    <tr>\n",
       "      <th>173988</th>\n",
       "      <td>France</td>\n",
       "      <td>2014</td>\n",
       "      <td>A03EY</td>\n",
       "      <td>Soft Drink With Bitter Principle</td>\n",
       "      <td>Adults And Elderly</td>\n",
       "      <td>Very Elderly</td>\n",
       "      <td>All</td>\n",
       "      <td>2</td>\n",
       "      <td>118</td>\n",
       "    </tr>\n",
       "    <tr>\n",
       "      <th>173989</th>\n",
       "      <td>France</td>\n",
       "      <td>2014</td>\n",
       "      <td>A03FD</td>\n",
       "      <td>Soft Drink, Flavoured With Herbs</td>\n",
       "      <td>Adults And Elderly</td>\n",
       "      <td>Very Elderly</td>\n",
       "      <td>All</td>\n",
       "      <td>2</td>\n",
       "      <td>118</td>\n",
       "    </tr>\n",
       "  </tbody>\n",
       "</table>\n",
       "<p>21343 rows × 9 columns</p>\n",
       "</div>"
      ],
      "text/plain": [
       "       Country  Year FoodCode  \\\n",
       "37678   France  2007    A03MQ   \n",
       "37679   France  2007    A03MX   \n",
       "37680   France  2007    A03MX   \n",
       "37681   France  2007    A03MV   \n",
       "37682   France  2007    A03MV   \n",
       "...        ...   ...      ...   \n",
       "173985  France  2014    A03EA   \n",
       "173986  France  2014    A03EL   \n",
       "173987  France  2014    A03EX   \n",
       "173988  France  2014    A03EY   \n",
       "173989  France  2014    A03FD   \n",
       "\n",
       "                                                 FoodName  \\\n",
       "37678                                              Shandy   \n",
       "37679                                           Wine, Red   \n",
       "37680                                           Wine, Red   \n",
       "37681                                         Wine, White   \n",
       "37682                                         Wine, White   \n",
       "...                                                   ...   \n",
       "173985  Soft Drink, With Fruit Juice (Fruit Content Be...   \n",
       "173986                           Fruit Soft Drink, Orange   \n",
       "173987                    Soft Drink, Flavoured, No Fruit   \n",
       "173988                   Soft Drink With Bitter Principle   \n",
       "173989                   Soft Drink, Flavoured With Herbs   \n",
       "\n",
       "                        AgeClass  SourceAgeClass  Gender  Number_of_consumers  \\\n",
       "37678   Children And Adolescents  Other Children    Male                    1   \n",
       "37679   Children And Adolescents  Other Children  Female                   17   \n",
       "37680   Children And Adolescents  Other Children    Male                   14   \n",
       "37681   Children And Adolescents  Other Children  Female                   19   \n",
       "37682   Children And Adolescents  Other Children    Male                   13   \n",
       "...                          ...             ...     ...                  ...   \n",
       "173985        Adults And Elderly    Very Elderly     All                    4   \n",
       "173986        Adults And Elderly    Very Elderly     All                    2   \n",
       "173987        Adults And Elderly    Very Elderly     All                    1   \n",
       "173988        Adults And Elderly    Very Elderly     All                    2   \n",
       "173989        Adults And Elderly    Very Elderly     All                    2   \n",
       "\n",
       "        Number_of_subjects  \n",
       "37678                  239  \n",
       "37679                  243  \n",
       "37680                  239  \n",
       "37681                  243  \n",
       "37682                  239  \n",
       "...                    ...  \n",
       "173985                 118  \n",
       "173986                 118  \n",
       "173987                 118  \n",
       "173988                 118  \n",
       "173989                 118  \n",
       "\n",
       "[21343 rows x 9 columns]"
      ]
     },
     "execution_count": 339,
     "metadata": {},
     "output_type": "execute_result"
    }
   ],
   "source": [
    "food_fr = food.loc[food['Country'] == \"France\"] \n",
    "food_fr['AgeClass'].unique()\n",
    "food_fr"
   ]
  },
  {
   "cell_type": "code",
   "execution_count": 340,
   "id": "0e8903a3-458a-4b94-baca-722130235f22",
   "metadata": {
    "tags": []
   },
   "outputs": [
    {
     "data": {
      "text/html": [
       "<div>\n",
       "<style scoped>\n",
       "    .dataframe tbody tr th:only-of-type {\n",
       "        vertical-align: middle;\n",
       "    }\n",
       "\n",
       "    .dataframe tbody tr th {\n",
       "        vertical-align: top;\n",
       "    }\n",
       "\n",
       "    .dataframe thead th {\n",
       "        text-align: right;\n",
       "    }\n",
       "</style>\n",
       "<table border=\"1\" class=\"dataframe\">\n",
       "  <thead>\n",
       "    <tr style=\"text-align: right;\">\n",
       "      <th></th>\n",
       "      <th>Country</th>\n",
       "      <th>Year</th>\n",
       "      <th>FoodCode</th>\n",
       "      <th>FoodName</th>\n",
       "      <th>AgeClass</th>\n",
       "      <th>SourceAgeClass</th>\n",
       "      <th>Gender</th>\n",
       "      <th>Number_of_consumers</th>\n",
       "      <th>Number_of_subjects</th>\n",
       "    </tr>\n",
       "  </thead>\n",
       "  <tbody>\n",
       "    <tr>\n",
       "      <th>46892</th>\n",
       "      <td>France</td>\n",
       "      <td>2014</td>\n",
       "      <td>A03FD</td>\n",
       "      <td>Soft Drink, Flavoured With Herbs</td>\n",
       "      <td>Children And Adolescents</td>\n",
       "      <td>Adolescents</td>\n",
       "      <td>Female</td>\n",
       "      <td>74</td>\n",
       "      <td>543</td>\n",
       "    </tr>\n",
       "    <tr>\n",
       "      <th>46893</th>\n",
       "      <td>France</td>\n",
       "      <td>2014</td>\n",
       "      <td>A03FD</td>\n",
       "      <td>Soft Drink, Flavoured With Herbs</td>\n",
       "      <td>Children And Adolescents</td>\n",
       "      <td>Adolescents</td>\n",
       "      <td>Male</td>\n",
       "      <td>70</td>\n",
       "      <td>587</td>\n",
       "    </tr>\n",
       "    <tr>\n",
       "      <th>171412</th>\n",
       "      <td>France</td>\n",
       "      <td>2014</td>\n",
       "      <td>A03FD</td>\n",
       "      <td>Soft Drink, Flavoured With Herbs</td>\n",
       "      <td>Children And Adolescents</td>\n",
       "      <td>Adolescents</td>\n",
       "      <td>All</td>\n",
       "      <td>144</td>\n",
       "      <td>1130</td>\n",
       "    </tr>\n",
       "    <tr>\n",
       "      <th>48840</th>\n",
       "      <td>France</td>\n",
       "      <td>2014</td>\n",
       "      <td>A03FD</td>\n",
       "      <td>Soft Drink, Flavoured With Herbs</td>\n",
       "      <td>Adults And Elderly</td>\n",
       "      <td>Adults</td>\n",
       "      <td>Female</td>\n",
       "      <td>44</td>\n",
       "      <td>1022</td>\n",
       "    </tr>\n",
       "    <tr>\n",
       "      <th>48841</th>\n",
       "      <td>France</td>\n",
       "      <td>2014</td>\n",
       "      <td>A03FD</td>\n",
       "      <td>Soft Drink, Flavoured With Herbs</td>\n",
       "      <td>Adults And Elderly</td>\n",
       "      <td>Adults</td>\n",
       "      <td>Male</td>\n",
       "      <td>31</td>\n",
       "      <td>751</td>\n",
       "    </tr>\n",
       "    <tr>\n",
       "      <th>172492</th>\n",
       "      <td>France</td>\n",
       "      <td>2014</td>\n",
       "      <td>A03FD</td>\n",
       "      <td>Soft Drink, Flavoured With Herbs</td>\n",
       "      <td>Adults And Elderly</td>\n",
       "      <td>Adults</td>\n",
       "      <td>All</td>\n",
       "      <td>75</td>\n",
       "      <td>1773</td>\n",
       "    </tr>\n",
       "    <tr>\n",
       "      <th>50326</th>\n",
       "      <td>France</td>\n",
       "      <td>2014</td>\n",
       "      <td>A03FD</td>\n",
       "      <td>Soft Drink, Flavoured With Herbs</td>\n",
       "      <td>Adults And Elderly</td>\n",
       "      <td>Elderly</td>\n",
       "      <td>Male</td>\n",
       "      <td>4</td>\n",
       "      <td>173</td>\n",
       "    </tr>\n",
       "    <tr>\n",
       "      <th>50325</th>\n",
       "      <td>France</td>\n",
       "      <td>2014</td>\n",
       "      <td>A03FD</td>\n",
       "      <td>Soft Drink, Flavoured With Herbs</td>\n",
       "      <td>Adults And Elderly</td>\n",
       "      <td>Elderly</td>\n",
       "      <td>Female</td>\n",
       "      <td>2</td>\n",
       "      <td>211</td>\n",
       "    </tr>\n",
       "    <tr>\n",
       "      <th>173363</th>\n",
       "      <td>France</td>\n",
       "      <td>2014</td>\n",
       "      <td>A03FD</td>\n",
       "      <td>Soft Drink, Flavoured With Herbs</td>\n",
       "      <td>Adults And Elderly</td>\n",
       "      <td>Elderly</td>\n",
       "      <td>All</td>\n",
       "      <td>6</td>\n",
       "      <td>384</td>\n",
       "    </tr>\n",
       "    <tr>\n",
       "      <th>45366</th>\n",
       "      <td>France</td>\n",
       "      <td>2014</td>\n",
       "      <td>A03FD</td>\n",
       "      <td>Soft Drink, Flavoured With Herbs</td>\n",
       "      <td>Children And Adolescents</td>\n",
       "      <td>Other Children</td>\n",
       "      <td>Female</td>\n",
       "      <td>30</td>\n",
       "      <td>424</td>\n",
       "    </tr>\n",
       "    <tr>\n",
       "      <th>45367</th>\n",
       "      <td>France</td>\n",
       "      <td>2014</td>\n",
       "      <td>A03FD</td>\n",
       "      <td>Soft Drink, Flavoured With Herbs</td>\n",
       "      <td>Children And Adolescents</td>\n",
       "      <td>Other Children</td>\n",
       "      <td>Male</td>\n",
       "      <td>23</td>\n",
       "      <td>428</td>\n",
       "    </tr>\n",
       "    <tr>\n",
       "      <th>170543</th>\n",
       "      <td>France</td>\n",
       "      <td>2014</td>\n",
       "      <td>A03FD</td>\n",
       "      <td>Soft Drink, Flavoured With Herbs</td>\n",
       "      <td>Children And Adolescents</td>\n",
       "      <td>Other Children</td>\n",
       "      <td>All</td>\n",
       "      <td>53</td>\n",
       "      <td>852</td>\n",
       "    </tr>\n",
       "    <tr>\n",
       "      <th>43874</th>\n",
       "      <td>France</td>\n",
       "      <td>2014</td>\n",
       "      <td>A03FD</td>\n",
       "      <td>Soft Drink, Flavoured With Herbs</td>\n",
       "      <td>Infants And Toddlers</td>\n",
       "      <td>Toddlers</td>\n",
       "      <td>Female</td>\n",
       "      <td>3</td>\n",
       "      <td>67</td>\n",
       "    </tr>\n",
       "    <tr>\n",
       "      <th>169694</th>\n",
       "      <td>France</td>\n",
       "      <td>2014</td>\n",
       "      <td>A03FD</td>\n",
       "      <td>Soft Drink, Flavoured With Herbs</td>\n",
       "      <td>Infants And Toddlers</td>\n",
       "      <td>Toddlers</td>\n",
       "      <td>All</td>\n",
       "      <td>3</td>\n",
       "      <td>139</td>\n",
       "    </tr>\n",
       "    <tr>\n",
       "      <th>51291</th>\n",
       "      <td>France</td>\n",
       "      <td>2014</td>\n",
       "      <td>A03FD</td>\n",
       "      <td>Soft Drink, Flavoured With Herbs</td>\n",
       "      <td>Adults And Elderly</td>\n",
       "      <td>Very Elderly</td>\n",
       "      <td>Male</td>\n",
       "      <td>1</td>\n",
       "      <td>37</td>\n",
       "    </tr>\n",
       "    <tr>\n",
       "      <th>51290</th>\n",
       "      <td>France</td>\n",
       "      <td>2014</td>\n",
       "      <td>A03FD</td>\n",
       "      <td>Soft Drink, Flavoured With Herbs</td>\n",
       "      <td>Adults And Elderly</td>\n",
       "      <td>Very Elderly</td>\n",
       "      <td>Female</td>\n",
       "      <td>1</td>\n",
       "      <td>81</td>\n",
       "    </tr>\n",
       "    <tr>\n",
       "      <th>173989</th>\n",
       "      <td>France</td>\n",
       "      <td>2014</td>\n",
       "      <td>A03FD</td>\n",
       "      <td>Soft Drink, Flavoured With Herbs</td>\n",
       "      <td>Adults And Elderly</td>\n",
       "      <td>Very Elderly</td>\n",
       "      <td>All</td>\n",
       "      <td>2</td>\n",
       "      <td>118</td>\n",
       "    </tr>\n",
       "  </tbody>\n",
       "</table>\n",
       "</div>"
      ],
      "text/plain": [
       "       Country  Year FoodCode                          FoodName  \\\n",
       "46892   France  2014    A03FD  Soft Drink, Flavoured With Herbs   \n",
       "46893   France  2014    A03FD  Soft Drink, Flavoured With Herbs   \n",
       "171412  France  2014    A03FD  Soft Drink, Flavoured With Herbs   \n",
       "48840   France  2014    A03FD  Soft Drink, Flavoured With Herbs   \n",
       "48841   France  2014    A03FD  Soft Drink, Flavoured With Herbs   \n",
       "172492  France  2014    A03FD  Soft Drink, Flavoured With Herbs   \n",
       "50326   France  2014    A03FD  Soft Drink, Flavoured With Herbs   \n",
       "50325   France  2014    A03FD  Soft Drink, Flavoured With Herbs   \n",
       "173363  France  2014    A03FD  Soft Drink, Flavoured With Herbs   \n",
       "45366   France  2014    A03FD  Soft Drink, Flavoured With Herbs   \n",
       "45367   France  2014    A03FD  Soft Drink, Flavoured With Herbs   \n",
       "170543  France  2014    A03FD  Soft Drink, Flavoured With Herbs   \n",
       "43874   France  2014    A03FD  Soft Drink, Flavoured With Herbs   \n",
       "169694  France  2014    A03FD  Soft Drink, Flavoured With Herbs   \n",
       "51291   France  2014    A03FD  Soft Drink, Flavoured With Herbs   \n",
       "51290   France  2014    A03FD  Soft Drink, Flavoured With Herbs   \n",
       "173989  France  2014    A03FD  Soft Drink, Flavoured With Herbs   \n",
       "\n",
       "                        AgeClass  SourceAgeClass  Gender  Number_of_consumers  \\\n",
       "46892   Children And Adolescents     Adolescents  Female                   74   \n",
       "46893   Children And Adolescents     Adolescents    Male                   70   \n",
       "171412  Children And Adolescents     Adolescents     All                  144   \n",
       "48840         Adults And Elderly          Adults  Female                   44   \n",
       "48841         Adults And Elderly          Adults    Male                   31   \n",
       "172492        Adults And Elderly          Adults     All                   75   \n",
       "50326         Adults And Elderly         Elderly    Male                    4   \n",
       "50325         Adults And Elderly         Elderly  Female                    2   \n",
       "173363        Adults And Elderly         Elderly     All                    6   \n",
       "45366   Children And Adolescents  Other Children  Female                   30   \n",
       "45367   Children And Adolescents  Other Children    Male                   23   \n",
       "170543  Children And Adolescents  Other Children     All                   53   \n",
       "43874       Infants And Toddlers        Toddlers  Female                    3   \n",
       "169694      Infants And Toddlers        Toddlers     All                    3   \n",
       "51291         Adults And Elderly    Very Elderly    Male                    1   \n",
       "51290         Adults And Elderly    Very Elderly  Female                    1   \n",
       "173989        Adults And Elderly    Very Elderly     All                    2   \n",
       "\n",
       "        Number_of_subjects  \n",
       "46892                  543  \n",
       "46893                  587  \n",
       "171412                1130  \n",
       "48840                 1022  \n",
       "48841                  751  \n",
       "172492                1773  \n",
       "50326                  173  \n",
       "50325                  211  \n",
       "173363                 384  \n",
       "45366                  424  \n",
       "45367                  428  \n",
       "170543                 852  \n",
       "43874                   67  \n",
       "169694                 139  \n",
       "51291                   37  \n",
       "51290                   81  \n",
       "173989                 118  "
      ]
     },
     "execution_count": 340,
     "metadata": {},
     "output_type": "execute_result"
    }
   ],
   "source": [
    "food_fr_wine = food_fr.loc[food_fr['FoodName'] == \"Soft Drink, Flavoured With Herbs\"] \n",
    "food_fr_wine.sort_values(by='SourceAgeClass')"
   ]
  },
  {
   "cell_type": "markdown",
   "id": "5c187989-7eab-4e60-a90f-93d30fbce19c",
   "metadata": {},
   "source": [
    "### oznacza to że muszę znaleźć inny sposob na przedstawienie danych dla wszystkich grup wiekowych. rozwiązaniem może być nieużywanie ageclass all a za to samemu grupować dane dla danego produktu wykożystując to że każde badanie ma unikalną ilość badanych, jest tu ryzko że madania będą miały taka samą ilośc badanych ale na razie nie widzę innej opcji\n",
    "### jako żenie będę rodzielać danych na konkretne grupy wiekowe to sama ich suma mi wystarczy wiec pozbycie sie all i zsumowanie wszystkich wartości robiąc to na podstawie tego że każde badanie ma inną ilośc badanych to nie powinno być tu problemu ale upewnię się\n",
    "### widać że dane female+male=All więc wszystko się pod tym wzgledem zgadza oznacza to że przy rodzielaniu na płcie wszytko idzie dobrze. "
   ]
  },
  {
   "cell_type": "code",
   "execution_count": 341,
   "id": "072514f4-abaa-4196-b577-37bacf36983c",
   "metadata": {},
   "outputs": [
    {
     "data": {
      "text/plain": [
       "243"
      ]
     },
     "execution_count": 341,
     "metadata": {},
     "output_type": "execute_result"
    }
   ],
   "source": [
    "food_all['Number_of_subjects'].nunique()"
   ]
  },
  {
   "cell_type": "markdown",
   "id": "7f0e0216-db6b-4b43-abc0-bca4108d5022",
   "metadata": {},
   "source": [
    "### znaczy to ze jest grupując tak dane będą z 243 badań brane czyli jest to dobra próba badanych. może znajdę lepszy sposob ale na razie wydaje sie to być najlepsze. \n",
    "### sprawdzę jeszcze na przykładzie chin dla oat grain czy wszystkie wartości dodane do siebie dają tą samą wartość co dla Ageclass All. "
   ]
  },
  {
   "cell_type": "code",
   "execution_count": 342,
   "id": "a8772aa0-a20a-4555-a16e-5069a3da7a6e",
   "metadata": {
    "tags": []
   },
   "outputs": [
    {
     "data": {
      "text/html": [
       "<div>\n",
       "<style scoped>\n",
       "    .dataframe tbody tr th:only-of-type {\n",
       "        vertical-align: middle;\n",
       "    }\n",
       "\n",
       "    .dataframe tbody tr th {\n",
       "        vertical-align: top;\n",
       "    }\n",
       "\n",
       "    .dataframe thead th {\n",
       "        text-align: right;\n",
       "    }\n",
       "</style>\n",
       "<table border=\"1\" class=\"dataframe\">\n",
       "  <thead>\n",
       "    <tr style=\"text-align: right;\">\n",
       "      <th></th>\n",
       "      <th>Country</th>\n",
       "      <th>Year</th>\n",
       "      <th>FoodCode</th>\n",
       "      <th>FoodName</th>\n",
       "      <th>AgeClass</th>\n",
       "      <th>SourceAgeClass</th>\n",
       "      <th>Gender</th>\n",
       "      <th>Number_of_consumers</th>\n",
       "      <th>Number_of_subjects</th>\n",
       "    </tr>\n",
       "  </thead>\n",
       "  <tbody>\n",
       "    <tr>\n",
       "      <th>0</th>\n",
       "      <td>China</td>\n",
       "      <td>2002</td>\n",
       "      <td>A000G</td>\n",
       "      <td>Oat Grain</td>\n",
       "      <td>All</td>\n",
       "      <td>All</td>\n",
       "      <td>All</td>\n",
       "      <td>1157</td>\n",
       "      <td>66172</td>\n",
       "    </tr>\n",
       "    <tr>\n",
       "      <th>812</th>\n",
       "      <td>China</td>\n",
       "      <td>2002</td>\n",
       "      <td>A000G</td>\n",
       "      <td>Oat Grain</td>\n",
       "      <td>Infants And Toddlers</td>\n",
       "      <td>0-35 Months</td>\n",
       "      <td>All</td>\n",
       "      <td>10</td>\n",
       "      <td>838</td>\n",
       "    </tr>\n",
       "    <tr>\n",
       "      <th>1251</th>\n",
       "      <td>China</td>\n",
       "      <td>2002</td>\n",
       "      <td>A000G</td>\n",
       "      <td>Oat Grain</td>\n",
       "      <td>Children And Adolescents</td>\n",
       "      <td>3-5 Years</td>\n",
       "      <td>All</td>\n",
       "      <td>20</td>\n",
       "      <td>2235</td>\n",
       "    </tr>\n",
       "    <tr>\n",
       "      <th>1782</th>\n",
       "      <td>China</td>\n",
       "      <td>2002</td>\n",
       "      <td>A000G</td>\n",
       "      <td>Oat Grain</td>\n",
       "      <td>Children And Adolescents</td>\n",
       "      <td>6-14 Years</td>\n",
       "      <td>All</td>\n",
       "      <td>107</td>\n",
       "      <td>9844</td>\n",
       "    </tr>\n",
       "    <tr>\n",
       "      <th>2487</th>\n",
       "      <td>China</td>\n",
       "      <td>2002</td>\n",
       "      <td>A000G</td>\n",
       "      <td>Oat Grain</td>\n",
       "      <td>Adults And Elderly</td>\n",
       "      <td>15-49 Years</td>\n",
       "      <td>All</td>\n",
       "      <td>545</td>\n",
       "      <td>33719</td>\n",
       "    </tr>\n",
       "    <tr>\n",
       "      <th>3267</th>\n",
       "      <td>China</td>\n",
       "      <td>2002</td>\n",
       "      <td>A000G</td>\n",
       "      <td>Oat Grain</td>\n",
       "      <td>Adults And Elderly</td>\n",
       "      <td>50-74 Years</td>\n",
       "      <td>All</td>\n",
       "      <td>438</td>\n",
       "      <td>18143</td>\n",
       "    </tr>\n",
       "    <tr>\n",
       "      <th>4020</th>\n",
       "      <td>China</td>\n",
       "      <td>2002</td>\n",
       "      <td>A000G</td>\n",
       "      <td>Oat Grain</td>\n",
       "      <td>Adults And Elderly</td>\n",
       "      <td>&gt;75 Years</td>\n",
       "      <td>All</td>\n",
       "      <td>37</td>\n",
       "      <td>1393</td>\n",
       "    </tr>\n",
       "  </tbody>\n",
       "</table>\n",
       "</div>"
      ],
      "text/plain": [
       "     Country  Year FoodCode   FoodName                  AgeClass  \\\n",
       "0      China  2002    A000G  Oat Grain                       All   \n",
       "812    China  2002    A000G  Oat Grain      Infants And Toddlers   \n",
       "1251   China  2002    A000G  Oat Grain  Children And Adolescents   \n",
       "1782   China  2002    A000G  Oat Grain  Children And Adolescents   \n",
       "2487   China  2002    A000G  Oat Grain        Adults And Elderly   \n",
       "3267   China  2002    A000G  Oat Grain        Adults And Elderly   \n",
       "4020   China  2002    A000G  Oat Grain        Adults And Elderly   \n",
       "\n",
       "     SourceAgeClass Gender  Number_of_consumers  Number_of_subjects  \n",
       "0               All    All                 1157               66172  \n",
       "812     0-35 Months    All                   10                 838  \n",
       "1251      3-5 Years    All                   20                2235  \n",
       "1782     6-14 Years    All                  107                9844  \n",
       "2487    15-49 Years    All                  545               33719  \n",
       "3267    50-74 Years    All                  438               18143  \n",
       "4020      >75 Years    All                   37                1393  "
      ]
     },
     "execution_count": 342,
     "metadata": {},
     "output_type": "execute_result"
    }
   ],
   "source": [
    "food_all_oat = food_all.loc[food_all['FoodName'] == \"Oat Grain\"]\n",
    "food_all_oat_ch = food_all_oat.loc[food_all_oat['Country'] == \"China\"]\n",
    "\n",
    "food_all_oat_ch"
   ]
  },
  {
   "cell_type": "code",
   "execution_count": 343,
   "id": "2bcc2bc8-8698-421b-afcb-a6a908bb5352",
   "metadata": {
    "tags": []
   },
   "outputs": [
    {
     "data": {
      "text/plain": [
       "0"
      ]
     },
     "execution_count": 343,
     "metadata": {},
     "output_type": "execute_result"
    }
   ],
   "source": [
    "food_all_oat_ch['Number_of_consumers'].iloc[1:].sum()-food_all_oat_ch['Number_of_consumers'].iloc[0]"
   ]
  },
  {
   "cell_type": "markdown",
   "id": "82ca6a84-b5f7-4a41-ae8b-cede01b0e998",
   "metadata": {},
   "source": [
    "### wynik jest 0 więc znaczy to że sumy są dobre. Czyli podsumowując moim pomysłem jest usunięcie rzędów z ageclass all i potem samodzielnei grupować dane wykorzstując zależnośc że badania mają różne ilości badanych. czyli teraz usuwam rzędy z ageclass all i wstępnie sprawdzę czy to dobrze działa"
   ]
  },
  {
   "cell_type": "code",
   "execution_count": 344,
   "id": "22a3561f-7c7c-486f-9440-7fe8df1d2459",
   "metadata": {
    "tags": []
   },
   "outputs": [
    {
     "data": {
      "text/plain": [
       "8539"
      ]
     },
     "execution_count": 344,
     "metadata": {},
     "output_type": "execute_result"
    }
   ],
   "source": [
    "food_fr = food_fr.loc[food_fr['Gender'] == \"All\"] \n",
    "food_fr['Number_of_subjects'].unique().sum() # chyba to będzie rozwiązaniem"
   ]
  },
  {
   "cell_type": "code",
   "execution_count": 345,
   "id": "698d9f80-eb7f-4b80-aeff-3ae53e0e2391",
   "metadata": {
    "tags": []
   },
   "outputs": [
    {
     "data": {
      "text/html": [
       "<div>\n",
       "<style scoped>\n",
       "    .dataframe tbody tr th:only-of-type {\n",
       "        vertical-align: middle;\n",
       "    }\n",
       "\n",
       "    .dataframe tbody tr th {\n",
       "        vertical-align: top;\n",
       "    }\n",
       "\n",
       "    .dataframe thead th {\n",
       "        text-align: right;\n",
       "    }\n",
       "</style>\n",
       "<table border=\"1\" class=\"dataframe\">\n",
       "  <thead>\n",
       "    <tr style=\"text-align: right;\">\n",
       "      <th></th>\n",
       "      <th>Country</th>\n",
       "      <th>Number_of_subjects</th>\n",
       "      <th>Year</th>\n",
       "      <th>FoodCode</th>\n",
       "      <th>FoodName</th>\n",
       "      <th>AgeClass</th>\n",
       "      <th>SourceAgeClass</th>\n",
       "      <th>Gender</th>\n",
       "      <th>Number_of_consumers</th>\n",
       "    </tr>\n",
       "  </thead>\n",
       "  <tbody>\n",
       "    <tr>\n",
       "      <th>15</th>\n",
       "      <td>France</td>\n",
       "      <td>8539</td>\n",
       "      <td>15546648</td>\n",
       "      <td>A036PA036VA037DA039CA03LGA03HGA03HHA032BA032CA...</td>\n",
       "      <td>Olive OilsRape Seed Oil, EdibleSunflower Seed ...</td>\n",
       "      <td>Infants And ToddlersInfants And ToddlersInfant...</td>\n",
       "      <td>InfantsInfantsInfantsInfantsInfantsInfantsInfa...</td>\n",
       "      <td>AllAllAllAllAllAllAllAllAllAllAllAllAllAllAllA...</td>\n",
       "      <td>503329</td>\n",
       "    </tr>\n",
       "  </tbody>\n",
       "</table>\n",
       "</div>"
      ],
      "text/plain": [
       "   Country  Number_of_subjects      Year  \\\n",
       "15  France                8539  15546648   \n",
       "\n",
       "                                             FoodCode  \\\n",
       "15  A036PA036VA037DA039CA03LGA03HGA03HHA032BA032CA...   \n",
       "\n",
       "                                             FoodName  \\\n",
       "15  Olive OilsRape Seed Oil, EdibleSunflower Seed ...   \n",
       "\n",
       "                                             AgeClass  \\\n",
       "15  Infants And ToddlersInfants And ToddlersInfant...   \n",
       "\n",
       "                                       SourceAgeClass  \\\n",
       "15  InfantsInfantsInfantsInfantsInfantsInfantsInfa...   \n",
       "\n",
       "                                               Gender  Number_of_consumers  \n",
       "15  AllAllAllAllAllAllAllAllAllAllAllAllAllAllAllA...               503329  "
      ]
     },
     "execution_count": 345,
     "metadata": {},
     "output_type": "execute_result"
    }
   ],
   "source": [
    "food_ctry = food_all.groupby(['Country','Number_of_subjects']).sum().reset_index()\n",
    "food_ctry = food_ctry.groupby(['Country']).sum().reset_index()\n",
    "food_ctry.loc[food_ctry['Country'] == \"France\"]"
   ]
  },
  {
   "cell_type": "code",
   "execution_count": 346,
   "id": "b6621529-073d-46f1-94bf-43846133cc02",
   "metadata": {
    "tags": []
   },
   "outputs": [
    {
     "data": {
      "text/plain": [
       "41"
      ]
     },
     "execution_count": 346,
     "metadata": {},
     "output_type": "execute_result"
    }
   ],
   "source": [
    "food_ctry['Country'].nunique()"
   ]
  },
  {
   "cell_type": "markdown",
   "id": "6d64c4c4-e0f5-4c22-9331-feaf87e17c58",
   "metadata": {
    "tags": []
   },
   "source": [
    "### wychodzi na to że ta metoda daję dobrą ilość badnaych wczęsniej zakłądana i nic nei trace w ten sposób a ilość krajów jest dobra"
   ]
  },
  {
   "cell_type": "code",
   "execution_count": 347,
   "id": "c77a7526-ee90-422d-8aa5-650d106d4942",
   "metadata": {
    "tags": []
   },
   "outputs": [
    {
     "data": {
      "text/plain": [
       "522791"
      ]
     },
     "execution_count": 347,
     "metadata": {},
     "output_type": "execute_result"
    }
   ],
   "source": [
    "sub_over_time = food_all.groupby(['Year', 'Number_of_subjects']).sum().reset_index()\n",
    "sub_over_time = sub_over_time.groupby(['Year']).sum().reset_index()\n",
    "sub_over_time['Number_of_subjects'].sum()"
   ]
  },
  {
   "cell_type": "code",
   "execution_count": 348,
   "id": "46fbab38-213e-48aa-8dbd-634a8e5757d0",
   "metadata": {
    "tags": []
   },
   "outputs": [],
   "source": [
    "mask = food['AgeClass']== 'All'\n",
    "food = food[~mask]"
   ]
  },
  {
   "cell_type": "code",
   "execution_count": 349,
   "id": "f2570cfd-8838-43f8-be92-384246d2e73e",
   "metadata": {
    "tags": []
   },
   "outputs": [],
   "source": [
    "food_all = food.loc[food['Gender'] == \"All\"]\n",
    "food_fem = food.loc[food['Gender'] == \"Female\"]\n",
    "food_men = food.loc[food['Gender'] == \"Male\"]\n"
   ]
  },
  {
   "cell_type": "code",
   "execution_count": 350,
   "id": "5b04cf57-d040-4d97-bdce-a67ad85bb8e8",
   "metadata": {
    "tags": []
   },
   "outputs": [
    {
     "data": {
      "text/plain": [
       "Country                0\n",
       "Year                   0\n",
       "FoodCode               0\n",
       "FoodName               0\n",
       "AgeClass               0\n",
       "SourceAgeClass         0\n",
       "Gender                 0\n",
       "Number_of_consumers    0\n",
       "Number_of_subjects     0\n",
       "dtype: int64"
      ]
     },
     "execution_count": 350,
     "metadata": {},
     "output_type": "execute_result"
    }
   ],
   "source": [
    "food_all.count() + food_fem.count() + food_men.count() - food.count() "
   ]
  },
  {
   "cell_type": "markdown",
   "id": "853f0a09-6ebf-4728-a584-2a33f579fea2",
   "metadata": {},
   "source": [
    "### wychodzi 0 czyli wszystko jest dobrze i nie ma strat"
   ]
  },
  {
   "cell_type": "code",
   "execution_count": 351,
   "id": "e94e665b-df79-433f-bfb6-5c8fd273f1f7",
   "metadata": {
    "tags": []
   },
   "outputs": [
    {
     "data": {
      "text/plain": [
       "41"
      ]
     },
     "execution_count": 351,
     "metadata": {},
     "output_type": "execute_result"
    }
   ],
   "source": [
    "food_all['Country'].nunique()"
   ]
  },
  {
   "cell_type": "code",
   "execution_count": 352,
   "id": "9f4afb91-d465-453e-a48e-d2c306433bfe",
   "metadata": {
    "tags": []
   },
   "outputs": [
    {
     "data": {
      "text/plain": [
       "41"
      ]
     },
     "execution_count": 352,
     "metadata": {},
     "output_type": "execute_result"
    }
   ],
   "source": [
    "food_fem['Country'].nunique()"
   ]
  },
  {
   "cell_type": "code",
   "execution_count": 353,
   "id": "ff947391-a448-47db-899f-755d1d3ddabe",
   "metadata": {
    "tags": []
   },
   "outputs": [
    {
     "data": {
      "text/plain": [
       "32"
      ]
     },
     "execution_count": 353,
     "metadata": {},
     "output_type": "execute_result"
    }
   ],
   "source": [
    "food_men['Country'].nunique()"
   ]
  },
  {
   "cell_type": "markdown",
   "id": "68c0d4cc-0084-42ab-acaa-c7749e636674",
   "metadata": {},
   "source": [
    "### ilości krajów się zgadzają\n",
    "### chyba wszystkie dane są wyczyszczone i uporządkowane żeby móc robić wykresy, wiem jak osiągnąć najbardziej zbliżony do rzeczywistości wynik wiec wiec wszystko powinno być fine\n",
    "### sprawdzam przy jakim grupowaniu suma Number_of_subjects jest najwieksza i z tej będę kożystac. tak samo będę robić przy innych wykresach"
   ]
  },
  {
   "cell_type": "code",
   "execution_count": 354,
   "id": "ac4b2714-69df-459b-ba0f-56bd16cf7b4d",
   "metadata": {
    "tags": []
   },
   "outputs": [
    {
     "data": {
      "text/plain": [
       "312217"
      ]
     },
     "execution_count": 354,
     "metadata": {},
     "output_type": "execute_result"
    }
   ],
   "source": [
    "sub_over_time = food_all.groupby(['Year', 'Number_of_subjects','SourceAgeClass']).sum().reset_index()\n",
    "sub_over_time = sub_over_time.groupby(['Year']).sum().reset_index()\n",
    "sub_over_time['Number_of_subjects'].sum()"
   ]
  },
  {
   "cell_type": "markdown",
   "id": "c4466c56-08dd-4462-8c8d-03b35ecba372",
   "metadata": {},
   "source": [
    "# 📊 Wykres: Ilość badanych na przestrzeni lat.<a id=\"sub_over_time\"></a> [&uarr;](#top)"
   ]
  },
  {
   "cell_type": "code",
   "execution_count": 355,
   "id": "929e022c-e011-4b0a-b1d3-93eda2e550ec",
   "metadata": {
    "tags": []
   },
   "outputs": [
    {
     "data": {
      "text/html": [
       "        <script type=\"text/javascript\">\n",
       "        window.PlotlyConfig = {MathJaxConfig: 'local'};\n",
       "        if (window.MathJax && window.MathJax.Hub && window.MathJax.Hub.Config) {window.MathJax.Hub.Config({SVG: {font: \"STIX-Web\"}});}\n",
       "        if (typeof require !== 'undefined') {\n",
       "        require.undef(\"plotly\");\n",
       "        requirejs.config({\n",
       "            paths: {\n",
       "                'plotly': ['https://cdn.plot.ly/plotly-2.12.1.min']\n",
       "            }\n",
       "        });\n",
       "        require(['plotly'], function(Plotly) {\n",
       "            window._Plotly = Plotly;\n",
       "        });\n",
       "        }\n",
       "        </script>\n",
       "        "
      ]
     },
     "metadata": {},
     "output_type": "display_data"
    },
    {
     "data": {
      "text/html": [
       "<div>                            <div id=\"f86e66a5-599d-4e73-abe0-2bd16d753fe4\" class=\"plotly-graph-div\" style=\"height:525px; width:100%;\"></div>            <script type=\"text/javascript\">                require([\"plotly\"], function(Plotly) {                    window.PLOTLYENV=window.PLOTLYENV || {};                                    if (document.getElementById(\"f86e66a5-599d-4e73-abe0-2bd16d753fe4\")) {                    Plotly.newPlot(                        \"f86e66a5-599d-4e73-abe0-2bd16d753fe4\",                        [{\"hovertemplate\":\"Year=%{x}<br>Number of Subjects=%{y:,}<extra></extra>\",\"legendgroup\":\"\",\"line\":{\"color\":\"#636efa\",\"dash\":\"solid\"},\"marker\":{\"symbol\":\"circle\"},\"mode\":\"lines\",\"name\":\"\",\"orientation\":\"v\",\"showlegend\":false,\"x\":[1997,1998,1999,2000,2001,2002,2003,2004,2005,2006,2007,2008,2009,2010,2011,2012,2013,2014,2015,2016,2017,2018],\"xaxis\":\"x\",\"y\":[2168,382,410,6094,1750,66833,8687,4971,2700,9023,13649,6484,2075,103733,5996,24453,1700,12207,27950,6377,4001,574],\"yaxis\":\"y\",\"type\":\"scatter\"}],                        {\"template\":{\"data\":{\"histogram2dcontour\":[{\"type\":\"histogram2dcontour\",\"colorbar\":{\"outlinewidth\":0,\"ticks\":\"\"},\"colorscale\":[[0.0,\"#0d0887\"],[0.1111111111111111,\"#46039f\"],[0.2222222222222222,\"#7201a8\"],[0.3333333333333333,\"#9c179e\"],[0.4444444444444444,\"#bd3786\"],[0.5555555555555556,\"#d8576b\"],[0.6666666666666666,\"#ed7953\"],[0.7777777777777778,\"#fb9f3a\"],[0.8888888888888888,\"#fdca26\"],[1.0,\"#f0f921\"]]}],\"choropleth\":[{\"type\":\"choropleth\",\"colorbar\":{\"outlinewidth\":0,\"ticks\":\"\"}}],\"histogram2d\":[{\"type\":\"histogram2d\",\"colorbar\":{\"outlinewidth\":0,\"ticks\":\"\"},\"colorscale\":[[0.0,\"#0d0887\"],[0.1111111111111111,\"#46039f\"],[0.2222222222222222,\"#7201a8\"],[0.3333333333333333,\"#9c179e\"],[0.4444444444444444,\"#bd3786\"],[0.5555555555555556,\"#d8576b\"],[0.6666666666666666,\"#ed7953\"],[0.7777777777777778,\"#fb9f3a\"],[0.8888888888888888,\"#fdca26\"],[1.0,\"#f0f921\"]]}],\"heatmap\":[{\"type\":\"heatmap\",\"colorbar\":{\"outlinewidth\":0,\"ticks\":\"\"},\"colorscale\":[[0.0,\"#0d0887\"],[0.1111111111111111,\"#46039f\"],[0.2222222222222222,\"#7201a8\"],[0.3333333333333333,\"#9c179e\"],[0.4444444444444444,\"#bd3786\"],[0.5555555555555556,\"#d8576b\"],[0.6666666666666666,\"#ed7953\"],[0.7777777777777778,\"#fb9f3a\"],[0.8888888888888888,\"#fdca26\"],[1.0,\"#f0f921\"]]}],\"heatmapgl\":[{\"type\":\"heatmapgl\",\"colorbar\":{\"outlinewidth\":0,\"ticks\":\"\"},\"colorscale\":[[0.0,\"#0d0887\"],[0.1111111111111111,\"#46039f\"],[0.2222222222222222,\"#7201a8\"],[0.3333333333333333,\"#9c179e\"],[0.4444444444444444,\"#bd3786\"],[0.5555555555555556,\"#d8576b\"],[0.6666666666666666,\"#ed7953\"],[0.7777777777777778,\"#fb9f3a\"],[0.8888888888888888,\"#fdca26\"],[1.0,\"#f0f921\"]]}],\"contourcarpet\":[{\"type\":\"contourcarpet\",\"colorbar\":{\"outlinewidth\":0,\"ticks\":\"\"}}],\"contour\":[{\"type\":\"contour\",\"colorbar\":{\"outlinewidth\":0,\"ticks\":\"\"},\"colorscale\":[[0.0,\"#0d0887\"],[0.1111111111111111,\"#46039f\"],[0.2222222222222222,\"#7201a8\"],[0.3333333333333333,\"#9c179e\"],[0.4444444444444444,\"#bd3786\"],[0.5555555555555556,\"#d8576b\"],[0.6666666666666666,\"#ed7953\"],[0.7777777777777778,\"#fb9f3a\"],[0.8888888888888888,\"#fdca26\"],[1.0,\"#f0f921\"]]}],\"surface\":[{\"type\":\"surface\",\"colorbar\":{\"outlinewidth\":0,\"ticks\":\"\"},\"colorscale\":[[0.0,\"#0d0887\"],[0.1111111111111111,\"#46039f\"],[0.2222222222222222,\"#7201a8\"],[0.3333333333333333,\"#9c179e\"],[0.4444444444444444,\"#bd3786\"],[0.5555555555555556,\"#d8576b\"],[0.6666666666666666,\"#ed7953\"],[0.7777777777777778,\"#fb9f3a\"],[0.8888888888888888,\"#fdca26\"],[1.0,\"#f0f921\"]]}],\"mesh3d\":[{\"type\":\"mesh3d\",\"colorbar\":{\"outlinewidth\":0,\"ticks\":\"\"}}],\"scatter\":[{\"fillpattern\":{\"fillmode\":\"overlay\",\"size\":10,\"solidity\":0.2},\"type\":\"scatter\"}],\"parcoords\":[{\"type\":\"parcoords\",\"line\":{\"colorbar\":{\"outlinewidth\":0,\"ticks\":\"\"}}}],\"scatterpolargl\":[{\"type\":\"scatterpolargl\",\"marker\":{\"colorbar\":{\"outlinewidth\":0,\"ticks\":\"\"}}}],\"bar\":[{\"error_x\":{\"color\":\"#2a3f5f\"},\"error_y\":{\"color\":\"#2a3f5f\"},\"marker\":{\"line\":{\"color\":\"#E5ECF6\",\"width\":0.5},\"pattern\":{\"fillmode\":\"overlay\",\"size\":10,\"solidity\":0.2}},\"type\":\"bar\"}],\"scattergeo\":[{\"type\":\"scattergeo\",\"marker\":{\"colorbar\":{\"outlinewidth\":0,\"ticks\":\"\"}}}],\"scatterpolar\":[{\"type\":\"scatterpolar\",\"marker\":{\"colorbar\":{\"outlinewidth\":0,\"ticks\":\"\"}}}],\"histogram\":[{\"marker\":{\"pattern\":{\"fillmode\":\"overlay\",\"size\":10,\"solidity\":0.2}},\"type\":\"histogram\"}],\"scattergl\":[{\"type\":\"scattergl\",\"marker\":{\"colorbar\":{\"outlinewidth\":0,\"ticks\":\"\"}}}],\"scatter3d\":[{\"type\":\"scatter3d\",\"line\":{\"colorbar\":{\"outlinewidth\":0,\"ticks\":\"\"}},\"marker\":{\"colorbar\":{\"outlinewidth\":0,\"ticks\":\"\"}}}],\"scattermapbox\":[{\"type\":\"scattermapbox\",\"marker\":{\"colorbar\":{\"outlinewidth\":0,\"ticks\":\"\"}}}],\"scatterternary\":[{\"type\":\"scatterternary\",\"marker\":{\"colorbar\":{\"outlinewidth\":0,\"ticks\":\"\"}}}],\"scattercarpet\":[{\"type\":\"scattercarpet\",\"marker\":{\"colorbar\":{\"outlinewidth\":0,\"ticks\":\"\"}}}],\"carpet\":[{\"aaxis\":{\"endlinecolor\":\"#2a3f5f\",\"gridcolor\":\"white\",\"linecolor\":\"white\",\"minorgridcolor\":\"white\",\"startlinecolor\":\"#2a3f5f\"},\"baxis\":{\"endlinecolor\":\"#2a3f5f\",\"gridcolor\":\"white\",\"linecolor\":\"white\",\"minorgridcolor\":\"white\",\"startlinecolor\":\"#2a3f5f\"},\"type\":\"carpet\"}],\"table\":[{\"cells\":{\"fill\":{\"color\":\"#EBF0F8\"},\"line\":{\"color\":\"white\"}},\"header\":{\"fill\":{\"color\":\"#C8D4E3\"},\"line\":{\"color\":\"white\"}},\"type\":\"table\"}],\"barpolar\":[{\"marker\":{\"line\":{\"color\":\"#E5ECF6\",\"width\":0.5},\"pattern\":{\"fillmode\":\"overlay\",\"size\":10,\"solidity\":0.2}},\"type\":\"barpolar\"}],\"pie\":[{\"automargin\":true,\"type\":\"pie\"}]},\"layout\":{\"autotypenumbers\":\"strict\",\"colorway\":[\"#636efa\",\"#EF553B\",\"#00cc96\",\"#ab63fa\",\"#FFA15A\",\"#19d3f3\",\"#FF6692\",\"#B6E880\",\"#FF97FF\",\"#FECB52\"],\"font\":{\"color\":\"#2a3f5f\"},\"hovermode\":\"closest\",\"hoverlabel\":{\"align\":\"left\"},\"paper_bgcolor\":\"white\",\"plot_bgcolor\":\"#E5ECF6\",\"polar\":{\"bgcolor\":\"#E5ECF6\",\"angularaxis\":{\"gridcolor\":\"white\",\"linecolor\":\"white\",\"ticks\":\"\"},\"radialaxis\":{\"gridcolor\":\"white\",\"linecolor\":\"white\",\"ticks\":\"\"}},\"ternary\":{\"bgcolor\":\"#E5ECF6\",\"aaxis\":{\"gridcolor\":\"white\",\"linecolor\":\"white\",\"ticks\":\"\"},\"baxis\":{\"gridcolor\":\"white\",\"linecolor\":\"white\",\"ticks\":\"\"},\"caxis\":{\"gridcolor\":\"white\",\"linecolor\":\"white\",\"ticks\":\"\"}},\"coloraxis\":{\"colorbar\":{\"outlinewidth\":0,\"ticks\":\"\"}},\"colorscale\":{\"sequential\":[[0.0,\"#0d0887\"],[0.1111111111111111,\"#46039f\"],[0.2222222222222222,\"#7201a8\"],[0.3333333333333333,\"#9c179e\"],[0.4444444444444444,\"#bd3786\"],[0.5555555555555556,\"#d8576b\"],[0.6666666666666666,\"#ed7953\"],[0.7777777777777778,\"#fb9f3a\"],[0.8888888888888888,\"#fdca26\"],[1.0,\"#f0f921\"]],\"sequentialminus\":[[0.0,\"#0d0887\"],[0.1111111111111111,\"#46039f\"],[0.2222222222222222,\"#7201a8\"],[0.3333333333333333,\"#9c179e\"],[0.4444444444444444,\"#bd3786\"],[0.5555555555555556,\"#d8576b\"],[0.6666666666666666,\"#ed7953\"],[0.7777777777777778,\"#fb9f3a\"],[0.8888888888888888,\"#fdca26\"],[1.0,\"#f0f921\"]],\"diverging\":[[0,\"#8e0152\"],[0.1,\"#c51b7d\"],[0.2,\"#de77ae\"],[0.3,\"#f1b6da\"],[0.4,\"#fde0ef\"],[0.5,\"#f7f7f7\"],[0.6,\"#e6f5d0\"],[0.7,\"#b8e186\"],[0.8,\"#7fbc41\"],[0.9,\"#4d9221\"],[1,\"#276419\"]]},\"xaxis\":{\"gridcolor\":\"white\",\"linecolor\":\"white\",\"ticks\":\"\",\"title\":{\"standoff\":15},\"zerolinecolor\":\"white\",\"automargin\":true,\"zerolinewidth\":2},\"yaxis\":{\"gridcolor\":\"white\",\"linecolor\":\"white\",\"ticks\":\"\",\"title\":{\"standoff\":15},\"zerolinecolor\":\"white\",\"automargin\":true,\"zerolinewidth\":2},\"scene\":{\"xaxis\":{\"backgroundcolor\":\"#E5ECF6\",\"gridcolor\":\"white\",\"linecolor\":\"white\",\"showbackground\":true,\"ticks\":\"\",\"zerolinecolor\":\"white\",\"gridwidth\":2},\"yaxis\":{\"backgroundcolor\":\"#E5ECF6\",\"gridcolor\":\"white\",\"linecolor\":\"white\",\"showbackground\":true,\"ticks\":\"\",\"zerolinecolor\":\"white\",\"gridwidth\":2},\"zaxis\":{\"backgroundcolor\":\"#E5ECF6\",\"gridcolor\":\"white\",\"linecolor\":\"white\",\"showbackground\":true,\"ticks\":\"\",\"zerolinecolor\":\"white\",\"gridwidth\":2}},\"shapedefaults\":{\"line\":{\"color\":\"#2a3f5f\"}},\"annotationdefaults\":{\"arrowcolor\":\"#2a3f5f\",\"arrowhead\":0,\"arrowwidth\":1},\"geo\":{\"bgcolor\":\"white\",\"landcolor\":\"#E5ECF6\",\"subunitcolor\":\"white\",\"showland\":true,\"showlakes\":true,\"lakecolor\":\"white\"},\"title\":{\"x\":0.05},\"mapbox\":{\"style\":\"light\"}}},\"xaxis\":{\"anchor\":\"y\",\"domain\":[0.0,1.0],\"title\":{\"text\":\"Year\"}},\"yaxis\":{\"anchor\":\"x\",\"domain\":[0.0,1.0],\"title\":{\"text\":\"Number of Subjects\"}},\"legend\":{\"tracegroupgap\":0},\"title\":{\"text\":\"over time\"}},                        {\"responsive\": true}                    ).then(function(){\n",
       "                            \n",
       "var gd = document.getElementById('f86e66a5-599d-4e73-abe0-2bd16d753fe4');\n",
       "var x = new MutationObserver(function (mutations, observer) {{\n",
       "        var display = window.getComputedStyle(gd).display;\n",
       "        if (!display || display === 'none') {{\n",
       "            console.log([gd, 'removed!']);\n",
       "            Plotly.purge(gd);\n",
       "            observer.disconnect();\n",
       "        }}\n",
       "}});\n",
       "\n",
       "// Listen for the removal of the full notebook cells\n",
       "var notebookContainer = gd.closest('#notebook-container');\n",
       "if (notebookContainer) {{\n",
       "    x.observe(notebookContainer, {childList: true});\n",
       "}}\n",
       "\n",
       "// Listen for the clearing of the current output cell\n",
       "var outputEl = gd.closest('.output');\n",
       "if (outputEl) {{\n",
       "    x.observe(outputEl, {childList: true});\n",
       "}}\n",
       "\n",
       "                        })                };                });            </script>        </div>"
      ]
     },
     "metadata": {},
     "output_type": "display_data"
    }
   ],
   "source": [
    "hello = px.line(sub_over_time, x=\"Year\", y=\"Number_of_subjects\", title=\"over time\", labels={'Number_of_subjects':'Number of Subjects', 'FoodName': 'Food Names' } , hover_data={'Number_of_subjects':':,'})\n",
    "hello.show()"
   ]
  },
  {
   "cell_type": "markdown",
   "id": "0bfcb066-055d-45d3-b78d-0eb4c12e766d",
   "metadata": {},
   "source": [
    "# Wnioski <a id=\"sub_over_time_wnio\"></a> [&uarr;](#top)"
   ]
  },
  {
   "cell_type": "markdown",
   "id": "cdd6261c-7b76-416a-a287-97734f8cb882",
   "metadata": {},
   "source": [
    "### Jak widać dane są głównie z 202 i 2010. Najwyraźniej wtedy było albo najwieksze badanie albo najwiecej badań. "
   ]
  },
  {
   "cell_type": "code",
   "execution_count": 356,
   "id": "39825e42-d1e8-4e53-a133-e8623955ad4d",
   "metadata": {
    "tags": []
   },
   "outputs": [
    {
     "data": {
      "text/plain": [
       "array([   36,   625,   838,  1393,  2235,  9844, 18143, 33719])"
      ]
     },
     "execution_count": 356,
     "metadata": {},
     "output_type": "execute_result"
    }
   ],
   "source": [
    "food_2002 = food_all.loc[food_all['Year'] == 2002]\n",
    "food_2002 = food_2002.groupby(['Number_of_subjects','SourceAgeClass']).sum().reset_index()\n",
    "food_2002['Number_of_subjects'].unique()"
   ]
  },
  {
   "cell_type": "code",
   "execution_count": 357,
   "id": "7e12b510-0e64-424d-a179-dbc7e6229127",
   "metadata": {
    "tags": []
   },
   "outputs": [
    {
     "data": {
      "text/plain": [
       "array([    1,     2,    12,    25,    27,    40,    49,    67,    72,\n",
       "         128,   237,   289,   295,   308,   450,   463,   477,   478,\n",
       "         516,   517,  1205,  1418,  1430,  1595,  2669,  4330,  5215,\n",
       "        9446, 33029, 38942])"
      ]
     },
     "execution_count": 357,
     "metadata": {},
     "output_type": "execute_result"
    }
   ],
   "source": [
    "food_2010 = food_all.loc[food_all['Year'] == 2010]\n",
    "food_2010 = food_2010.groupby(['Number_of_subjects','SourceAgeClass']).sum().reset_index()\n",
    "food_2010['Number_of_subjects'].unique()"
   ]
  },
  {
   "cell_type": "markdown",
   "id": "8d48f259-0f5f-4402-8089-cb97f0341e73",
   "metadata": {},
   "source": [
    "### jak widać głównie tutaj miały znaczenie duże badania ale również było troche tych badań wiec jest to zawsze plus bo zwiększa to wiarygodność i zmiejsza błąd z badań(jak to ianczej nazwać?)"
   ]
  },
  {
   "cell_type": "code",
   "execution_count": 358,
   "id": "fb7cba05-36ea-46b6-8dae-79cdfdd466e5",
   "metadata": {
    "tags": []
   },
   "outputs": [
    {
     "data": {
      "text/plain": [
       "312217"
      ]
     },
     "execution_count": 358,
     "metadata": {},
     "output_type": "execute_result"
    }
   ],
   "source": [
    "food_ctry = food_all.groupby(['Country', 'Number_of_subjects','SourceAgeClass','AgeClass']).sum().reset_index()\n",
    "food_ctry = food_ctry.groupby(['Country', 'Number_of_subjects','SourceAgeClass']).sum().reset_index()\n",
    "food_ctry = food_ctry.groupby(['Country']).sum().reset_index().sort_values(by='Number_of_subjects', ascending=False)\n",
    "\n",
    "food_ctry['Number_of_subjects'].sum()"
   ]
  },
  {
   "cell_type": "markdown",
   "id": "ed5f699c-4f33-4d6b-bb29-a30ab905d5d8",
   "metadata": {},
   "source": [
    "# 📊 Wykres: Ilość badanych dla poszczególnych krajów.<a id=\"country_sub\"></a>[&uarr;](#top)"
   ]
  },
  {
   "cell_type": "code",
   "execution_count": 359,
   "id": "c59837e7-26bd-406a-8799-d7900bc4fa87",
   "metadata": {
    "tags": []
   },
   "outputs": [
    {
     "data": {
      "text/html": [
       "<div>                            <div id=\"75b06a06-452b-4154-862b-53fa601cbc24\" class=\"plotly-graph-div\" style=\"height:525px; width:100%;\"></div>            <script type=\"text/javascript\">                require([\"plotly\"], function(Plotly) {                    window.PLOTLYENV=window.PLOTLYENV || {};                                    if (document.getElementById(\"75b06a06-452b-4154-862b-53fa601cbc24\")) {                    Plotly.newPlot(                        \"75b06a06-452b-4154-862b-53fa601cbc24\",                        [{\"alignmentgroup\":\"True\",\"hovertemplate\":\"Countries=%{x}<br>Number of subjects=%{y:,}<extra></extra>\",\"legendgroup\":\"\",\"marker\":{\"color\":\"#636efa\",\"pattern\":{\"shape\":\"\"}},\"name\":\"\",\"offsetgroup\":\"\",\"orientation\":\"v\",\"showlegend\":false,\"textposition\":\"auto\",\"x\":[\"Brazil\",\"China\",\"United States Of America\",\"Republic Of Korea\",\"Netherlands\",\"Mexico\",\"Denmark\",\"France\",\"Finland\",\"United Kingdom\",\"Belgium\",\"Italy\",\"Portugal\",\"Sweden\",\"Spain\",\"Latvia\",\"Austria\",\"Bulgaria\",\"Romania\",\"Pakistan\",\"Ireland\",\"Czech Republic\",\"Guatemala\",\"Lao People'S Democratic Republic\",\"Croatia\",\"Slovenia\",\"Cyprus\",\"Greece\",\"India\",\"Hungary\",\"Democratic Republic Of The Congo\",\"Philippines\",\"Nigeria\",\"Zambia\",\"Burkina Faso\",\"Malaysia\",\"Uganda\",\"Mozambique\",\"Bangladesh\",\"Ethiopia\",\"Bolivia (Plurinational State Of)\"],\"xaxis\":\"x\",\"y\":[71971,66172,24673,20671,10900,10683,8563,8539,7482,7480,6890,6001,5812,5498,5489,5116,3508,3407,2764,2752,2458,2353,2320,2045,2000,1956,1944,1629,1467,1360,1305,1205,1160,1008,1006,577,559,543,475,323,153],\"yaxis\":\"y\",\"type\":\"bar\"}],                        {\"template\":{\"data\":{\"histogram2dcontour\":[{\"type\":\"histogram2dcontour\",\"colorbar\":{\"outlinewidth\":0,\"ticks\":\"\"},\"colorscale\":[[0.0,\"#0d0887\"],[0.1111111111111111,\"#46039f\"],[0.2222222222222222,\"#7201a8\"],[0.3333333333333333,\"#9c179e\"],[0.4444444444444444,\"#bd3786\"],[0.5555555555555556,\"#d8576b\"],[0.6666666666666666,\"#ed7953\"],[0.7777777777777778,\"#fb9f3a\"],[0.8888888888888888,\"#fdca26\"],[1.0,\"#f0f921\"]]}],\"choropleth\":[{\"type\":\"choropleth\",\"colorbar\":{\"outlinewidth\":0,\"ticks\":\"\"}}],\"histogram2d\":[{\"type\":\"histogram2d\",\"colorbar\":{\"outlinewidth\":0,\"ticks\":\"\"},\"colorscale\":[[0.0,\"#0d0887\"],[0.1111111111111111,\"#46039f\"],[0.2222222222222222,\"#7201a8\"],[0.3333333333333333,\"#9c179e\"],[0.4444444444444444,\"#bd3786\"],[0.5555555555555556,\"#d8576b\"],[0.6666666666666666,\"#ed7953\"],[0.7777777777777778,\"#fb9f3a\"],[0.8888888888888888,\"#fdca26\"],[1.0,\"#f0f921\"]]}],\"heatmap\":[{\"type\":\"heatmap\",\"colorbar\":{\"outlinewidth\":0,\"ticks\":\"\"},\"colorscale\":[[0.0,\"#0d0887\"],[0.1111111111111111,\"#46039f\"],[0.2222222222222222,\"#7201a8\"],[0.3333333333333333,\"#9c179e\"],[0.4444444444444444,\"#bd3786\"],[0.5555555555555556,\"#d8576b\"],[0.6666666666666666,\"#ed7953\"],[0.7777777777777778,\"#fb9f3a\"],[0.8888888888888888,\"#fdca26\"],[1.0,\"#f0f921\"]]}],\"heatmapgl\":[{\"type\":\"heatmapgl\",\"colorbar\":{\"outlinewidth\":0,\"ticks\":\"\"},\"colorscale\":[[0.0,\"#0d0887\"],[0.1111111111111111,\"#46039f\"],[0.2222222222222222,\"#7201a8\"],[0.3333333333333333,\"#9c179e\"],[0.4444444444444444,\"#bd3786\"],[0.5555555555555556,\"#d8576b\"],[0.6666666666666666,\"#ed7953\"],[0.7777777777777778,\"#fb9f3a\"],[0.8888888888888888,\"#fdca26\"],[1.0,\"#f0f921\"]]}],\"contourcarpet\":[{\"type\":\"contourcarpet\",\"colorbar\":{\"outlinewidth\":0,\"ticks\":\"\"}}],\"contour\":[{\"type\":\"contour\",\"colorbar\":{\"outlinewidth\":0,\"ticks\":\"\"},\"colorscale\":[[0.0,\"#0d0887\"],[0.1111111111111111,\"#46039f\"],[0.2222222222222222,\"#7201a8\"],[0.3333333333333333,\"#9c179e\"],[0.4444444444444444,\"#bd3786\"],[0.5555555555555556,\"#d8576b\"],[0.6666666666666666,\"#ed7953\"],[0.7777777777777778,\"#fb9f3a\"],[0.8888888888888888,\"#fdca26\"],[1.0,\"#f0f921\"]]}],\"surface\":[{\"type\":\"surface\",\"colorbar\":{\"outlinewidth\":0,\"ticks\":\"\"},\"colorscale\":[[0.0,\"#0d0887\"],[0.1111111111111111,\"#46039f\"],[0.2222222222222222,\"#7201a8\"],[0.3333333333333333,\"#9c179e\"],[0.4444444444444444,\"#bd3786\"],[0.5555555555555556,\"#d8576b\"],[0.6666666666666666,\"#ed7953\"],[0.7777777777777778,\"#fb9f3a\"],[0.8888888888888888,\"#fdca26\"],[1.0,\"#f0f921\"]]}],\"mesh3d\":[{\"type\":\"mesh3d\",\"colorbar\":{\"outlinewidth\":0,\"ticks\":\"\"}}],\"scatter\":[{\"fillpattern\":{\"fillmode\":\"overlay\",\"size\":10,\"solidity\":0.2},\"type\":\"scatter\"}],\"parcoords\":[{\"type\":\"parcoords\",\"line\":{\"colorbar\":{\"outlinewidth\":0,\"ticks\":\"\"}}}],\"scatterpolargl\":[{\"type\":\"scatterpolargl\",\"marker\":{\"colorbar\":{\"outlinewidth\":0,\"ticks\":\"\"}}}],\"bar\":[{\"error_x\":{\"color\":\"#2a3f5f\"},\"error_y\":{\"color\":\"#2a3f5f\"},\"marker\":{\"line\":{\"color\":\"#E5ECF6\",\"width\":0.5},\"pattern\":{\"fillmode\":\"overlay\",\"size\":10,\"solidity\":0.2}},\"type\":\"bar\"}],\"scattergeo\":[{\"type\":\"scattergeo\",\"marker\":{\"colorbar\":{\"outlinewidth\":0,\"ticks\":\"\"}}}],\"scatterpolar\":[{\"type\":\"scatterpolar\",\"marker\":{\"colorbar\":{\"outlinewidth\":0,\"ticks\":\"\"}}}],\"histogram\":[{\"marker\":{\"pattern\":{\"fillmode\":\"overlay\",\"size\":10,\"solidity\":0.2}},\"type\":\"histogram\"}],\"scattergl\":[{\"type\":\"scattergl\",\"marker\":{\"colorbar\":{\"outlinewidth\":0,\"ticks\":\"\"}}}],\"scatter3d\":[{\"type\":\"scatter3d\",\"line\":{\"colorbar\":{\"outlinewidth\":0,\"ticks\":\"\"}},\"marker\":{\"colorbar\":{\"outlinewidth\":0,\"ticks\":\"\"}}}],\"scattermapbox\":[{\"type\":\"scattermapbox\",\"marker\":{\"colorbar\":{\"outlinewidth\":0,\"ticks\":\"\"}}}],\"scatterternary\":[{\"type\":\"scatterternary\",\"marker\":{\"colorbar\":{\"outlinewidth\":0,\"ticks\":\"\"}}}],\"scattercarpet\":[{\"type\":\"scattercarpet\",\"marker\":{\"colorbar\":{\"outlinewidth\":0,\"ticks\":\"\"}}}],\"carpet\":[{\"aaxis\":{\"endlinecolor\":\"#2a3f5f\",\"gridcolor\":\"white\",\"linecolor\":\"white\",\"minorgridcolor\":\"white\",\"startlinecolor\":\"#2a3f5f\"},\"baxis\":{\"endlinecolor\":\"#2a3f5f\",\"gridcolor\":\"white\",\"linecolor\":\"white\",\"minorgridcolor\":\"white\",\"startlinecolor\":\"#2a3f5f\"},\"type\":\"carpet\"}],\"table\":[{\"cells\":{\"fill\":{\"color\":\"#EBF0F8\"},\"line\":{\"color\":\"white\"}},\"header\":{\"fill\":{\"color\":\"#C8D4E3\"},\"line\":{\"color\":\"white\"}},\"type\":\"table\"}],\"barpolar\":[{\"marker\":{\"line\":{\"color\":\"#E5ECF6\",\"width\":0.5},\"pattern\":{\"fillmode\":\"overlay\",\"size\":10,\"solidity\":0.2}},\"type\":\"barpolar\"}],\"pie\":[{\"automargin\":true,\"type\":\"pie\"}]},\"layout\":{\"autotypenumbers\":\"strict\",\"colorway\":[\"#636efa\",\"#EF553B\",\"#00cc96\",\"#ab63fa\",\"#FFA15A\",\"#19d3f3\",\"#FF6692\",\"#B6E880\",\"#FF97FF\",\"#FECB52\"],\"font\":{\"color\":\"#2a3f5f\"},\"hovermode\":\"closest\",\"hoverlabel\":{\"align\":\"left\"},\"paper_bgcolor\":\"white\",\"plot_bgcolor\":\"#E5ECF6\",\"polar\":{\"bgcolor\":\"#E5ECF6\",\"angularaxis\":{\"gridcolor\":\"white\",\"linecolor\":\"white\",\"ticks\":\"\"},\"radialaxis\":{\"gridcolor\":\"white\",\"linecolor\":\"white\",\"ticks\":\"\"}},\"ternary\":{\"bgcolor\":\"#E5ECF6\",\"aaxis\":{\"gridcolor\":\"white\",\"linecolor\":\"white\",\"ticks\":\"\"},\"baxis\":{\"gridcolor\":\"white\",\"linecolor\":\"white\",\"ticks\":\"\"},\"caxis\":{\"gridcolor\":\"white\",\"linecolor\":\"white\",\"ticks\":\"\"}},\"coloraxis\":{\"colorbar\":{\"outlinewidth\":0,\"ticks\":\"\"}},\"colorscale\":{\"sequential\":[[0.0,\"#0d0887\"],[0.1111111111111111,\"#46039f\"],[0.2222222222222222,\"#7201a8\"],[0.3333333333333333,\"#9c179e\"],[0.4444444444444444,\"#bd3786\"],[0.5555555555555556,\"#d8576b\"],[0.6666666666666666,\"#ed7953\"],[0.7777777777777778,\"#fb9f3a\"],[0.8888888888888888,\"#fdca26\"],[1.0,\"#f0f921\"]],\"sequentialminus\":[[0.0,\"#0d0887\"],[0.1111111111111111,\"#46039f\"],[0.2222222222222222,\"#7201a8\"],[0.3333333333333333,\"#9c179e\"],[0.4444444444444444,\"#bd3786\"],[0.5555555555555556,\"#d8576b\"],[0.6666666666666666,\"#ed7953\"],[0.7777777777777778,\"#fb9f3a\"],[0.8888888888888888,\"#fdca26\"],[1.0,\"#f0f921\"]],\"diverging\":[[0,\"#8e0152\"],[0.1,\"#c51b7d\"],[0.2,\"#de77ae\"],[0.3,\"#f1b6da\"],[0.4,\"#fde0ef\"],[0.5,\"#f7f7f7\"],[0.6,\"#e6f5d0\"],[0.7,\"#b8e186\"],[0.8,\"#7fbc41\"],[0.9,\"#4d9221\"],[1,\"#276419\"]]},\"xaxis\":{\"gridcolor\":\"white\",\"linecolor\":\"white\",\"ticks\":\"\",\"title\":{\"standoff\":15},\"zerolinecolor\":\"white\",\"automargin\":true,\"zerolinewidth\":2},\"yaxis\":{\"gridcolor\":\"white\",\"linecolor\":\"white\",\"ticks\":\"\",\"title\":{\"standoff\":15},\"zerolinecolor\":\"white\",\"automargin\":true,\"zerolinewidth\":2},\"scene\":{\"xaxis\":{\"backgroundcolor\":\"#E5ECF6\",\"gridcolor\":\"white\",\"linecolor\":\"white\",\"showbackground\":true,\"ticks\":\"\",\"zerolinecolor\":\"white\",\"gridwidth\":2},\"yaxis\":{\"backgroundcolor\":\"#E5ECF6\",\"gridcolor\":\"white\",\"linecolor\":\"white\",\"showbackground\":true,\"ticks\":\"\",\"zerolinecolor\":\"white\",\"gridwidth\":2},\"zaxis\":{\"backgroundcolor\":\"#E5ECF6\",\"gridcolor\":\"white\",\"linecolor\":\"white\",\"showbackground\":true,\"ticks\":\"\",\"zerolinecolor\":\"white\",\"gridwidth\":2}},\"shapedefaults\":{\"line\":{\"color\":\"#2a3f5f\"}},\"annotationdefaults\":{\"arrowcolor\":\"#2a3f5f\",\"arrowhead\":0,\"arrowwidth\":1},\"geo\":{\"bgcolor\":\"white\",\"landcolor\":\"#E5ECF6\",\"subunitcolor\":\"white\",\"showland\":true,\"showlakes\":true,\"lakecolor\":\"white\"},\"title\":{\"x\":0.05},\"mapbox\":{\"style\":\"light\"}}},\"xaxis\":{\"anchor\":\"y\",\"domain\":[0.0,1.0],\"title\":{\"text\":\"Countries\"},\"tickangle\":40},\"yaxis\":{\"anchor\":\"x\",\"domain\":[0.0,1.0],\"title\":{\"text\":\"Number of subjects\"}},\"legend\":{\"tracegroupgap\":0},\"title\":{\"text\":\"Number of subjects per country\"},\"barmode\":\"relative\"},                        {\"responsive\": true}                    ).then(function(){\n",
       "                            \n",
       "var gd = document.getElementById('75b06a06-452b-4154-862b-53fa601cbc24');\n",
       "var x = new MutationObserver(function (mutations, observer) {{\n",
       "        var display = window.getComputedStyle(gd).display;\n",
       "        if (!display || display === 'none') {{\n",
       "            console.log([gd, 'removed!']);\n",
       "            Plotly.purge(gd);\n",
       "            observer.disconnect();\n",
       "        }}\n",
       "}});\n",
       "\n",
       "// Listen for the removal of the full notebook cells\n",
       "var notebookContainer = gd.closest('#notebook-container');\n",
       "if (notebookContainer) {{\n",
       "    x.observe(notebookContainer, {childList: true});\n",
       "}}\n",
       "\n",
       "// Listen for the clearing of the current output cell\n",
       "var outputEl = gd.closest('.output');\n",
       "if (outputEl) {{\n",
       "    x.observe(outputEl, {childList: true});\n",
       "}}\n",
       "\n",
       "                        })                };                });            </script>        </div>"
      ]
     },
     "metadata": {},
     "output_type": "display_data"
    }
   ],
   "source": [
    "food_ctry = food_ctry.sort_values(by='Number_of_subjects', ascending=False)\n",
    "fig = px.bar(food_ctry, x=\"Country\", y=\"Number_of_subjects\", title=\"Number of subjects per country\", labels={'Number_of_subjects':'Number of subjects', 'Country': 'Countries' },hover_data={'Number_of_subjects':':,'})\n",
    "fig.update_xaxes(tickangle=40)\n",
    "fig.show()"
   ]
  },
  {
   "cell_type": "markdown",
   "id": "56001f0a-a944-4184-aa69-74df2809eda6",
   "metadata": {},
   "source": [
    "### <a id=\"country_sub_wnio\"></a>[&uarr;](#top) Na wykresie bardzo dobrze widać jak duża jest dysproporcja, co do ilości osób w zależności od kraju. Znaczy to, że wyciągnięte wnioski mogą być zachwiane i należy o tym pamiętać podczas analizy.\n",
    "### Dla dokładności sprawdzę jak duża jest ta dysproporcja i jak rozkłada się to pod względem kontynentów."
   ]
  },
  {
   "cell_type": "code",
   "execution_count": 360,
   "id": "af24aa1b-7523-4934-b3eb-84469eedc648",
   "metadata": {
    "tags": []
   },
   "outputs": [
    {
     "data": {
      "text/plain": [
       "194387"
      ]
     },
     "execution_count": 360,
     "metadata": {},
     "output_type": "execute_result"
    }
   ],
   "source": [
    "top5 = food_ctry['Number_of_subjects'].iloc[0:5].sum()\n",
    "top5"
   ]
  },
  {
   "cell_type": "code",
   "execution_count": 361,
   "id": "6e597486-a11e-4a7f-820b-fd72ea2875e9",
   "metadata": {
    "tags": []
   },
   "outputs": [
    {
     "data": {
      "text/plain": [
       "117830"
      ]
     },
     "execution_count": 361,
     "metadata": {},
     "output_type": "execute_result"
    }
   ],
   "source": [
    "rest = food_ctry['Number_of_subjects'].iloc[5:].sum()\n",
    "rest"
   ]
  },
  {
   "cell_type": "code",
   "execution_count": 362,
   "id": "ce5bd260-207d-4832-a649-70586e5462b9",
   "metadata": {
    "tags": []
   },
   "outputs": [
    {
     "data": {
      "text/plain": [
       "1.6497241789018078"
      ]
     },
     "execution_count": 362,
     "metadata": {},
     "output_type": "execute_result"
    }
   ],
   "source": [
    "top5/rest"
   ]
  },
  {
   "cell_type": "markdown",
   "id": "9e58342c-7151-480a-a382-64cc3c2c131c",
   "metadata": {},
   "source": [
    "### Jak widać top 5 krajów ma 1.65 razy więcej badanych niż reszta krajów, jest to bardzo duża dysporporcja, lecz nie dyskredytuje to od razu analizy wszystkich danych.\n",
    "# Tworzenie kolumny z kodami i nazwami kontynentów. <a id=\"kont\"></a>[&uarr;](#top)\n",
    "### Rozbicie na kontynenty, pozwoli zobaczyć jak użyteczna będzie globalna analiza i czy nie lepiej będzie analizować, każdy kontynent odrębnie. Użyję do tego biblioteki pycountry_convert."
   ]
  },
  {
   "cell_type": "code",
   "execution_count": 363,
   "id": "e21dc33d-ccaf-49f1-955d-fbd8a3e16370",
   "metadata": {},
   "outputs": [],
   "source": [
    "def convert(row): # funkcja przypisująca kod kontynentu w zależności od kraju\n",
    "    cn_code = pc.country_name_to_country_alpha2(row.Country, cn_name_format=\"default\")\n",
    "    conti_code = pc.country_alpha2_to_continent_code(cn_code)\n",
    "    return conti_code"
   ]
  },
  {
   "cell_type": "markdown",
   "id": "41291385-7792-4115-a95e-a24d3c0d934e",
   "metadata": {},
   "source": [
    "### Trzeba zamienić nazwy kilku krajów, bo biblioteka pycountry_convert korzysta z innych nazw krajów niż te które są w dataframe."
   ]
  },
  {
   "cell_type": "code",
   "execution_count": 364,
   "id": "14ca14c2-6e50-4ce3-84eb-d5e3c82fd808",
   "metadata": {
    "tags": []
   },
   "outputs": [],
   "source": [
    "continent = food\n",
    "ctry_change = {\n",
    "\t'Republic Of Korea' : 'South Korea',\n",
    "    'Bolivia (Plurinational State Of)' : 'Bolivia',\n",
    "    'United States Of America' : 'United States of America',\n",
    "    \"Lao People'S Democratic Republic\" : \"Lao People's Democratic Republic\",\n",
    "    \"Democratic Republic Of The Congo\" : \"Democratic Republic of the Congo\"\n",
    "}\n",
    "continent = continent.replace(ctry_change)"
   ]
  },
  {
   "cell_type": "code",
   "execution_count": 365,
   "id": "267f15f1-765c-45dc-bfee-912d6f07c91c",
   "metadata": {
    "tags": []
   },
   "outputs": [
    {
     "data": {
      "text/html": [
       "<div>\n",
       "<style scoped>\n",
       "    .dataframe tbody tr th:only-of-type {\n",
       "        vertical-align: middle;\n",
       "    }\n",
       "\n",
       "    .dataframe tbody tr th {\n",
       "        vertical-align: top;\n",
       "    }\n",
       "\n",
       "    .dataframe thead th {\n",
       "        text-align: right;\n",
       "    }\n",
       "</style>\n",
       "<table border=\"1\" class=\"dataframe\">\n",
       "  <thead>\n",
       "    <tr style=\"text-align: right;\">\n",
       "      <th></th>\n",
       "      <th>Country</th>\n",
       "      <th>Year</th>\n",
       "      <th>FoodCode</th>\n",
       "      <th>FoodName</th>\n",
       "      <th>AgeClass</th>\n",
       "      <th>SourceAgeClass</th>\n",
       "      <th>Gender</th>\n",
       "      <th>Number_of_consumers</th>\n",
       "      <th>Number_of_subjects</th>\n",
       "      <th>ContinentCode</th>\n",
       "    </tr>\n",
       "  </thead>\n",
       "  <tbody>\n",
       "    <tr>\n",
       "      <th>812</th>\n",
       "      <td>China</td>\n",
       "      <td>2002</td>\n",
       "      <td>A000G</td>\n",
       "      <td>Oat Grain</td>\n",
       "      <td>Infants And Toddlers</td>\n",
       "      <td>0-35 Months</td>\n",
       "      <td>All</td>\n",
       "      <td>10</td>\n",
       "      <td>838</td>\n",
       "      <td>AS</td>\n",
       "    </tr>\n",
       "    <tr>\n",
       "      <th>813</th>\n",
       "      <td>China</td>\n",
       "      <td>2002</td>\n",
       "      <td>A000G</td>\n",
       "      <td>Oat Grain</td>\n",
       "      <td>Infants And Toddlers</td>\n",
       "      <td>0-35 Months</td>\n",
       "      <td>Female</td>\n",
       "      <td>4</td>\n",
       "      <td>376</td>\n",
       "      <td>AS</td>\n",
       "    </tr>\n",
       "    <tr>\n",
       "      <th>814</th>\n",
       "      <td>China</td>\n",
       "      <td>2002</td>\n",
       "      <td>A000G</td>\n",
       "      <td>Oat Grain</td>\n",
       "      <td>Infants And Toddlers</td>\n",
       "      <td>0-35 Months</td>\n",
       "      <td>Male</td>\n",
       "      <td>6</td>\n",
       "      <td>462</td>\n",
       "      <td>AS</td>\n",
       "    </tr>\n",
       "    <tr>\n",
       "      <th>815</th>\n",
       "      <td>China</td>\n",
       "      <td>2002</td>\n",
       "      <td>A000T</td>\n",
       "      <td>Maize Grain</td>\n",
       "      <td>Infants And Toddlers</td>\n",
       "      <td>0-35 Months</td>\n",
       "      <td>All</td>\n",
       "      <td>28</td>\n",
       "      <td>838</td>\n",
       "      <td>AS</td>\n",
       "    </tr>\n",
       "    <tr>\n",
       "      <th>816</th>\n",
       "      <td>China</td>\n",
       "      <td>2002</td>\n",
       "      <td>A000T</td>\n",
       "      <td>Maize Grain</td>\n",
       "      <td>Infants And Toddlers</td>\n",
       "      <td>0-35 Months</td>\n",
       "      <td>Female</td>\n",
       "      <td>11</td>\n",
       "      <td>376</td>\n",
       "      <td>AS</td>\n",
       "    </tr>\n",
       "    <tr>\n",
       "      <th>...</th>\n",
       "      <td>...</td>\n",
       "      <td>...</td>\n",
       "      <td>...</td>\n",
       "      <td>...</td>\n",
       "      <td>...</td>\n",
       "      <td>...</td>\n",
       "      <td>...</td>\n",
       "      <td>...</td>\n",
       "      <td>...</td>\n",
       "      <td>...</td>\n",
       "    </tr>\n",
       "    <tr>\n",
       "      <th>272333</th>\n",
       "      <td>India</td>\n",
       "      <td>2015</td>\n",
       "      <td>A03LB</td>\n",
       "      <td>Tea Beverages</td>\n",
       "      <td>Adults And Elderly</td>\n",
       "      <td>15-49 Years</td>\n",
       "      <td>Female</td>\n",
       "      <td>10</td>\n",
       "      <td>242</td>\n",
       "      <td>AS</td>\n",
       "    </tr>\n",
       "    <tr>\n",
       "      <th>272335</th>\n",
       "      <td>India</td>\n",
       "      <td>2015</td>\n",
       "      <td>A03LB</td>\n",
       "      <td>Tea Beverages</td>\n",
       "      <td>Adults And Elderly</td>\n",
       "      <td>15-49 Years</td>\n",
       "      <td>All</td>\n",
       "      <td>10</td>\n",
       "      <td>242</td>\n",
       "      <td>AS</td>\n",
       "    </tr>\n",
       "    <tr>\n",
       "      <th>272337</th>\n",
       "      <td>India</td>\n",
       "      <td>2015</td>\n",
       "      <td>A0EQN</td>\n",
       "      <td>Soft Drinks With Minor Amounts Of Fruits Or Fl...</td>\n",
       "      <td>Adults And Elderly</td>\n",
       "      <td>15-49 Years</td>\n",
       "      <td>Female</td>\n",
       "      <td>8</td>\n",
       "      <td>242</td>\n",
       "      <td>AS</td>\n",
       "    </tr>\n",
       "    <tr>\n",
       "      <th>272339</th>\n",
       "      <td>India</td>\n",
       "      <td>2015</td>\n",
       "      <td>A0EQN</td>\n",
       "      <td>Soft Drinks With Minor Amounts Of Fruits Or Fl...</td>\n",
       "      <td>Adults And Elderly</td>\n",
       "      <td>15-49 Years</td>\n",
       "      <td>All</td>\n",
       "      <td>8</td>\n",
       "      <td>242</td>\n",
       "      <td>AS</td>\n",
       "    </tr>\n",
       "    <tr>\n",
       "      <th>272341</th>\n",
       "      <td>India</td>\n",
       "      <td>2015</td>\n",
       "      <td>A0F4S</td>\n",
       "      <td>Coconut Water</td>\n",
       "      <td>Adults And Elderly</td>\n",
       "      <td>15-49 Years</td>\n",
       "      <td>Female</td>\n",
       "      <td>7</td>\n",
       "      <td>242</td>\n",
       "      <td>AS</td>\n",
       "    </tr>\n",
       "  </tbody>\n",
       "</table>\n",
       "<p>255080 rows × 10 columns</p>\n",
       "</div>"
      ],
      "text/plain": [
       "       Country  Year FoodCode  \\\n",
       "812      China  2002    A000G   \n",
       "813      China  2002    A000G   \n",
       "814      China  2002    A000G   \n",
       "815      China  2002    A000T   \n",
       "816      China  2002    A000T   \n",
       "...        ...   ...      ...   \n",
       "272333   India  2015    A03LB   \n",
       "272335   India  2015    A03LB   \n",
       "272337   India  2015    A0EQN   \n",
       "272339   India  2015    A0EQN   \n",
       "272341   India  2015    A0F4S   \n",
       "\n",
       "                                                 FoodName  \\\n",
       "812                                             Oat Grain   \n",
       "813                                             Oat Grain   \n",
       "814                                             Oat Grain   \n",
       "815                                           Maize Grain   \n",
       "816                                           Maize Grain   \n",
       "...                                                   ...   \n",
       "272333                                      Tea Beverages   \n",
       "272335                                      Tea Beverages   \n",
       "272337  Soft Drinks With Minor Amounts Of Fruits Or Fl...   \n",
       "272339  Soft Drinks With Minor Amounts Of Fruits Or Fl...   \n",
       "272341                                      Coconut Water   \n",
       "\n",
       "                    AgeClass SourceAgeClass  Gender  Number_of_consumers  \\\n",
       "812     Infants And Toddlers    0-35 Months     All                   10   \n",
       "813     Infants And Toddlers    0-35 Months  Female                    4   \n",
       "814     Infants And Toddlers    0-35 Months    Male                    6   \n",
       "815     Infants And Toddlers    0-35 Months     All                   28   \n",
       "816     Infants And Toddlers    0-35 Months  Female                   11   \n",
       "...                      ...            ...     ...                  ...   \n",
       "272333    Adults And Elderly    15-49 Years  Female                   10   \n",
       "272335    Adults And Elderly    15-49 Years     All                   10   \n",
       "272337    Adults And Elderly    15-49 Years  Female                    8   \n",
       "272339    Adults And Elderly    15-49 Years     All                    8   \n",
       "272341    Adults And Elderly    15-49 Years  Female                    7   \n",
       "\n",
       "        Number_of_subjects ContinentCode  \n",
       "812                    838            AS  \n",
       "813                    376            AS  \n",
       "814                    462            AS  \n",
       "815                    838            AS  \n",
       "816                    376            AS  \n",
       "...                    ...           ...  \n",
       "272333                 242            AS  \n",
       "272335                 242            AS  \n",
       "272337                 242            AS  \n",
       "272339                 242            AS  \n",
       "272341                 242            AS  \n",
       "\n",
       "[255080 rows x 10 columns]"
      ]
     },
     "execution_count": 365,
     "metadata": {},
     "output_type": "execute_result"
    }
   ],
   "source": [
    "continent['ContinentCode'] = continent.apply(convert, axis=1)\n",
    "continent"
   ]
  },
  {
   "cell_type": "markdown",
   "id": "91dc6cd2-ae1a-4861-bb2e-2cd4a89d5ba3",
   "metadata": {},
   "source": [
    "### Mam kody kontynentów, więc niby można by tak to zostawić ale uważam, że dużo ładniej i czytelniej jest jak będą też widoczne nazwy kontynentów."
   ]
  },
  {
   "cell_type": "code",
   "execution_count": 366,
   "id": "bee7d612-67f0-4924-b731-c9b57019cddb",
   "metadata": {
    "tags": []
   },
   "outputs": [
    {
     "data": {
      "text/plain": [
       "array(['AS', 'EU', 'NA', 'SA', 'AF'], dtype=object)"
      ]
     },
     "execution_count": 366,
     "metadata": {},
     "output_type": "execute_result"
    }
   ],
   "source": [
    "continent['ContinentCode'].unique()"
   ]
  },
  {
   "cell_type": "code",
   "execution_count": 367,
   "id": "dda2555c-eb35-4746-880a-f676baea61ab",
   "metadata": {
    "tags": []
   },
   "outputs": [
    {
     "data": {
      "text/html": [
       "<div>\n",
       "<style scoped>\n",
       "    .dataframe tbody tr th:only-of-type {\n",
       "        vertical-align: middle;\n",
       "    }\n",
       "\n",
       "    .dataframe tbody tr th {\n",
       "        vertical-align: top;\n",
       "    }\n",
       "\n",
       "    .dataframe thead th {\n",
       "        text-align: right;\n",
       "    }\n",
       "</style>\n",
       "<table border=\"1\" class=\"dataframe\">\n",
       "  <thead>\n",
       "    <tr style=\"text-align: right;\">\n",
       "      <th></th>\n",
       "      <th>Country</th>\n",
       "      <th>Year</th>\n",
       "      <th>FoodCode</th>\n",
       "      <th>FoodName</th>\n",
       "      <th>AgeClass</th>\n",
       "      <th>SourceAgeClass</th>\n",
       "      <th>Gender</th>\n",
       "      <th>Number_of_consumers</th>\n",
       "      <th>Number_of_subjects</th>\n",
       "      <th>ContinentCode</th>\n",
       "      <th>Continent</th>\n",
       "    </tr>\n",
       "  </thead>\n",
       "  <tbody>\n",
       "    <tr>\n",
       "      <th>812</th>\n",
       "      <td>China</td>\n",
       "      <td>2002</td>\n",
       "      <td>A000G</td>\n",
       "      <td>Oat Grain</td>\n",
       "      <td>Infants And Toddlers</td>\n",
       "      <td>0-35 Months</td>\n",
       "      <td>All</td>\n",
       "      <td>10</td>\n",
       "      <td>838</td>\n",
       "      <td>AS</td>\n",
       "      <td>Asia</td>\n",
       "    </tr>\n",
       "    <tr>\n",
       "      <th>813</th>\n",
       "      <td>China</td>\n",
       "      <td>2002</td>\n",
       "      <td>A000G</td>\n",
       "      <td>Oat Grain</td>\n",
       "      <td>Infants And Toddlers</td>\n",
       "      <td>0-35 Months</td>\n",
       "      <td>Female</td>\n",
       "      <td>4</td>\n",
       "      <td>376</td>\n",
       "      <td>AS</td>\n",
       "      <td>Asia</td>\n",
       "    </tr>\n",
       "    <tr>\n",
       "      <th>814</th>\n",
       "      <td>China</td>\n",
       "      <td>2002</td>\n",
       "      <td>A000G</td>\n",
       "      <td>Oat Grain</td>\n",
       "      <td>Infants And Toddlers</td>\n",
       "      <td>0-35 Months</td>\n",
       "      <td>Male</td>\n",
       "      <td>6</td>\n",
       "      <td>462</td>\n",
       "      <td>AS</td>\n",
       "      <td>Asia</td>\n",
       "    </tr>\n",
       "    <tr>\n",
       "      <th>815</th>\n",
       "      <td>China</td>\n",
       "      <td>2002</td>\n",
       "      <td>A000T</td>\n",
       "      <td>Maize Grain</td>\n",
       "      <td>Infants And Toddlers</td>\n",
       "      <td>0-35 Months</td>\n",
       "      <td>All</td>\n",
       "      <td>28</td>\n",
       "      <td>838</td>\n",
       "      <td>AS</td>\n",
       "      <td>Asia</td>\n",
       "    </tr>\n",
       "    <tr>\n",
       "      <th>816</th>\n",
       "      <td>China</td>\n",
       "      <td>2002</td>\n",
       "      <td>A000T</td>\n",
       "      <td>Maize Grain</td>\n",
       "      <td>Infants And Toddlers</td>\n",
       "      <td>0-35 Months</td>\n",
       "      <td>Female</td>\n",
       "      <td>11</td>\n",
       "      <td>376</td>\n",
       "      <td>AS</td>\n",
       "      <td>Asia</td>\n",
       "    </tr>\n",
       "    <tr>\n",
       "      <th>...</th>\n",
       "      <td>...</td>\n",
       "      <td>...</td>\n",
       "      <td>...</td>\n",
       "      <td>...</td>\n",
       "      <td>...</td>\n",
       "      <td>...</td>\n",
       "      <td>...</td>\n",
       "      <td>...</td>\n",
       "      <td>...</td>\n",
       "      <td>...</td>\n",
       "      <td>...</td>\n",
       "    </tr>\n",
       "    <tr>\n",
       "      <th>272333</th>\n",
       "      <td>India</td>\n",
       "      <td>2015</td>\n",
       "      <td>A03LB</td>\n",
       "      <td>Tea Beverages</td>\n",
       "      <td>Adults And Elderly</td>\n",
       "      <td>15-49 Years</td>\n",
       "      <td>Female</td>\n",
       "      <td>10</td>\n",
       "      <td>242</td>\n",
       "      <td>AS</td>\n",
       "      <td>Asia</td>\n",
       "    </tr>\n",
       "    <tr>\n",
       "      <th>272335</th>\n",
       "      <td>India</td>\n",
       "      <td>2015</td>\n",
       "      <td>A03LB</td>\n",
       "      <td>Tea Beverages</td>\n",
       "      <td>Adults And Elderly</td>\n",
       "      <td>15-49 Years</td>\n",
       "      <td>All</td>\n",
       "      <td>10</td>\n",
       "      <td>242</td>\n",
       "      <td>AS</td>\n",
       "      <td>Asia</td>\n",
       "    </tr>\n",
       "    <tr>\n",
       "      <th>272337</th>\n",
       "      <td>India</td>\n",
       "      <td>2015</td>\n",
       "      <td>A0EQN</td>\n",
       "      <td>Soft Drinks With Minor Amounts Of Fruits Or Fl...</td>\n",
       "      <td>Adults And Elderly</td>\n",
       "      <td>15-49 Years</td>\n",
       "      <td>Female</td>\n",
       "      <td>8</td>\n",
       "      <td>242</td>\n",
       "      <td>AS</td>\n",
       "      <td>Asia</td>\n",
       "    </tr>\n",
       "    <tr>\n",
       "      <th>272339</th>\n",
       "      <td>India</td>\n",
       "      <td>2015</td>\n",
       "      <td>A0EQN</td>\n",
       "      <td>Soft Drinks With Minor Amounts Of Fruits Or Fl...</td>\n",
       "      <td>Adults And Elderly</td>\n",
       "      <td>15-49 Years</td>\n",
       "      <td>All</td>\n",
       "      <td>8</td>\n",
       "      <td>242</td>\n",
       "      <td>AS</td>\n",
       "      <td>Asia</td>\n",
       "    </tr>\n",
       "    <tr>\n",
       "      <th>272341</th>\n",
       "      <td>India</td>\n",
       "      <td>2015</td>\n",
       "      <td>A0F4S</td>\n",
       "      <td>Coconut Water</td>\n",
       "      <td>Adults And Elderly</td>\n",
       "      <td>15-49 Years</td>\n",
       "      <td>Female</td>\n",
       "      <td>7</td>\n",
       "      <td>242</td>\n",
       "      <td>AS</td>\n",
       "      <td>Asia</td>\n",
       "    </tr>\n",
       "  </tbody>\n",
       "</table>\n",
       "<p>255080 rows × 11 columns</p>\n",
       "</div>"
      ],
      "text/plain": [
       "       Country  Year FoodCode  \\\n",
       "812      China  2002    A000G   \n",
       "813      China  2002    A000G   \n",
       "814      China  2002    A000G   \n",
       "815      China  2002    A000T   \n",
       "816      China  2002    A000T   \n",
       "...        ...   ...      ...   \n",
       "272333   India  2015    A03LB   \n",
       "272335   India  2015    A03LB   \n",
       "272337   India  2015    A0EQN   \n",
       "272339   India  2015    A0EQN   \n",
       "272341   India  2015    A0F4S   \n",
       "\n",
       "                                                 FoodName  \\\n",
       "812                                             Oat Grain   \n",
       "813                                             Oat Grain   \n",
       "814                                             Oat Grain   \n",
       "815                                           Maize Grain   \n",
       "816                                           Maize Grain   \n",
       "...                                                   ...   \n",
       "272333                                      Tea Beverages   \n",
       "272335                                      Tea Beverages   \n",
       "272337  Soft Drinks With Minor Amounts Of Fruits Or Fl...   \n",
       "272339  Soft Drinks With Minor Amounts Of Fruits Or Fl...   \n",
       "272341                                      Coconut Water   \n",
       "\n",
       "                    AgeClass SourceAgeClass  Gender  Number_of_consumers  \\\n",
       "812     Infants And Toddlers    0-35 Months     All                   10   \n",
       "813     Infants And Toddlers    0-35 Months  Female                    4   \n",
       "814     Infants And Toddlers    0-35 Months    Male                    6   \n",
       "815     Infants And Toddlers    0-35 Months     All                   28   \n",
       "816     Infants And Toddlers    0-35 Months  Female                   11   \n",
       "...                      ...            ...     ...                  ...   \n",
       "272333    Adults And Elderly    15-49 Years  Female                   10   \n",
       "272335    Adults And Elderly    15-49 Years     All                   10   \n",
       "272337    Adults And Elderly    15-49 Years  Female                    8   \n",
       "272339    Adults And Elderly    15-49 Years     All                    8   \n",
       "272341    Adults And Elderly    15-49 Years  Female                    7   \n",
       "\n",
       "        Number_of_subjects ContinentCode Continent  \n",
       "812                    838            AS      Asia  \n",
       "813                    376            AS      Asia  \n",
       "814                    462            AS      Asia  \n",
       "815                    838            AS      Asia  \n",
       "816                    376            AS      Asia  \n",
       "...                    ...           ...       ...  \n",
       "272333                 242            AS      Asia  \n",
       "272335                 242            AS      Asia  \n",
       "272337                 242            AS      Asia  \n",
       "272339                 242            AS      Asia  \n",
       "272341                 242            AS      Asia  \n",
       "\n",
       "[255080 rows x 11 columns]"
      ]
     },
     "execution_count": 367,
     "metadata": {},
     "output_type": "execute_result"
    }
   ],
   "source": [
    "conti_names = {\t# stworzenie słownika dla kontynentów, żeby móc zamienić kody kontynentów na nazwy kontynentów\n",
    "\t\t\t\t'AS' : 'Asia',\n",
    "\t\t\t\t'EU' : 'Europe',\n",
    "                'NA' : 'North America',\n",
    "                'SA' : 'South America',\n",
    "                'AF' : 'Africa'\n",
    "                }\n",
    "continent['Continent'] = continent['ContinentCode'].map(conti_names)\n",
    "continent"
   ]
  },
  {
   "cell_type": "code",
   "execution_count": 368,
   "id": "9870ccc0-c284-4459-81d8-fa227bf7884e",
   "metadata": {
    "tags": []
   },
   "outputs": [
    {
     "data": {
      "text/plain": [
       "array(['Asia', 'Europe', 'North America', 'South America', 'Africa'],\n",
       "      dtype=object)"
      ]
     },
     "execution_count": 368,
     "metadata": {},
     "output_type": "execute_result"
    }
   ],
   "source": [
    "continent['Continent'].unique()"
   ]
  },
  {
   "cell_type": "markdown",
   "id": "82f86ce0-1381-4833-9428-c53e6a05ad2e",
   "metadata": {},
   "source": [
    "### Jak widać wszystko ładnie się udało, więc mogę przypisać continent do food i ponownie stworzyć dataframes dla każdej płci."
   ]
  },
  {
   "cell_type": "code",
   "execution_count": 369,
   "id": "522f7694-a8a0-49d5-bae0-59e6afb33346",
   "metadata": {
    "tags": []
   },
   "outputs": [],
   "source": [
    "food = continent\n",
    "\n",
    "food_all = food.loc[food['Gender'] == \"All\"]\n",
    "food_fem = food.loc[food['Gender'] == \"Female\"]\n",
    "food_men = food.loc[food['Gender'] == \"Male\"]\n"
   ]
  },
  {
   "cell_type": "code",
   "execution_count": 370,
   "id": "9cb59eaf-9e63-49ac-a2b6-be20bf4c25fd",
   "metadata": {
    "tags": []
   },
   "outputs": [
    {
     "data": {
      "text/plain": [
       "ContinentCode         SAASSAASASNAASASNANANAEUNAEUNAASEUASEUEUEUEUEU...\n",
       "Number_of_subjects                                               312217\n",
       "dtype: object"
      ]
     },
     "execution_count": 370,
     "metadata": {},
     "output_type": "execute_result"
    }
   ],
   "source": [
    "food_con = food_all.groupby(['Country','SourceAgeClass','ContinentCode','Number_of_subjects']).sum().reset_index()\n",
    "food_con = food_con[['ContinentCode','Number_of_subjects']].sort_values(by='Number_of_subjects', ascending=False)\n",
    "\n",
    "food_con.sum()"
   ]
  },
  {
   "cell_type": "markdown",
   "id": "ba0b15aa-d41d-4373-bcd3-74abc160a2a1",
   "metadata": {},
   "source": [
    "### Ilość subjectów jest taka jak wczesniej czyli 312217 wiec super"
   ]
  },
  {
   "cell_type": "markdown",
   "id": "6b8edabb-4751-4bd8-b391-b26000d1839f",
   "metadata": {},
   "source": [
    "###  Niestety kontynenty też są zgrupowane, więc muszę odciać wszystko poza pierwszymi literami kodu, co pozwoli to dobrze podsumować.\n"
   ]
  },
  {
   "cell_type": "code",
   "execution_count": 371,
   "id": "2b6581c2-12b9-4420-a123-158cff31aa94",
   "metadata": {
    "tags": []
   },
   "outputs": [
    {
     "data": {
      "text/html": [
       "<div>\n",
       "<style scoped>\n",
       "    .dataframe tbody tr th:only-of-type {\n",
       "        vertical-align: middle;\n",
       "    }\n",
       "\n",
       "    .dataframe tbody tr th {\n",
       "        vertical-align: top;\n",
       "    }\n",
       "\n",
       "    .dataframe thead th {\n",
       "        text-align: right;\n",
       "    }\n",
       "</style>\n",
       "<table border=\"1\" class=\"dataframe\">\n",
       "  <thead>\n",
       "    <tr style=\"text-align: right;\">\n",
       "      <th></th>\n",
       "      <th>ContinentCode</th>\n",
       "      <th>Number_of_subjects</th>\n",
       "    </tr>\n",
       "  </thead>\n",
       "  <tbody>\n",
       "    <tr>\n",
       "      <th>2</th>\n",
       "      <td>EU</td>\n",
       "      <td>99205</td>\n",
       "    </tr>\n",
       "    <tr>\n",
       "      <th>1</th>\n",
       "      <td>AS</td>\n",
       "      <td>97308</td>\n",
       "    </tr>\n",
       "    <tr>\n",
       "      <th>4</th>\n",
       "      <td>SA</td>\n",
       "      <td>72124</td>\n",
       "    </tr>\n",
       "    <tr>\n",
       "      <th>3</th>\n",
       "      <td>NA</td>\n",
       "      <td>37676</td>\n",
       "    </tr>\n",
       "    <tr>\n",
       "      <th>0</th>\n",
       "      <td>AF</td>\n",
       "      <td>5904</td>\n",
       "    </tr>\n",
       "  </tbody>\n",
       "</table>\n",
       "</div>"
      ],
      "text/plain": [
       "  ContinentCode  Number_of_subjects\n",
       "2            EU               99205\n",
       "1            AS               97308\n",
       "4            SA               72124\n",
       "3            NA               37676\n",
       "0            AF                5904"
      ]
     },
     "execution_count": 371,
     "metadata": {},
     "output_type": "execute_result"
    }
   ],
   "source": [
    "food_con['ContinentCode'] = food_con['ContinentCode'].apply(lambda x: x[0:2])\n",
    "food_con = food_con.groupby(['ContinentCode']).sum().reset_index().sort_values(by='Number_of_subjects', ascending=False)\n",
    "food_con"
   ]
  },
  {
   "cell_type": "markdown",
   "id": "5c26d809-fc14-40d7-b92c-92daf3d601f6",
   "metadata": {},
   "source": [
    "### Wszystko poszło dobrze, więc mogę teraz wizualizować, tylko jeszcze dodam nazwy kontynentów."
   ]
  },
  {
   "cell_type": "code",
   "execution_count": 372,
   "id": "5fbd4f84-323b-447c-bf3b-85c5be2453bd",
   "metadata": {
    "tags": []
   },
   "outputs": [
    {
     "data": {
      "text/html": [
       "<div>\n",
       "<style scoped>\n",
       "    .dataframe tbody tr th:only-of-type {\n",
       "        vertical-align: middle;\n",
       "    }\n",
       "\n",
       "    .dataframe tbody tr th {\n",
       "        vertical-align: top;\n",
       "    }\n",
       "\n",
       "    .dataframe thead th {\n",
       "        text-align: right;\n",
       "    }\n",
       "</style>\n",
       "<table border=\"1\" class=\"dataframe\">\n",
       "  <thead>\n",
       "    <tr style=\"text-align: right;\">\n",
       "      <th></th>\n",
       "      <th>ContinentCode</th>\n",
       "      <th>Number_of_subjects</th>\n",
       "      <th>Continent</th>\n",
       "    </tr>\n",
       "  </thead>\n",
       "  <tbody>\n",
       "    <tr>\n",
       "      <th>2</th>\n",
       "      <td>EU</td>\n",
       "      <td>99205</td>\n",
       "      <td>Europe</td>\n",
       "    </tr>\n",
       "    <tr>\n",
       "      <th>1</th>\n",
       "      <td>AS</td>\n",
       "      <td>97308</td>\n",
       "      <td>Asia</td>\n",
       "    </tr>\n",
       "    <tr>\n",
       "      <th>4</th>\n",
       "      <td>SA</td>\n",
       "      <td>72124</td>\n",
       "      <td>South America</td>\n",
       "    </tr>\n",
       "    <tr>\n",
       "      <th>3</th>\n",
       "      <td>NA</td>\n",
       "      <td>37676</td>\n",
       "      <td>North America</td>\n",
       "    </tr>\n",
       "    <tr>\n",
       "      <th>0</th>\n",
       "      <td>AF</td>\n",
       "      <td>5904</td>\n",
       "      <td>Africa</td>\n",
       "    </tr>\n",
       "  </tbody>\n",
       "</table>\n",
       "</div>"
      ],
      "text/plain": [
       "  ContinentCode  Number_of_subjects      Continent\n",
       "2            EU               99205         Europe\n",
       "1            AS               97308           Asia\n",
       "4            SA               72124  South America\n",
       "3            NA               37676  North America\n",
       "0            AF                5904         Africa"
      ]
     },
     "execution_count": 372,
     "metadata": {},
     "output_type": "execute_result"
    }
   ],
   "source": [
    "food_con['Continent'] = food_con['ContinentCode'].map(conti_names)\n",
    "food_con"
   ]
  },
  {
   "cell_type": "markdown",
   "id": "b7872ff3-13ce-472b-911a-f72f26c33cc5",
   "metadata": {},
   "source": [
    "# 📊 Wykres: Procentowy udział badanych patrząc na kontynent.<a id=\"kont_sub\"></a> [&uarr;](#top)"
   ]
  },
  {
   "cell_type": "code",
   "execution_count": 373,
   "id": "df1409fb-2b96-4e5a-a8c3-fe99a9d6d88e",
   "metadata": {
    "tags": []
   },
   "outputs": [
    {
     "data": {
      "text/html": [
       "<div>                            <div id=\"0c8e7a60-1ffa-43f0-8e51-ec4bebdce2a0\" class=\"plotly-graph-div\" style=\"height:525px; width:100%;\"></div>            <script type=\"text/javascript\">                require([\"plotly\"], function(Plotly) {                    window.PLOTLYENV=window.PLOTLYENV || {};                                    if (document.getElementById(\"0c8e7a60-1ffa-43f0-8e51-ec4bebdce2a0\")) {                    Plotly.newPlot(                        \"0c8e7a60-1ffa-43f0-8e51-ec4bebdce2a0\",                        [{\"customdata\":[[99205],[97308],[72124],[37676],[5904]],\"domain\":{\"x\":[0.0,1.0],\"y\":[0.0,1.0]},\"hovertemplate\":\"Continent=%{label}<br>Number_of_subjects=%{customdata[0]:,}<extra></extra>\",\"labels\":[\"Europe\",\"Asia\",\"South America\",\"North America\",\"Africa\"],\"legendgroup\":\"\",\"name\":\"\",\"showlegend\":true,\"values\":[99205,97308,72124,37676,5904],\"type\":\"pie\"}],                        {\"template\":{\"data\":{\"histogram2dcontour\":[{\"type\":\"histogram2dcontour\",\"colorbar\":{\"outlinewidth\":0,\"ticks\":\"\"},\"colorscale\":[[0.0,\"#0d0887\"],[0.1111111111111111,\"#46039f\"],[0.2222222222222222,\"#7201a8\"],[0.3333333333333333,\"#9c179e\"],[0.4444444444444444,\"#bd3786\"],[0.5555555555555556,\"#d8576b\"],[0.6666666666666666,\"#ed7953\"],[0.7777777777777778,\"#fb9f3a\"],[0.8888888888888888,\"#fdca26\"],[1.0,\"#f0f921\"]]}],\"choropleth\":[{\"type\":\"choropleth\",\"colorbar\":{\"outlinewidth\":0,\"ticks\":\"\"}}],\"histogram2d\":[{\"type\":\"histogram2d\",\"colorbar\":{\"outlinewidth\":0,\"ticks\":\"\"},\"colorscale\":[[0.0,\"#0d0887\"],[0.1111111111111111,\"#46039f\"],[0.2222222222222222,\"#7201a8\"],[0.3333333333333333,\"#9c179e\"],[0.4444444444444444,\"#bd3786\"],[0.5555555555555556,\"#d8576b\"],[0.6666666666666666,\"#ed7953\"],[0.7777777777777778,\"#fb9f3a\"],[0.8888888888888888,\"#fdca26\"],[1.0,\"#f0f921\"]]}],\"heatmap\":[{\"type\":\"heatmap\",\"colorbar\":{\"outlinewidth\":0,\"ticks\":\"\"},\"colorscale\":[[0.0,\"#0d0887\"],[0.1111111111111111,\"#46039f\"],[0.2222222222222222,\"#7201a8\"],[0.3333333333333333,\"#9c179e\"],[0.4444444444444444,\"#bd3786\"],[0.5555555555555556,\"#d8576b\"],[0.6666666666666666,\"#ed7953\"],[0.7777777777777778,\"#fb9f3a\"],[0.8888888888888888,\"#fdca26\"],[1.0,\"#f0f921\"]]}],\"heatmapgl\":[{\"type\":\"heatmapgl\",\"colorbar\":{\"outlinewidth\":0,\"ticks\":\"\"},\"colorscale\":[[0.0,\"#0d0887\"],[0.1111111111111111,\"#46039f\"],[0.2222222222222222,\"#7201a8\"],[0.3333333333333333,\"#9c179e\"],[0.4444444444444444,\"#bd3786\"],[0.5555555555555556,\"#d8576b\"],[0.6666666666666666,\"#ed7953\"],[0.7777777777777778,\"#fb9f3a\"],[0.8888888888888888,\"#fdca26\"],[1.0,\"#f0f921\"]]}],\"contourcarpet\":[{\"type\":\"contourcarpet\",\"colorbar\":{\"outlinewidth\":0,\"ticks\":\"\"}}],\"contour\":[{\"type\":\"contour\",\"colorbar\":{\"outlinewidth\":0,\"ticks\":\"\"},\"colorscale\":[[0.0,\"#0d0887\"],[0.1111111111111111,\"#46039f\"],[0.2222222222222222,\"#7201a8\"],[0.3333333333333333,\"#9c179e\"],[0.4444444444444444,\"#bd3786\"],[0.5555555555555556,\"#d8576b\"],[0.6666666666666666,\"#ed7953\"],[0.7777777777777778,\"#fb9f3a\"],[0.8888888888888888,\"#fdca26\"],[1.0,\"#f0f921\"]]}],\"surface\":[{\"type\":\"surface\",\"colorbar\":{\"outlinewidth\":0,\"ticks\":\"\"},\"colorscale\":[[0.0,\"#0d0887\"],[0.1111111111111111,\"#46039f\"],[0.2222222222222222,\"#7201a8\"],[0.3333333333333333,\"#9c179e\"],[0.4444444444444444,\"#bd3786\"],[0.5555555555555556,\"#d8576b\"],[0.6666666666666666,\"#ed7953\"],[0.7777777777777778,\"#fb9f3a\"],[0.8888888888888888,\"#fdca26\"],[1.0,\"#f0f921\"]]}],\"mesh3d\":[{\"type\":\"mesh3d\",\"colorbar\":{\"outlinewidth\":0,\"ticks\":\"\"}}],\"scatter\":[{\"fillpattern\":{\"fillmode\":\"overlay\",\"size\":10,\"solidity\":0.2},\"type\":\"scatter\"}],\"parcoords\":[{\"type\":\"parcoords\",\"line\":{\"colorbar\":{\"outlinewidth\":0,\"ticks\":\"\"}}}],\"scatterpolargl\":[{\"type\":\"scatterpolargl\",\"marker\":{\"colorbar\":{\"outlinewidth\":0,\"ticks\":\"\"}}}],\"bar\":[{\"error_x\":{\"color\":\"#2a3f5f\"},\"error_y\":{\"color\":\"#2a3f5f\"},\"marker\":{\"line\":{\"color\":\"#E5ECF6\",\"width\":0.5},\"pattern\":{\"fillmode\":\"overlay\",\"size\":10,\"solidity\":0.2}},\"type\":\"bar\"}],\"scattergeo\":[{\"type\":\"scattergeo\",\"marker\":{\"colorbar\":{\"outlinewidth\":0,\"ticks\":\"\"}}}],\"scatterpolar\":[{\"type\":\"scatterpolar\",\"marker\":{\"colorbar\":{\"outlinewidth\":0,\"ticks\":\"\"}}}],\"histogram\":[{\"marker\":{\"pattern\":{\"fillmode\":\"overlay\",\"size\":10,\"solidity\":0.2}},\"type\":\"histogram\"}],\"scattergl\":[{\"type\":\"scattergl\",\"marker\":{\"colorbar\":{\"outlinewidth\":0,\"ticks\":\"\"}}}],\"scatter3d\":[{\"type\":\"scatter3d\",\"line\":{\"colorbar\":{\"outlinewidth\":0,\"ticks\":\"\"}},\"marker\":{\"colorbar\":{\"outlinewidth\":0,\"ticks\":\"\"}}}],\"scattermapbox\":[{\"type\":\"scattermapbox\",\"marker\":{\"colorbar\":{\"outlinewidth\":0,\"ticks\":\"\"}}}],\"scatterternary\":[{\"type\":\"scatterternary\",\"marker\":{\"colorbar\":{\"outlinewidth\":0,\"ticks\":\"\"}}}],\"scattercarpet\":[{\"type\":\"scattercarpet\",\"marker\":{\"colorbar\":{\"outlinewidth\":0,\"ticks\":\"\"}}}],\"carpet\":[{\"aaxis\":{\"endlinecolor\":\"#2a3f5f\",\"gridcolor\":\"white\",\"linecolor\":\"white\",\"minorgridcolor\":\"white\",\"startlinecolor\":\"#2a3f5f\"},\"baxis\":{\"endlinecolor\":\"#2a3f5f\",\"gridcolor\":\"white\",\"linecolor\":\"white\",\"minorgridcolor\":\"white\",\"startlinecolor\":\"#2a3f5f\"},\"type\":\"carpet\"}],\"table\":[{\"cells\":{\"fill\":{\"color\":\"#EBF0F8\"},\"line\":{\"color\":\"white\"}},\"header\":{\"fill\":{\"color\":\"#C8D4E3\"},\"line\":{\"color\":\"white\"}},\"type\":\"table\"}],\"barpolar\":[{\"marker\":{\"line\":{\"color\":\"#E5ECF6\",\"width\":0.5},\"pattern\":{\"fillmode\":\"overlay\",\"size\":10,\"solidity\":0.2}},\"type\":\"barpolar\"}],\"pie\":[{\"automargin\":true,\"type\":\"pie\"}]},\"layout\":{\"autotypenumbers\":\"strict\",\"colorway\":[\"#636efa\",\"#EF553B\",\"#00cc96\",\"#ab63fa\",\"#FFA15A\",\"#19d3f3\",\"#FF6692\",\"#B6E880\",\"#FF97FF\",\"#FECB52\"],\"font\":{\"color\":\"#2a3f5f\"},\"hovermode\":\"closest\",\"hoverlabel\":{\"align\":\"left\"},\"paper_bgcolor\":\"white\",\"plot_bgcolor\":\"#E5ECF6\",\"polar\":{\"bgcolor\":\"#E5ECF6\",\"angularaxis\":{\"gridcolor\":\"white\",\"linecolor\":\"white\",\"ticks\":\"\"},\"radialaxis\":{\"gridcolor\":\"white\",\"linecolor\":\"white\",\"ticks\":\"\"}},\"ternary\":{\"bgcolor\":\"#E5ECF6\",\"aaxis\":{\"gridcolor\":\"white\",\"linecolor\":\"white\",\"ticks\":\"\"},\"baxis\":{\"gridcolor\":\"white\",\"linecolor\":\"white\",\"ticks\":\"\"},\"caxis\":{\"gridcolor\":\"white\",\"linecolor\":\"white\",\"ticks\":\"\"}},\"coloraxis\":{\"colorbar\":{\"outlinewidth\":0,\"ticks\":\"\"}},\"colorscale\":{\"sequential\":[[0.0,\"#0d0887\"],[0.1111111111111111,\"#46039f\"],[0.2222222222222222,\"#7201a8\"],[0.3333333333333333,\"#9c179e\"],[0.4444444444444444,\"#bd3786\"],[0.5555555555555556,\"#d8576b\"],[0.6666666666666666,\"#ed7953\"],[0.7777777777777778,\"#fb9f3a\"],[0.8888888888888888,\"#fdca26\"],[1.0,\"#f0f921\"]],\"sequentialminus\":[[0.0,\"#0d0887\"],[0.1111111111111111,\"#46039f\"],[0.2222222222222222,\"#7201a8\"],[0.3333333333333333,\"#9c179e\"],[0.4444444444444444,\"#bd3786\"],[0.5555555555555556,\"#d8576b\"],[0.6666666666666666,\"#ed7953\"],[0.7777777777777778,\"#fb9f3a\"],[0.8888888888888888,\"#fdca26\"],[1.0,\"#f0f921\"]],\"diverging\":[[0,\"#8e0152\"],[0.1,\"#c51b7d\"],[0.2,\"#de77ae\"],[0.3,\"#f1b6da\"],[0.4,\"#fde0ef\"],[0.5,\"#f7f7f7\"],[0.6,\"#e6f5d0\"],[0.7,\"#b8e186\"],[0.8,\"#7fbc41\"],[0.9,\"#4d9221\"],[1,\"#276419\"]]},\"xaxis\":{\"gridcolor\":\"white\",\"linecolor\":\"white\",\"ticks\":\"\",\"title\":{\"standoff\":15},\"zerolinecolor\":\"white\",\"automargin\":true,\"zerolinewidth\":2},\"yaxis\":{\"gridcolor\":\"white\",\"linecolor\":\"white\",\"ticks\":\"\",\"title\":{\"standoff\":15},\"zerolinecolor\":\"white\",\"automargin\":true,\"zerolinewidth\":2},\"scene\":{\"xaxis\":{\"backgroundcolor\":\"#E5ECF6\",\"gridcolor\":\"white\",\"linecolor\":\"white\",\"showbackground\":true,\"ticks\":\"\",\"zerolinecolor\":\"white\",\"gridwidth\":2},\"yaxis\":{\"backgroundcolor\":\"#E5ECF6\",\"gridcolor\":\"white\",\"linecolor\":\"white\",\"showbackground\":true,\"ticks\":\"\",\"zerolinecolor\":\"white\",\"gridwidth\":2},\"zaxis\":{\"backgroundcolor\":\"#E5ECF6\",\"gridcolor\":\"white\",\"linecolor\":\"white\",\"showbackground\":true,\"ticks\":\"\",\"zerolinecolor\":\"white\",\"gridwidth\":2}},\"shapedefaults\":{\"line\":{\"color\":\"#2a3f5f\"}},\"annotationdefaults\":{\"arrowcolor\":\"#2a3f5f\",\"arrowhead\":0,\"arrowwidth\":1},\"geo\":{\"bgcolor\":\"white\",\"landcolor\":\"#E5ECF6\",\"subunitcolor\":\"white\",\"showland\":true,\"showlakes\":true,\"lakecolor\":\"white\"},\"title\":{\"x\":0.05},\"mapbox\":{\"style\":\"light\"}}},\"legend\":{\"tracegroupgap\":0},\"title\":{\"text\":\"Percent of subjects per Continents\"},\"piecolorway\":[\"rgb(103,0,31)\",\"rgb(178,24,43)\",\"rgb(214,96,77)\",\"rgb(244,165,130)\",\"rgb(253,219,199)\",\"rgb(247,247,247)\",\"rgb(209,229,240)\",\"rgb(146,197,222)\",\"rgb(67,147,195)\",\"rgb(33,102,172)\",\"rgb(5,48,97)\"]},                        {\"responsive\": true}                    ).then(function(){\n",
       "                            \n",
       "var gd = document.getElementById('0c8e7a60-1ffa-43f0-8e51-ec4bebdce2a0');\n",
       "var x = new MutationObserver(function (mutations, observer) {{\n",
       "        var display = window.getComputedStyle(gd).display;\n",
       "        if (!display || display === 'none') {{\n",
       "            console.log([gd, 'removed!']);\n",
       "            Plotly.purge(gd);\n",
       "            observer.disconnect();\n",
       "        }}\n",
       "}});\n",
       "\n",
       "// Listen for the removal of the full notebook cells\n",
       "var notebookContainer = gd.closest('#notebook-container');\n",
       "if (notebookContainer) {{\n",
       "    x.observe(notebookContainer, {childList: true});\n",
       "}}\n",
       "\n",
       "// Listen for the clearing of the current output cell\n",
       "var outputEl = gd.closest('.output');\n",
       "if (outputEl) {{\n",
       "    x.observe(outputEl, {childList: true});\n",
       "}}\n",
       "\n",
       "                        })                };                });            </script>        </div>"
      ]
     },
     "metadata": {},
     "output_type": "display_data"
    }
   ],
   "source": [
    "fig = px.pie(food_con, values='Number_of_subjects', names='Continent', title='Percent of subjects per Continents',color_discrete_sequence=px.colors.sequential.RdBu, hover_data={'Number_of_subjects':':,'})\n",
    "fig.show()"
   ]
  },
  {
   "cell_type": "markdown",
   "id": "cbebd619-2db1-40de-b648-f7dafbbbeb82",
   "metadata": {
    "tags": []
   },
   "source": [
    "### <a id=\"kont_sub_wnio\"></a> [&uarr;](#top) Na tym wykresie widać, ze rozłożenie badancyh między kontynentami nie jest takie złe. Wiadomo Afryka najgorzej wypada i gdyby chcieć wyciągnąć informacje dla Afryki, to można to robić tylko dla Afryki i nie sugerować się ogólnymi wynikami. Natomiast reszta kontynentów nawet równo się rozkłada, nadal dla dokładnych informacji należy sprawdzać konkretne kontynenty ale i tak już ogólna analiza może dać sensowne informacje."
   ]
  },
  {
   "cell_type": "markdown",
   "id": "23b697fc-cb4e-4253-b95f-d5069264fcdb",
   "metadata": {},
   "source": [
    "### Teraz czas na sprawdzenie najpopularniejszych produktów"
   ]
  },
  {
   "cell_type": "code",
   "execution_count": 374,
   "id": "a00036e3-a4cf-4dce-b1f5-66f4345638e9",
   "metadata": {},
   "outputs": [
    {
     "data": {
      "text/html": [
       "<div>\n",
       "<style scoped>\n",
       "    .dataframe tbody tr th:only-of-type {\n",
       "        vertical-align: middle;\n",
       "    }\n",
       "\n",
       "    .dataframe tbody tr th {\n",
       "        vertical-align: top;\n",
       "    }\n",
       "\n",
       "    .dataframe thead th {\n",
       "        text-align: right;\n",
       "    }\n",
       "</style>\n",
       "<table border=\"1\" class=\"dataframe\">\n",
       "  <thead>\n",
       "    <tr style=\"text-align: right;\">\n",
       "      <th></th>\n",
       "      <th>FoodName</th>\n",
       "      <th>Number_of_consumers</th>\n",
       "    </tr>\n",
       "  </thead>\n",
       "  <tbody>\n",
       "    <tr>\n",
       "      <th>1</th>\n",
       "      <td>(All Cereals)</td>\n",
       "      <td>142214</td>\n",
       "    </tr>\n",
       "    <tr>\n",
       "      <th>2811</th>\n",
       "      <td>Wheat Bread And Rolls, White (Refined Flour)</td>\n",
       "      <td>135436</td>\n",
       "    </tr>\n",
       "    <tr>\n",
       "      <th>1836</th>\n",
       "      <td>Onions</td>\n",
       "      <td>112344</td>\n",
       "    </tr>\n",
       "    <tr>\n",
       "      <th>2249</th>\n",
       "      <td>Rice Grain, Polished</td>\n",
       "      <td>105857</td>\n",
       "    </tr>\n",
       "    <tr>\n",
       "      <th>1997</th>\n",
       "      <td>Pig Fresh Meat</td>\n",
       "      <td>104118</td>\n",
       "    </tr>\n",
       "    <tr>\n",
       "      <th>2652</th>\n",
       "      <td>Tap Water</td>\n",
       "      <td>92605</td>\n",
       "    </tr>\n",
       "    <tr>\n",
       "      <th>2092</th>\n",
       "      <td>Potatoes</td>\n",
       "      <td>89154</td>\n",
       "    </tr>\n",
       "    <tr>\n",
       "      <th>375</th>\n",
       "      <td>Carrots</td>\n",
       "      <td>87843</td>\n",
       "    </tr>\n",
       "    <tr>\n",
       "      <th>1126</th>\n",
       "      <td>Garlic</td>\n",
       "      <td>84415</td>\n",
       "    </tr>\n",
       "    <tr>\n",
       "      <th>2243</th>\n",
       "      <td>Rice Grain</td>\n",
       "      <td>82719</td>\n",
       "    </tr>\n",
       "  </tbody>\n",
       "</table>\n",
       "</div>"
      ],
      "text/plain": [
       "                                          FoodName  Number_of_consumers\n",
       "1                                    (All Cereals)               142214\n",
       "2811  Wheat Bread And Rolls, White (Refined Flour)               135436\n",
       "1836                                        Onions               112344\n",
       "2249                          Rice Grain, Polished               105857\n",
       "1997                                Pig Fresh Meat               104118\n",
       "2652                                     Tap Water                92605\n",
       "2092                                      Potatoes                89154\n",
       "375                                        Carrots                87843\n",
       "1126                                        Garlic                84415\n",
       "2243                                    Rice Grain                82719"
      ]
     },
     "execution_count": 374,
     "metadata": {},
     "output_type": "execute_result"
    }
   ],
   "source": [
    "most_consumed_all = food_all.groupby(['FoodName']).sum().reset_index().sort_values(by='Number_of_consumers', ascending=False)\n",
    "most_consumed_fem = food_fem.groupby(['FoodName']).sum().reset_index().sort_values(by='Number_of_consumers', ascending=False)\n",
    "most_consumed_men = food_men.groupby(['FoodName']).sum().reset_index().sort_values(by='Number_of_consumers', ascending=False)\n",
    "most_consumed_all[['FoodName','Number_of_consumers']].head(10)"
   ]
  },
  {
   "cell_type": "markdown",
   "id": "7109d4a9-0139-468b-82f2-ac8522d49d50",
   "metadata": {},
   "source": [
    "# 📊 Wykres: Najpopularniejsze produkty na świecie. <a id=\"food_world\"></a>[&uarr;](#top)"
   ]
  },
  {
   "cell_type": "code",
   "execution_count": 375,
   "id": "bc27c113-cc57-4673-a3cf-8d83c76e8f2a",
   "metadata": {
    "tags": []
   },
   "outputs": [
    {
     "data": {
      "text/html": [
       "<div>                            <div id=\"df7654cb-083c-486f-82fa-6ee71b4083c2\" class=\"plotly-graph-div\" style=\"height:525px; width:100%;\"></div>            <script type=\"text/javascript\">                require([\"plotly\"], function(Plotly) {                    window.PLOTLYENV=window.PLOTLYENV || {};                                    if (document.getElementById(\"df7654cb-083c-486f-82fa-6ee71b4083c2\")) {                    Plotly.newPlot(                        \"df7654cb-083c-486f-82fa-6ee71b4083c2\",                        [{\"alignmentgroup\":\"True\",\"hovertemplate\":\"Food Names=%{x}<br>Number of comsumers=%{y:,}<extra></extra>\",\"legendgroup\":\"\",\"marker\":{\"color\":\"green\",\"pattern\":{\"shape\":\"\"}},\"name\":\"\",\"offsetgroup\":\"\",\"orientation\":\"v\",\"showlegend\":false,\"textposition\":\"auto\",\"x\":[\"(All Cereals)\",\"Wheat Bread And Rolls, White (Refined Flour)\",\"Onions\",\"Rice Grain, Polished\",\"Pig Fresh Meat\",\"Tap Water\",\"Potatoes\",\"Carrots\",\"Garlic\",\"Rice Grain\",\"Chicken Fresh Meat\",\"Hen Eggs\",\"(All Vegetables)\",\"Wheat Flour\",\"Tomatoes\",\"Salt\",\"(All Herbs)\",\"(All Fats)\",\"(All Beverages)\",\"Apples\",\"(All Sugars)\",\"Chinese Cabbages\",\"(All Meat And Meat Products)\",\"White Sugar\",\"Cucumbers\",\"Butter\",\"(All Fruits)\",\"Wheat Flour White\",\"Chili Peppers\",\"(All Eggs)\"],\"xaxis\":\"x\",\"y\":[142214,135436,112344,105857,104118,92605,89154,87843,84415,82719,81138,77156,70128,69789,69658,67860,66181,64221,61336,58781,58132,58094,56785,54905,52033,50496,50230,49807,46407,45318],\"yaxis\":\"y\",\"type\":\"bar\"}],                        {\"template\":{\"data\":{\"histogram2dcontour\":[{\"type\":\"histogram2dcontour\",\"colorbar\":{\"outlinewidth\":0,\"ticks\":\"\"},\"colorscale\":[[0.0,\"#0d0887\"],[0.1111111111111111,\"#46039f\"],[0.2222222222222222,\"#7201a8\"],[0.3333333333333333,\"#9c179e\"],[0.4444444444444444,\"#bd3786\"],[0.5555555555555556,\"#d8576b\"],[0.6666666666666666,\"#ed7953\"],[0.7777777777777778,\"#fb9f3a\"],[0.8888888888888888,\"#fdca26\"],[1.0,\"#f0f921\"]]}],\"choropleth\":[{\"type\":\"choropleth\",\"colorbar\":{\"outlinewidth\":0,\"ticks\":\"\"}}],\"histogram2d\":[{\"type\":\"histogram2d\",\"colorbar\":{\"outlinewidth\":0,\"ticks\":\"\"},\"colorscale\":[[0.0,\"#0d0887\"],[0.1111111111111111,\"#46039f\"],[0.2222222222222222,\"#7201a8\"],[0.3333333333333333,\"#9c179e\"],[0.4444444444444444,\"#bd3786\"],[0.5555555555555556,\"#d8576b\"],[0.6666666666666666,\"#ed7953\"],[0.7777777777777778,\"#fb9f3a\"],[0.8888888888888888,\"#fdca26\"],[1.0,\"#f0f921\"]]}],\"heatmap\":[{\"type\":\"heatmap\",\"colorbar\":{\"outlinewidth\":0,\"ticks\":\"\"},\"colorscale\":[[0.0,\"#0d0887\"],[0.1111111111111111,\"#46039f\"],[0.2222222222222222,\"#7201a8\"],[0.3333333333333333,\"#9c179e\"],[0.4444444444444444,\"#bd3786\"],[0.5555555555555556,\"#d8576b\"],[0.6666666666666666,\"#ed7953\"],[0.7777777777777778,\"#fb9f3a\"],[0.8888888888888888,\"#fdca26\"],[1.0,\"#f0f921\"]]}],\"heatmapgl\":[{\"type\":\"heatmapgl\",\"colorbar\":{\"outlinewidth\":0,\"ticks\":\"\"},\"colorscale\":[[0.0,\"#0d0887\"],[0.1111111111111111,\"#46039f\"],[0.2222222222222222,\"#7201a8\"],[0.3333333333333333,\"#9c179e\"],[0.4444444444444444,\"#bd3786\"],[0.5555555555555556,\"#d8576b\"],[0.6666666666666666,\"#ed7953\"],[0.7777777777777778,\"#fb9f3a\"],[0.8888888888888888,\"#fdca26\"],[1.0,\"#f0f921\"]]}],\"contourcarpet\":[{\"type\":\"contourcarpet\",\"colorbar\":{\"outlinewidth\":0,\"ticks\":\"\"}}],\"contour\":[{\"type\":\"contour\",\"colorbar\":{\"outlinewidth\":0,\"ticks\":\"\"},\"colorscale\":[[0.0,\"#0d0887\"],[0.1111111111111111,\"#46039f\"],[0.2222222222222222,\"#7201a8\"],[0.3333333333333333,\"#9c179e\"],[0.4444444444444444,\"#bd3786\"],[0.5555555555555556,\"#d8576b\"],[0.6666666666666666,\"#ed7953\"],[0.7777777777777778,\"#fb9f3a\"],[0.8888888888888888,\"#fdca26\"],[1.0,\"#f0f921\"]]}],\"surface\":[{\"type\":\"surface\",\"colorbar\":{\"outlinewidth\":0,\"ticks\":\"\"},\"colorscale\":[[0.0,\"#0d0887\"],[0.1111111111111111,\"#46039f\"],[0.2222222222222222,\"#7201a8\"],[0.3333333333333333,\"#9c179e\"],[0.4444444444444444,\"#bd3786\"],[0.5555555555555556,\"#d8576b\"],[0.6666666666666666,\"#ed7953\"],[0.7777777777777778,\"#fb9f3a\"],[0.8888888888888888,\"#fdca26\"],[1.0,\"#f0f921\"]]}],\"mesh3d\":[{\"type\":\"mesh3d\",\"colorbar\":{\"outlinewidth\":0,\"ticks\":\"\"}}],\"scatter\":[{\"fillpattern\":{\"fillmode\":\"overlay\",\"size\":10,\"solidity\":0.2},\"type\":\"scatter\"}],\"parcoords\":[{\"type\":\"parcoords\",\"line\":{\"colorbar\":{\"outlinewidth\":0,\"ticks\":\"\"}}}],\"scatterpolargl\":[{\"type\":\"scatterpolargl\",\"marker\":{\"colorbar\":{\"outlinewidth\":0,\"ticks\":\"\"}}}],\"bar\":[{\"error_x\":{\"color\":\"#2a3f5f\"},\"error_y\":{\"color\":\"#2a3f5f\"},\"marker\":{\"line\":{\"color\":\"#E5ECF6\",\"width\":0.5},\"pattern\":{\"fillmode\":\"overlay\",\"size\":10,\"solidity\":0.2}},\"type\":\"bar\"}],\"scattergeo\":[{\"type\":\"scattergeo\",\"marker\":{\"colorbar\":{\"outlinewidth\":0,\"ticks\":\"\"}}}],\"scatterpolar\":[{\"type\":\"scatterpolar\",\"marker\":{\"colorbar\":{\"outlinewidth\":0,\"ticks\":\"\"}}}],\"histogram\":[{\"marker\":{\"pattern\":{\"fillmode\":\"overlay\",\"size\":10,\"solidity\":0.2}},\"type\":\"histogram\"}],\"scattergl\":[{\"type\":\"scattergl\",\"marker\":{\"colorbar\":{\"outlinewidth\":0,\"ticks\":\"\"}}}],\"scatter3d\":[{\"type\":\"scatter3d\",\"line\":{\"colorbar\":{\"outlinewidth\":0,\"ticks\":\"\"}},\"marker\":{\"colorbar\":{\"outlinewidth\":0,\"ticks\":\"\"}}}],\"scattermapbox\":[{\"type\":\"scattermapbox\",\"marker\":{\"colorbar\":{\"outlinewidth\":0,\"ticks\":\"\"}}}],\"scatterternary\":[{\"type\":\"scatterternary\",\"marker\":{\"colorbar\":{\"outlinewidth\":0,\"ticks\":\"\"}}}],\"scattercarpet\":[{\"type\":\"scattercarpet\",\"marker\":{\"colorbar\":{\"outlinewidth\":0,\"ticks\":\"\"}}}],\"carpet\":[{\"aaxis\":{\"endlinecolor\":\"#2a3f5f\",\"gridcolor\":\"white\",\"linecolor\":\"white\",\"minorgridcolor\":\"white\",\"startlinecolor\":\"#2a3f5f\"},\"baxis\":{\"endlinecolor\":\"#2a3f5f\",\"gridcolor\":\"white\",\"linecolor\":\"white\",\"minorgridcolor\":\"white\",\"startlinecolor\":\"#2a3f5f\"},\"type\":\"carpet\"}],\"table\":[{\"cells\":{\"fill\":{\"color\":\"#EBF0F8\"},\"line\":{\"color\":\"white\"}},\"header\":{\"fill\":{\"color\":\"#C8D4E3\"},\"line\":{\"color\":\"white\"}},\"type\":\"table\"}],\"barpolar\":[{\"marker\":{\"line\":{\"color\":\"#E5ECF6\",\"width\":0.5},\"pattern\":{\"fillmode\":\"overlay\",\"size\":10,\"solidity\":0.2}},\"type\":\"barpolar\"}],\"pie\":[{\"automargin\":true,\"type\":\"pie\"}]},\"layout\":{\"autotypenumbers\":\"strict\",\"colorway\":[\"#636efa\",\"#EF553B\",\"#00cc96\",\"#ab63fa\",\"#FFA15A\",\"#19d3f3\",\"#FF6692\",\"#B6E880\",\"#FF97FF\",\"#FECB52\"],\"font\":{\"color\":\"#2a3f5f\"},\"hovermode\":\"closest\",\"hoverlabel\":{\"align\":\"left\"},\"paper_bgcolor\":\"white\",\"plot_bgcolor\":\"#E5ECF6\",\"polar\":{\"bgcolor\":\"#E5ECF6\",\"angularaxis\":{\"gridcolor\":\"white\",\"linecolor\":\"white\",\"ticks\":\"\"},\"radialaxis\":{\"gridcolor\":\"white\",\"linecolor\":\"white\",\"ticks\":\"\"}},\"ternary\":{\"bgcolor\":\"#E5ECF6\",\"aaxis\":{\"gridcolor\":\"white\",\"linecolor\":\"white\",\"ticks\":\"\"},\"baxis\":{\"gridcolor\":\"white\",\"linecolor\":\"white\",\"ticks\":\"\"},\"caxis\":{\"gridcolor\":\"white\",\"linecolor\":\"white\",\"ticks\":\"\"}},\"coloraxis\":{\"colorbar\":{\"outlinewidth\":0,\"ticks\":\"\"}},\"colorscale\":{\"sequential\":[[0.0,\"#0d0887\"],[0.1111111111111111,\"#46039f\"],[0.2222222222222222,\"#7201a8\"],[0.3333333333333333,\"#9c179e\"],[0.4444444444444444,\"#bd3786\"],[0.5555555555555556,\"#d8576b\"],[0.6666666666666666,\"#ed7953\"],[0.7777777777777778,\"#fb9f3a\"],[0.8888888888888888,\"#fdca26\"],[1.0,\"#f0f921\"]],\"sequentialminus\":[[0.0,\"#0d0887\"],[0.1111111111111111,\"#46039f\"],[0.2222222222222222,\"#7201a8\"],[0.3333333333333333,\"#9c179e\"],[0.4444444444444444,\"#bd3786\"],[0.5555555555555556,\"#d8576b\"],[0.6666666666666666,\"#ed7953\"],[0.7777777777777778,\"#fb9f3a\"],[0.8888888888888888,\"#fdca26\"],[1.0,\"#f0f921\"]],\"diverging\":[[0,\"#8e0152\"],[0.1,\"#c51b7d\"],[0.2,\"#de77ae\"],[0.3,\"#f1b6da\"],[0.4,\"#fde0ef\"],[0.5,\"#f7f7f7\"],[0.6,\"#e6f5d0\"],[0.7,\"#b8e186\"],[0.8,\"#7fbc41\"],[0.9,\"#4d9221\"],[1,\"#276419\"]]},\"xaxis\":{\"gridcolor\":\"white\",\"linecolor\":\"white\",\"ticks\":\"\",\"title\":{\"standoff\":15},\"zerolinecolor\":\"white\",\"automargin\":true,\"zerolinewidth\":2},\"yaxis\":{\"gridcolor\":\"white\",\"linecolor\":\"white\",\"ticks\":\"\",\"title\":{\"standoff\":15},\"zerolinecolor\":\"white\",\"automargin\":true,\"zerolinewidth\":2},\"scene\":{\"xaxis\":{\"backgroundcolor\":\"#E5ECF6\",\"gridcolor\":\"white\",\"linecolor\":\"white\",\"showbackground\":true,\"ticks\":\"\",\"zerolinecolor\":\"white\",\"gridwidth\":2},\"yaxis\":{\"backgroundcolor\":\"#E5ECF6\",\"gridcolor\":\"white\",\"linecolor\":\"white\",\"showbackground\":true,\"ticks\":\"\",\"zerolinecolor\":\"white\",\"gridwidth\":2},\"zaxis\":{\"backgroundcolor\":\"#E5ECF6\",\"gridcolor\":\"white\",\"linecolor\":\"white\",\"showbackground\":true,\"ticks\":\"\",\"zerolinecolor\":\"white\",\"gridwidth\":2}},\"shapedefaults\":{\"line\":{\"color\":\"#2a3f5f\"}},\"annotationdefaults\":{\"arrowcolor\":\"#2a3f5f\",\"arrowhead\":0,\"arrowwidth\":1},\"geo\":{\"bgcolor\":\"white\",\"landcolor\":\"#E5ECF6\",\"subunitcolor\":\"white\",\"showland\":true,\"showlakes\":true,\"lakecolor\":\"white\"},\"title\":{\"x\":0.05},\"mapbox\":{\"style\":\"light\"}}},\"xaxis\":{\"anchor\":\"y\",\"domain\":[0.0,1.0],\"title\":{\"text\":\"Food Names\"}},\"yaxis\":{\"anchor\":\"x\",\"domain\":[0.0,1.0],\"title\":{\"text\":\"Number of comsumers\"}},\"legend\":{\"tracegroupgap\":0},\"title\":{\"text\":\"Most popular foods in the World\"},\"barmode\":\"relative\"},                        {\"responsive\": true}                    ).then(function(){\n",
       "                            \n",
       "var gd = document.getElementById('df7654cb-083c-486f-82fa-6ee71b4083c2');\n",
       "var x = new MutationObserver(function (mutations, observer) {{\n",
       "        var display = window.getComputedStyle(gd).display;\n",
       "        if (!display || display === 'none') {{\n",
       "            console.log([gd, 'removed!']);\n",
       "            Plotly.purge(gd);\n",
       "            observer.disconnect();\n",
       "        }}\n",
       "}});\n",
       "\n",
       "// Listen for the removal of the full notebook cells\n",
       "var notebookContainer = gd.closest('#notebook-container');\n",
       "if (notebookContainer) {{\n",
       "    x.observe(notebookContainer, {childList: true});\n",
       "}}\n",
       "\n",
       "// Listen for the clearing of the current output cell\n",
       "var outputEl = gd.closest('.output');\n",
       "if (outputEl) {{\n",
       "    x.observe(outputEl, {childList: true});\n",
       "}}\n",
       "\n",
       "                        })                };                });            </script>        </div>"
      ]
     },
     "metadata": {},
     "output_type": "display_data"
    }
   ],
   "source": [
    "show_most_consumed_all = most_consumed_all.head(30)\n",
    "px.bar(show_most_consumed_all, x=\"FoodName\", y=\"Number_of_consumers\", \n",
    "       \ttitle=\"Most popular foods in the World\", \n",
    "       \tlabels={'Number_of_consumers':'Number of comsumers', 'FoodName': 'Food Names' },\n",
    "      \tcolor_discrete_sequence=[\"green\"]\n",
    "      \t,hover_data={'Number_of_consumers':':,'})"
   ]
  },
  {
   "cell_type": "markdown",
   "id": "018c8139-d2fb-4d57-bd90-7a9a38f8921c",
   "metadata": {},
   "source": [
    "# 📊 Wykres: Najpopularniejsze produkty w Europie. <a id=\"food_eu\"></a>[&uarr;](#top)"
   ]
  },
  {
   "cell_type": "code",
   "execution_count": 376,
   "id": "fe42f10f-b3a7-4926-b961-03b70aa4df88",
   "metadata": {
    "tags": []
   },
   "outputs": [],
   "source": [
    "food_all = food.loc[food['Gender'] == \"All\"]\n",
    "food_all_eu = food_all.loc[food_all['Continent'] == \"Europe\"]\n",
    "most_consumed_all_eu = food_all_eu.groupby(['FoodName']).sum().reset_index().sort_values(by='Number_of_consumers', ascending=False)"
   ]
  },
  {
   "cell_type": "code",
   "execution_count": 377,
   "id": "ae678349-fe35-48b0-b131-af32f767bf35",
   "metadata": {
    "tags": []
   },
   "outputs": [
    {
     "data": {
      "text/html": [
       "<div>                            <div id=\"334875a2-1d32-477a-af91-efbe69fdd4f8\" class=\"plotly-graph-div\" style=\"height:525px; width:100%;\"></div>            <script type=\"text/javascript\">                require([\"plotly\"], function(Plotly) {                    window.PLOTLYENV=window.PLOTLYENV || {};                                    if (document.getElementById(\"334875a2-1d32-477a-af91-efbe69fdd4f8\")) {                    Plotly.newPlot(                        \"334875a2-1d32-477a-af91-efbe69fdd4f8\",                        [{\"alignmentgroup\":\"True\",\"hovertemplate\":\"Food Names=%{x}<br>Number of comsumers=%{y:,}<extra></extra>\",\"legendgroup\":\"\",\"marker\":{\"color\":\"blue\",\"pattern\":{\"shape\":\"\"}},\"name\":\"\",\"offsetgroup\":\"\",\"orientation\":\"v\",\"showlegend\":false,\"textposition\":\"auto\",\"x\":[\"Tap Water\",\"Wheat Bread And Rolls, White (Refined Flour)\",\"Onions\",\"Carrots\",\"Butter\",\"Chicken Fresh Meat\",\"Cow Milk, Semi Skimmed (Half Fat)\",\"Potatoes\",\"Apples\",\"Traditional Margarine\",\"Salt\",\"White Sugar\",\"Pig Fresh Meat\",\"Hen Eggs\",\"Tomatoes\",\"Garlic\",\"Sweet Peppers\",\"Wheat Flour White\",\"Cow, Ox Or Bull Fresh Meat\",\"Cucumbers\",\"Salt, Iodised\",\"Wheat Bread And Rolls, Brown Or Wholemeal\",\"Cow Milk, Whole\",\"Common Banana\",\"Cooked Pork Ham\",\"Olive Oils\",\"Cream, Plain\",\"Rice Grain, Polished\",\"Juice, Orange\",\"Black Pepper\"],\"xaxis\":\"x\",\"y\":[74909,64480,59250,57759,48082,44382,44325,39050,38741,35586,35117,34758,33902,33428,33061,32799,31952,31457,31385,29230,28970,27593,27472,25550,24771,24743,23215,21282,21130,20928],\"yaxis\":\"y\",\"type\":\"bar\"}],                        {\"template\":{\"data\":{\"histogram2dcontour\":[{\"type\":\"histogram2dcontour\",\"colorbar\":{\"outlinewidth\":0,\"ticks\":\"\"},\"colorscale\":[[0.0,\"#0d0887\"],[0.1111111111111111,\"#46039f\"],[0.2222222222222222,\"#7201a8\"],[0.3333333333333333,\"#9c179e\"],[0.4444444444444444,\"#bd3786\"],[0.5555555555555556,\"#d8576b\"],[0.6666666666666666,\"#ed7953\"],[0.7777777777777778,\"#fb9f3a\"],[0.8888888888888888,\"#fdca26\"],[1.0,\"#f0f921\"]]}],\"choropleth\":[{\"type\":\"choropleth\",\"colorbar\":{\"outlinewidth\":0,\"ticks\":\"\"}}],\"histogram2d\":[{\"type\":\"histogram2d\",\"colorbar\":{\"outlinewidth\":0,\"ticks\":\"\"},\"colorscale\":[[0.0,\"#0d0887\"],[0.1111111111111111,\"#46039f\"],[0.2222222222222222,\"#7201a8\"],[0.3333333333333333,\"#9c179e\"],[0.4444444444444444,\"#bd3786\"],[0.5555555555555556,\"#d8576b\"],[0.6666666666666666,\"#ed7953\"],[0.7777777777777778,\"#fb9f3a\"],[0.8888888888888888,\"#fdca26\"],[1.0,\"#f0f921\"]]}],\"heatmap\":[{\"type\":\"heatmap\",\"colorbar\":{\"outlinewidth\":0,\"ticks\":\"\"},\"colorscale\":[[0.0,\"#0d0887\"],[0.1111111111111111,\"#46039f\"],[0.2222222222222222,\"#7201a8\"],[0.3333333333333333,\"#9c179e\"],[0.4444444444444444,\"#bd3786\"],[0.5555555555555556,\"#d8576b\"],[0.6666666666666666,\"#ed7953\"],[0.7777777777777778,\"#fb9f3a\"],[0.8888888888888888,\"#fdca26\"],[1.0,\"#f0f921\"]]}],\"heatmapgl\":[{\"type\":\"heatmapgl\",\"colorbar\":{\"outlinewidth\":0,\"ticks\":\"\"},\"colorscale\":[[0.0,\"#0d0887\"],[0.1111111111111111,\"#46039f\"],[0.2222222222222222,\"#7201a8\"],[0.3333333333333333,\"#9c179e\"],[0.4444444444444444,\"#bd3786\"],[0.5555555555555556,\"#d8576b\"],[0.6666666666666666,\"#ed7953\"],[0.7777777777777778,\"#fb9f3a\"],[0.8888888888888888,\"#fdca26\"],[1.0,\"#f0f921\"]]}],\"contourcarpet\":[{\"type\":\"contourcarpet\",\"colorbar\":{\"outlinewidth\":0,\"ticks\":\"\"}}],\"contour\":[{\"type\":\"contour\",\"colorbar\":{\"outlinewidth\":0,\"ticks\":\"\"},\"colorscale\":[[0.0,\"#0d0887\"],[0.1111111111111111,\"#46039f\"],[0.2222222222222222,\"#7201a8\"],[0.3333333333333333,\"#9c179e\"],[0.4444444444444444,\"#bd3786\"],[0.5555555555555556,\"#d8576b\"],[0.6666666666666666,\"#ed7953\"],[0.7777777777777778,\"#fb9f3a\"],[0.8888888888888888,\"#fdca26\"],[1.0,\"#f0f921\"]]}],\"surface\":[{\"type\":\"surface\",\"colorbar\":{\"outlinewidth\":0,\"ticks\":\"\"},\"colorscale\":[[0.0,\"#0d0887\"],[0.1111111111111111,\"#46039f\"],[0.2222222222222222,\"#7201a8\"],[0.3333333333333333,\"#9c179e\"],[0.4444444444444444,\"#bd3786\"],[0.5555555555555556,\"#d8576b\"],[0.6666666666666666,\"#ed7953\"],[0.7777777777777778,\"#fb9f3a\"],[0.8888888888888888,\"#fdca26\"],[1.0,\"#f0f921\"]]}],\"mesh3d\":[{\"type\":\"mesh3d\",\"colorbar\":{\"outlinewidth\":0,\"ticks\":\"\"}}],\"scatter\":[{\"fillpattern\":{\"fillmode\":\"overlay\",\"size\":10,\"solidity\":0.2},\"type\":\"scatter\"}],\"parcoords\":[{\"type\":\"parcoords\",\"line\":{\"colorbar\":{\"outlinewidth\":0,\"ticks\":\"\"}}}],\"scatterpolargl\":[{\"type\":\"scatterpolargl\",\"marker\":{\"colorbar\":{\"outlinewidth\":0,\"ticks\":\"\"}}}],\"bar\":[{\"error_x\":{\"color\":\"#2a3f5f\"},\"error_y\":{\"color\":\"#2a3f5f\"},\"marker\":{\"line\":{\"color\":\"#E5ECF6\",\"width\":0.5},\"pattern\":{\"fillmode\":\"overlay\",\"size\":10,\"solidity\":0.2}},\"type\":\"bar\"}],\"scattergeo\":[{\"type\":\"scattergeo\",\"marker\":{\"colorbar\":{\"outlinewidth\":0,\"ticks\":\"\"}}}],\"scatterpolar\":[{\"type\":\"scatterpolar\",\"marker\":{\"colorbar\":{\"outlinewidth\":0,\"ticks\":\"\"}}}],\"histogram\":[{\"marker\":{\"pattern\":{\"fillmode\":\"overlay\",\"size\":10,\"solidity\":0.2}},\"type\":\"histogram\"}],\"scattergl\":[{\"type\":\"scattergl\",\"marker\":{\"colorbar\":{\"outlinewidth\":0,\"ticks\":\"\"}}}],\"scatter3d\":[{\"type\":\"scatter3d\",\"line\":{\"colorbar\":{\"outlinewidth\":0,\"ticks\":\"\"}},\"marker\":{\"colorbar\":{\"outlinewidth\":0,\"ticks\":\"\"}}}],\"scattermapbox\":[{\"type\":\"scattermapbox\",\"marker\":{\"colorbar\":{\"outlinewidth\":0,\"ticks\":\"\"}}}],\"scatterternary\":[{\"type\":\"scatterternary\",\"marker\":{\"colorbar\":{\"outlinewidth\":0,\"ticks\":\"\"}}}],\"scattercarpet\":[{\"type\":\"scattercarpet\",\"marker\":{\"colorbar\":{\"outlinewidth\":0,\"ticks\":\"\"}}}],\"carpet\":[{\"aaxis\":{\"endlinecolor\":\"#2a3f5f\",\"gridcolor\":\"white\",\"linecolor\":\"white\",\"minorgridcolor\":\"white\",\"startlinecolor\":\"#2a3f5f\"},\"baxis\":{\"endlinecolor\":\"#2a3f5f\",\"gridcolor\":\"white\",\"linecolor\":\"white\",\"minorgridcolor\":\"white\",\"startlinecolor\":\"#2a3f5f\"},\"type\":\"carpet\"}],\"table\":[{\"cells\":{\"fill\":{\"color\":\"#EBF0F8\"},\"line\":{\"color\":\"white\"}},\"header\":{\"fill\":{\"color\":\"#C8D4E3\"},\"line\":{\"color\":\"white\"}},\"type\":\"table\"}],\"barpolar\":[{\"marker\":{\"line\":{\"color\":\"#E5ECF6\",\"width\":0.5},\"pattern\":{\"fillmode\":\"overlay\",\"size\":10,\"solidity\":0.2}},\"type\":\"barpolar\"}],\"pie\":[{\"automargin\":true,\"type\":\"pie\"}]},\"layout\":{\"autotypenumbers\":\"strict\",\"colorway\":[\"#636efa\",\"#EF553B\",\"#00cc96\",\"#ab63fa\",\"#FFA15A\",\"#19d3f3\",\"#FF6692\",\"#B6E880\",\"#FF97FF\",\"#FECB52\"],\"font\":{\"color\":\"#2a3f5f\"},\"hovermode\":\"closest\",\"hoverlabel\":{\"align\":\"left\"},\"paper_bgcolor\":\"white\",\"plot_bgcolor\":\"#E5ECF6\",\"polar\":{\"bgcolor\":\"#E5ECF6\",\"angularaxis\":{\"gridcolor\":\"white\",\"linecolor\":\"white\",\"ticks\":\"\"},\"radialaxis\":{\"gridcolor\":\"white\",\"linecolor\":\"white\",\"ticks\":\"\"}},\"ternary\":{\"bgcolor\":\"#E5ECF6\",\"aaxis\":{\"gridcolor\":\"white\",\"linecolor\":\"white\",\"ticks\":\"\"},\"baxis\":{\"gridcolor\":\"white\",\"linecolor\":\"white\",\"ticks\":\"\"},\"caxis\":{\"gridcolor\":\"white\",\"linecolor\":\"white\",\"ticks\":\"\"}},\"coloraxis\":{\"colorbar\":{\"outlinewidth\":0,\"ticks\":\"\"}},\"colorscale\":{\"sequential\":[[0.0,\"#0d0887\"],[0.1111111111111111,\"#46039f\"],[0.2222222222222222,\"#7201a8\"],[0.3333333333333333,\"#9c179e\"],[0.4444444444444444,\"#bd3786\"],[0.5555555555555556,\"#d8576b\"],[0.6666666666666666,\"#ed7953\"],[0.7777777777777778,\"#fb9f3a\"],[0.8888888888888888,\"#fdca26\"],[1.0,\"#f0f921\"]],\"sequentialminus\":[[0.0,\"#0d0887\"],[0.1111111111111111,\"#46039f\"],[0.2222222222222222,\"#7201a8\"],[0.3333333333333333,\"#9c179e\"],[0.4444444444444444,\"#bd3786\"],[0.5555555555555556,\"#d8576b\"],[0.6666666666666666,\"#ed7953\"],[0.7777777777777778,\"#fb9f3a\"],[0.8888888888888888,\"#fdca26\"],[1.0,\"#f0f921\"]],\"diverging\":[[0,\"#8e0152\"],[0.1,\"#c51b7d\"],[0.2,\"#de77ae\"],[0.3,\"#f1b6da\"],[0.4,\"#fde0ef\"],[0.5,\"#f7f7f7\"],[0.6,\"#e6f5d0\"],[0.7,\"#b8e186\"],[0.8,\"#7fbc41\"],[0.9,\"#4d9221\"],[1,\"#276419\"]]},\"xaxis\":{\"gridcolor\":\"white\",\"linecolor\":\"white\",\"ticks\":\"\",\"title\":{\"standoff\":15},\"zerolinecolor\":\"white\",\"automargin\":true,\"zerolinewidth\":2},\"yaxis\":{\"gridcolor\":\"white\",\"linecolor\":\"white\",\"ticks\":\"\",\"title\":{\"standoff\":15},\"zerolinecolor\":\"white\",\"automargin\":true,\"zerolinewidth\":2},\"scene\":{\"xaxis\":{\"backgroundcolor\":\"#E5ECF6\",\"gridcolor\":\"white\",\"linecolor\":\"white\",\"showbackground\":true,\"ticks\":\"\",\"zerolinecolor\":\"white\",\"gridwidth\":2},\"yaxis\":{\"backgroundcolor\":\"#E5ECF6\",\"gridcolor\":\"white\",\"linecolor\":\"white\",\"showbackground\":true,\"ticks\":\"\",\"zerolinecolor\":\"white\",\"gridwidth\":2},\"zaxis\":{\"backgroundcolor\":\"#E5ECF6\",\"gridcolor\":\"white\",\"linecolor\":\"white\",\"showbackground\":true,\"ticks\":\"\",\"zerolinecolor\":\"white\",\"gridwidth\":2}},\"shapedefaults\":{\"line\":{\"color\":\"#2a3f5f\"}},\"annotationdefaults\":{\"arrowcolor\":\"#2a3f5f\",\"arrowhead\":0,\"arrowwidth\":1},\"geo\":{\"bgcolor\":\"white\",\"landcolor\":\"#E5ECF6\",\"subunitcolor\":\"white\",\"showland\":true,\"showlakes\":true,\"lakecolor\":\"white\"},\"title\":{\"x\":0.05},\"mapbox\":{\"style\":\"light\"}}},\"xaxis\":{\"anchor\":\"y\",\"domain\":[0.0,1.0],\"title\":{\"text\":\"Food Names\"}},\"yaxis\":{\"anchor\":\"x\",\"domain\":[0.0,1.0],\"title\":{\"text\":\"Number of comsumers\"}},\"legend\":{\"tracegroupgap\":0},\"title\":{\"text\":\"Most popular food in Europe\"},\"barmode\":\"relative\"},                        {\"responsive\": true}                    ).then(function(){\n",
       "                            \n",
       "var gd = document.getElementById('334875a2-1d32-477a-af91-efbe69fdd4f8');\n",
       "var x = new MutationObserver(function (mutations, observer) {{\n",
       "        var display = window.getComputedStyle(gd).display;\n",
       "        if (!display || display === 'none') {{\n",
       "            console.log([gd, 'removed!']);\n",
       "            Plotly.purge(gd);\n",
       "            observer.disconnect();\n",
       "        }}\n",
       "}});\n",
       "\n",
       "// Listen for the removal of the full notebook cells\n",
       "var notebookContainer = gd.closest('#notebook-container');\n",
       "if (notebookContainer) {{\n",
       "    x.observe(notebookContainer, {childList: true});\n",
       "}}\n",
       "\n",
       "// Listen for the clearing of the current output cell\n",
       "var outputEl = gd.closest('.output');\n",
       "if (outputEl) {{\n",
       "    x.observe(outputEl, {childList: true});\n",
       "}}\n",
       "\n",
       "                        })                };                });            </script>        </div>"
      ]
     },
     "metadata": {},
     "output_type": "display_data"
    }
   ],
   "source": [
    "most_consumed_all_eu = most_consumed_all_eu.head(30)\n",
    "\n",
    "px.bar(most_consumed_all_eu, x=\"FoodName\", y=\"Number_of_consumers\", \n",
    "       title=\"Most popular food in Europe\", \n",
    "       labels={'Number_of_consumers':'Number of comsumers', 'FoodName': 'Food Names' },\n",
    "       color_discrete_sequence=[\"blue\"],\n",
    "       hover_data={'Number_of_consumers':':,'})"
   ]
  },
  {
   "cell_type": "markdown",
   "id": "2178580a-9321-482f-8da5-f6c5010c0da5",
   "metadata": {},
   "source": [
    "### Dla wygody porównywania dodamn te wykresy obok siebie."
   ]
  },
  {
   "cell_type": "markdown",
   "id": "b6ddb38e-be0c-43b9-bc79-6f0800e529bc",
   "metadata": {},
   "source": [
    "# 📊 Wykresy: Porównanie wykresów najpopularniejsze produkty na świecie i w Europie <a id=\"food_world_eu\"></a>[&uarr;](#top)"
   ]
  },
  {
   "cell_type": "code",
   "execution_count": 378,
   "id": "b3890473-4b9f-47a9-b60a-a0c03523b21f",
   "metadata": {
    "tags": []
   },
   "outputs": [
    {
     "data": {
      "text/html": [
       "<div>                            <div id=\"a41cc3b3-dd40-4c04-b4c4-50bab4ba8cfb\" class=\"plotly-graph-div\" style=\"height:525px; width:100%;\"></div>            <script type=\"text/javascript\">                require([\"plotly\"], function(Plotly) {                    window.PLOTLYENV=window.PLOTLYENV || {};                                    if (document.getElementById(\"a41cc3b3-dd40-4c04-b4c4-50bab4ba8cfb\")) {                    Plotly.newPlot(                        \"a41cc3b3-dd40-4c04-b4c4-50bab4ba8cfb\",                        [{\"hovertemplate\":\"Number of consumers=%{y:,}\",\"marker\":{\"color\":\"blue\"},\"name\":\"Europe\",\"x\":[\"Tap Water\",\"Wheat Bread And Rolls, White (Refined Flour)\",\"Onions\",\"Carrots\",\"Butter\",\"Chicken Fresh Meat\",\"Cow Milk, Semi Skimmed (Half Fat)\",\"Potatoes\",\"Apples\",\"Traditional Margarine\",\"Salt\",\"White Sugar\",\"Pig Fresh Meat\",\"Hen Eggs\",\"Tomatoes\"],\"y\":[74909,64480,59250,57759,48082,44382,44325,39050,38741,35586,35117,34758,33902,33428,33061],\"type\":\"bar\",\"xaxis\":\"x\",\"yaxis\":\"y\"},{\"hovertemplate\":\"Number of consumers=%{y:,}\",\"marker\":{\"color\":\"green\"},\"name\":\"World\",\"x\":[\"(All Cereals)\",\"Wheat Bread And Rolls, White (Refined Flour)\",\"Onions\",\"Rice Grain, Polished\",\"Pig Fresh Meat\",\"Tap Water\",\"Potatoes\",\"Carrots\",\"Garlic\",\"Rice Grain\",\"Chicken Fresh Meat\",\"Hen Eggs\",\"(All Vegetables)\",\"Wheat Flour\",\"Tomatoes\"],\"y\":[142214,135436,112344,105857,104118,92605,89154,87843,84415,82719,81138,77156,70128,69789,69658],\"type\":\"bar\",\"xaxis\":\"x2\",\"yaxis\":\"y2\"}],                        {\"template\":{\"data\":{\"histogram2dcontour\":[{\"type\":\"histogram2dcontour\",\"colorbar\":{\"outlinewidth\":0,\"ticks\":\"\"},\"colorscale\":[[0.0,\"#0d0887\"],[0.1111111111111111,\"#46039f\"],[0.2222222222222222,\"#7201a8\"],[0.3333333333333333,\"#9c179e\"],[0.4444444444444444,\"#bd3786\"],[0.5555555555555556,\"#d8576b\"],[0.6666666666666666,\"#ed7953\"],[0.7777777777777778,\"#fb9f3a\"],[0.8888888888888888,\"#fdca26\"],[1.0,\"#f0f921\"]]}],\"choropleth\":[{\"type\":\"choropleth\",\"colorbar\":{\"outlinewidth\":0,\"ticks\":\"\"}}],\"histogram2d\":[{\"type\":\"histogram2d\",\"colorbar\":{\"outlinewidth\":0,\"ticks\":\"\"},\"colorscale\":[[0.0,\"#0d0887\"],[0.1111111111111111,\"#46039f\"],[0.2222222222222222,\"#7201a8\"],[0.3333333333333333,\"#9c179e\"],[0.4444444444444444,\"#bd3786\"],[0.5555555555555556,\"#d8576b\"],[0.6666666666666666,\"#ed7953\"],[0.7777777777777778,\"#fb9f3a\"],[0.8888888888888888,\"#fdca26\"],[1.0,\"#f0f921\"]]}],\"heatmap\":[{\"type\":\"heatmap\",\"colorbar\":{\"outlinewidth\":0,\"ticks\":\"\"},\"colorscale\":[[0.0,\"#0d0887\"],[0.1111111111111111,\"#46039f\"],[0.2222222222222222,\"#7201a8\"],[0.3333333333333333,\"#9c179e\"],[0.4444444444444444,\"#bd3786\"],[0.5555555555555556,\"#d8576b\"],[0.6666666666666666,\"#ed7953\"],[0.7777777777777778,\"#fb9f3a\"],[0.8888888888888888,\"#fdca26\"],[1.0,\"#f0f921\"]]}],\"heatmapgl\":[{\"type\":\"heatmapgl\",\"colorbar\":{\"outlinewidth\":0,\"ticks\":\"\"},\"colorscale\":[[0.0,\"#0d0887\"],[0.1111111111111111,\"#46039f\"],[0.2222222222222222,\"#7201a8\"],[0.3333333333333333,\"#9c179e\"],[0.4444444444444444,\"#bd3786\"],[0.5555555555555556,\"#d8576b\"],[0.6666666666666666,\"#ed7953\"],[0.7777777777777778,\"#fb9f3a\"],[0.8888888888888888,\"#fdca26\"],[1.0,\"#f0f921\"]]}],\"contourcarpet\":[{\"type\":\"contourcarpet\",\"colorbar\":{\"outlinewidth\":0,\"ticks\":\"\"}}],\"contour\":[{\"type\":\"contour\",\"colorbar\":{\"outlinewidth\":0,\"ticks\":\"\"},\"colorscale\":[[0.0,\"#0d0887\"],[0.1111111111111111,\"#46039f\"],[0.2222222222222222,\"#7201a8\"],[0.3333333333333333,\"#9c179e\"],[0.4444444444444444,\"#bd3786\"],[0.5555555555555556,\"#d8576b\"],[0.6666666666666666,\"#ed7953\"],[0.7777777777777778,\"#fb9f3a\"],[0.8888888888888888,\"#fdca26\"],[1.0,\"#f0f921\"]]}],\"surface\":[{\"type\":\"surface\",\"colorbar\":{\"outlinewidth\":0,\"ticks\":\"\"},\"colorscale\":[[0.0,\"#0d0887\"],[0.1111111111111111,\"#46039f\"],[0.2222222222222222,\"#7201a8\"],[0.3333333333333333,\"#9c179e\"],[0.4444444444444444,\"#bd3786\"],[0.5555555555555556,\"#d8576b\"],[0.6666666666666666,\"#ed7953\"],[0.7777777777777778,\"#fb9f3a\"],[0.8888888888888888,\"#fdca26\"],[1.0,\"#f0f921\"]]}],\"mesh3d\":[{\"type\":\"mesh3d\",\"colorbar\":{\"outlinewidth\":0,\"ticks\":\"\"}}],\"scatter\":[{\"fillpattern\":{\"fillmode\":\"overlay\",\"size\":10,\"solidity\":0.2},\"type\":\"scatter\"}],\"parcoords\":[{\"type\":\"parcoords\",\"line\":{\"colorbar\":{\"outlinewidth\":0,\"ticks\":\"\"}}}],\"scatterpolargl\":[{\"type\":\"scatterpolargl\",\"marker\":{\"colorbar\":{\"outlinewidth\":0,\"ticks\":\"\"}}}],\"bar\":[{\"error_x\":{\"color\":\"#2a3f5f\"},\"error_y\":{\"color\":\"#2a3f5f\"},\"marker\":{\"line\":{\"color\":\"#E5ECF6\",\"width\":0.5},\"pattern\":{\"fillmode\":\"overlay\",\"size\":10,\"solidity\":0.2}},\"type\":\"bar\"}],\"scattergeo\":[{\"type\":\"scattergeo\",\"marker\":{\"colorbar\":{\"outlinewidth\":0,\"ticks\":\"\"}}}],\"scatterpolar\":[{\"type\":\"scatterpolar\",\"marker\":{\"colorbar\":{\"outlinewidth\":0,\"ticks\":\"\"}}}],\"histogram\":[{\"marker\":{\"pattern\":{\"fillmode\":\"overlay\",\"size\":10,\"solidity\":0.2}},\"type\":\"histogram\"}],\"scattergl\":[{\"type\":\"scattergl\",\"marker\":{\"colorbar\":{\"outlinewidth\":0,\"ticks\":\"\"}}}],\"scatter3d\":[{\"type\":\"scatter3d\",\"line\":{\"colorbar\":{\"outlinewidth\":0,\"ticks\":\"\"}},\"marker\":{\"colorbar\":{\"outlinewidth\":0,\"ticks\":\"\"}}}],\"scattermapbox\":[{\"type\":\"scattermapbox\",\"marker\":{\"colorbar\":{\"outlinewidth\":0,\"ticks\":\"\"}}}],\"scatterternary\":[{\"type\":\"scatterternary\",\"marker\":{\"colorbar\":{\"outlinewidth\":0,\"ticks\":\"\"}}}],\"scattercarpet\":[{\"type\":\"scattercarpet\",\"marker\":{\"colorbar\":{\"outlinewidth\":0,\"ticks\":\"\"}}}],\"carpet\":[{\"aaxis\":{\"endlinecolor\":\"#2a3f5f\",\"gridcolor\":\"white\",\"linecolor\":\"white\",\"minorgridcolor\":\"white\",\"startlinecolor\":\"#2a3f5f\"},\"baxis\":{\"endlinecolor\":\"#2a3f5f\",\"gridcolor\":\"white\",\"linecolor\":\"white\",\"minorgridcolor\":\"white\",\"startlinecolor\":\"#2a3f5f\"},\"type\":\"carpet\"}],\"table\":[{\"cells\":{\"fill\":{\"color\":\"#EBF0F8\"},\"line\":{\"color\":\"white\"}},\"header\":{\"fill\":{\"color\":\"#C8D4E3\"},\"line\":{\"color\":\"white\"}},\"type\":\"table\"}],\"barpolar\":[{\"marker\":{\"line\":{\"color\":\"#E5ECF6\",\"width\":0.5},\"pattern\":{\"fillmode\":\"overlay\",\"size\":10,\"solidity\":0.2}},\"type\":\"barpolar\"}],\"pie\":[{\"automargin\":true,\"type\":\"pie\"}]},\"layout\":{\"autotypenumbers\":\"strict\",\"colorway\":[\"#636efa\",\"#EF553B\",\"#00cc96\",\"#ab63fa\",\"#FFA15A\",\"#19d3f3\",\"#FF6692\",\"#B6E880\",\"#FF97FF\",\"#FECB52\"],\"font\":{\"color\":\"#2a3f5f\"},\"hovermode\":\"closest\",\"hoverlabel\":{\"align\":\"left\"},\"paper_bgcolor\":\"white\",\"plot_bgcolor\":\"#E5ECF6\",\"polar\":{\"bgcolor\":\"#E5ECF6\",\"angularaxis\":{\"gridcolor\":\"white\",\"linecolor\":\"white\",\"ticks\":\"\"},\"radialaxis\":{\"gridcolor\":\"white\",\"linecolor\":\"white\",\"ticks\":\"\"}},\"ternary\":{\"bgcolor\":\"#E5ECF6\",\"aaxis\":{\"gridcolor\":\"white\",\"linecolor\":\"white\",\"ticks\":\"\"},\"baxis\":{\"gridcolor\":\"white\",\"linecolor\":\"white\",\"ticks\":\"\"},\"caxis\":{\"gridcolor\":\"white\",\"linecolor\":\"white\",\"ticks\":\"\"}},\"coloraxis\":{\"colorbar\":{\"outlinewidth\":0,\"ticks\":\"\"}},\"colorscale\":{\"sequential\":[[0.0,\"#0d0887\"],[0.1111111111111111,\"#46039f\"],[0.2222222222222222,\"#7201a8\"],[0.3333333333333333,\"#9c179e\"],[0.4444444444444444,\"#bd3786\"],[0.5555555555555556,\"#d8576b\"],[0.6666666666666666,\"#ed7953\"],[0.7777777777777778,\"#fb9f3a\"],[0.8888888888888888,\"#fdca26\"],[1.0,\"#f0f921\"]],\"sequentialminus\":[[0.0,\"#0d0887\"],[0.1111111111111111,\"#46039f\"],[0.2222222222222222,\"#7201a8\"],[0.3333333333333333,\"#9c179e\"],[0.4444444444444444,\"#bd3786\"],[0.5555555555555556,\"#d8576b\"],[0.6666666666666666,\"#ed7953\"],[0.7777777777777778,\"#fb9f3a\"],[0.8888888888888888,\"#fdca26\"],[1.0,\"#f0f921\"]],\"diverging\":[[0,\"#8e0152\"],[0.1,\"#c51b7d\"],[0.2,\"#de77ae\"],[0.3,\"#f1b6da\"],[0.4,\"#fde0ef\"],[0.5,\"#f7f7f7\"],[0.6,\"#e6f5d0\"],[0.7,\"#b8e186\"],[0.8,\"#7fbc41\"],[0.9,\"#4d9221\"],[1,\"#276419\"]]},\"xaxis\":{\"gridcolor\":\"white\",\"linecolor\":\"white\",\"ticks\":\"\",\"title\":{\"standoff\":15},\"zerolinecolor\":\"white\",\"automargin\":true,\"zerolinewidth\":2},\"yaxis\":{\"gridcolor\":\"white\",\"linecolor\":\"white\",\"ticks\":\"\",\"title\":{\"standoff\":15},\"zerolinecolor\":\"white\",\"automargin\":true,\"zerolinewidth\":2},\"scene\":{\"xaxis\":{\"backgroundcolor\":\"#E5ECF6\",\"gridcolor\":\"white\",\"linecolor\":\"white\",\"showbackground\":true,\"ticks\":\"\",\"zerolinecolor\":\"white\",\"gridwidth\":2},\"yaxis\":{\"backgroundcolor\":\"#E5ECF6\",\"gridcolor\":\"white\",\"linecolor\":\"white\",\"showbackground\":true,\"ticks\":\"\",\"zerolinecolor\":\"white\",\"gridwidth\":2},\"zaxis\":{\"backgroundcolor\":\"#E5ECF6\",\"gridcolor\":\"white\",\"linecolor\":\"white\",\"showbackground\":true,\"ticks\":\"\",\"zerolinecolor\":\"white\",\"gridwidth\":2}},\"shapedefaults\":{\"line\":{\"color\":\"#2a3f5f\"}},\"annotationdefaults\":{\"arrowcolor\":\"#2a3f5f\",\"arrowhead\":0,\"arrowwidth\":1},\"geo\":{\"bgcolor\":\"white\",\"landcolor\":\"#E5ECF6\",\"subunitcolor\":\"white\",\"showland\":true,\"showlakes\":true,\"lakecolor\":\"white\"},\"title\":{\"x\":0.05},\"mapbox\":{\"style\":\"light\"}}},\"xaxis\":{\"anchor\":\"y\",\"domain\":[0.0,0.45],\"tickangle\":40},\"yaxis\":{\"anchor\":\"x\",\"domain\":[0.0,1.0]},\"xaxis2\":{\"anchor\":\"y2\",\"domain\":[0.55,1.0],\"tickangle\":40},\"yaxis2\":{\"anchor\":\"x2\",\"domain\":[0.0,1.0]},\"title\":{\"text\":\"Most popular foods for Europe and World\"}},                        {\"responsive\": true}                    ).then(function(){\n",
       "                            \n",
       "var gd = document.getElementById('a41cc3b3-dd40-4c04-b4c4-50bab4ba8cfb');\n",
       "var x = new MutationObserver(function (mutations, observer) {{\n",
       "        var display = window.getComputedStyle(gd).display;\n",
       "        if (!display || display === 'none') {{\n",
       "            console.log([gd, 'removed!']);\n",
       "            Plotly.purge(gd);\n",
       "            observer.disconnect();\n",
       "        }}\n",
       "}});\n",
       "\n",
       "// Listen for the removal of the full notebook cells\n",
       "var notebookContainer = gd.closest('#notebook-container');\n",
       "if (notebookContainer) {{\n",
       "    x.observe(notebookContainer, {childList: true});\n",
       "}}\n",
       "\n",
       "// Listen for the clearing of the current output cell\n",
       "var outputEl = gd.closest('.output');\n",
       "if (outputEl) {{\n",
       "    x.observe(outputEl, {childList: true});\n",
       "}}\n",
       "\n",
       "                        })                };                });            </script>        </div>"
      ]
     },
     "metadata": {},
     "output_type": "display_data"
    }
   ],
   "source": [
    "most_consumed_all_eu = most_consumed_all_eu.head(15)\n",
    "show_most_consumed_all = show_most_consumed_all.head(15)\n",
    "first_line = go.Bar(x=most_consumed_all_eu[\"FoodName\"], y=most_consumed_all_eu[\"Number_of_consumers\"], name=\"Europe\", marker=dict(color='blue'), hovertemplate = 'Number of consumers=%{y:,}')\n",
    "second_line = go.Bar(x=show_most_consumed_all[\"FoodName\"], y=show_most_consumed_all[\"Number_of_consumers\"], name=\"World\", marker=dict(color='green'), hovertemplate = 'Number of consumers=%{y:,}')\n",
    "fig = make_subplots(rows=1, cols=2)\n",
    "fig.add_trace(first_line,row=1, col=1)\n",
    "fig.add_trace(second_line,row=1, col=2)\n",
    "fig.update_layout(title_text=\"Most popular foods for Europe and World\")\n",
    "fig.update_xaxes(tickangle=40)\n",
    "fig.show()"
   ]
  },
  {
   "cell_type": "markdown",
   "id": "393c8768-66ca-40f4-b507-1c27879a57ee",
   "metadata": {},
   "source": [
    "### <a id=\"food_world_eu_wnio\"></a>[&uarr;](#top) Porównując dwa wykresy widać, że Europa zamiast płatków śniadaniowych na pierszym miejscu ma wodę z kranu. Może to być połączone z wyższym bezpieczeństwem wody z kranu w Europie [[3]](#źr). Następnie należy sie zastanowić nad wysokim miejscem pieczywa białego, cebuli, marchewki, masła, kurczaka, pomidorów, czosnku, oliwy z oliwek i mleka. Powodem może być duży wpływ Francji i Włoch na kuchnię Europy.\n",
    "### Mleko które też jak widać częściej jest spożywane w Europie niż w reszcie świata, co może wynikać z mniejszej nietoleracji laktozy w Europie [[5]](#źr). Wysokie miejsce margaryny, soli i cukru może tłumaczyć częste zachorowania na wysokie ciśnienie tętnicze[[4]](#źr)."
   ]
  },
  {
   "cell_type": "markdown",
   "id": "77650cab-ec8e-41f6-a96f-df64b044ee07",
   "metadata": {},
   "source": [
    "# 📊 Wykresy: Najpopularniejsze produkty u mężczyzn i kobiet. <a id=\"food_world_gen\"></a>[&uarr;](#top)"
   ]
  },
  {
   "cell_type": "code",
   "execution_count": 379,
   "id": "58cb8ce6-3edb-4bcb-9e27-86f6069be670",
   "metadata": {
    "tags": []
   },
   "outputs": [
    {
     "data": {
      "text/html": [
       "<div>                            <div id=\"6c726862-b9e3-4964-bc11-4fd390257bd3\" class=\"plotly-graph-div\" style=\"height:525px; width:100%;\"></div>            <script type=\"text/javascript\">                require([\"plotly\"], function(Plotly) {                    window.PLOTLYENV=window.PLOTLYENV || {};                                    if (document.getElementById(\"6c726862-b9e3-4964-bc11-4fd390257bd3\")) {                    Plotly.newPlot(                        \"6c726862-b9e3-4964-bc11-4fd390257bd3\",                        [{\"hovertemplate\":\"Number of consumers=%{y:,}\",\"name\":\"Male\",\"x\":[\"Wheat Bread And Rolls, White (Refined Flour)\",\"(All Cereals)\",\"Onions\",\"Pig Fresh Meat\",\"Rice Grain, Polished\",\"Tap Water\",\"Potatoes\",\"Carrots\",\"Garlic\",\"Rice Grain\",\"Chicken Fresh Meat\",\"Hen Eggs\",\"Wheat Flour\",\"Tomatoes\",\"Salt\"],\"y\":[65522,62545,52311,51695,48017,43970,42384,40918,39312,39308,38746,36617,33290,31826,30265],\"type\":\"bar\",\"xaxis\":\"x\",\"yaxis\":\"y\"},{\"hovertemplate\":\"Number of consumers=%{y:,}\",\"name\":\"Female\",\"x\":[\"(All Cereals)\",\"Wheat Bread And Rolls, White (Refined Flour)\",\"Onions\",\"Rice Grain, Polished\",\"Pig Fresh Meat\",\"Tap Water\",\"Carrots\",\"Potatoes\",\"Garlic\",\"Rice Grain\",\"Chicken Fresh Meat\",\"Hen Eggs\",\"(All Vegetables)\",\"Tomatoes\",\"Salt\"],\"y\":[79669,69914,60033,57840,52423,48635,46925,46770,45103,43411,42392,40539,39956,37832,37595],\"type\":\"bar\",\"xaxis\":\"x2\",\"yaxis\":\"y2\"}],                        {\"template\":{\"data\":{\"histogram2dcontour\":[{\"type\":\"histogram2dcontour\",\"colorbar\":{\"outlinewidth\":0,\"ticks\":\"\"},\"colorscale\":[[0.0,\"#0d0887\"],[0.1111111111111111,\"#46039f\"],[0.2222222222222222,\"#7201a8\"],[0.3333333333333333,\"#9c179e\"],[0.4444444444444444,\"#bd3786\"],[0.5555555555555556,\"#d8576b\"],[0.6666666666666666,\"#ed7953\"],[0.7777777777777778,\"#fb9f3a\"],[0.8888888888888888,\"#fdca26\"],[1.0,\"#f0f921\"]]}],\"choropleth\":[{\"type\":\"choropleth\",\"colorbar\":{\"outlinewidth\":0,\"ticks\":\"\"}}],\"histogram2d\":[{\"type\":\"histogram2d\",\"colorbar\":{\"outlinewidth\":0,\"ticks\":\"\"},\"colorscale\":[[0.0,\"#0d0887\"],[0.1111111111111111,\"#46039f\"],[0.2222222222222222,\"#7201a8\"],[0.3333333333333333,\"#9c179e\"],[0.4444444444444444,\"#bd3786\"],[0.5555555555555556,\"#d8576b\"],[0.6666666666666666,\"#ed7953\"],[0.7777777777777778,\"#fb9f3a\"],[0.8888888888888888,\"#fdca26\"],[1.0,\"#f0f921\"]]}],\"heatmap\":[{\"type\":\"heatmap\",\"colorbar\":{\"outlinewidth\":0,\"ticks\":\"\"},\"colorscale\":[[0.0,\"#0d0887\"],[0.1111111111111111,\"#46039f\"],[0.2222222222222222,\"#7201a8\"],[0.3333333333333333,\"#9c179e\"],[0.4444444444444444,\"#bd3786\"],[0.5555555555555556,\"#d8576b\"],[0.6666666666666666,\"#ed7953\"],[0.7777777777777778,\"#fb9f3a\"],[0.8888888888888888,\"#fdca26\"],[1.0,\"#f0f921\"]]}],\"heatmapgl\":[{\"type\":\"heatmapgl\",\"colorbar\":{\"outlinewidth\":0,\"ticks\":\"\"},\"colorscale\":[[0.0,\"#0d0887\"],[0.1111111111111111,\"#46039f\"],[0.2222222222222222,\"#7201a8\"],[0.3333333333333333,\"#9c179e\"],[0.4444444444444444,\"#bd3786\"],[0.5555555555555556,\"#d8576b\"],[0.6666666666666666,\"#ed7953\"],[0.7777777777777778,\"#fb9f3a\"],[0.8888888888888888,\"#fdca26\"],[1.0,\"#f0f921\"]]}],\"contourcarpet\":[{\"type\":\"contourcarpet\",\"colorbar\":{\"outlinewidth\":0,\"ticks\":\"\"}}],\"contour\":[{\"type\":\"contour\",\"colorbar\":{\"outlinewidth\":0,\"ticks\":\"\"},\"colorscale\":[[0.0,\"#0d0887\"],[0.1111111111111111,\"#46039f\"],[0.2222222222222222,\"#7201a8\"],[0.3333333333333333,\"#9c179e\"],[0.4444444444444444,\"#bd3786\"],[0.5555555555555556,\"#d8576b\"],[0.6666666666666666,\"#ed7953\"],[0.7777777777777778,\"#fb9f3a\"],[0.8888888888888888,\"#fdca26\"],[1.0,\"#f0f921\"]]}],\"surface\":[{\"type\":\"surface\",\"colorbar\":{\"outlinewidth\":0,\"ticks\":\"\"},\"colorscale\":[[0.0,\"#0d0887\"],[0.1111111111111111,\"#46039f\"],[0.2222222222222222,\"#7201a8\"],[0.3333333333333333,\"#9c179e\"],[0.4444444444444444,\"#bd3786\"],[0.5555555555555556,\"#d8576b\"],[0.6666666666666666,\"#ed7953\"],[0.7777777777777778,\"#fb9f3a\"],[0.8888888888888888,\"#fdca26\"],[1.0,\"#f0f921\"]]}],\"mesh3d\":[{\"type\":\"mesh3d\",\"colorbar\":{\"outlinewidth\":0,\"ticks\":\"\"}}],\"scatter\":[{\"fillpattern\":{\"fillmode\":\"overlay\",\"size\":10,\"solidity\":0.2},\"type\":\"scatter\"}],\"parcoords\":[{\"type\":\"parcoords\",\"line\":{\"colorbar\":{\"outlinewidth\":0,\"ticks\":\"\"}}}],\"scatterpolargl\":[{\"type\":\"scatterpolargl\",\"marker\":{\"colorbar\":{\"outlinewidth\":0,\"ticks\":\"\"}}}],\"bar\":[{\"error_x\":{\"color\":\"#2a3f5f\"},\"error_y\":{\"color\":\"#2a3f5f\"},\"marker\":{\"line\":{\"color\":\"#E5ECF6\",\"width\":0.5},\"pattern\":{\"fillmode\":\"overlay\",\"size\":10,\"solidity\":0.2}},\"type\":\"bar\"}],\"scattergeo\":[{\"type\":\"scattergeo\",\"marker\":{\"colorbar\":{\"outlinewidth\":0,\"ticks\":\"\"}}}],\"scatterpolar\":[{\"type\":\"scatterpolar\",\"marker\":{\"colorbar\":{\"outlinewidth\":0,\"ticks\":\"\"}}}],\"histogram\":[{\"marker\":{\"pattern\":{\"fillmode\":\"overlay\",\"size\":10,\"solidity\":0.2}},\"type\":\"histogram\"}],\"scattergl\":[{\"type\":\"scattergl\",\"marker\":{\"colorbar\":{\"outlinewidth\":0,\"ticks\":\"\"}}}],\"scatter3d\":[{\"type\":\"scatter3d\",\"line\":{\"colorbar\":{\"outlinewidth\":0,\"ticks\":\"\"}},\"marker\":{\"colorbar\":{\"outlinewidth\":0,\"ticks\":\"\"}}}],\"scattermapbox\":[{\"type\":\"scattermapbox\",\"marker\":{\"colorbar\":{\"outlinewidth\":0,\"ticks\":\"\"}}}],\"scatterternary\":[{\"type\":\"scatterternary\",\"marker\":{\"colorbar\":{\"outlinewidth\":0,\"ticks\":\"\"}}}],\"scattercarpet\":[{\"type\":\"scattercarpet\",\"marker\":{\"colorbar\":{\"outlinewidth\":0,\"ticks\":\"\"}}}],\"carpet\":[{\"aaxis\":{\"endlinecolor\":\"#2a3f5f\",\"gridcolor\":\"white\",\"linecolor\":\"white\",\"minorgridcolor\":\"white\",\"startlinecolor\":\"#2a3f5f\"},\"baxis\":{\"endlinecolor\":\"#2a3f5f\",\"gridcolor\":\"white\",\"linecolor\":\"white\",\"minorgridcolor\":\"white\",\"startlinecolor\":\"#2a3f5f\"},\"type\":\"carpet\"}],\"table\":[{\"cells\":{\"fill\":{\"color\":\"#EBF0F8\"},\"line\":{\"color\":\"white\"}},\"header\":{\"fill\":{\"color\":\"#C8D4E3\"},\"line\":{\"color\":\"white\"}},\"type\":\"table\"}],\"barpolar\":[{\"marker\":{\"line\":{\"color\":\"#E5ECF6\",\"width\":0.5},\"pattern\":{\"fillmode\":\"overlay\",\"size\":10,\"solidity\":0.2}},\"type\":\"barpolar\"}],\"pie\":[{\"automargin\":true,\"type\":\"pie\"}]},\"layout\":{\"autotypenumbers\":\"strict\",\"colorway\":[\"#636efa\",\"#EF553B\",\"#00cc96\",\"#ab63fa\",\"#FFA15A\",\"#19d3f3\",\"#FF6692\",\"#B6E880\",\"#FF97FF\",\"#FECB52\"],\"font\":{\"color\":\"#2a3f5f\"},\"hovermode\":\"closest\",\"hoverlabel\":{\"align\":\"left\"},\"paper_bgcolor\":\"white\",\"plot_bgcolor\":\"#E5ECF6\",\"polar\":{\"bgcolor\":\"#E5ECF6\",\"angularaxis\":{\"gridcolor\":\"white\",\"linecolor\":\"white\",\"ticks\":\"\"},\"radialaxis\":{\"gridcolor\":\"white\",\"linecolor\":\"white\",\"ticks\":\"\"}},\"ternary\":{\"bgcolor\":\"#E5ECF6\",\"aaxis\":{\"gridcolor\":\"white\",\"linecolor\":\"white\",\"ticks\":\"\"},\"baxis\":{\"gridcolor\":\"white\",\"linecolor\":\"white\",\"ticks\":\"\"},\"caxis\":{\"gridcolor\":\"white\",\"linecolor\":\"white\",\"ticks\":\"\"}},\"coloraxis\":{\"colorbar\":{\"outlinewidth\":0,\"ticks\":\"\"}},\"colorscale\":{\"sequential\":[[0.0,\"#0d0887\"],[0.1111111111111111,\"#46039f\"],[0.2222222222222222,\"#7201a8\"],[0.3333333333333333,\"#9c179e\"],[0.4444444444444444,\"#bd3786\"],[0.5555555555555556,\"#d8576b\"],[0.6666666666666666,\"#ed7953\"],[0.7777777777777778,\"#fb9f3a\"],[0.8888888888888888,\"#fdca26\"],[1.0,\"#f0f921\"]],\"sequentialminus\":[[0.0,\"#0d0887\"],[0.1111111111111111,\"#46039f\"],[0.2222222222222222,\"#7201a8\"],[0.3333333333333333,\"#9c179e\"],[0.4444444444444444,\"#bd3786\"],[0.5555555555555556,\"#d8576b\"],[0.6666666666666666,\"#ed7953\"],[0.7777777777777778,\"#fb9f3a\"],[0.8888888888888888,\"#fdca26\"],[1.0,\"#f0f921\"]],\"diverging\":[[0,\"#8e0152\"],[0.1,\"#c51b7d\"],[0.2,\"#de77ae\"],[0.3,\"#f1b6da\"],[0.4,\"#fde0ef\"],[0.5,\"#f7f7f7\"],[0.6,\"#e6f5d0\"],[0.7,\"#b8e186\"],[0.8,\"#7fbc41\"],[0.9,\"#4d9221\"],[1,\"#276419\"]]},\"xaxis\":{\"gridcolor\":\"white\",\"linecolor\":\"white\",\"ticks\":\"\",\"title\":{\"standoff\":15},\"zerolinecolor\":\"white\",\"automargin\":true,\"zerolinewidth\":2},\"yaxis\":{\"gridcolor\":\"white\",\"linecolor\":\"white\",\"ticks\":\"\",\"title\":{\"standoff\":15},\"zerolinecolor\":\"white\",\"automargin\":true,\"zerolinewidth\":2},\"scene\":{\"xaxis\":{\"backgroundcolor\":\"#E5ECF6\",\"gridcolor\":\"white\",\"linecolor\":\"white\",\"showbackground\":true,\"ticks\":\"\",\"zerolinecolor\":\"white\",\"gridwidth\":2},\"yaxis\":{\"backgroundcolor\":\"#E5ECF6\",\"gridcolor\":\"white\",\"linecolor\":\"white\",\"showbackground\":true,\"ticks\":\"\",\"zerolinecolor\":\"white\",\"gridwidth\":2},\"zaxis\":{\"backgroundcolor\":\"#E5ECF6\",\"gridcolor\":\"white\",\"linecolor\":\"white\",\"showbackground\":true,\"ticks\":\"\",\"zerolinecolor\":\"white\",\"gridwidth\":2}},\"shapedefaults\":{\"line\":{\"color\":\"#2a3f5f\"}},\"annotationdefaults\":{\"arrowcolor\":\"#2a3f5f\",\"arrowhead\":0,\"arrowwidth\":1},\"geo\":{\"bgcolor\":\"white\",\"landcolor\":\"#E5ECF6\",\"subunitcolor\":\"white\",\"showland\":true,\"showlakes\":true,\"lakecolor\":\"white\"},\"title\":{\"x\":0.05},\"mapbox\":{\"style\":\"light\"}}},\"xaxis\":{\"anchor\":\"y\",\"domain\":[0.0,0.45],\"tickangle\":40},\"yaxis\":{\"anchor\":\"x\",\"domain\":[0.0,1.0]},\"xaxis2\":{\"anchor\":\"y2\",\"domain\":[0.55,1.0],\"tickangle\":40},\"yaxis2\":{\"anchor\":\"x2\",\"domain\":[0.0,1.0]},\"title\":{\"text\":\"Most popular foods for men and women\"}},                        {\"responsive\": true}                    ).then(function(){\n",
       "                            \n",
       "var gd = document.getElementById('6c726862-b9e3-4964-bc11-4fd390257bd3');\n",
       "var x = new MutationObserver(function (mutations, observer) {{\n",
       "        var display = window.getComputedStyle(gd).display;\n",
       "        if (!display || display === 'none') {{\n",
       "            console.log([gd, 'removed!']);\n",
       "            Plotly.purge(gd);\n",
       "            observer.disconnect();\n",
       "        }}\n",
       "}});\n",
       "\n",
       "// Listen for the removal of the full notebook cells\n",
       "var notebookContainer = gd.closest('#notebook-container');\n",
       "if (notebookContainer) {{\n",
       "    x.observe(notebookContainer, {childList: true});\n",
       "}}\n",
       "\n",
       "// Listen for the clearing of the current output cell\n",
       "var outputEl = gd.closest('.output');\n",
       "if (outputEl) {{\n",
       "    x.observe(outputEl, {childList: true});\n",
       "}}\n",
       "\n",
       "                        })                };                });            </script>        </div>"
      ]
     },
     "metadata": {},
     "output_type": "display_data"
    }
   ],
   "source": [
    "show_most_consumed_men = most_consumed_men.head(15)\n",
    "show_most_consumed_fem = most_consumed_fem.head(15)\n",
    "first_line = go.Bar(x=show_most_consumed_men[\"FoodName\"], y=show_most_consumed_men[\"Number_of_consumers\"], name=\"Male\", hovertemplate = 'Number of consumers=%{y:,}')\n",
    "second_line = go.Bar(x=show_most_consumed_fem[\"FoodName\"], y=show_most_consumed_fem[\"Number_of_consumers\"], name=\"Female\", hovertemplate = 'Number of consumers=%{y:,}')\n",
    "fig = make_subplots(rows=1, cols=2)\n",
    "fig.add_trace(first_line,row=1, col=1)\n",
    "fig.add_trace(second_line,row=1, col=2)\n",
    "fig.update_layout(title_text=\"Most popular foods for men and women\")\n",
    "fig.update_xaxes(tickangle=40)\n",
    "fig.show()"
   ]
  },
  {
   "cell_type": "markdown",
   "id": "eb4cd72d-e46c-4adb-8230-1a72fc2ee6b8",
   "metadata": {},
   "source": [
    "### <a id=\"food_world_gen_wnio\"></a>[&uarr;](#top) Nie ma dużej różnicy między płciami jedynie kobiety mają na wyższym miejscu płatki śniadaniowe oraz warzywa i ryż, a natomiast mężczyźni mają na wyższym miejscu białą mąkę, białe pieczywo i mięso wieprzowe."
   ]
  },
  {
   "cell_type": "markdown",
   "id": "550303e9-f901-46b3-91dd-031310623649",
   "metadata": {},
   "source": [
    "# Wykresy: najpopularniejsze produkty dla mężczyzn i kobiet w Europie. <a id=\"food_eu_gen\"></a>[&uarr;](#top)"
   ]
  },
  {
   "cell_type": "code",
   "execution_count": 380,
   "id": "1e2076c4-95ed-4b39-b235-a758eeae73bc",
   "metadata": {
    "tags": []
   },
   "outputs": [
    {
     "data": {
      "text/html": [
       "<div>                            <div id=\"13352f29-d178-4344-83cb-5d8dc25d26ca\" class=\"plotly-graph-div\" style=\"height:525px; width:100%;\"></div>            <script type=\"text/javascript\">                require([\"plotly\"], function(Plotly) {                    window.PLOTLYENV=window.PLOTLYENV || {};                                    if (document.getElementById(\"13352f29-d178-4344-83cb-5d8dc25d26ca\")) {                    Plotly.newPlot(                        \"13352f29-d178-4344-83cb-5d8dc25d26ca\",                        [{\"hovertemplate\":\"Number of consumers=%{y:,}\",\"name\":\"Male\",\"x\":[\"Tap Water\",\"Wheat Bread And Rolls, White (Refined Flour)\",\"Onions\",\"Carrots\",\"Butter\",\"Chicken Fresh Meat\",\"Cow Milk, Semi Skimmed (Half Fat)\",\"Potatoes\",\"Apples\",\"Pig Fresh Meat\",\"Traditional Margarine\",\"White Sugar\",\"Salt\",\"Hen Eggs\",\"Garlic\"],\"y\":[35413,31387,28262,26874,22463,21290,20986,18704,17426,17093,17009,16939,16182,15897,15574],\"type\":\"bar\",\"xaxis\":\"x\",\"yaxis\":\"y\"},{\"hovertemplate\":\"Number of consumers=%{y:,}\",\"name\":\"Female\",\"x\":[\"Tap Water\",\"Wheat Bread And Rolls, White (Refined Flour)\",\"Onions\",\"Carrots\",\"Butter\",\"Cow Milk, Semi Skimmed (Half Fat)\",\"Chicken Fresh Meat\",\"Apples\",\"Potatoes\",\"Salt\",\"Traditional Margarine\",\"White Sugar\",\"Tomatoes\",\"Hen Eggs\",\"Garlic\"],\"y\":[39496,33093,30988,30885,25619,23339,23092,21315,20346,18935,18577,17819,17784,17531,17225],\"type\":\"bar\",\"xaxis\":\"x2\",\"yaxis\":\"y2\"}],                        {\"template\":{\"data\":{\"histogram2dcontour\":[{\"type\":\"histogram2dcontour\",\"colorbar\":{\"outlinewidth\":0,\"ticks\":\"\"},\"colorscale\":[[0.0,\"#0d0887\"],[0.1111111111111111,\"#46039f\"],[0.2222222222222222,\"#7201a8\"],[0.3333333333333333,\"#9c179e\"],[0.4444444444444444,\"#bd3786\"],[0.5555555555555556,\"#d8576b\"],[0.6666666666666666,\"#ed7953\"],[0.7777777777777778,\"#fb9f3a\"],[0.8888888888888888,\"#fdca26\"],[1.0,\"#f0f921\"]]}],\"choropleth\":[{\"type\":\"choropleth\",\"colorbar\":{\"outlinewidth\":0,\"ticks\":\"\"}}],\"histogram2d\":[{\"type\":\"histogram2d\",\"colorbar\":{\"outlinewidth\":0,\"ticks\":\"\"},\"colorscale\":[[0.0,\"#0d0887\"],[0.1111111111111111,\"#46039f\"],[0.2222222222222222,\"#7201a8\"],[0.3333333333333333,\"#9c179e\"],[0.4444444444444444,\"#bd3786\"],[0.5555555555555556,\"#d8576b\"],[0.6666666666666666,\"#ed7953\"],[0.7777777777777778,\"#fb9f3a\"],[0.8888888888888888,\"#fdca26\"],[1.0,\"#f0f921\"]]}],\"heatmap\":[{\"type\":\"heatmap\",\"colorbar\":{\"outlinewidth\":0,\"ticks\":\"\"},\"colorscale\":[[0.0,\"#0d0887\"],[0.1111111111111111,\"#46039f\"],[0.2222222222222222,\"#7201a8\"],[0.3333333333333333,\"#9c179e\"],[0.4444444444444444,\"#bd3786\"],[0.5555555555555556,\"#d8576b\"],[0.6666666666666666,\"#ed7953\"],[0.7777777777777778,\"#fb9f3a\"],[0.8888888888888888,\"#fdca26\"],[1.0,\"#f0f921\"]]}],\"heatmapgl\":[{\"type\":\"heatmapgl\",\"colorbar\":{\"outlinewidth\":0,\"ticks\":\"\"},\"colorscale\":[[0.0,\"#0d0887\"],[0.1111111111111111,\"#46039f\"],[0.2222222222222222,\"#7201a8\"],[0.3333333333333333,\"#9c179e\"],[0.4444444444444444,\"#bd3786\"],[0.5555555555555556,\"#d8576b\"],[0.6666666666666666,\"#ed7953\"],[0.7777777777777778,\"#fb9f3a\"],[0.8888888888888888,\"#fdca26\"],[1.0,\"#f0f921\"]]}],\"contourcarpet\":[{\"type\":\"contourcarpet\",\"colorbar\":{\"outlinewidth\":0,\"ticks\":\"\"}}],\"contour\":[{\"type\":\"contour\",\"colorbar\":{\"outlinewidth\":0,\"ticks\":\"\"},\"colorscale\":[[0.0,\"#0d0887\"],[0.1111111111111111,\"#46039f\"],[0.2222222222222222,\"#7201a8\"],[0.3333333333333333,\"#9c179e\"],[0.4444444444444444,\"#bd3786\"],[0.5555555555555556,\"#d8576b\"],[0.6666666666666666,\"#ed7953\"],[0.7777777777777778,\"#fb9f3a\"],[0.8888888888888888,\"#fdca26\"],[1.0,\"#f0f921\"]]}],\"surface\":[{\"type\":\"surface\",\"colorbar\":{\"outlinewidth\":0,\"ticks\":\"\"},\"colorscale\":[[0.0,\"#0d0887\"],[0.1111111111111111,\"#46039f\"],[0.2222222222222222,\"#7201a8\"],[0.3333333333333333,\"#9c179e\"],[0.4444444444444444,\"#bd3786\"],[0.5555555555555556,\"#d8576b\"],[0.6666666666666666,\"#ed7953\"],[0.7777777777777778,\"#fb9f3a\"],[0.8888888888888888,\"#fdca26\"],[1.0,\"#f0f921\"]]}],\"mesh3d\":[{\"type\":\"mesh3d\",\"colorbar\":{\"outlinewidth\":0,\"ticks\":\"\"}}],\"scatter\":[{\"fillpattern\":{\"fillmode\":\"overlay\",\"size\":10,\"solidity\":0.2},\"type\":\"scatter\"}],\"parcoords\":[{\"type\":\"parcoords\",\"line\":{\"colorbar\":{\"outlinewidth\":0,\"ticks\":\"\"}}}],\"scatterpolargl\":[{\"type\":\"scatterpolargl\",\"marker\":{\"colorbar\":{\"outlinewidth\":0,\"ticks\":\"\"}}}],\"bar\":[{\"error_x\":{\"color\":\"#2a3f5f\"},\"error_y\":{\"color\":\"#2a3f5f\"},\"marker\":{\"line\":{\"color\":\"#E5ECF6\",\"width\":0.5},\"pattern\":{\"fillmode\":\"overlay\",\"size\":10,\"solidity\":0.2}},\"type\":\"bar\"}],\"scattergeo\":[{\"type\":\"scattergeo\",\"marker\":{\"colorbar\":{\"outlinewidth\":0,\"ticks\":\"\"}}}],\"scatterpolar\":[{\"type\":\"scatterpolar\",\"marker\":{\"colorbar\":{\"outlinewidth\":0,\"ticks\":\"\"}}}],\"histogram\":[{\"marker\":{\"pattern\":{\"fillmode\":\"overlay\",\"size\":10,\"solidity\":0.2}},\"type\":\"histogram\"}],\"scattergl\":[{\"type\":\"scattergl\",\"marker\":{\"colorbar\":{\"outlinewidth\":0,\"ticks\":\"\"}}}],\"scatter3d\":[{\"type\":\"scatter3d\",\"line\":{\"colorbar\":{\"outlinewidth\":0,\"ticks\":\"\"}},\"marker\":{\"colorbar\":{\"outlinewidth\":0,\"ticks\":\"\"}}}],\"scattermapbox\":[{\"type\":\"scattermapbox\",\"marker\":{\"colorbar\":{\"outlinewidth\":0,\"ticks\":\"\"}}}],\"scatterternary\":[{\"type\":\"scatterternary\",\"marker\":{\"colorbar\":{\"outlinewidth\":0,\"ticks\":\"\"}}}],\"scattercarpet\":[{\"type\":\"scattercarpet\",\"marker\":{\"colorbar\":{\"outlinewidth\":0,\"ticks\":\"\"}}}],\"carpet\":[{\"aaxis\":{\"endlinecolor\":\"#2a3f5f\",\"gridcolor\":\"white\",\"linecolor\":\"white\",\"minorgridcolor\":\"white\",\"startlinecolor\":\"#2a3f5f\"},\"baxis\":{\"endlinecolor\":\"#2a3f5f\",\"gridcolor\":\"white\",\"linecolor\":\"white\",\"minorgridcolor\":\"white\",\"startlinecolor\":\"#2a3f5f\"},\"type\":\"carpet\"}],\"table\":[{\"cells\":{\"fill\":{\"color\":\"#EBF0F8\"},\"line\":{\"color\":\"white\"}},\"header\":{\"fill\":{\"color\":\"#C8D4E3\"},\"line\":{\"color\":\"white\"}},\"type\":\"table\"}],\"barpolar\":[{\"marker\":{\"line\":{\"color\":\"#E5ECF6\",\"width\":0.5},\"pattern\":{\"fillmode\":\"overlay\",\"size\":10,\"solidity\":0.2}},\"type\":\"barpolar\"}],\"pie\":[{\"automargin\":true,\"type\":\"pie\"}]},\"layout\":{\"autotypenumbers\":\"strict\",\"colorway\":[\"#636efa\",\"#EF553B\",\"#00cc96\",\"#ab63fa\",\"#FFA15A\",\"#19d3f3\",\"#FF6692\",\"#B6E880\",\"#FF97FF\",\"#FECB52\"],\"font\":{\"color\":\"#2a3f5f\"},\"hovermode\":\"closest\",\"hoverlabel\":{\"align\":\"left\"},\"paper_bgcolor\":\"white\",\"plot_bgcolor\":\"#E5ECF6\",\"polar\":{\"bgcolor\":\"#E5ECF6\",\"angularaxis\":{\"gridcolor\":\"white\",\"linecolor\":\"white\",\"ticks\":\"\"},\"radialaxis\":{\"gridcolor\":\"white\",\"linecolor\":\"white\",\"ticks\":\"\"}},\"ternary\":{\"bgcolor\":\"#E5ECF6\",\"aaxis\":{\"gridcolor\":\"white\",\"linecolor\":\"white\",\"ticks\":\"\"},\"baxis\":{\"gridcolor\":\"white\",\"linecolor\":\"white\",\"ticks\":\"\"},\"caxis\":{\"gridcolor\":\"white\",\"linecolor\":\"white\",\"ticks\":\"\"}},\"coloraxis\":{\"colorbar\":{\"outlinewidth\":0,\"ticks\":\"\"}},\"colorscale\":{\"sequential\":[[0.0,\"#0d0887\"],[0.1111111111111111,\"#46039f\"],[0.2222222222222222,\"#7201a8\"],[0.3333333333333333,\"#9c179e\"],[0.4444444444444444,\"#bd3786\"],[0.5555555555555556,\"#d8576b\"],[0.6666666666666666,\"#ed7953\"],[0.7777777777777778,\"#fb9f3a\"],[0.8888888888888888,\"#fdca26\"],[1.0,\"#f0f921\"]],\"sequentialminus\":[[0.0,\"#0d0887\"],[0.1111111111111111,\"#46039f\"],[0.2222222222222222,\"#7201a8\"],[0.3333333333333333,\"#9c179e\"],[0.4444444444444444,\"#bd3786\"],[0.5555555555555556,\"#d8576b\"],[0.6666666666666666,\"#ed7953\"],[0.7777777777777778,\"#fb9f3a\"],[0.8888888888888888,\"#fdca26\"],[1.0,\"#f0f921\"]],\"diverging\":[[0,\"#8e0152\"],[0.1,\"#c51b7d\"],[0.2,\"#de77ae\"],[0.3,\"#f1b6da\"],[0.4,\"#fde0ef\"],[0.5,\"#f7f7f7\"],[0.6,\"#e6f5d0\"],[0.7,\"#b8e186\"],[0.8,\"#7fbc41\"],[0.9,\"#4d9221\"],[1,\"#276419\"]]},\"xaxis\":{\"gridcolor\":\"white\",\"linecolor\":\"white\",\"ticks\":\"\",\"title\":{\"standoff\":15},\"zerolinecolor\":\"white\",\"automargin\":true,\"zerolinewidth\":2},\"yaxis\":{\"gridcolor\":\"white\",\"linecolor\":\"white\",\"ticks\":\"\",\"title\":{\"standoff\":15},\"zerolinecolor\":\"white\",\"automargin\":true,\"zerolinewidth\":2},\"scene\":{\"xaxis\":{\"backgroundcolor\":\"#E5ECF6\",\"gridcolor\":\"white\",\"linecolor\":\"white\",\"showbackground\":true,\"ticks\":\"\",\"zerolinecolor\":\"white\",\"gridwidth\":2},\"yaxis\":{\"backgroundcolor\":\"#E5ECF6\",\"gridcolor\":\"white\",\"linecolor\":\"white\",\"showbackground\":true,\"ticks\":\"\",\"zerolinecolor\":\"white\",\"gridwidth\":2},\"zaxis\":{\"backgroundcolor\":\"#E5ECF6\",\"gridcolor\":\"white\",\"linecolor\":\"white\",\"showbackground\":true,\"ticks\":\"\",\"zerolinecolor\":\"white\",\"gridwidth\":2}},\"shapedefaults\":{\"line\":{\"color\":\"#2a3f5f\"}},\"annotationdefaults\":{\"arrowcolor\":\"#2a3f5f\",\"arrowhead\":0,\"arrowwidth\":1},\"geo\":{\"bgcolor\":\"white\",\"landcolor\":\"#E5ECF6\",\"subunitcolor\":\"white\",\"showland\":true,\"showlakes\":true,\"lakecolor\":\"white\"},\"title\":{\"x\":0.05},\"mapbox\":{\"style\":\"light\"}}},\"xaxis\":{\"anchor\":\"y\",\"domain\":[0.0,0.45],\"tickangle\":40},\"yaxis\":{\"anchor\":\"x\",\"domain\":[0.0,1.0]},\"xaxis2\":{\"anchor\":\"y2\",\"domain\":[0.55,1.0],\"tickangle\":40},\"yaxis2\":{\"anchor\":\"x2\",\"domain\":[0.0,1.0]},\"title\":{\"text\":\"Most popular foods for men and women in EU\"}},                        {\"responsive\": true}                    ).then(function(){\n",
       "                            \n",
       "var gd = document.getElementById('13352f29-d178-4344-83cb-5d8dc25d26ca');\n",
       "var x = new MutationObserver(function (mutations, observer) {{\n",
       "        var display = window.getComputedStyle(gd).display;\n",
       "        if (!display || display === 'none') {{\n",
       "            console.log([gd, 'removed!']);\n",
       "            Plotly.purge(gd);\n",
       "            observer.disconnect();\n",
       "        }}\n",
       "}});\n",
       "\n",
       "// Listen for the removal of the full notebook cells\n",
       "var notebookContainer = gd.closest('#notebook-container');\n",
       "if (notebookContainer) {{\n",
       "    x.observe(notebookContainer, {childList: true});\n",
       "}}\n",
       "\n",
       "// Listen for the clearing of the current output cell\n",
       "var outputEl = gd.closest('.output');\n",
       "if (outputEl) {{\n",
       "    x.observe(outputEl, {childList: true});\n",
       "}}\n",
       "\n",
       "                        })                };                });            </script>        </div>"
      ]
     },
     "metadata": {},
     "output_type": "display_data"
    }
   ],
   "source": [
    "food_fem_eu = food_fem.loc[food_fem['Continent'] == \"Europe\"]\n",
    "food_men_eu = food_men.loc[food_men['Continent'] == \"Europe\"]\n",
    "most_consumed_fem_eu = food_fem_eu.groupby(['FoodName']).sum().reset_index().sort_values(by='Number_of_consumers', ascending=False)\n",
    "most_consumed_men_eu = food_men_eu.groupby(['FoodName']).sum().reset_index().sort_values(by='Number_of_consumers', ascending=False)\n",
    "\n",
    "show_most_consumed_men_eu = most_consumed_men_eu.head(15)\n",
    "show_most_consumed_fem_eu = most_consumed_fem_eu.head(15)\n",
    "\n",
    "first_line = go.Bar(x=show_most_consumed_men_eu[\"FoodName\"], y=show_most_consumed_men_eu[\"Number_of_consumers\"], name=\"Male\", hovertemplate = 'Number of consumers=%{y:,}')\n",
    "second_line = go.Bar(x=show_most_consumed_fem_eu[\"FoodName\"], y=show_most_consumed_fem_eu[\"Number_of_consumers\"], name=\"Female\", hovertemplate = 'Number of consumers=%{y:,}')\n",
    "fig = make_subplots(rows=1, cols=2)\n",
    "fig.add_trace(first_line,row=1, col=1)\n",
    "fig.add_trace(second_line,row=1, col=2)\n",
    "fig.update_layout(title_text=\"Most popular foods for men and women in EU\")\n",
    "fig.update_xaxes(tickangle=40)\n",
    "fig.show()"
   ]
  },
  {
   "cell_type": "markdown",
   "id": "61750c0c-efb6-4f51-bcfb-92404b2f69b3",
   "metadata": {},
   "source": [
    "### <a id=\"food_eu_gen_wnio\"></a>[&uarr;](#top) W Europie podobnie jak na świecie małe różnice między płciami. Jedynie mężczyźni spożywają wiecej mięsa kurczaka oraz soli. Największa różnica jest w przypadku mięsa wieprzowego, u kobiet wypada z top15 a u mężczyzn zajmuje 10 miejsce. Kobiety jedynie spożywają więcej cukru."
   ]
  },
  {
   "cell_type": "markdown",
   "id": "23ff2228-632a-4fc0-a11d-c210af05638d",
   "metadata": {},
   "source": [
    "# Podsumowanie 🧠 <a id=\"Podsumowanie\"></a>[&uarr;](#top)\n",
    "### Jak widać nawet w bazach danych branych z renomowanych źródeł znajdują sie puste dane, błędy i niejasności. To jak dużą część tego notatnika zajmowało czyszczenie danych i obchodzenie problemów pokazuje jak przydatna jest czysta i dobrze zbudowana baza danych.\n",
    "### Z uporządkowanych danych dało się wywnioskować to, że: \n",
    "1. Na świecie płatki śniadaniowe, mięso wieprzowe, ryż są bardziej popularne niż w Europie\n",
    "1. W Europie bardziej popularne niż na świecie są mięso z kurczaka, mleko, ryż, margaryna, oliwa z oliwek, banany, masło\n",
    "1. Woda z kranu jest popularniejsza w Europie niż na świecie\n",
    "1. Nie ma wielu różnic między płciami jeżeli chodzi o spożywane produkty\n",
    "1. Mężczyźni w Europie spożywają wiecej mięsa wieprzowego oraz soli od kobiet\n",
    "1. Kobiety w Europie spożywają więcej cukru od mężczyzn\n",
    "### Mam nadzieję, że była to przyjemna lektura i pokazała ciekawe zależności w świecie jedzenia. Do zobaczenia."
   ]
  },
  {
   "cell_type": "markdown",
   "id": "d70e4b8c-2be5-44c7-a347-8510ec9eb58a",
   "metadata": {},
   "source": [
    "# Możliwe zakłamania: ⚠️<a id=\"risk\"></a>[&uarr;](#top)\n",
    "1. Założenie, że każde badanie ma różną ilość badanych i w ten sposób grupowanie badanych.\n",
    "1. Brak grupy wiekowej All dla wszystkich krajów.\n",
    "1. Własne opinie i przeświadczenia.\n",
    "1. Brak legendy do bazy danych.\n",
    "1. Dane mężczyzn są z mniejszej ilości krajów.\n",
    "1. Brak Polski i sprawdzanie dlanych dla Europy"
   ]
  },
  {
   "cell_type": "markdown",
   "id": "04d6d3e2-bd92-4451-be4d-4509efe962c4",
   "metadata": {},
   "source": [
    "# Źródła:📱  [&uarr;](#top) <a id=\"źr\"></a>\n",
    "1. Gif: https://www.slynyrd.com/blog/2020/9/30/pixelblog-30-food \n",
    "1. Baza danych: https://apps.who.int/foscollab/Download/DownloadConso\n",
    "1. Dane na temat jakości wody na świecie: https://worldpopulationreview.com/country-rankings/water-quality-by-country\n",
    "\t1. https://vividmaps.com/tap-water-safe-to-drink/\n",
    "1. Badania na temat wpływu soli i cukru na ciśnienie tętnicze: https://sci-hub.se/10.1007/s00424-014-1677-x\n",
    "\t1. https://www.ncbi.nlm.nih.gov/pmc/articles/PMC4896734/\n",
    "    1. https://www.ncbi.nlm.nih.gov/pmc/articles/PMC6770596/\n",
    "1. Dane na temat nietolerancji laktozy na świecie: https://worldpopulationreview.com/country-rankings/lactose-intolerance-by-country"
   ]
  }
 ],
 "metadata": {
  "kernelspec": {
   "display_name": "Python 3 (ipykernel)",
   "language": "python",
   "name": "python3"
  },
  "language_info": {
   "codemirror_mode": {
    "name": "ipython",
    "version": 3
   },
   "file_extension": ".py",
   "mimetype": "text/x-python",
   "name": "python",
   "nbconvert_exporter": "python",
   "pygments_lexer": "ipython3",
   "version": "3.11.5"
  }
 },
 "nbformat": 4,
 "nbformat_minor": 5
}
